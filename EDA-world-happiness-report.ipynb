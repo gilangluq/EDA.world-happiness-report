{
 "cells": [
  {
   "cell_type": "code",
   "execution_count": 1,
   "metadata": {},
   "outputs": [],
   "source": [
    "# ==================\n",
    "# IMPORT LIBRARIES\n",
    "# ==================\n",
    "\n",
    "import warnings\n",
    "import numpy as np\n",
    "import pandas as pd\n",
    "import seaborn as sns\n",
    "import plotly.express as px\n",
    "import os\n",
    "from sklearn.linear_model import LinearRegression\n",
    "from sklearn.model_selection import train_test_split\n",
    "from sklearn.metrics import r2_score, mean_absolute_error, mean_squared_error\n",
    "\n",
    "warnings.filterwarnings('ignore') # Ignore warning\n",
    "pd.set_option('display.max_columns', None) # Display any number of columns"
   ]
  },
  {
   "cell_type": "code",
   "execution_count": 2,
   "metadata": {},
   "outputs": [],
   "source": [
    "# Standardize the number and order of columns 2015.CSV\n",
    "# Read the CSV file\n",
    "df = pd.read_csv(\"Dataset/2015.csv\")\n",
    "\n",
    "# Drop the column by specifying its name\n",
    "df.drop('Region', axis=1, inplace=True)\n",
    "df.drop('Standard Error', axis=1, inplace=True)\n",
    "df.drop('Dystopia Residual', axis=1, inplace=True)\n",
    "\n",
    "# Switch column 1 and column 2\n",
    "cols = list(df.columns)\n",
    "cols[0], cols[1] = cols[1], cols[0]  # Swap the first two columns\n",
    "\n",
    "# Switch column 8 and column 9\n",
    "cols[7], cols[8] = cols[8], cols[7]  # Swap the 8th and 9th columns (index starts at 0)\n",
    "\n",
    "# Reorder the DataFrame with the updated column order\n",
    "df = df[cols]\n",
    "\n",
    "# Rename all columns (you can define new names in a list)\n",
    "new_column_names = ['Rank', 'Country', 'Score', 'GDP per Capita', 'Family',\n",
    "                    'Life Expectancy', 'Freedom', 'Generosity', 'Perceptions of Corruption']\n",
    "\n",
    "# Ensure the number of new column names matches the number of columns in the DataFrame\n",
    "df.columns = new_column_names[:len(df.columns)]\n",
    "\n",
    "# Save the updated DataFrame back to a CSV file\n",
    "df.to_csv(\"Dataset/2015.csv\", index=False)"
   ]
  },
  {
   "cell_type": "code",
   "execution_count": 3,
   "metadata": {},
   "outputs": [],
   "source": [
    "# Standardize the number and order of columns 2016.CSV\n",
    "# Read the CSV file\n",
    "df = pd.read_csv(\"Dataset/2016.csv\")\n",
    "\n",
    "# Drop the column by specifying its name\n",
    "df.drop('Region', axis=1, inplace=True)\n",
    "df.drop('Lower Confidence Interval', axis=1, inplace=True)\n",
    "df.drop('Upper Confidence Interval', axis=1, inplace=True)\n",
    "df.drop('Dystopia Residual', axis=1, inplace=True)\n",
    "\n",
    "# Switch column 1 and column 2\n",
    "cols = list(df.columns)\n",
    "cols[0], cols[1] = cols[1], cols[0]  # Swap the first two columns\n",
    "\n",
    "# Switch column 8 and column 9\n",
    "cols[7], cols[8] = cols[8], cols[7]  # Swap the 8th and 9th columns (index starts at 0)\n",
    "\n",
    "# Reorder the DataFrame with the updated column order\n",
    "df = df[cols]\n",
    "\n",
    "# Rename all columns (you can define new names in a list)\n",
    "new_column_names = ['Rank', 'Country', 'Score', 'GDP per Capita', 'Family',\n",
    "                    'Life Expectancy', 'Freedom', 'Generosity', 'Perceptions of Corruption']\n",
    "\n",
    "# Ensure the number of new column names matches the number of columns in the DataFrame\n",
    "df.columns = new_column_names[:len(df.columns)]\n",
    "\n",
    "# Save the updated DataFrame back to a CSV file\n",
    "df.to_csv(\"Dataset/2016.csv\", index=False)"
   ]
  },
  {
   "cell_type": "code",
   "execution_count": 4,
   "metadata": {},
   "outputs": [],
   "source": [
    "# Standardize the number and order of columns 2017.CSV\n",
    "# Read the CSV file\n",
    "df = pd.read_csv(\"Dataset/2017.csv\")\n",
    "\n",
    "# Drop the column by specifying its name\n",
    "df.drop('Whisker.high', axis=1, inplace=True)\n",
    "df.drop('Whisker.low', axis=1, inplace=True)\n",
    "df.drop('Dystopia.Residual', axis=1, inplace=True)\n",
    "\n",
    "# Switch column 1 and column 2\n",
    "cols = list(df.columns)\n",
    "cols[0], cols[1] = cols[1], cols[0]  # Swap the first two columns\n",
    "\n",
    "# Reorder the DataFrame with the updated column order\n",
    "df = df[cols]\n",
    "\n",
    "# Rename all columns (you can define new names in a list)\n",
    "new_column_names = ['Rank', 'Country', 'Score', 'GDP per Capita', 'Family',\n",
    "                    'Life Expectancy', 'Freedom', 'Generosity', 'Perceptions of Corruption']\n",
    "\n",
    "# Ensure the number of new column names matches the number of columns in the DataFrame\n",
    "df.columns = new_column_names[:len(df.columns)]\n",
    "\n",
    "# Save the updated DataFrame back to a CSV file\n",
    "df.to_csv(\"Dataset/2017.csv\", index=False)"
   ]
  },
  {
   "cell_type": "code",
   "execution_count": 5,
   "metadata": {},
   "outputs": [],
   "source": [
    "# Standardize the number and order of columns 2018 and 2019.CSV\n",
    "# Read the CSV file\n",
    "\n",
    "df = pd.read_csv(\"Dataset/2018.csv\")\n",
    "# Rename all columns (you can define new names in a list)\n",
    "new_column_names = ['Rank', 'Country', 'Score', 'GDP per Capita', 'Family',\n",
    "                    'Life Expectancy', 'Freedom', 'Generosity', 'Perceptions of Corruption']\n",
    "\n",
    "# Ensure the number of new column names matches the number of columns in the DataFrame\n",
    "df.columns = new_column_names[:len(df.columns)]\n",
    "\n",
    "# Save the updated DataFrame back to a CSV file\n",
    "df.to_csv(\"Dataset/2018.csv\", index=False)\n",
    "\n",
    "df = pd.read_csv(\"Dataset/2019.csv\")\n",
    "# Rename all columns (you can define new names in a list)\n",
    "new_column_names = ['Rank', 'Country', 'Score', 'GDP per Capita', 'Family',\n",
    "                    'Life Expectancy', 'Freedom', 'Generosity', 'Perceptions of Corruption']\n",
    "\n",
    "# Ensure the number of new column names matches the number of columns in the DataFrame\n",
    "df.columns = new_column_names[:len(df.columns)]\n",
    "\n",
    "# Save the updated DataFrame back to a CSV file\n",
    "df.to_csv(\"Dataset/2019.csv\", index=False)"
   ]
  },
  {
   "cell_type": "code",
   "execution_count": 6,
   "metadata": {},
   "outputs": [
    {
     "name": "stdout",
     "output_type": "stream",
     "text": [
      "<class 'pandas.core.frame.DataFrame'>\n",
      "RangeIndex: 782 entries, 0 to 781\n",
      "Data columns (total 10 columns):\n",
      " #   Column                     Non-Null Count  Dtype  \n",
      "---  ------                     --------------  -----  \n",
      " 0   Rank                       782 non-null    int64  \n",
      " 1   Country                    782 non-null    object \n",
      " 2   Score                      782 non-null    float64\n",
      " 3   GDP per Capita             782 non-null    float64\n",
      " 4   Family                     782 non-null    float64\n",
      " 5   Life Expectancy            782 non-null    float64\n",
      " 6   Freedom                    782 non-null    float64\n",
      " 7   Generosity                 782 non-null    float64\n",
      " 8   Perceptions of Corruption  781 non-null    float64\n",
      " 9   Year                       782 non-null    object \n",
      "dtypes: float64(7), int64(1), object(2)\n",
      "memory usage: 61.2+ KB\n"
     ]
    },
    {
     "data": {
      "text/html": [
       "<div>\n",
       "<style scoped>\n",
       "    .dataframe tbody tr th:only-of-type {\n",
       "        vertical-align: middle;\n",
       "    }\n",
       "\n",
       "    .dataframe tbody tr th {\n",
       "        vertical-align: top;\n",
       "    }\n",
       "\n",
       "    .dataframe thead th {\n",
       "        text-align: right;\n",
       "    }\n",
       "</style>\n",
       "<table border=\"1\" class=\"dataframe\">\n",
       "  <thead>\n",
       "    <tr style=\"text-align: right;\">\n",
       "      <th></th>\n",
       "      <th>Rank</th>\n",
       "      <th>Country</th>\n",
       "      <th>Score</th>\n",
       "      <th>GDP per Capita</th>\n",
       "      <th>Family</th>\n",
       "      <th>Life Expectancy</th>\n",
       "      <th>Freedom</th>\n",
       "      <th>Generosity</th>\n",
       "      <th>Perceptions of Corruption</th>\n",
       "      <th>Year</th>\n",
       "    </tr>\n",
       "  </thead>\n",
       "  <tbody>\n",
       "    <tr>\n",
       "      <th>14</th>\n",
       "      <td>15</td>\n",
       "      <td>United States</td>\n",
       "      <td>7.119</td>\n",
       "      <td>1.394510</td>\n",
       "      <td>1.247110</td>\n",
       "      <td>0.861790</td>\n",
       "      <td>0.546040</td>\n",
       "      <td>0.401050</td>\n",
       "      <td>0.158900</td>\n",
       "      <td>2015</td>\n",
       "    </tr>\n",
       "    <tr>\n",
       "      <th>424</th>\n",
       "      <td>110</td>\n",
       "      <td>Bangladesh</td>\n",
       "      <td>4.608</td>\n",
       "      <td>0.586683</td>\n",
       "      <td>0.735132</td>\n",
       "      <td>0.533241</td>\n",
       "      <td>0.478357</td>\n",
       "      <td>0.172255</td>\n",
       "      <td>0.123718</td>\n",
       "      <td>2017</td>\n",
       "    </tr>\n",
       "    <tr>\n",
       "      <th>573</th>\n",
       "      <td>104</td>\n",
       "      <td>Palestinian Territories</td>\n",
       "      <td>4.743</td>\n",
       "      <td>0.642000</td>\n",
       "      <td>1.217000</td>\n",
       "      <td>0.602000</td>\n",
       "      <td>0.266000</td>\n",
       "      <td>0.086000</td>\n",
       "      <td>0.076000</td>\n",
       "      <td>2018</td>\n",
       "    </tr>\n",
       "    <tr>\n",
       "      <th>82</th>\n",
       "      <td>82</td>\n",
       "      <td>Montenegro</td>\n",
       "      <td>5.192</td>\n",
       "      <td>0.974380</td>\n",
       "      <td>0.905570</td>\n",
       "      <td>0.725210</td>\n",
       "      <td>0.182600</td>\n",
       "      <td>0.161400</td>\n",
       "      <td>0.142960</td>\n",
       "      <td>2015</td>\n",
       "    </tr>\n",
       "    <tr>\n",
       "      <th>485</th>\n",
       "      <td>16</td>\n",
       "      <td>Belgium</td>\n",
       "      <td>6.927</td>\n",
       "      <td>1.324000</td>\n",
       "      <td>1.483000</td>\n",
       "      <td>0.894000</td>\n",
       "      <td>0.583000</td>\n",
       "      <td>0.188000</td>\n",
       "      <td>0.240000</td>\n",
       "      <td>2018</td>\n",
       "    </tr>\n",
       "  </tbody>\n",
       "</table>\n",
       "</div>"
      ],
      "text/plain": [
       "     Rank                  Country  Score  GDP per Capita    Family  \\\n",
       "14     15            United States  7.119        1.394510  1.247110   \n",
       "424   110               Bangladesh  4.608        0.586683  0.735132   \n",
       "573   104  Palestinian Territories  4.743        0.642000  1.217000   \n",
       "82     82               Montenegro  5.192        0.974380  0.905570   \n",
       "485    16                  Belgium  6.927        1.324000  1.483000   \n",
       "\n",
       "     Life Expectancy   Freedom  Generosity  Perceptions of Corruption  Year  \n",
       "14          0.861790  0.546040    0.401050                   0.158900  2015  \n",
       "424         0.533241  0.478357    0.172255                   0.123718  2017  \n",
       "573         0.602000  0.266000    0.086000                   0.076000  2018  \n",
       "82          0.725210  0.182600    0.161400                   0.142960  2015  \n",
       "485         0.894000  0.583000    0.188000                   0.240000  2018  "
      ]
     },
     "execution_count": 6,
     "metadata": {},
     "output_type": "execute_result"
    }
   ],
   "source": [
    "# Read Dataset\n",
    "# Dataset directory\n",
    "directory = \"Dataset/\"\n",
    "\n",
    "# List to store each dataframe\n",
    "df_list = []\n",
    "\n",
    "# Loop through all CSV files in the directory\n",
    "for filename in os.listdir(directory):\n",
    "    if filename.endswith(\".csv\"):\n",
    "        # Read the CSV file\n",
    "        file_path = os.path.join(directory, filename)\n",
    "        df = pd.read_csv(file_path)\n",
    "        \n",
    "        # Add 'Year' column\n",
    "        df['Year'] = filename.split(\".\")[0]\n",
    "        \n",
    "        # Append the dataframe to the list\n",
    "        df_list.append(df)\n",
    "\n",
    "# Concatenate all dataframes into one\n",
    "df = pd.concat(df_list, ignore_index=True)\n",
    "df.info()\n",
    "df.sample(5)"
   ]
  },
  {
   "cell_type": "code",
   "execution_count": 8,
   "metadata": {},
   "outputs": [
    {
     "data": {
      "application/vnd.plotly.v1+json": {
       "config": {
        "plotlyServerURL": "https://plot.ly"
       },
       "data": [
        {
         "coloraxis": "coloraxis",
         "customdata": [
          [
           1.34,
           1.587,
           0.986,
           0.596,
           0.153,
           0.393
          ],
          [
           1.383,
           1.573,
           0.996,
           0.592,
           0.252,
           0.41
          ],
          [
           1.488,
           1.582,
           1.028,
           0.603,
           0.271,
           0.341
          ],
          [
           1.38,
           1.624,
           1.026,
           0.591,
           0.354,
           0.118
          ],
          [
           1.396,
           1.522,
           0.999,
           0.557,
           0.322,
           0.298
          ],
          [
           1.452,
           1.526,
           1.052,
           0.572,
           0.263,
           0.343
          ],
          [
           1.387,
           1.487,
           1.009,
           0.574,
           0.267,
           0.373
          ],
          [
           1.303,
           1.557,
           1.026,
           0.585,
           0.33,
           0.38
          ],
          [
           1.365,
           1.505,
           1.039,
           0.584,
           0.285,
           0.308
          ],
          [
           1.376,
           1.475,
           1.016,
           0.532,
           0.244,
           0.226
          ],
          [
           1.372,
           1.548,
           1.036,
           0.557,
           0.332,
           0.29
          ],
          [
           1.034,
           1.441,
           0.963,
           0.558,
           0.144,
           0.093
          ],
          [
           1.276,
           1.455,
           1.029,
           0.371,
           0.261,
           0.082
          ],
          [
           1.609,
           1.479,
           1.012,
           0.526,
           0.194,
           0.316
          ],
          [
           1.333,
           1.538,
           0.996,
           0.45,
           0.348,
           0.278
          ],
          [
           1.499,
           1.553,
           0.999,
           0.516,
           0.298,
           0.31
          ],
          [
           1.373,
           1.454,
           0.987,
           0.495,
           0.261,
           0.265
          ],
          [
           1.356,
           1.504,
           0.986,
           0.473,
           0.16,
           0.21
          ],
          [
           1.433,
           1.457,
           0.874,
           0.454,
           0.28,
           0.128
          ],
          [
           1.269,
           1.487,
           0.92,
           0.457,
           0.046,
           0.036
          ],
          [
           1.503,
           1.31,
           0.825,
           0.598,
           0.262,
           0.182
          ],
          [
           1.3,
           1.52,
           0.999,
           0.564,
           0.375,
           0.151
          ],
          [
           1.07,
           1.323,
           0.861,
           0.433,
           0.074,
           0.073
          ],
          [
           1.324,
           1.472,
           1.045,
           0.436,
           0.111,
           0.183
          ],
          [
           1.368,
           1.43,
           0.914,
           0.351,
           0.242,
           0.097
          ],
          [
           1.159,
           1.369,
           0.92,
           0.357,
           0.187,
           0.056
          ],
          [
           0.8,
           1.269,
           0.746,
           0.535,
           0.175,
           0.078
          ],
          [
           1.403,
           1.357,
           0.795,
           0.439,
           0.08,
           0.132
          ],
          [
           1.684,
           1.313,
           0.871,
           0.555,
           0.22,
           0.167
          ],
          [
           1.286,
           1.484,
           1.062,
           0.362,
           0.153,
           0.079
          ],
          [
           1.149,
           1.442,
           0.91,
           0.516,
           0.109,
           0.054
          ],
          [
           1.004,
           1.439,
           0.802,
           0.39,
           0.099,
           0.086
          ],
          [
           1.124,
           1.465,
           0.891,
           0.523,
           0.127,
           0.15
          ],
          [
           1.572,
           1.463,
           1.141,
           0.556,
           0.271,
           0.453
          ],
          [
           0.794,
           1.242,
           0.789,
           0.43,
           0.093,
           0.074
          ],
          [
           1.294,
           1.488,
           1.039,
           0.231,
           0.158,
           0.03
          ],
          [
           1.362,
           1.368,
           0.871,
           0.536,
           0.255,
           0.11
          ],
          [
           1.246,
           1.504,
           0.881,
           0.334,
           0.121,
           0.014
          ],
          [
           1.231,
           1.477,
           0.713,
           0.489,
           0.185,
           0.016
          ],
          [
           1.206,
           1.438,
           0.884,
           0.483,
           0.117,
           0.05
          ],
          [
           0.745,
           1.529,
           0.756,
           0.631,
           0.322,
           0.24
          ],
          [
           1.238,
           1.515,
           0.818,
           0.291,
           0.043,
           0.042
          ],
          [
           0.985,
           1.41,
           0.841,
           0.47,
           0.099,
           0.034
          ],
          [
           1.258,
           1.523,
           0.953,
           0.564,
           0.144,
           0.057
          ],
          [
           0.694,
           1.325,
           0.835,
           0.435,
           0.2,
           0.127
          ],
          [
           0.882,
           1.232,
           0.758,
           0.489,
           0.262,
           0.006
          ],
          [
           1.092,
           1.432,
           0.881,
           0.471,
           0.066,
           0.05
          ],
          [
           1.162,
           1.232,
           0.825,
           0.462,
           0.083,
           0.005
          ],
          [
           1.263,
           1.223,
           1.042,
           0.406,
           0.19,
           0.041
          ],
          [
           0.912,
           1.312,
           0.868,
           0.498,
           0.126,
           0.087
          ],
          [
           1.5,
           1.319,
           0.808,
           0.493,
           0.142,
           0.097
          ],
          [
           1.05,
           1.409,
           0.828,
           0.557,
           0.359,
           0.028
          ],
          [
           1.187,
           1.465,
           0.812,
           0.264,
           0.075,
           0.064
          ],
          [
           1.301,
           1.219,
           1.036,
           0.159,
           0.175,
           0.056
          ],
          [
           1.237,
           1.528,
           0.874,
           0.495,
           0.103,
           0.161
          ],
          [
           0.831,
           1.478,
           0.831,
           0.49,
           0.107,
           0.028
          ],
          [
           1.12,
           1.402,
           0.798,
           0.498,
           0.215,
           0.06
          ],
          [
           1.327,
           1.419,
           1.088,
           0.445,
           0.069,
           0.14
          ],
          [
           0.642,
           1.236,
           0.828,
           0.507,
           0.246,
           0.078
          ],
          [
           1.173,
           1.508,
           0.729,
           0.41,
           0.146,
           0.096
          ],
          [
           0.776,
           1.209,
           0.706,
           0.511,
           0.137,
           0.064
          ],
          [
           1.201,
           1.41,
           0.828,
           0.199,
           0.081,
           0.02
          ],
          [
           0.855,
           1.475,
           0.777,
           0.514,
           0.184,
           0.08
          ],
          [
           1.263,
           1.252,
           1.042,
           0.417,
           0.191,
           0.162
          ],
          [
           0.96,
           1.274,
           0.854,
           0.455,
           0.083,
           0.027
          ],
          [
           1.221,
           1.431,
           0.999,
           0.508,
           0.047,
           0.025
          ],
          [
           0.677,
           0.886,
           0.535,
           0.313,
           0.22,
           0.098
          ],
          [
           1.183,
           1.452,
           0.726,
           0.334,
           0.082,
           0.031
          ],
          [
           0.807,
           1.293,
           0.657,
           0.558,
           0.117,
           0.107
          ],
          [
           1.004,
           1.383,
           0.854,
           0.282,
           0.137,
           0.039
          ],
          [
           0.685,
           1.328,
           0.739,
           0.245,
           0.181,
           0
          ],
          [
           1.044,
           1.303,
           0.673,
           0.416,
           0.133,
           0.152
          ],
          [
           1.051,
           1.361,
           0.871,
           0.197,
           0.142,
           0.08
          ],
          [
           0.493,
           1.098,
           0.718,
           0.389,
           0.23,
           0.144
          ],
          [
           1.155,
           1.266,
           0.914,
           0.296,
           0.119,
           0.022
          ],
          [
           1.438,
           1.277,
           1.122,
           0.44,
           0.258,
           0.287
          ],
          [
           1.015,
           1.401,
           0.779,
           0.497,
           0.113,
           0.101
          ],
          [
           0.945,
           1.212,
           0.845,
           0.212,
           0.263,
           0.006
          ],
          [
           1.183,
           1.36,
           0.808,
           0.195,
           0.083,
           0.106
          ],
          [
           1.221,
           1.171,
           0.828,
           0.508,
           0.26,
           0.024
          ],
          [
           1.067,
           1.465,
           0.789,
           0.235,
           0.094,
           0.142
          ],
          [
           1.181,
           1.156,
           0.999,
           0.067,
           0,
           0.034
          ],
          [
           0.948,
           1.531,
           0.667,
           0.317,
           0.235,
           0.038
          ],
          [
           0.983,
           1.294,
           0.838,
           0.345,
           0.185,
           0.034
          ],
          [
           0.696,
           1.111,
           0.245,
           0.426,
           0.215,
           0.041
          ],
          [
           0.551,
           1.438,
           0.723,
           0.508,
           0.3,
           0.023
          ],
          [
           1.052,
           1.538,
           0.657,
           0.394,
           0.244,
           0.028
          ],
          [
           1.002,
           1.16,
           0.785,
           0.086,
           0.073,
           0.114
          ],
          [
           0.801,
           0.782,
           0.782,
           0.418,
           0.036,
           0.076
          ],
          [
           1.043,
           1.147,
           0.769,
           0.351,
           0.035,
           0.182
          ],
          [
           0.987,
           1.224,
           0.815,
           0.216,
           0.166,
           0.027
          ],
          [
           0.931,
           1.203,
           0.66,
           0.491,
           0.498,
           0.028
          ],
          [
           1.029,
           1.125,
           0.893,
           0.521,
           0.058,
           0.1
          ],
          [
           0.741,
           1.346,
           0.851,
           0.543,
           0.147,
           0.073
          ],
          [
           0.813,
           1.321,
           0.604,
           0.457,
           0.37,
           0.167
          ],
          [
           0.549,
           0.91,
           0.331,
           0.381,
           0.187,
           0.037
          ],
          [
           1.092,
           1.513,
           0.815,
           0.311,
           0.081,
           0.004
          ],
          [
           0.611,
           0.868,
           0.486,
           0.381,
           0.245,
           0.04
          ],
          [
           0.569,
           0.808,
           0.232,
           0.352,
           0.154,
           0.09
          ],
          [
           0.446,
           1.226,
           0.677,
           0.439,
           0.285,
           0.089
          ],
          [
           0.837,
           1.225,
           0.815,
           0.383,
           0.11,
           0.13
          ],
          [
           0.393,
           0.437,
           0.397,
           0.349,
           0.175,
           0.082
          ],
          [
           0.673,
           0.799,
           0.508,
           0.372,
           0.105,
           0.093
          ],
          [
           1.057,
           1.183,
           0.571,
           0.295,
           0.043,
           0.055
          ],
          [
           0.764,
           1.03,
           0.551,
           0.547,
           0.266,
           0.164
          ],
          [
           0.96,
           1.351,
           0.469,
           0.389,
           0.13,
           0.055
          ],
          [
           0.947,
           0.848,
           0.874,
           0.383,
           0.178,
           0.027
          ],
          [
           0.96,
           1.427,
           0.805,
           0.154,
           0.064,
           0.047
          ],
          [
           0.574,
           1.122,
           0.637,
           0.609,
           0.232,
           0.062
          ],
          [
           0.657,
           1.247,
           0.672,
           0.225,
           0.103,
           0.066
          ],
          [
           0.45,
           1.134,
           0.571,
           0.292,
           0.153,
           0.072
          ],
          [
           0,
           0.698,
           0.268,
           0.559,
           0.243,
           0.27
          ],
          [
           0.879,
           1.313,
           0.477,
           0.401,
           0.07,
           0.056
          ],
          [
           0.138,
           0.774,
           0.366,
           0.318,
           0.188,
           0.102
          ],
          [
           0.331,
           1.056,
           0.38,
           0.255,
           0.177,
           0.113
          ],
          [
           0.85,
           1.055,
           0.815,
           0.283,
           0.095,
           0.064
          ],
          [
           1.1,
           0.842,
           0.785,
           0.305,
           0.27,
           0.125
          ],
          [
           0.38,
           0.829,
           0.375,
           0.332,
           0.207,
           0.086
          ],
          [
           0.886,
           0.666,
           0.752,
           0.346,
           0.043,
           0.164
          ],
          [
           0.308,
           0.939,
           0.428,
           0.382,
           0.269,
           0.167
          ],
          [
           0.512,
           0.983,
           0.581,
           0.431,
           0.372,
           0.053
          ],
          [
           0.57,
           1.167,
           0.489,
           0.066,
           0.106,
           0.088
          ],
          [
           0.204,
           0.986,
           0.39,
           0.494,
           0.197,
           0.138
          ],
          [
           0.921,
           1,
           0.815,
           0.167,
           0.059,
           0.055
          ],
          [
           0.562,
           0.928,
           0.723,
           0.527,
           0.166,
           0.143
          ],
          [
           1.043,
           0.98,
           0.574,
           0.241,
           0.148,
           0.089
          ],
          [
           0.094,
           1.125,
           0.357,
           0.269,
           0.212,
           0.053
          ],
          [
           0.385,
           1.105,
           0.308,
           0.327,
           0.153,
           0.052
          ],
          [
           0.268,
           0.841,
           0.242,
           0.309,
           0.252,
           0.045
          ],
          [
           0.949,
           1.265,
           0.831,
           0.47,
           0.244,
           0.047
          ],
          [
           0.71,
           1.181,
           0.555,
           0.525,
           0.566,
           0.172
          ],
          [
           0.35,
           0.766,
           0.192,
           0.174,
           0.198,
           0.078
          ],
          [
           0.82,
           1.39,
           0.739,
           0.178,
           0.187,
           0.01
          ],
          [
           0.336,
           1.033,
           0.532,
           0.344,
           0.209,
           0.1
          ],
          [
           0.811,
           1.149,
           0,
           0.313,
           0.074,
           0.135
          ],
          [
           0.332,
           1.069,
           0.443,
           0.356,
           0.252,
           0.06
          ],
          [
           0.913,
           1.039,
           0.644,
           0.241,
           0.076,
           0.067
          ],
          [
           0.578,
           1.058,
           0.426,
           0.431,
           0.247,
           0.087
          ],
          [
           0.275,
           0.572,
           0.41,
           0.293,
           0.177,
           0.085
          ],
          [
           0.755,
           0.765,
           0.588,
           0.498,
           0.2,
           0.085
          ],
          [
           0.073,
           0.922,
           0.443,
           0.37,
           0.233,
           0.033
          ],
          [
           0.274,
           0.757,
           0.505,
           0.142,
           0.275,
           0.078
          ],
          [
           0.274,
           0.916,
           0.555,
           0.148,
           0.169,
           0.041
          ],
          [
           0.489,
           1.169,
           0.168,
           0.359,
           0.107,
           0.093
          ],
          [
           0.046,
           0.447,
           0.38,
           0.22,
           0.176,
           0.18
          ],
          [
           0.366,
           1.114,
           0.433,
           0.361,
           0.151,
           0.089
          ],
          [
           0.323,
           0.688,
           0.449,
           0.026,
           0.419,
           0.11
          ],
          [
           1.041,
           1.145,
           0.538,
           0.455,
           0.025,
           0.1
          ],
          [
           0.619,
           0.378,
           0.44,
           0.013,
           0.331,
           0.141
          ],
          [
           0.191,
           0.56,
           0.495,
           0.443,
           0.218,
           0.089
          ],
          [
           0.287,
           1.163,
           0.463,
           0.143,
           0.108,
           0.077
          ],
          [
           0.359,
           0.711,
           0.614,
           0.555,
           0.217,
           0.411
          ],
          [
           0.476,
           0.885,
           0.499,
           0.417,
           0.276,
           0.147
          ],
          [
           0.35,
           0.517,
           0.361,
           0,
           0.158,
           0.025
          ],
          [
           0.026,
           0,
           0.105,
           0.225,
           0.235,
           0.035
          ],
          [
           0.306,
           0.575,
           0.295,
           0.01,
           0.202,
           0.091
          ]
         ],
         "geo": "geo",
         "hovertemplate": "Country=%{location}<br>GDP per Capita=%{customdata[0]}<br>Family=%{customdata[1]}<br>Life Expectancy=%{customdata[2]}<br>Freedom=%{customdata[3]}<br>Generosity=%{customdata[4]}<br>Perceptions of Corruption=%{customdata[5]}<br>Score=%{z}<extra></extra>",
         "locationmode": "country names",
         "locations": [
          "Finland",
          "Denmark",
          "Norway",
          "Iceland",
          "Netherlands",
          "Switzerland",
          "Sweden",
          "New Zealand",
          "Canada",
          "Austria",
          "Australia",
          "Costa Rica",
          "Israel",
          "Luxembourg",
          "United Kingdom",
          "Ireland",
          "Germany",
          "Belgium",
          "United States",
          "Czech Republic",
          "United Arab Emirates",
          "Malta",
          "Mexico",
          "France",
          "Taiwan",
          "Chile",
          "Guatemala",
          "Saudi Arabia",
          "Qatar",
          "Spain",
          "Panama",
          "Brazil",
          "Uruguay",
          "Singapore",
          "El Salvador",
          "Italy",
          "Bahrain",
          "Slovakia",
          "Trinidad & Tobago",
          "Poland",
          "Uzbekistan",
          "Lithuania",
          "Colombia",
          "Slovenia",
          "Nicaragua",
          "Kosovo",
          "Argentina",
          "Romania",
          "Cyprus",
          "Ecuador",
          "Kuwait",
          "Thailand",
          "Latvia",
          "South Korea",
          "Estonia",
          "Jamaica",
          "Mauritius",
          "Japan",
          "Honduras",
          "Kazakhstan",
          "Bolivia",
          "Hungary",
          "Paraguay",
          "Northern Cyprus",
          "Peru",
          "Portugal",
          "Pakistan",
          "Russia",
          "Philippines",
          "Serbia",
          "Moldova",
          "Libya",
          "Montenegro",
          "Tajikistan",
          "Croatia",
          "Hong Kong",
          "Dominican Republic",
          "Bosnia and Herzegovina",
          "Turkey",
          "Malaysia",
          "Belarus",
          "Greece",
          "Mongolia",
          "North Macedonia",
          "Nigeria",
          "Kyrgyzstan",
          "Turkmenistan",
          "Algeria",
          "Morocco",
          "Azerbaijan",
          "Lebanon",
          "Indonesia",
          "China",
          "Vietnam",
          "Bhutan",
          "Cameroon",
          "Bulgaria",
          "Ghana",
          "Ivory Coast",
          "Nepal",
          "Jordan",
          "Benin",
          "Congo (Brazzaville)",
          "Gabon",
          "Laos",
          "South Africa",
          "Albania",
          "Venezuela",
          "Cambodia",
          "Palestinian Territories",
          "Senegal",
          "Somalia",
          "Namibia",
          "Niger",
          "Burkina Faso",
          "Armenia",
          "Iran",
          "Guinea",
          "Georgia",
          "Gambia",
          "Kenya",
          "Mauritania",
          "Mozambique",
          "Tunisia",
          "Bangladesh",
          "Iraq",
          "Congo (Kinshasa)",
          "Mali",
          "Sierra Leone",
          "Sri Lanka",
          "Myanmar",
          "Chad",
          "Ukraine",
          "Ethiopia",
          "Swaziland",
          "Uganda",
          "Egypt",
          "Zambia",
          "Togo",
          "India",
          "Liberia",
          "Comoros",
          "Madagascar",
          "Lesotho",
          "Burundi",
          "Zimbabwe",
          "Haiti",
          "Botswana",
          "Syria",
          "Malawi",
          "Yemen",
          "Rwanda",
          "Tanzania",
          "Afghanistan",
          "Central African Republic",
          "South Sudan"
         ],
         "name": "",
         "type": "choropleth",
         "z": [
          7.769,
          7.6,
          7.554,
          7.494,
          7.488,
          7.48,
          7.343,
          7.307,
          7.278,
          7.246,
          7.228,
          7.167,
          7.139,
          7.09,
          7.054,
          7.021,
          6.985,
          6.923,
          6.892,
          6.852,
          6.825,
          6.726,
          6.595,
          6.592,
          6.446,
          6.444,
          6.436,
          6.375,
          6.374,
          6.354,
          6.321,
          6.3,
          6.293,
          6.262,
          6.253,
          6.223,
          6.199,
          6.198,
          6.192,
          6.182,
          6.174,
          6.149,
          6.125,
          6.118,
          6.105,
          6.1,
          6.086,
          6.07,
          6.046,
          6.028,
          6.021,
          6.008,
          5.94,
          5.895,
          5.893,
          5.89,
          5.888,
          5.886,
          5.86,
          5.809,
          5.779,
          5.758,
          5.743,
          5.718,
          5.697,
          5.693,
          5.653,
          5.648,
          5.631,
          5.603,
          5.529,
          5.525,
          5.523,
          5.467,
          5.432,
          5.43,
          5.425,
          5.386,
          5.373,
          5.339,
          5.323,
          5.287,
          5.285,
          5.274,
          5.265,
          5.261,
          5.247,
          5.211,
          5.208,
          5.208,
          5.197,
          5.192,
          5.191,
          5.175,
          5.082,
          5.044,
          5.011,
          4.996,
          4.944,
          4.913,
          4.906,
          4.883,
          4.812,
          4.799,
          4.796,
          4.722,
          4.719,
          4.707,
          4.7,
          4.696,
          4.681,
          4.668,
          4.639,
          4.628,
          4.587,
          4.559,
          4.548,
          4.534,
          4.519,
          4.516,
          4.509,
          4.49,
          4.466,
          4.461,
          4.456,
          4.437,
          4.418,
          4.39,
          4.374,
          4.366,
          4.36,
          4.35,
          4.332,
          4.286,
          4.212,
          4.189,
          4.166,
          4.107,
          4.085,
          4.015,
          3.975,
          3.973,
          3.933,
          3.802,
          3.775,
          3.663,
          3.597,
          3.488,
          3.462,
          3.41,
          3.38,
          3.334,
          3.231,
          3.203,
          3.083,
          2.853
         ]
        }
       ],
       "layout": {
        "coloraxis": {
         "colorbar": {
          "title": {
           "text": "Score"
          }
         },
         "colorscale": [
          [
           0,
           "#440154"
          ],
          [
           0.1111111111111111,
           "#482878"
          ],
          [
           0.2222222222222222,
           "#3e4989"
          ],
          [
           0.3333333333333333,
           "#31688e"
          ],
          [
           0.4444444444444444,
           "#26828e"
          ],
          [
           0.5555555555555556,
           "#1f9e89"
          ],
          [
           0.6666666666666666,
           "#35b779"
          ],
          [
           0.7777777777777778,
           "#6ece58"
          ],
          [
           0.8888888888888888,
           "#b5de2b"
          ],
          [
           1,
           "#fde725"
          ]
         ]
        },
        "geo": {
         "center": {},
         "domain": {
          "x": [
           0,
           1
          ],
          "y": [
           0,
           1
          ]
         },
         "projection": {
          "type": "natural earth"
         }
        },
        "legend": {
         "tracegroupgap": 0
        },
        "template": {
         "data": {
          "bar": [
           {
            "error_x": {
             "color": "#2a3f5f"
            },
            "error_y": {
             "color": "#2a3f5f"
            },
            "marker": {
             "line": {
              "color": "#E5ECF6",
              "width": 0.5
             },
             "pattern": {
              "fillmode": "overlay",
              "size": 10,
              "solidity": 0.2
             }
            },
            "type": "bar"
           }
          ],
          "barpolar": [
           {
            "marker": {
             "line": {
              "color": "#E5ECF6",
              "width": 0.5
             },
             "pattern": {
              "fillmode": "overlay",
              "size": 10,
              "solidity": 0.2
             }
            },
            "type": "barpolar"
           }
          ],
          "carpet": [
           {
            "aaxis": {
             "endlinecolor": "#2a3f5f",
             "gridcolor": "white",
             "linecolor": "white",
             "minorgridcolor": "white",
             "startlinecolor": "#2a3f5f"
            },
            "baxis": {
             "endlinecolor": "#2a3f5f",
             "gridcolor": "white",
             "linecolor": "white",
             "minorgridcolor": "white",
             "startlinecolor": "#2a3f5f"
            },
            "type": "carpet"
           }
          ],
          "choropleth": [
           {
            "colorbar": {
             "outlinewidth": 0,
             "ticks": ""
            },
            "type": "choropleth"
           }
          ],
          "contour": [
           {
            "colorbar": {
             "outlinewidth": 0,
             "ticks": ""
            },
            "colorscale": [
             [
              0,
              "#0d0887"
             ],
             [
              0.1111111111111111,
              "#46039f"
             ],
             [
              0.2222222222222222,
              "#7201a8"
             ],
             [
              0.3333333333333333,
              "#9c179e"
             ],
             [
              0.4444444444444444,
              "#bd3786"
             ],
             [
              0.5555555555555556,
              "#d8576b"
             ],
             [
              0.6666666666666666,
              "#ed7953"
             ],
             [
              0.7777777777777778,
              "#fb9f3a"
             ],
             [
              0.8888888888888888,
              "#fdca26"
             ],
             [
              1,
              "#f0f921"
             ]
            ],
            "type": "contour"
           }
          ],
          "contourcarpet": [
           {
            "colorbar": {
             "outlinewidth": 0,
             "ticks": ""
            },
            "type": "contourcarpet"
           }
          ],
          "heatmap": [
           {
            "colorbar": {
             "outlinewidth": 0,
             "ticks": ""
            },
            "colorscale": [
             [
              0,
              "#0d0887"
             ],
             [
              0.1111111111111111,
              "#46039f"
             ],
             [
              0.2222222222222222,
              "#7201a8"
             ],
             [
              0.3333333333333333,
              "#9c179e"
             ],
             [
              0.4444444444444444,
              "#bd3786"
             ],
             [
              0.5555555555555556,
              "#d8576b"
             ],
             [
              0.6666666666666666,
              "#ed7953"
             ],
             [
              0.7777777777777778,
              "#fb9f3a"
             ],
             [
              0.8888888888888888,
              "#fdca26"
             ],
             [
              1,
              "#f0f921"
             ]
            ],
            "type": "heatmap"
           }
          ],
          "heatmapgl": [
           {
            "colorbar": {
             "outlinewidth": 0,
             "ticks": ""
            },
            "colorscale": [
             [
              0,
              "#0d0887"
             ],
             [
              0.1111111111111111,
              "#46039f"
             ],
             [
              0.2222222222222222,
              "#7201a8"
             ],
             [
              0.3333333333333333,
              "#9c179e"
             ],
             [
              0.4444444444444444,
              "#bd3786"
             ],
             [
              0.5555555555555556,
              "#d8576b"
             ],
             [
              0.6666666666666666,
              "#ed7953"
             ],
             [
              0.7777777777777778,
              "#fb9f3a"
             ],
             [
              0.8888888888888888,
              "#fdca26"
             ],
             [
              1,
              "#f0f921"
             ]
            ],
            "type": "heatmapgl"
           }
          ],
          "histogram": [
           {
            "marker": {
             "pattern": {
              "fillmode": "overlay",
              "size": 10,
              "solidity": 0.2
             }
            },
            "type": "histogram"
           }
          ],
          "histogram2d": [
           {
            "colorbar": {
             "outlinewidth": 0,
             "ticks": ""
            },
            "colorscale": [
             [
              0,
              "#0d0887"
             ],
             [
              0.1111111111111111,
              "#46039f"
             ],
             [
              0.2222222222222222,
              "#7201a8"
             ],
             [
              0.3333333333333333,
              "#9c179e"
             ],
             [
              0.4444444444444444,
              "#bd3786"
             ],
             [
              0.5555555555555556,
              "#d8576b"
             ],
             [
              0.6666666666666666,
              "#ed7953"
             ],
             [
              0.7777777777777778,
              "#fb9f3a"
             ],
             [
              0.8888888888888888,
              "#fdca26"
             ],
             [
              1,
              "#f0f921"
             ]
            ],
            "type": "histogram2d"
           }
          ],
          "histogram2dcontour": [
           {
            "colorbar": {
             "outlinewidth": 0,
             "ticks": ""
            },
            "colorscale": [
             [
              0,
              "#0d0887"
             ],
             [
              0.1111111111111111,
              "#46039f"
             ],
             [
              0.2222222222222222,
              "#7201a8"
             ],
             [
              0.3333333333333333,
              "#9c179e"
             ],
             [
              0.4444444444444444,
              "#bd3786"
             ],
             [
              0.5555555555555556,
              "#d8576b"
             ],
             [
              0.6666666666666666,
              "#ed7953"
             ],
             [
              0.7777777777777778,
              "#fb9f3a"
             ],
             [
              0.8888888888888888,
              "#fdca26"
             ],
             [
              1,
              "#f0f921"
             ]
            ],
            "type": "histogram2dcontour"
           }
          ],
          "mesh3d": [
           {
            "colorbar": {
             "outlinewidth": 0,
             "ticks": ""
            },
            "type": "mesh3d"
           }
          ],
          "parcoords": [
           {
            "line": {
             "colorbar": {
              "outlinewidth": 0,
              "ticks": ""
             }
            },
            "type": "parcoords"
           }
          ],
          "pie": [
           {
            "automargin": true,
            "type": "pie"
           }
          ],
          "scatter": [
           {
            "fillpattern": {
             "fillmode": "overlay",
             "size": 10,
             "solidity": 0.2
            },
            "type": "scatter"
           }
          ],
          "scatter3d": [
           {
            "line": {
             "colorbar": {
              "outlinewidth": 0,
              "ticks": ""
             }
            },
            "marker": {
             "colorbar": {
              "outlinewidth": 0,
              "ticks": ""
             }
            },
            "type": "scatter3d"
           }
          ],
          "scattercarpet": [
           {
            "marker": {
             "colorbar": {
              "outlinewidth": 0,
              "ticks": ""
             }
            },
            "type": "scattercarpet"
           }
          ],
          "scattergeo": [
           {
            "marker": {
             "colorbar": {
              "outlinewidth": 0,
              "ticks": ""
             }
            },
            "type": "scattergeo"
           }
          ],
          "scattergl": [
           {
            "marker": {
             "colorbar": {
              "outlinewidth": 0,
              "ticks": ""
             }
            },
            "type": "scattergl"
           }
          ],
          "scattermapbox": [
           {
            "marker": {
             "colorbar": {
              "outlinewidth": 0,
              "ticks": ""
             }
            },
            "type": "scattermapbox"
           }
          ],
          "scatterpolar": [
           {
            "marker": {
             "colorbar": {
              "outlinewidth": 0,
              "ticks": ""
             }
            },
            "type": "scatterpolar"
           }
          ],
          "scatterpolargl": [
           {
            "marker": {
             "colorbar": {
              "outlinewidth": 0,
              "ticks": ""
             }
            },
            "type": "scatterpolargl"
           }
          ],
          "scatterternary": [
           {
            "marker": {
             "colorbar": {
              "outlinewidth": 0,
              "ticks": ""
             }
            },
            "type": "scatterternary"
           }
          ],
          "surface": [
           {
            "colorbar": {
             "outlinewidth": 0,
             "ticks": ""
            },
            "colorscale": [
             [
              0,
              "#0d0887"
             ],
             [
              0.1111111111111111,
              "#46039f"
             ],
             [
              0.2222222222222222,
              "#7201a8"
             ],
             [
              0.3333333333333333,
              "#9c179e"
             ],
             [
              0.4444444444444444,
              "#bd3786"
             ],
             [
              0.5555555555555556,
              "#d8576b"
             ],
             [
              0.6666666666666666,
              "#ed7953"
             ],
             [
              0.7777777777777778,
              "#fb9f3a"
             ],
             [
              0.8888888888888888,
              "#fdca26"
             ],
             [
              1,
              "#f0f921"
             ]
            ],
            "type": "surface"
           }
          ],
          "table": [
           {
            "cells": {
             "fill": {
              "color": "#EBF0F8"
             },
             "line": {
              "color": "white"
             }
            },
            "header": {
             "fill": {
              "color": "#C8D4E3"
             },
             "line": {
              "color": "white"
             }
            },
            "type": "table"
           }
          ]
         },
         "layout": {
          "annotationdefaults": {
           "arrowcolor": "#2a3f5f",
           "arrowhead": 0,
           "arrowwidth": 1
          },
          "autotypenumbers": "strict",
          "coloraxis": {
           "colorbar": {
            "outlinewidth": 0,
            "ticks": ""
           }
          },
          "colorscale": {
           "diverging": [
            [
             0,
             "#8e0152"
            ],
            [
             0.1,
             "#c51b7d"
            ],
            [
             0.2,
             "#de77ae"
            ],
            [
             0.3,
             "#f1b6da"
            ],
            [
             0.4,
             "#fde0ef"
            ],
            [
             0.5,
             "#f7f7f7"
            ],
            [
             0.6,
             "#e6f5d0"
            ],
            [
             0.7,
             "#b8e186"
            ],
            [
             0.8,
             "#7fbc41"
            ],
            [
             0.9,
             "#4d9221"
            ],
            [
             1,
             "#276419"
            ]
           ],
           "sequential": [
            [
             0,
             "#0d0887"
            ],
            [
             0.1111111111111111,
             "#46039f"
            ],
            [
             0.2222222222222222,
             "#7201a8"
            ],
            [
             0.3333333333333333,
             "#9c179e"
            ],
            [
             0.4444444444444444,
             "#bd3786"
            ],
            [
             0.5555555555555556,
             "#d8576b"
            ],
            [
             0.6666666666666666,
             "#ed7953"
            ],
            [
             0.7777777777777778,
             "#fb9f3a"
            ],
            [
             0.8888888888888888,
             "#fdca26"
            ],
            [
             1,
             "#f0f921"
            ]
           ],
           "sequentialminus": [
            [
             0,
             "#0d0887"
            ],
            [
             0.1111111111111111,
             "#46039f"
            ],
            [
             0.2222222222222222,
             "#7201a8"
            ],
            [
             0.3333333333333333,
             "#9c179e"
            ],
            [
             0.4444444444444444,
             "#bd3786"
            ],
            [
             0.5555555555555556,
             "#d8576b"
            ],
            [
             0.6666666666666666,
             "#ed7953"
            ],
            [
             0.7777777777777778,
             "#fb9f3a"
            ],
            [
             0.8888888888888888,
             "#fdca26"
            ],
            [
             1,
             "#f0f921"
            ]
           ]
          },
          "colorway": [
           "#636efa",
           "#EF553B",
           "#00cc96",
           "#ab63fa",
           "#FFA15A",
           "#19d3f3",
           "#FF6692",
           "#B6E880",
           "#FF97FF",
           "#FECB52"
          ],
          "font": {
           "color": "#2a3f5f"
          },
          "geo": {
           "bgcolor": "white",
           "lakecolor": "white",
           "landcolor": "#E5ECF6",
           "showlakes": true,
           "showland": true,
           "subunitcolor": "white"
          },
          "hoverlabel": {
           "align": "left"
          },
          "hovermode": "closest",
          "mapbox": {
           "style": "light"
          },
          "paper_bgcolor": "white",
          "plot_bgcolor": "#E5ECF6",
          "polar": {
           "angularaxis": {
            "gridcolor": "white",
            "linecolor": "white",
            "ticks": ""
           },
           "bgcolor": "#E5ECF6",
           "radialaxis": {
            "gridcolor": "white",
            "linecolor": "white",
            "ticks": ""
           }
          },
          "scene": {
           "xaxis": {
            "backgroundcolor": "#E5ECF6",
            "gridcolor": "white",
            "gridwidth": 2,
            "linecolor": "white",
            "showbackground": true,
            "ticks": "",
            "zerolinecolor": "white"
           },
           "yaxis": {
            "backgroundcolor": "#E5ECF6",
            "gridcolor": "white",
            "gridwidth": 2,
            "linecolor": "white",
            "showbackground": true,
            "ticks": "",
            "zerolinecolor": "white"
           },
           "zaxis": {
            "backgroundcolor": "#E5ECF6",
            "gridcolor": "white",
            "gridwidth": 2,
            "linecolor": "white",
            "showbackground": true,
            "ticks": "",
            "zerolinecolor": "white"
           }
          },
          "shapedefaults": {
           "line": {
            "color": "#2a3f5f"
           }
          },
          "ternary": {
           "aaxis": {
            "gridcolor": "white",
            "linecolor": "white",
            "ticks": ""
           },
           "baxis": {
            "gridcolor": "white",
            "linecolor": "white",
            "ticks": ""
           },
           "bgcolor": "#E5ECF6",
           "caxis": {
            "gridcolor": "white",
            "linecolor": "white",
            "ticks": ""
           }
          },
          "title": {
           "x": 0.05
          },
          "xaxis": {
           "automargin": true,
           "gridcolor": "white",
           "linecolor": "white",
           "ticks": "",
           "title": {
            "standoff": 15
           },
           "zerolinecolor": "white",
           "zerolinewidth": 2
          },
          "yaxis": {
           "automargin": true,
           "gridcolor": "white",
           "linecolor": "white",
           "ticks": "",
           "title": {
            "standoff": 15
           },
           "zerolinecolor": "white",
           "zerolinewidth": 2
          }
         }
        },
        "title": {
         "text": "Global Happiness Scores"
        }
       }
      }
     },
     "metadata": {},
     "output_type": "display_data"
    }
   ],
   "source": [
    "# Filter the dataset by a column value (e.g., filter by a region or a category)\n",
    "filtered_df = df[df['Year'] == '2019']\n",
    "\n",
    "# Create the choropleth map\n",
    "fig = px.choropleth(\n",
    "    filtered_df, \n",
    "    locations='Country',\n",
    "    locationmode='country names',\n",
    "    color='Score',\n",
    "    color_continuous_scale='Viridis',\n",
    "    title='Global Happiness Scores',\n",
    "    labels={'Happiness Score': 'Happiness Score'},\n",
    "    projection='natural earth',\n",
    "    hover_data=['GDP per Capita', 'Family', 'Life Expectancy', 'Freedom', 'Generosity', 'Perceptions of Corruption']\n",
    ")\n",
    "\n",
    "# Show the map\n",
    "fig.show()"
   ]
  },
  {
   "cell_type": "code",
   "execution_count": 14,
   "metadata": {},
   "outputs": [
    {
     "data": {
      "application/vnd.plotly.v1+json": {
       "config": {
        "plotlyServerURL": "https://plot.ly"
       },
       "data": [
        {
         "alignmentgroup": "True",
         "bingroup": "x",
         "histfunc": "sum",
         "hovertemplate": "Rank=1<br>Country=%{x}<br>sum of Rank=%{y}<extra></extra>",
         "legendgroup": "1",
         "marker": {
          "color": "#636efa",
          "pattern": {
           "shape": ""
          }
         },
         "name": "1",
         "offsetgroup": "1",
         "orientation": "v",
         "showlegend": true,
         "type": "histogram",
         "x": [
          "Finland"
         ],
         "xaxis": "x",
         "y": [
          1
         ],
         "yaxis": "y"
        },
        {
         "alignmentgroup": "True",
         "bingroup": "x",
         "histfunc": "sum",
         "hovertemplate": "Rank=2<br>Country=%{x}<br>sum of Rank=%{y}<extra></extra>",
         "legendgroup": "2",
         "marker": {
          "color": "#EF553B",
          "pattern": {
           "shape": ""
          }
         },
         "name": "2",
         "offsetgroup": "2",
         "orientation": "v",
         "showlegend": true,
         "type": "histogram",
         "x": [
          "Denmark"
         ],
         "xaxis": "x",
         "y": [
          2
         ],
         "yaxis": "y"
        },
        {
         "alignmentgroup": "True",
         "bingroup": "x",
         "histfunc": "sum",
         "hovertemplate": "Rank=3<br>Country=%{x}<br>sum of Rank=%{y}<extra></extra>",
         "legendgroup": "3",
         "marker": {
          "color": "#00cc96",
          "pattern": {
           "shape": ""
          }
         },
         "name": "3",
         "offsetgroup": "3",
         "orientation": "v",
         "showlegend": true,
         "type": "histogram",
         "x": [
          "Norway"
         ],
         "xaxis": "x",
         "y": [
          3
         ],
         "yaxis": "y"
        },
        {
         "alignmentgroup": "True",
         "bingroup": "x",
         "histfunc": "sum",
         "hovertemplate": "Rank=4<br>Country=%{x}<br>sum of Rank=%{y}<extra></extra>",
         "legendgroup": "4",
         "marker": {
          "color": "#ab63fa",
          "pattern": {
           "shape": ""
          }
         },
         "name": "4",
         "offsetgroup": "4",
         "orientation": "v",
         "showlegend": true,
         "type": "histogram",
         "x": [
          "Iceland"
         ],
         "xaxis": "x",
         "y": [
          4
         ],
         "yaxis": "y"
        },
        {
         "alignmentgroup": "True",
         "bingroup": "x",
         "histfunc": "sum",
         "hovertemplate": "Rank=5<br>Country=%{x}<br>sum of Rank=%{y}<extra></extra>",
         "legendgroup": "5",
         "marker": {
          "color": "#FFA15A",
          "pattern": {
           "shape": ""
          }
         },
         "name": "5",
         "offsetgroup": "5",
         "orientation": "v",
         "showlegend": true,
         "type": "histogram",
         "x": [
          "Netherlands"
         ],
         "xaxis": "x",
         "y": [
          5
         ],
         "yaxis": "y"
        },
        {
         "alignmentgroup": "True",
         "bingroup": "x",
         "histfunc": "sum",
         "hovertemplate": "Rank=6<br>Country=%{x}<br>sum of Rank=%{y}<extra></extra>",
         "legendgroup": "6",
         "marker": {
          "color": "#19d3f3",
          "pattern": {
           "shape": ""
          }
         },
         "name": "6",
         "offsetgroup": "6",
         "orientation": "v",
         "showlegend": true,
         "type": "histogram",
         "x": [
          "Switzerland"
         ],
         "xaxis": "x",
         "y": [
          6
         ],
         "yaxis": "y"
        },
        {
         "alignmentgroup": "True",
         "bingroup": "x",
         "histfunc": "sum",
         "hovertemplate": "Rank=7<br>Country=%{x}<br>sum of Rank=%{y}<extra></extra>",
         "legendgroup": "7",
         "marker": {
          "color": "#FF6692",
          "pattern": {
           "shape": ""
          }
         },
         "name": "7",
         "offsetgroup": "7",
         "orientation": "v",
         "showlegend": true,
         "type": "histogram",
         "x": [
          "Sweden"
         ],
         "xaxis": "x",
         "y": [
          7
         ],
         "yaxis": "y"
        },
        {
         "alignmentgroup": "True",
         "bingroup": "x",
         "histfunc": "sum",
         "hovertemplate": "Rank=8<br>Country=%{x}<br>sum of Rank=%{y}<extra></extra>",
         "legendgroup": "8",
         "marker": {
          "color": "#B6E880",
          "pattern": {
           "shape": ""
          }
         },
         "name": "8",
         "offsetgroup": "8",
         "orientation": "v",
         "showlegend": true,
         "type": "histogram",
         "x": [
          "New Zealand"
         ],
         "xaxis": "x",
         "y": [
          8
         ],
         "yaxis": "y"
        },
        {
         "alignmentgroup": "True",
         "bingroup": "x",
         "histfunc": "sum",
         "hovertemplate": "Rank=9<br>Country=%{x}<br>sum of Rank=%{y}<extra></extra>",
         "legendgroup": "9",
         "marker": {
          "color": "#FF97FF",
          "pattern": {
           "shape": ""
          }
         },
         "name": "9",
         "offsetgroup": "9",
         "orientation": "v",
         "showlegend": true,
         "type": "histogram",
         "x": [
          "Canada"
         ],
         "xaxis": "x",
         "y": [
          9
         ],
         "yaxis": "y"
        },
        {
         "alignmentgroup": "True",
         "bingroup": "x",
         "histfunc": "sum",
         "hovertemplate": "Rank=10<br>Country=%{x}<br>sum of Rank=%{y}<extra></extra>",
         "legendgroup": "10",
         "marker": {
          "color": "#FECB52",
          "pattern": {
           "shape": ""
          }
         },
         "name": "10",
         "offsetgroup": "10",
         "orientation": "v",
         "showlegend": true,
         "type": "histogram",
         "x": [
          "Austria"
         ],
         "xaxis": "x",
         "y": [
          10
         ],
         "yaxis": "y"
        },
        {
         "alignmentgroup": "True",
         "bingroup": "x",
         "histfunc": "sum",
         "hovertemplate": "Rank=11<br>Country=%{x}<br>sum of Rank=%{y}<extra></extra>",
         "legendgroup": "11",
         "marker": {
          "color": "#636efa",
          "pattern": {
           "shape": ""
          }
         },
         "name": "11",
         "offsetgroup": "11",
         "orientation": "v",
         "showlegend": true,
         "type": "histogram",
         "x": [
          "Australia"
         ],
         "xaxis": "x",
         "y": [
          11
         ],
         "yaxis": "y"
        },
        {
         "alignmentgroup": "True",
         "bingroup": "x",
         "histfunc": "sum",
         "hovertemplate": "Rank=12<br>Country=%{x}<br>sum of Rank=%{y}<extra></extra>",
         "legendgroup": "12",
         "marker": {
          "color": "#EF553B",
          "pattern": {
           "shape": ""
          }
         },
         "name": "12",
         "offsetgroup": "12",
         "orientation": "v",
         "showlegend": true,
         "type": "histogram",
         "x": [
          "Costa Rica"
         ],
         "xaxis": "x",
         "y": [
          12
         ],
         "yaxis": "y"
        },
        {
         "alignmentgroup": "True",
         "bingroup": "x",
         "histfunc": "sum",
         "hovertemplate": "Rank=13<br>Country=%{x}<br>sum of Rank=%{y}<extra></extra>",
         "legendgroup": "13",
         "marker": {
          "color": "#00cc96",
          "pattern": {
           "shape": ""
          }
         },
         "name": "13",
         "offsetgroup": "13",
         "orientation": "v",
         "showlegend": true,
         "type": "histogram",
         "x": [
          "Israel"
         ],
         "xaxis": "x",
         "y": [
          13
         ],
         "yaxis": "y"
        },
        {
         "alignmentgroup": "True",
         "bingroup": "x",
         "histfunc": "sum",
         "hovertemplate": "Rank=14<br>Country=%{x}<br>sum of Rank=%{y}<extra></extra>",
         "legendgroup": "14",
         "marker": {
          "color": "#ab63fa",
          "pattern": {
           "shape": ""
          }
         },
         "name": "14",
         "offsetgroup": "14",
         "orientation": "v",
         "showlegend": true,
         "type": "histogram",
         "x": [
          "Luxembourg"
         ],
         "xaxis": "x",
         "y": [
          14
         ],
         "yaxis": "y"
        },
        {
         "alignmentgroup": "True",
         "bingroup": "x",
         "histfunc": "sum",
         "hovertemplate": "Rank=15<br>Country=%{x}<br>sum of Rank=%{y}<extra></extra>",
         "legendgroup": "15",
         "marker": {
          "color": "#FFA15A",
          "pattern": {
           "shape": ""
          }
         },
         "name": "15",
         "offsetgroup": "15",
         "orientation": "v",
         "showlegend": true,
         "type": "histogram",
         "x": [
          "United Kingdom"
         ],
         "xaxis": "x",
         "y": [
          15
         ],
         "yaxis": "y"
        },
        {
         "alignmentgroup": "True",
         "bingroup": "x",
         "histfunc": "sum",
         "hovertemplate": "Rank=16<br>Country=%{x}<br>sum of Rank=%{y}<extra></extra>",
         "legendgroup": "16",
         "marker": {
          "color": "#19d3f3",
          "pattern": {
           "shape": ""
          }
         },
         "name": "16",
         "offsetgroup": "16",
         "orientation": "v",
         "showlegend": true,
         "type": "histogram",
         "x": [
          "Ireland"
         ],
         "xaxis": "x",
         "y": [
          16
         ],
         "yaxis": "y"
        },
        {
         "alignmentgroup": "True",
         "bingroup": "x",
         "histfunc": "sum",
         "hovertemplate": "Rank=17<br>Country=%{x}<br>sum of Rank=%{y}<extra></extra>",
         "legendgroup": "17",
         "marker": {
          "color": "#FF6692",
          "pattern": {
           "shape": ""
          }
         },
         "name": "17",
         "offsetgroup": "17",
         "orientation": "v",
         "showlegend": true,
         "type": "histogram",
         "x": [
          "Germany"
         ],
         "xaxis": "x",
         "y": [
          17
         ],
         "yaxis": "y"
        },
        {
         "alignmentgroup": "True",
         "bingroup": "x",
         "histfunc": "sum",
         "hovertemplate": "Rank=18<br>Country=%{x}<br>sum of Rank=%{y}<extra></extra>",
         "legendgroup": "18",
         "marker": {
          "color": "#B6E880",
          "pattern": {
           "shape": ""
          }
         },
         "name": "18",
         "offsetgroup": "18",
         "orientation": "v",
         "showlegend": true,
         "type": "histogram",
         "x": [
          "Belgium"
         ],
         "xaxis": "x",
         "y": [
          18
         ],
         "yaxis": "y"
        },
        {
         "alignmentgroup": "True",
         "bingroup": "x",
         "histfunc": "sum",
         "hovertemplate": "Rank=19<br>Country=%{x}<br>sum of Rank=%{y}<extra></extra>",
         "legendgroup": "19",
         "marker": {
          "color": "#FF97FF",
          "pattern": {
           "shape": ""
          }
         },
         "name": "19",
         "offsetgroup": "19",
         "orientation": "v",
         "showlegend": true,
         "type": "histogram",
         "x": [
          "United States"
         ],
         "xaxis": "x",
         "y": [
          19
         ],
         "yaxis": "y"
        },
        {
         "alignmentgroup": "True",
         "bingroup": "x",
         "histfunc": "sum",
         "hovertemplate": "Rank=20<br>Country=%{x}<br>sum of Rank=%{y}<extra></extra>",
         "legendgroup": "20",
         "marker": {
          "color": "#FECB52",
          "pattern": {
           "shape": ""
          }
         },
         "name": "20",
         "offsetgroup": "20",
         "orientation": "v",
         "showlegend": true,
         "type": "histogram",
         "x": [
          "Czech Republic"
         ],
         "xaxis": "x",
         "y": [
          20
         ],
         "yaxis": "y"
        },
        {
         "alignmentgroup": "True",
         "bingroup": "x",
         "histfunc": "sum",
         "hovertemplate": "Rank=21<br>Country=%{x}<br>sum of Rank=%{y}<extra></extra>",
         "legendgroup": "21",
         "marker": {
          "color": "#636efa",
          "pattern": {
           "shape": ""
          }
         },
         "name": "21",
         "offsetgroup": "21",
         "orientation": "v",
         "showlegend": true,
         "type": "histogram",
         "x": [
          "United Arab Emirates"
         ],
         "xaxis": "x",
         "y": [
          21
         ],
         "yaxis": "y"
        },
        {
         "alignmentgroup": "True",
         "bingroup": "x",
         "histfunc": "sum",
         "hovertemplate": "Rank=22<br>Country=%{x}<br>sum of Rank=%{y}<extra></extra>",
         "legendgroup": "22",
         "marker": {
          "color": "#EF553B",
          "pattern": {
           "shape": ""
          }
         },
         "name": "22",
         "offsetgroup": "22",
         "orientation": "v",
         "showlegend": true,
         "type": "histogram",
         "x": [
          "Malta"
         ],
         "xaxis": "x",
         "y": [
          22
         ],
         "yaxis": "y"
        },
        {
         "alignmentgroup": "True",
         "bingroup": "x",
         "histfunc": "sum",
         "hovertemplate": "Rank=23<br>Country=%{x}<br>sum of Rank=%{y}<extra></extra>",
         "legendgroup": "23",
         "marker": {
          "color": "#00cc96",
          "pattern": {
           "shape": ""
          }
         },
         "name": "23",
         "offsetgroup": "23",
         "orientation": "v",
         "showlegend": true,
         "type": "histogram",
         "x": [
          "Mexico"
         ],
         "xaxis": "x",
         "y": [
          23
         ],
         "yaxis": "y"
        },
        {
         "alignmentgroup": "True",
         "bingroup": "x",
         "histfunc": "sum",
         "hovertemplate": "Rank=24<br>Country=%{x}<br>sum of Rank=%{y}<extra></extra>",
         "legendgroup": "24",
         "marker": {
          "color": "#ab63fa",
          "pattern": {
           "shape": ""
          }
         },
         "name": "24",
         "offsetgroup": "24",
         "orientation": "v",
         "showlegend": true,
         "type": "histogram",
         "x": [
          "France"
         ],
         "xaxis": "x",
         "y": [
          24
         ],
         "yaxis": "y"
        },
        {
         "alignmentgroup": "True",
         "bingroup": "x",
         "histfunc": "sum",
         "hovertemplate": "Rank=25<br>Country=%{x}<br>sum of Rank=%{y}<extra></extra>",
         "legendgroup": "25",
         "marker": {
          "color": "#FFA15A",
          "pattern": {
           "shape": ""
          }
         },
         "name": "25",
         "offsetgroup": "25",
         "orientation": "v",
         "showlegend": true,
         "type": "histogram",
         "x": [
          "Taiwan"
         ],
         "xaxis": "x",
         "y": [
          25
         ],
         "yaxis": "y"
        },
        {
         "alignmentgroup": "True",
         "bingroup": "x",
         "histfunc": "sum",
         "hovertemplate": "Rank=26<br>Country=%{x}<br>sum of Rank=%{y}<extra></extra>",
         "legendgroup": "26",
         "marker": {
          "color": "#19d3f3",
          "pattern": {
           "shape": ""
          }
         },
         "name": "26",
         "offsetgroup": "26",
         "orientation": "v",
         "showlegend": true,
         "type": "histogram",
         "x": [
          "Chile"
         ],
         "xaxis": "x",
         "y": [
          26
         ],
         "yaxis": "y"
        },
        {
         "alignmentgroup": "True",
         "bingroup": "x",
         "histfunc": "sum",
         "hovertemplate": "Rank=27<br>Country=%{x}<br>sum of Rank=%{y}<extra></extra>",
         "legendgroup": "27",
         "marker": {
          "color": "#FF6692",
          "pattern": {
           "shape": ""
          }
         },
         "name": "27",
         "offsetgroup": "27",
         "orientation": "v",
         "showlegend": true,
         "type": "histogram",
         "x": [
          "Guatemala"
         ],
         "xaxis": "x",
         "y": [
          27
         ],
         "yaxis": "y"
        },
        {
         "alignmentgroup": "True",
         "bingroup": "x",
         "histfunc": "sum",
         "hovertemplate": "Rank=28<br>Country=%{x}<br>sum of Rank=%{y}<extra></extra>",
         "legendgroup": "28",
         "marker": {
          "color": "#B6E880",
          "pattern": {
           "shape": ""
          }
         },
         "name": "28",
         "offsetgroup": "28",
         "orientation": "v",
         "showlegend": true,
         "type": "histogram",
         "x": [
          "Saudi Arabia"
         ],
         "xaxis": "x",
         "y": [
          28
         ],
         "yaxis": "y"
        },
        {
         "alignmentgroup": "True",
         "bingroup": "x",
         "histfunc": "sum",
         "hovertemplate": "Rank=29<br>Country=%{x}<br>sum of Rank=%{y}<extra></extra>",
         "legendgroup": "29",
         "marker": {
          "color": "#FF97FF",
          "pattern": {
           "shape": ""
          }
         },
         "name": "29",
         "offsetgroup": "29",
         "orientation": "v",
         "showlegend": true,
         "type": "histogram",
         "x": [
          "Qatar"
         ],
         "xaxis": "x",
         "y": [
          29
         ],
         "yaxis": "y"
        },
        {
         "alignmentgroup": "True",
         "bingroup": "x",
         "histfunc": "sum",
         "hovertemplate": "Rank=30<br>Country=%{x}<br>sum of Rank=%{y}<extra></extra>",
         "legendgroup": "30",
         "marker": {
          "color": "#FECB52",
          "pattern": {
           "shape": ""
          }
         },
         "name": "30",
         "offsetgroup": "30",
         "orientation": "v",
         "showlegend": true,
         "type": "histogram",
         "x": [
          "Spain"
         ],
         "xaxis": "x",
         "y": [
          30
         ],
         "yaxis": "y"
        },
        {
         "alignmentgroup": "True",
         "bingroup": "x",
         "histfunc": "sum",
         "hovertemplate": "Rank=31<br>Country=%{x}<br>sum of Rank=%{y}<extra></extra>",
         "legendgroup": "31",
         "marker": {
          "color": "#636efa",
          "pattern": {
           "shape": ""
          }
         },
         "name": "31",
         "offsetgroup": "31",
         "orientation": "v",
         "showlegend": true,
         "type": "histogram",
         "x": [
          "Panama"
         ],
         "xaxis": "x",
         "y": [
          31
         ],
         "yaxis": "y"
        },
        {
         "alignmentgroup": "True",
         "bingroup": "x",
         "histfunc": "sum",
         "hovertemplate": "Rank=32<br>Country=%{x}<br>sum of Rank=%{y}<extra></extra>",
         "legendgroup": "32",
         "marker": {
          "color": "#EF553B",
          "pattern": {
           "shape": ""
          }
         },
         "name": "32",
         "offsetgroup": "32",
         "orientation": "v",
         "showlegend": true,
         "type": "histogram",
         "x": [
          "Brazil"
         ],
         "xaxis": "x",
         "y": [
          32
         ],
         "yaxis": "y"
        },
        {
         "alignmentgroup": "True",
         "bingroup": "x",
         "histfunc": "sum",
         "hovertemplate": "Rank=33<br>Country=%{x}<br>sum of Rank=%{y}<extra></extra>",
         "legendgroup": "33",
         "marker": {
          "color": "#00cc96",
          "pattern": {
           "shape": ""
          }
         },
         "name": "33",
         "offsetgroup": "33",
         "orientation": "v",
         "showlegend": true,
         "type": "histogram",
         "x": [
          "Uruguay"
         ],
         "xaxis": "x",
         "y": [
          33
         ],
         "yaxis": "y"
        },
        {
         "alignmentgroup": "True",
         "bingroup": "x",
         "histfunc": "sum",
         "hovertemplate": "Rank=34<br>Country=%{x}<br>sum of Rank=%{y}<extra></extra>",
         "legendgroup": "34",
         "marker": {
          "color": "#ab63fa",
          "pattern": {
           "shape": ""
          }
         },
         "name": "34",
         "offsetgroup": "34",
         "orientation": "v",
         "showlegend": true,
         "type": "histogram",
         "x": [
          "Singapore"
         ],
         "xaxis": "x",
         "y": [
          34
         ],
         "yaxis": "y"
        },
        {
         "alignmentgroup": "True",
         "bingroup": "x",
         "histfunc": "sum",
         "hovertemplate": "Rank=35<br>Country=%{x}<br>sum of Rank=%{y}<extra></extra>",
         "legendgroup": "35",
         "marker": {
          "color": "#FFA15A",
          "pattern": {
           "shape": ""
          }
         },
         "name": "35",
         "offsetgroup": "35",
         "orientation": "v",
         "showlegend": true,
         "type": "histogram",
         "x": [
          "El Salvador"
         ],
         "xaxis": "x",
         "y": [
          35
         ],
         "yaxis": "y"
        },
        {
         "alignmentgroup": "True",
         "bingroup": "x",
         "histfunc": "sum",
         "hovertemplate": "Rank=36<br>Country=%{x}<br>sum of Rank=%{y}<extra></extra>",
         "legendgroup": "36",
         "marker": {
          "color": "#19d3f3",
          "pattern": {
           "shape": ""
          }
         },
         "name": "36",
         "offsetgroup": "36",
         "orientation": "v",
         "showlegend": true,
         "type": "histogram",
         "x": [
          "Italy"
         ],
         "xaxis": "x",
         "y": [
          36
         ],
         "yaxis": "y"
        },
        {
         "alignmentgroup": "True",
         "bingroup": "x",
         "histfunc": "sum",
         "hovertemplate": "Rank=37<br>Country=%{x}<br>sum of Rank=%{y}<extra></extra>",
         "legendgroup": "37",
         "marker": {
          "color": "#FF6692",
          "pattern": {
           "shape": ""
          }
         },
         "name": "37",
         "offsetgroup": "37",
         "orientation": "v",
         "showlegend": true,
         "type": "histogram",
         "x": [
          "Bahrain"
         ],
         "xaxis": "x",
         "y": [
          37
         ],
         "yaxis": "y"
        },
        {
         "alignmentgroup": "True",
         "bingroup": "x",
         "histfunc": "sum",
         "hovertemplate": "Rank=38<br>Country=%{x}<br>sum of Rank=%{y}<extra></extra>",
         "legendgroup": "38",
         "marker": {
          "color": "#B6E880",
          "pattern": {
           "shape": ""
          }
         },
         "name": "38",
         "offsetgroup": "38",
         "orientation": "v",
         "showlegend": true,
         "type": "histogram",
         "x": [
          "Slovakia"
         ],
         "xaxis": "x",
         "y": [
          38
         ],
         "yaxis": "y"
        },
        {
         "alignmentgroup": "True",
         "bingroup": "x",
         "histfunc": "sum",
         "hovertemplate": "Rank=39<br>Country=%{x}<br>sum of Rank=%{y}<extra></extra>",
         "legendgroup": "39",
         "marker": {
          "color": "#FF97FF",
          "pattern": {
           "shape": ""
          }
         },
         "name": "39",
         "offsetgroup": "39",
         "orientation": "v",
         "showlegend": true,
         "type": "histogram",
         "x": [
          "Trinidad & Tobago"
         ],
         "xaxis": "x",
         "y": [
          39
         ],
         "yaxis": "y"
        },
        {
         "alignmentgroup": "True",
         "bingroup": "x",
         "histfunc": "sum",
         "hovertemplate": "Rank=40<br>Country=%{x}<br>sum of Rank=%{y}<extra></extra>",
         "legendgroup": "40",
         "marker": {
          "color": "#FECB52",
          "pattern": {
           "shape": ""
          }
         },
         "name": "40",
         "offsetgroup": "40",
         "orientation": "v",
         "showlegend": true,
         "type": "histogram",
         "x": [
          "Poland"
         ],
         "xaxis": "x",
         "y": [
          40
         ],
         "yaxis": "y"
        },
        {
         "alignmentgroup": "True",
         "bingroup": "x",
         "histfunc": "sum",
         "hovertemplate": "Rank=41<br>Country=%{x}<br>sum of Rank=%{y}<extra></extra>",
         "legendgroup": "41",
         "marker": {
          "color": "#636efa",
          "pattern": {
           "shape": ""
          }
         },
         "name": "41",
         "offsetgroup": "41",
         "orientation": "v",
         "showlegend": true,
         "type": "histogram",
         "x": [
          "Uzbekistan"
         ],
         "xaxis": "x",
         "y": [
          41
         ],
         "yaxis": "y"
        },
        {
         "alignmentgroup": "True",
         "bingroup": "x",
         "histfunc": "sum",
         "hovertemplate": "Rank=42<br>Country=%{x}<br>sum of Rank=%{y}<extra></extra>",
         "legendgroup": "42",
         "marker": {
          "color": "#EF553B",
          "pattern": {
           "shape": ""
          }
         },
         "name": "42",
         "offsetgroup": "42",
         "orientation": "v",
         "showlegend": true,
         "type": "histogram",
         "x": [
          "Lithuania"
         ],
         "xaxis": "x",
         "y": [
          42
         ],
         "yaxis": "y"
        },
        {
         "alignmentgroup": "True",
         "bingroup": "x",
         "histfunc": "sum",
         "hovertemplate": "Rank=43<br>Country=%{x}<br>sum of Rank=%{y}<extra></extra>",
         "legendgroup": "43",
         "marker": {
          "color": "#00cc96",
          "pattern": {
           "shape": ""
          }
         },
         "name": "43",
         "offsetgroup": "43",
         "orientation": "v",
         "showlegend": true,
         "type": "histogram",
         "x": [
          "Colombia"
         ],
         "xaxis": "x",
         "y": [
          43
         ],
         "yaxis": "y"
        },
        {
         "alignmentgroup": "True",
         "bingroup": "x",
         "histfunc": "sum",
         "hovertemplate": "Rank=44<br>Country=%{x}<br>sum of Rank=%{y}<extra></extra>",
         "legendgroup": "44",
         "marker": {
          "color": "#ab63fa",
          "pattern": {
           "shape": ""
          }
         },
         "name": "44",
         "offsetgroup": "44",
         "orientation": "v",
         "showlegend": true,
         "type": "histogram",
         "x": [
          "Slovenia"
         ],
         "xaxis": "x",
         "y": [
          44
         ],
         "yaxis": "y"
        },
        {
         "alignmentgroup": "True",
         "bingroup": "x",
         "histfunc": "sum",
         "hovertemplate": "Rank=45<br>Country=%{x}<br>sum of Rank=%{y}<extra></extra>",
         "legendgroup": "45",
         "marker": {
          "color": "#FFA15A",
          "pattern": {
           "shape": ""
          }
         },
         "name": "45",
         "offsetgroup": "45",
         "orientation": "v",
         "showlegend": true,
         "type": "histogram",
         "x": [
          "Nicaragua"
         ],
         "xaxis": "x",
         "y": [
          45
         ],
         "yaxis": "y"
        },
        {
         "alignmentgroup": "True",
         "bingroup": "x",
         "histfunc": "sum",
         "hovertemplate": "Rank=46<br>Country=%{x}<br>sum of Rank=%{y}<extra></extra>",
         "legendgroup": "46",
         "marker": {
          "color": "#19d3f3",
          "pattern": {
           "shape": ""
          }
         },
         "name": "46",
         "offsetgroup": "46",
         "orientation": "v",
         "showlegend": true,
         "type": "histogram",
         "x": [
          "Kosovo"
         ],
         "xaxis": "x",
         "y": [
          46
         ],
         "yaxis": "y"
        },
        {
         "alignmentgroup": "True",
         "bingroup": "x",
         "histfunc": "sum",
         "hovertemplate": "Rank=47<br>Country=%{x}<br>sum of Rank=%{y}<extra></extra>",
         "legendgroup": "47",
         "marker": {
          "color": "#FF6692",
          "pattern": {
           "shape": ""
          }
         },
         "name": "47",
         "offsetgroup": "47",
         "orientation": "v",
         "showlegend": true,
         "type": "histogram",
         "x": [
          "Argentina"
         ],
         "xaxis": "x",
         "y": [
          47
         ],
         "yaxis": "y"
        },
        {
         "alignmentgroup": "True",
         "bingroup": "x",
         "histfunc": "sum",
         "hovertemplate": "Rank=48<br>Country=%{x}<br>sum of Rank=%{y}<extra></extra>",
         "legendgroup": "48",
         "marker": {
          "color": "#B6E880",
          "pattern": {
           "shape": ""
          }
         },
         "name": "48",
         "offsetgroup": "48",
         "orientation": "v",
         "showlegend": true,
         "type": "histogram",
         "x": [
          "Romania"
         ],
         "xaxis": "x",
         "y": [
          48
         ],
         "yaxis": "y"
        },
        {
         "alignmentgroup": "True",
         "bingroup": "x",
         "histfunc": "sum",
         "hovertemplate": "Rank=49<br>Country=%{x}<br>sum of Rank=%{y}<extra></extra>",
         "legendgroup": "49",
         "marker": {
          "color": "#FF97FF",
          "pattern": {
           "shape": ""
          }
         },
         "name": "49",
         "offsetgroup": "49",
         "orientation": "v",
         "showlegend": true,
         "type": "histogram",
         "x": [
          "Cyprus"
         ],
         "xaxis": "x",
         "y": [
          49
         ],
         "yaxis": "y"
        },
        {
         "alignmentgroup": "True",
         "bingroup": "x",
         "histfunc": "sum",
         "hovertemplate": "Rank=50<br>Country=%{x}<br>sum of Rank=%{y}<extra></extra>",
         "legendgroup": "50",
         "marker": {
          "color": "#FECB52",
          "pattern": {
           "shape": ""
          }
         },
         "name": "50",
         "offsetgroup": "50",
         "orientation": "v",
         "showlegend": true,
         "type": "histogram",
         "x": [
          "Ecuador"
         ],
         "xaxis": "x",
         "y": [
          50
         ],
         "yaxis": "y"
        },
        {
         "alignmentgroup": "True",
         "bingroup": "x",
         "histfunc": "sum",
         "hovertemplate": "Rank=51<br>Country=%{x}<br>sum of Rank=%{y}<extra></extra>",
         "legendgroup": "51",
         "marker": {
          "color": "#636efa",
          "pattern": {
           "shape": ""
          }
         },
         "name": "51",
         "offsetgroup": "51",
         "orientation": "v",
         "showlegend": true,
         "type": "histogram",
         "x": [
          "Kuwait"
         ],
         "xaxis": "x",
         "y": [
          51
         ],
         "yaxis": "y"
        },
        {
         "alignmentgroup": "True",
         "bingroup": "x",
         "histfunc": "sum",
         "hovertemplate": "Rank=52<br>Country=%{x}<br>sum of Rank=%{y}<extra></extra>",
         "legendgroup": "52",
         "marker": {
          "color": "#EF553B",
          "pattern": {
           "shape": ""
          }
         },
         "name": "52",
         "offsetgroup": "52",
         "orientation": "v",
         "showlegend": true,
         "type": "histogram",
         "x": [
          "Thailand"
         ],
         "xaxis": "x",
         "y": [
          52
         ],
         "yaxis": "y"
        },
        {
         "alignmentgroup": "True",
         "bingroup": "x",
         "histfunc": "sum",
         "hovertemplate": "Rank=53<br>Country=%{x}<br>sum of Rank=%{y}<extra></extra>",
         "legendgroup": "53",
         "marker": {
          "color": "#00cc96",
          "pattern": {
           "shape": ""
          }
         },
         "name": "53",
         "offsetgroup": "53",
         "orientation": "v",
         "showlegend": true,
         "type": "histogram",
         "x": [
          "Latvia"
         ],
         "xaxis": "x",
         "y": [
          53
         ],
         "yaxis": "y"
        },
        {
         "alignmentgroup": "True",
         "bingroup": "x",
         "histfunc": "sum",
         "hovertemplate": "Rank=54<br>Country=%{x}<br>sum of Rank=%{y}<extra></extra>",
         "legendgroup": "54",
         "marker": {
          "color": "#ab63fa",
          "pattern": {
           "shape": ""
          }
         },
         "name": "54",
         "offsetgroup": "54",
         "orientation": "v",
         "showlegend": true,
         "type": "histogram",
         "x": [
          "South Korea"
         ],
         "xaxis": "x",
         "y": [
          54
         ],
         "yaxis": "y"
        },
        {
         "alignmentgroup": "True",
         "bingroup": "x",
         "histfunc": "sum",
         "hovertemplate": "Rank=55<br>Country=%{x}<br>sum of Rank=%{y}<extra></extra>",
         "legendgroup": "55",
         "marker": {
          "color": "#FFA15A",
          "pattern": {
           "shape": ""
          }
         },
         "name": "55",
         "offsetgroup": "55",
         "orientation": "v",
         "showlegend": true,
         "type": "histogram",
         "x": [
          "Estonia"
         ],
         "xaxis": "x",
         "y": [
          55
         ],
         "yaxis": "y"
        },
        {
         "alignmentgroup": "True",
         "bingroup": "x",
         "histfunc": "sum",
         "hovertemplate": "Rank=56<br>Country=%{x}<br>sum of Rank=%{y}<extra></extra>",
         "legendgroup": "56",
         "marker": {
          "color": "#19d3f3",
          "pattern": {
           "shape": ""
          }
         },
         "name": "56",
         "offsetgroup": "56",
         "orientation": "v",
         "showlegend": true,
         "type": "histogram",
         "x": [
          "Jamaica"
         ],
         "xaxis": "x",
         "y": [
          56
         ],
         "yaxis": "y"
        },
        {
         "alignmentgroup": "True",
         "bingroup": "x",
         "histfunc": "sum",
         "hovertemplate": "Rank=57<br>Country=%{x}<br>sum of Rank=%{y}<extra></extra>",
         "legendgroup": "57",
         "marker": {
          "color": "#FF6692",
          "pattern": {
           "shape": ""
          }
         },
         "name": "57",
         "offsetgroup": "57",
         "orientation": "v",
         "showlegend": true,
         "type": "histogram",
         "x": [
          "Mauritius"
         ],
         "xaxis": "x",
         "y": [
          57
         ],
         "yaxis": "y"
        },
        {
         "alignmentgroup": "True",
         "bingroup": "x",
         "histfunc": "sum",
         "hovertemplate": "Rank=58<br>Country=%{x}<br>sum of Rank=%{y}<extra></extra>",
         "legendgroup": "58",
         "marker": {
          "color": "#B6E880",
          "pattern": {
           "shape": ""
          }
         },
         "name": "58",
         "offsetgroup": "58",
         "orientation": "v",
         "showlegend": true,
         "type": "histogram",
         "x": [
          "Japan"
         ],
         "xaxis": "x",
         "y": [
          58
         ],
         "yaxis": "y"
        },
        {
         "alignmentgroup": "True",
         "bingroup": "x",
         "histfunc": "sum",
         "hovertemplate": "Rank=59<br>Country=%{x}<br>sum of Rank=%{y}<extra></extra>",
         "legendgroup": "59",
         "marker": {
          "color": "#FF97FF",
          "pattern": {
           "shape": ""
          }
         },
         "name": "59",
         "offsetgroup": "59",
         "orientation": "v",
         "showlegend": true,
         "type": "histogram",
         "x": [
          "Honduras"
         ],
         "xaxis": "x",
         "y": [
          59
         ],
         "yaxis": "y"
        },
        {
         "alignmentgroup": "True",
         "bingroup": "x",
         "histfunc": "sum",
         "hovertemplate": "Rank=60<br>Country=%{x}<br>sum of Rank=%{y}<extra></extra>",
         "legendgroup": "60",
         "marker": {
          "color": "#FECB52",
          "pattern": {
           "shape": ""
          }
         },
         "name": "60",
         "offsetgroup": "60",
         "orientation": "v",
         "showlegend": true,
         "type": "histogram",
         "x": [
          "Kazakhstan"
         ],
         "xaxis": "x",
         "y": [
          60
         ],
         "yaxis": "y"
        },
        {
         "alignmentgroup": "True",
         "bingroup": "x",
         "histfunc": "sum",
         "hovertemplate": "Rank=61<br>Country=%{x}<br>sum of Rank=%{y}<extra></extra>",
         "legendgroup": "61",
         "marker": {
          "color": "#636efa",
          "pattern": {
           "shape": ""
          }
         },
         "name": "61",
         "offsetgroup": "61",
         "orientation": "v",
         "showlegend": true,
         "type": "histogram",
         "x": [
          "Bolivia"
         ],
         "xaxis": "x",
         "y": [
          61
         ],
         "yaxis": "y"
        },
        {
         "alignmentgroup": "True",
         "bingroup": "x",
         "histfunc": "sum",
         "hovertemplate": "Rank=62<br>Country=%{x}<br>sum of Rank=%{y}<extra></extra>",
         "legendgroup": "62",
         "marker": {
          "color": "#EF553B",
          "pattern": {
           "shape": ""
          }
         },
         "name": "62",
         "offsetgroup": "62",
         "orientation": "v",
         "showlegend": true,
         "type": "histogram",
         "x": [
          "Hungary"
         ],
         "xaxis": "x",
         "y": [
          62
         ],
         "yaxis": "y"
        },
        {
         "alignmentgroup": "True",
         "bingroup": "x",
         "histfunc": "sum",
         "hovertemplate": "Rank=63<br>Country=%{x}<br>sum of Rank=%{y}<extra></extra>",
         "legendgroup": "63",
         "marker": {
          "color": "#00cc96",
          "pattern": {
           "shape": ""
          }
         },
         "name": "63",
         "offsetgroup": "63",
         "orientation": "v",
         "showlegend": true,
         "type": "histogram",
         "x": [
          "Paraguay"
         ],
         "xaxis": "x",
         "y": [
          63
         ],
         "yaxis": "y"
        },
        {
         "alignmentgroup": "True",
         "bingroup": "x",
         "histfunc": "sum",
         "hovertemplate": "Rank=64<br>Country=%{x}<br>sum of Rank=%{y}<extra></extra>",
         "legendgroup": "64",
         "marker": {
          "color": "#ab63fa",
          "pattern": {
           "shape": ""
          }
         },
         "name": "64",
         "offsetgroup": "64",
         "orientation": "v",
         "showlegend": true,
         "type": "histogram",
         "x": [
          "Northern Cyprus"
         ],
         "xaxis": "x",
         "y": [
          64
         ],
         "yaxis": "y"
        },
        {
         "alignmentgroup": "True",
         "bingroup": "x",
         "histfunc": "sum",
         "hovertemplate": "Rank=65<br>Country=%{x}<br>sum of Rank=%{y}<extra></extra>",
         "legendgroup": "65",
         "marker": {
          "color": "#FFA15A",
          "pattern": {
           "shape": ""
          }
         },
         "name": "65",
         "offsetgroup": "65",
         "orientation": "v",
         "showlegend": true,
         "type": "histogram",
         "x": [
          "Peru"
         ],
         "xaxis": "x",
         "y": [
          65
         ],
         "yaxis": "y"
        },
        {
         "alignmentgroup": "True",
         "bingroup": "x",
         "histfunc": "sum",
         "hovertemplate": "Rank=66<br>Country=%{x}<br>sum of Rank=%{y}<extra></extra>",
         "legendgroup": "66",
         "marker": {
          "color": "#19d3f3",
          "pattern": {
           "shape": ""
          }
         },
         "name": "66",
         "offsetgroup": "66",
         "orientation": "v",
         "showlegend": true,
         "type": "histogram",
         "x": [
          "Portugal"
         ],
         "xaxis": "x",
         "y": [
          66
         ],
         "yaxis": "y"
        },
        {
         "alignmentgroup": "True",
         "bingroup": "x",
         "histfunc": "sum",
         "hovertemplate": "Rank=67<br>Country=%{x}<br>sum of Rank=%{y}<extra></extra>",
         "legendgroup": "67",
         "marker": {
          "color": "#FF6692",
          "pattern": {
           "shape": ""
          }
         },
         "name": "67",
         "offsetgroup": "67",
         "orientation": "v",
         "showlegend": true,
         "type": "histogram",
         "x": [
          "Pakistan"
         ],
         "xaxis": "x",
         "y": [
          67
         ],
         "yaxis": "y"
        },
        {
         "alignmentgroup": "True",
         "bingroup": "x",
         "histfunc": "sum",
         "hovertemplate": "Rank=68<br>Country=%{x}<br>sum of Rank=%{y}<extra></extra>",
         "legendgroup": "68",
         "marker": {
          "color": "#B6E880",
          "pattern": {
           "shape": ""
          }
         },
         "name": "68",
         "offsetgroup": "68",
         "orientation": "v",
         "showlegend": true,
         "type": "histogram",
         "x": [
          "Russia"
         ],
         "xaxis": "x",
         "y": [
          68
         ],
         "yaxis": "y"
        },
        {
         "alignmentgroup": "True",
         "bingroup": "x",
         "histfunc": "sum",
         "hovertemplate": "Rank=69<br>Country=%{x}<br>sum of Rank=%{y}<extra></extra>",
         "legendgroup": "69",
         "marker": {
          "color": "#FF97FF",
          "pattern": {
           "shape": ""
          }
         },
         "name": "69",
         "offsetgroup": "69",
         "orientation": "v",
         "showlegend": true,
         "type": "histogram",
         "x": [
          "Philippines"
         ],
         "xaxis": "x",
         "y": [
          69
         ],
         "yaxis": "y"
        },
        {
         "alignmentgroup": "True",
         "bingroup": "x",
         "histfunc": "sum",
         "hovertemplate": "Rank=70<br>Country=%{x}<br>sum of Rank=%{y}<extra></extra>",
         "legendgroup": "70",
         "marker": {
          "color": "#FECB52",
          "pattern": {
           "shape": ""
          }
         },
         "name": "70",
         "offsetgroup": "70",
         "orientation": "v",
         "showlegend": true,
         "type": "histogram",
         "x": [
          "Serbia"
         ],
         "xaxis": "x",
         "y": [
          70
         ],
         "yaxis": "y"
        },
        {
         "alignmentgroup": "True",
         "bingroup": "x",
         "histfunc": "sum",
         "hovertemplate": "Rank=71<br>Country=%{x}<br>sum of Rank=%{y}<extra></extra>",
         "legendgroup": "71",
         "marker": {
          "color": "#636efa",
          "pattern": {
           "shape": ""
          }
         },
         "name": "71",
         "offsetgroup": "71",
         "orientation": "v",
         "showlegend": true,
         "type": "histogram",
         "x": [
          "Moldova"
         ],
         "xaxis": "x",
         "y": [
          71
         ],
         "yaxis": "y"
        },
        {
         "alignmentgroup": "True",
         "bingroup": "x",
         "histfunc": "sum",
         "hovertemplate": "Rank=72<br>Country=%{x}<br>sum of Rank=%{y}<extra></extra>",
         "legendgroup": "72",
         "marker": {
          "color": "#EF553B",
          "pattern": {
           "shape": ""
          }
         },
         "name": "72",
         "offsetgroup": "72",
         "orientation": "v",
         "showlegend": true,
         "type": "histogram",
         "x": [
          "Libya"
         ],
         "xaxis": "x",
         "y": [
          72
         ],
         "yaxis": "y"
        },
        {
         "alignmentgroup": "True",
         "bingroup": "x",
         "histfunc": "sum",
         "hovertemplate": "Rank=73<br>Country=%{x}<br>sum of Rank=%{y}<extra></extra>",
         "legendgroup": "73",
         "marker": {
          "color": "#00cc96",
          "pattern": {
           "shape": ""
          }
         },
         "name": "73",
         "offsetgroup": "73",
         "orientation": "v",
         "showlegend": true,
         "type": "histogram",
         "x": [
          "Montenegro"
         ],
         "xaxis": "x",
         "y": [
          73
         ],
         "yaxis": "y"
        },
        {
         "alignmentgroup": "True",
         "bingroup": "x",
         "histfunc": "sum",
         "hovertemplate": "Rank=74<br>Country=%{x}<br>sum of Rank=%{y}<extra></extra>",
         "legendgroup": "74",
         "marker": {
          "color": "#ab63fa",
          "pattern": {
           "shape": ""
          }
         },
         "name": "74",
         "offsetgroup": "74",
         "orientation": "v",
         "showlegend": true,
         "type": "histogram",
         "x": [
          "Tajikistan"
         ],
         "xaxis": "x",
         "y": [
          74
         ],
         "yaxis": "y"
        },
        {
         "alignmentgroup": "True",
         "bingroup": "x",
         "histfunc": "sum",
         "hovertemplate": "Rank=75<br>Country=%{x}<br>sum of Rank=%{y}<extra></extra>",
         "legendgroup": "75",
         "marker": {
          "color": "#FFA15A",
          "pattern": {
           "shape": ""
          }
         },
         "name": "75",
         "offsetgroup": "75",
         "orientation": "v",
         "showlegend": true,
         "type": "histogram",
         "x": [
          "Croatia"
         ],
         "xaxis": "x",
         "y": [
          75
         ],
         "yaxis": "y"
        },
        {
         "alignmentgroup": "True",
         "bingroup": "x",
         "histfunc": "sum",
         "hovertemplate": "Rank=76<br>Country=%{x}<br>sum of Rank=%{y}<extra></extra>",
         "legendgroup": "76",
         "marker": {
          "color": "#19d3f3",
          "pattern": {
           "shape": ""
          }
         },
         "name": "76",
         "offsetgroup": "76",
         "orientation": "v",
         "showlegend": true,
         "type": "histogram",
         "x": [
          "Hong Kong"
         ],
         "xaxis": "x",
         "y": [
          76
         ],
         "yaxis": "y"
        },
        {
         "alignmentgroup": "True",
         "bingroup": "x",
         "histfunc": "sum",
         "hovertemplate": "Rank=77<br>Country=%{x}<br>sum of Rank=%{y}<extra></extra>",
         "legendgroup": "77",
         "marker": {
          "color": "#FF6692",
          "pattern": {
           "shape": ""
          }
         },
         "name": "77",
         "offsetgroup": "77",
         "orientation": "v",
         "showlegend": true,
         "type": "histogram",
         "x": [
          "Dominican Republic"
         ],
         "xaxis": "x",
         "y": [
          77
         ],
         "yaxis": "y"
        },
        {
         "alignmentgroup": "True",
         "bingroup": "x",
         "histfunc": "sum",
         "hovertemplate": "Rank=78<br>Country=%{x}<br>sum of Rank=%{y}<extra></extra>",
         "legendgroup": "78",
         "marker": {
          "color": "#B6E880",
          "pattern": {
           "shape": ""
          }
         },
         "name": "78",
         "offsetgroup": "78",
         "orientation": "v",
         "showlegend": true,
         "type": "histogram",
         "x": [
          "Bosnia and Herzegovina"
         ],
         "xaxis": "x",
         "y": [
          78
         ],
         "yaxis": "y"
        },
        {
         "alignmentgroup": "True",
         "bingroup": "x",
         "histfunc": "sum",
         "hovertemplate": "Rank=79<br>Country=%{x}<br>sum of Rank=%{y}<extra></extra>",
         "legendgroup": "79",
         "marker": {
          "color": "#FF97FF",
          "pattern": {
           "shape": ""
          }
         },
         "name": "79",
         "offsetgroup": "79",
         "orientation": "v",
         "showlegend": true,
         "type": "histogram",
         "x": [
          "Turkey"
         ],
         "xaxis": "x",
         "y": [
          79
         ],
         "yaxis": "y"
        },
        {
         "alignmentgroup": "True",
         "bingroup": "x",
         "histfunc": "sum",
         "hovertemplate": "Rank=80<br>Country=%{x}<br>sum of Rank=%{y}<extra></extra>",
         "legendgroup": "80",
         "marker": {
          "color": "#FECB52",
          "pattern": {
           "shape": ""
          }
         },
         "name": "80",
         "offsetgroup": "80",
         "orientation": "v",
         "showlegend": true,
         "type": "histogram",
         "x": [
          "Malaysia"
         ],
         "xaxis": "x",
         "y": [
          80
         ],
         "yaxis": "y"
        },
        {
         "alignmentgroup": "True",
         "bingroup": "x",
         "histfunc": "sum",
         "hovertemplate": "Rank=81<br>Country=%{x}<br>sum of Rank=%{y}<extra></extra>",
         "legendgroup": "81",
         "marker": {
          "color": "#636efa",
          "pattern": {
           "shape": ""
          }
         },
         "name": "81",
         "offsetgroup": "81",
         "orientation": "v",
         "showlegend": true,
         "type": "histogram",
         "x": [
          "Belarus"
         ],
         "xaxis": "x",
         "y": [
          81
         ],
         "yaxis": "y"
        },
        {
         "alignmentgroup": "True",
         "bingroup": "x",
         "histfunc": "sum",
         "hovertemplate": "Rank=82<br>Country=%{x}<br>sum of Rank=%{y}<extra></extra>",
         "legendgroup": "82",
         "marker": {
          "color": "#EF553B",
          "pattern": {
           "shape": ""
          }
         },
         "name": "82",
         "offsetgroup": "82",
         "orientation": "v",
         "showlegend": true,
         "type": "histogram",
         "x": [
          "Greece"
         ],
         "xaxis": "x",
         "y": [
          82
         ],
         "yaxis": "y"
        },
        {
         "alignmentgroup": "True",
         "bingroup": "x",
         "histfunc": "sum",
         "hovertemplate": "Rank=83<br>Country=%{x}<br>sum of Rank=%{y}<extra></extra>",
         "legendgroup": "83",
         "marker": {
          "color": "#00cc96",
          "pattern": {
           "shape": ""
          }
         },
         "name": "83",
         "offsetgroup": "83",
         "orientation": "v",
         "showlegend": true,
         "type": "histogram",
         "x": [
          "Mongolia"
         ],
         "xaxis": "x",
         "y": [
          83
         ],
         "yaxis": "y"
        },
        {
         "alignmentgroup": "True",
         "bingroup": "x",
         "histfunc": "sum",
         "hovertemplate": "Rank=84<br>Country=%{x}<br>sum of Rank=%{y}<extra></extra>",
         "legendgroup": "84",
         "marker": {
          "color": "#ab63fa",
          "pattern": {
           "shape": ""
          }
         },
         "name": "84",
         "offsetgroup": "84",
         "orientation": "v",
         "showlegend": true,
         "type": "histogram",
         "x": [
          "North Macedonia"
         ],
         "xaxis": "x",
         "y": [
          84
         ],
         "yaxis": "y"
        },
        {
         "alignmentgroup": "True",
         "bingroup": "x",
         "histfunc": "sum",
         "hovertemplate": "Rank=85<br>Country=%{x}<br>sum of Rank=%{y}<extra></extra>",
         "legendgroup": "85",
         "marker": {
          "color": "#FFA15A",
          "pattern": {
           "shape": ""
          }
         },
         "name": "85",
         "offsetgroup": "85",
         "orientation": "v",
         "showlegend": true,
         "type": "histogram",
         "x": [
          "Nigeria"
         ],
         "xaxis": "x",
         "y": [
          85
         ],
         "yaxis": "y"
        },
        {
         "alignmentgroup": "True",
         "bingroup": "x",
         "histfunc": "sum",
         "hovertemplate": "Rank=86<br>Country=%{x}<br>sum of Rank=%{y}<extra></extra>",
         "legendgroup": "86",
         "marker": {
          "color": "#19d3f3",
          "pattern": {
           "shape": ""
          }
         },
         "name": "86",
         "offsetgroup": "86",
         "orientation": "v",
         "showlegend": true,
         "type": "histogram",
         "x": [
          "Kyrgyzstan"
         ],
         "xaxis": "x",
         "y": [
          86
         ],
         "yaxis": "y"
        },
        {
         "alignmentgroup": "True",
         "bingroup": "x",
         "histfunc": "sum",
         "hovertemplate": "Rank=87<br>Country=%{x}<br>sum of Rank=%{y}<extra></extra>",
         "legendgroup": "87",
         "marker": {
          "color": "#FF6692",
          "pattern": {
           "shape": ""
          }
         },
         "name": "87",
         "offsetgroup": "87",
         "orientation": "v",
         "showlegend": true,
         "type": "histogram",
         "x": [
          "Turkmenistan"
         ],
         "xaxis": "x",
         "y": [
          87
         ],
         "yaxis": "y"
        },
        {
         "alignmentgroup": "True",
         "bingroup": "x",
         "histfunc": "sum",
         "hovertemplate": "Rank=88<br>Country=%{x}<br>sum of Rank=%{y}<extra></extra>",
         "legendgroup": "88",
         "marker": {
          "color": "#B6E880",
          "pattern": {
           "shape": ""
          }
         },
         "name": "88",
         "offsetgroup": "88",
         "orientation": "v",
         "showlegend": true,
         "type": "histogram",
         "x": [
          "Algeria"
         ],
         "xaxis": "x",
         "y": [
          88
         ],
         "yaxis": "y"
        },
        {
         "alignmentgroup": "True",
         "bingroup": "x",
         "histfunc": "sum",
         "hovertemplate": "Rank=89<br>Country=%{x}<br>sum of Rank=%{y}<extra></extra>",
         "legendgroup": "89",
         "marker": {
          "color": "#FF97FF",
          "pattern": {
           "shape": ""
          }
         },
         "name": "89",
         "offsetgroup": "89",
         "orientation": "v",
         "showlegend": true,
         "type": "histogram",
         "x": [
          "Morocco"
         ],
         "xaxis": "x",
         "y": [
          89
         ],
         "yaxis": "y"
        },
        {
         "alignmentgroup": "True",
         "bingroup": "x",
         "histfunc": "sum",
         "hovertemplate": "Rank=90<br>Country=%{x}<br>sum of Rank=%{y}<extra></extra>",
         "legendgroup": "90",
         "marker": {
          "color": "#FECB52",
          "pattern": {
           "shape": ""
          }
         },
         "name": "90",
         "offsetgroup": "90",
         "orientation": "v",
         "showlegend": true,
         "type": "histogram",
         "x": [
          "Azerbaijan"
         ],
         "xaxis": "x",
         "y": [
          90
         ],
         "yaxis": "y"
        },
        {
         "alignmentgroup": "True",
         "bingroup": "x",
         "histfunc": "sum",
         "hovertemplate": "Rank=91<br>Country=%{x}<br>sum of Rank=%{y}<extra></extra>",
         "legendgroup": "91",
         "marker": {
          "color": "#636efa",
          "pattern": {
           "shape": ""
          }
         },
         "name": "91",
         "offsetgroup": "91",
         "orientation": "v",
         "showlegend": true,
         "type": "histogram",
         "x": [
          "Lebanon"
         ],
         "xaxis": "x",
         "y": [
          91
         ],
         "yaxis": "y"
        },
        {
         "alignmentgroup": "True",
         "bingroup": "x",
         "histfunc": "sum",
         "hovertemplate": "Rank=92<br>Country=%{x}<br>sum of Rank=%{y}<extra></extra>",
         "legendgroup": "92",
         "marker": {
          "color": "#EF553B",
          "pattern": {
           "shape": ""
          }
         },
         "name": "92",
         "offsetgroup": "92",
         "orientation": "v",
         "showlegend": true,
         "type": "histogram",
         "x": [
          "Indonesia"
         ],
         "xaxis": "x",
         "y": [
          92
         ],
         "yaxis": "y"
        },
        {
         "alignmentgroup": "True",
         "bingroup": "x",
         "histfunc": "sum",
         "hovertemplate": "Rank=93<br>Country=%{x}<br>sum of Rank=%{y}<extra></extra>",
         "legendgroup": "93",
         "marker": {
          "color": "#00cc96",
          "pattern": {
           "shape": ""
          }
         },
         "name": "93",
         "offsetgroup": "93",
         "orientation": "v",
         "showlegend": true,
         "type": "histogram",
         "x": [
          "China"
         ],
         "xaxis": "x",
         "y": [
          93
         ],
         "yaxis": "y"
        },
        {
         "alignmentgroup": "True",
         "bingroup": "x",
         "histfunc": "sum",
         "hovertemplate": "Rank=94<br>Country=%{x}<br>sum of Rank=%{y}<extra></extra>",
         "legendgroup": "94",
         "marker": {
          "color": "#ab63fa",
          "pattern": {
           "shape": ""
          }
         },
         "name": "94",
         "offsetgroup": "94",
         "orientation": "v",
         "showlegend": true,
         "type": "histogram",
         "x": [
          "Vietnam"
         ],
         "xaxis": "x",
         "y": [
          94
         ],
         "yaxis": "y"
        },
        {
         "alignmentgroup": "True",
         "bingroup": "x",
         "histfunc": "sum",
         "hovertemplate": "Rank=95<br>Country=%{x}<br>sum of Rank=%{y}<extra></extra>",
         "legendgroup": "95",
         "marker": {
          "color": "#FFA15A",
          "pattern": {
           "shape": ""
          }
         },
         "name": "95",
         "offsetgroup": "95",
         "orientation": "v",
         "showlegend": true,
         "type": "histogram",
         "x": [
          "Bhutan"
         ],
         "xaxis": "x",
         "y": [
          95
         ],
         "yaxis": "y"
        },
        {
         "alignmentgroup": "True",
         "bingroup": "x",
         "histfunc": "sum",
         "hovertemplate": "Rank=96<br>Country=%{x}<br>sum of Rank=%{y}<extra></extra>",
         "legendgroup": "96",
         "marker": {
          "color": "#19d3f3",
          "pattern": {
           "shape": ""
          }
         },
         "name": "96",
         "offsetgroup": "96",
         "orientation": "v",
         "showlegend": true,
         "type": "histogram",
         "x": [
          "Cameroon"
         ],
         "xaxis": "x",
         "y": [
          96
         ],
         "yaxis": "y"
        },
        {
         "alignmentgroup": "True",
         "bingroup": "x",
         "histfunc": "sum",
         "hovertemplate": "Rank=97<br>Country=%{x}<br>sum of Rank=%{y}<extra></extra>",
         "legendgroup": "97",
         "marker": {
          "color": "#FF6692",
          "pattern": {
           "shape": ""
          }
         },
         "name": "97",
         "offsetgroup": "97",
         "orientation": "v",
         "showlegend": true,
         "type": "histogram",
         "x": [
          "Bulgaria"
         ],
         "xaxis": "x",
         "y": [
          97
         ],
         "yaxis": "y"
        },
        {
         "alignmentgroup": "True",
         "bingroup": "x",
         "histfunc": "sum",
         "hovertemplate": "Rank=98<br>Country=%{x}<br>sum of Rank=%{y}<extra></extra>",
         "legendgroup": "98",
         "marker": {
          "color": "#B6E880",
          "pattern": {
           "shape": ""
          }
         },
         "name": "98",
         "offsetgroup": "98",
         "orientation": "v",
         "showlegend": true,
         "type": "histogram",
         "x": [
          "Ghana"
         ],
         "xaxis": "x",
         "y": [
          98
         ],
         "yaxis": "y"
        },
        {
         "alignmentgroup": "True",
         "bingroup": "x",
         "histfunc": "sum",
         "hovertemplate": "Rank=99<br>Country=%{x}<br>sum of Rank=%{y}<extra></extra>",
         "legendgroup": "99",
         "marker": {
          "color": "#FF97FF",
          "pattern": {
           "shape": ""
          }
         },
         "name": "99",
         "offsetgroup": "99",
         "orientation": "v",
         "showlegend": true,
         "type": "histogram",
         "x": [
          "Ivory Coast"
         ],
         "xaxis": "x",
         "y": [
          99
         ],
         "yaxis": "y"
        },
        {
         "alignmentgroup": "True",
         "bingroup": "x",
         "histfunc": "sum",
         "hovertemplate": "Rank=100<br>Country=%{x}<br>sum of Rank=%{y}<extra></extra>",
         "legendgroup": "100",
         "marker": {
          "color": "#FECB52",
          "pattern": {
           "shape": ""
          }
         },
         "name": "100",
         "offsetgroup": "100",
         "orientation": "v",
         "showlegend": true,
         "type": "histogram",
         "x": [
          "Nepal"
         ],
         "xaxis": "x",
         "y": [
          100
         ],
         "yaxis": "y"
        },
        {
         "alignmentgroup": "True",
         "bingroup": "x",
         "histfunc": "sum",
         "hovertemplate": "Rank=101<br>Country=%{x}<br>sum of Rank=%{y}<extra></extra>",
         "legendgroup": "101",
         "marker": {
          "color": "#636efa",
          "pattern": {
           "shape": ""
          }
         },
         "name": "101",
         "offsetgroup": "101",
         "orientation": "v",
         "showlegend": true,
         "type": "histogram",
         "x": [
          "Jordan"
         ],
         "xaxis": "x",
         "y": [
          101
         ],
         "yaxis": "y"
        },
        {
         "alignmentgroup": "True",
         "bingroup": "x",
         "histfunc": "sum",
         "hovertemplate": "Rank=102<br>Country=%{x}<br>sum of Rank=%{y}<extra></extra>",
         "legendgroup": "102",
         "marker": {
          "color": "#EF553B",
          "pattern": {
           "shape": ""
          }
         },
         "name": "102",
         "offsetgroup": "102",
         "orientation": "v",
         "showlegend": true,
         "type": "histogram",
         "x": [
          "Benin"
         ],
         "xaxis": "x",
         "y": [
          102
         ],
         "yaxis": "y"
        },
        {
         "alignmentgroup": "True",
         "bingroup": "x",
         "histfunc": "sum",
         "hovertemplate": "Rank=103<br>Country=%{x}<br>sum of Rank=%{y}<extra></extra>",
         "legendgroup": "103",
         "marker": {
          "color": "#00cc96",
          "pattern": {
           "shape": ""
          }
         },
         "name": "103",
         "offsetgroup": "103",
         "orientation": "v",
         "showlegend": true,
         "type": "histogram",
         "x": [
          "Congo (Brazzaville)"
         ],
         "xaxis": "x",
         "y": [
          103
         ],
         "yaxis": "y"
        },
        {
         "alignmentgroup": "True",
         "bingroup": "x",
         "histfunc": "sum",
         "hovertemplate": "Rank=104<br>Country=%{x}<br>sum of Rank=%{y}<extra></extra>",
         "legendgroup": "104",
         "marker": {
          "color": "#ab63fa",
          "pattern": {
           "shape": ""
          }
         },
         "name": "104",
         "offsetgroup": "104",
         "orientation": "v",
         "showlegend": true,
         "type": "histogram",
         "x": [
          "Gabon"
         ],
         "xaxis": "x",
         "y": [
          104
         ],
         "yaxis": "y"
        },
        {
         "alignmentgroup": "True",
         "bingroup": "x",
         "histfunc": "sum",
         "hovertemplate": "Rank=105<br>Country=%{x}<br>sum of Rank=%{y}<extra></extra>",
         "legendgroup": "105",
         "marker": {
          "color": "#FFA15A",
          "pattern": {
           "shape": ""
          }
         },
         "name": "105",
         "offsetgroup": "105",
         "orientation": "v",
         "showlegend": true,
         "type": "histogram",
         "x": [
          "Laos"
         ],
         "xaxis": "x",
         "y": [
          105
         ],
         "yaxis": "y"
        },
        {
         "alignmentgroup": "True",
         "bingroup": "x",
         "histfunc": "sum",
         "hovertemplate": "Rank=106<br>Country=%{x}<br>sum of Rank=%{y}<extra></extra>",
         "legendgroup": "106",
         "marker": {
          "color": "#19d3f3",
          "pattern": {
           "shape": ""
          }
         },
         "name": "106",
         "offsetgroup": "106",
         "orientation": "v",
         "showlegend": true,
         "type": "histogram",
         "x": [
          "South Africa"
         ],
         "xaxis": "x",
         "y": [
          106
         ],
         "yaxis": "y"
        },
        {
         "alignmentgroup": "True",
         "bingroup": "x",
         "histfunc": "sum",
         "hovertemplate": "Rank=107<br>Country=%{x}<br>sum of Rank=%{y}<extra></extra>",
         "legendgroup": "107",
         "marker": {
          "color": "#FF6692",
          "pattern": {
           "shape": ""
          }
         },
         "name": "107",
         "offsetgroup": "107",
         "orientation": "v",
         "showlegend": true,
         "type": "histogram",
         "x": [
          "Albania"
         ],
         "xaxis": "x",
         "y": [
          107
         ],
         "yaxis": "y"
        },
        {
         "alignmentgroup": "True",
         "bingroup": "x",
         "histfunc": "sum",
         "hovertemplate": "Rank=108<br>Country=%{x}<br>sum of Rank=%{y}<extra></extra>",
         "legendgroup": "108",
         "marker": {
          "color": "#B6E880",
          "pattern": {
           "shape": ""
          }
         },
         "name": "108",
         "offsetgroup": "108",
         "orientation": "v",
         "showlegend": true,
         "type": "histogram",
         "x": [
          "Venezuela"
         ],
         "xaxis": "x",
         "y": [
          108
         ],
         "yaxis": "y"
        },
        {
         "alignmentgroup": "True",
         "bingroup": "x",
         "histfunc": "sum",
         "hovertemplate": "Rank=109<br>Country=%{x}<br>sum of Rank=%{y}<extra></extra>",
         "legendgroup": "109",
         "marker": {
          "color": "#FF97FF",
          "pattern": {
           "shape": ""
          }
         },
         "name": "109",
         "offsetgroup": "109",
         "orientation": "v",
         "showlegend": true,
         "type": "histogram",
         "x": [
          "Cambodia"
         ],
         "xaxis": "x",
         "y": [
          109
         ],
         "yaxis": "y"
        },
        {
         "alignmentgroup": "True",
         "bingroup": "x",
         "histfunc": "sum",
         "hovertemplate": "Rank=110<br>Country=%{x}<br>sum of Rank=%{y}<extra></extra>",
         "legendgroup": "110",
         "marker": {
          "color": "#FECB52",
          "pattern": {
           "shape": ""
          }
         },
         "name": "110",
         "offsetgroup": "110",
         "orientation": "v",
         "showlegend": true,
         "type": "histogram",
         "x": [
          "Palestinian Territories"
         ],
         "xaxis": "x",
         "y": [
          110
         ],
         "yaxis": "y"
        },
        {
         "alignmentgroup": "True",
         "bingroup": "x",
         "histfunc": "sum",
         "hovertemplate": "Rank=111<br>Country=%{x}<br>sum of Rank=%{y}<extra></extra>",
         "legendgroup": "111",
         "marker": {
          "color": "#636efa",
          "pattern": {
           "shape": ""
          }
         },
         "name": "111",
         "offsetgroup": "111",
         "orientation": "v",
         "showlegend": true,
         "type": "histogram",
         "x": [
          "Senegal"
         ],
         "xaxis": "x",
         "y": [
          111
         ],
         "yaxis": "y"
        },
        {
         "alignmentgroup": "True",
         "bingroup": "x",
         "histfunc": "sum",
         "hovertemplate": "Rank=112<br>Country=%{x}<br>sum of Rank=%{y}<extra></extra>",
         "legendgroup": "112",
         "marker": {
          "color": "#EF553B",
          "pattern": {
           "shape": ""
          }
         },
         "name": "112",
         "offsetgroup": "112",
         "orientation": "v",
         "showlegend": true,
         "type": "histogram",
         "x": [
          "Somalia"
         ],
         "xaxis": "x",
         "y": [
          112
         ],
         "yaxis": "y"
        },
        {
         "alignmentgroup": "True",
         "bingroup": "x",
         "histfunc": "sum",
         "hovertemplate": "Rank=113<br>Country=%{x}<br>sum of Rank=%{y}<extra></extra>",
         "legendgroup": "113",
         "marker": {
          "color": "#00cc96",
          "pattern": {
           "shape": ""
          }
         },
         "name": "113",
         "offsetgroup": "113",
         "orientation": "v",
         "showlegend": true,
         "type": "histogram",
         "x": [
          "Namibia"
         ],
         "xaxis": "x",
         "y": [
          113
         ],
         "yaxis": "y"
        },
        {
         "alignmentgroup": "True",
         "bingroup": "x",
         "histfunc": "sum",
         "hovertemplate": "Rank=114<br>Country=%{x}<br>sum of Rank=%{y}<extra></extra>",
         "legendgroup": "114",
         "marker": {
          "color": "#ab63fa",
          "pattern": {
           "shape": ""
          }
         },
         "name": "114",
         "offsetgroup": "114",
         "orientation": "v",
         "showlegend": true,
         "type": "histogram",
         "x": [
          "Niger"
         ],
         "xaxis": "x",
         "y": [
          114
         ],
         "yaxis": "y"
        },
        {
         "alignmentgroup": "True",
         "bingroup": "x",
         "histfunc": "sum",
         "hovertemplate": "Rank=115<br>Country=%{x}<br>sum of Rank=%{y}<extra></extra>",
         "legendgroup": "115",
         "marker": {
          "color": "#FFA15A",
          "pattern": {
           "shape": ""
          }
         },
         "name": "115",
         "offsetgroup": "115",
         "orientation": "v",
         "showlegend": true,
         "type": "histogram",
         "x": [
          "Burkina Faso"
         ],
         "xaxis": "x",
         "y": [
          115
         ],
         "yaxis": "y"
        },
        {
         "alignmentgroup": "True",
         "bingroup": "x",
         "histfunc": "sum",
         "hovertemplate": "Rank=116<br>Country=%{x}<br>sum of Rank=%{y}<extra></extra>",
         "legendgroup": "116",
         "marker": {
          "color": "#19d3f3",
          "pattern": {
           "shape": ""
          }
         },
         "name": "116",
         "offsetgroup": "116",
         "orientation": "v",
         "showlegend": true,
         "type": "histogram",
         "x": [
          "Armenia"
         ],
         "xaxis": "x",
         "y": [
          116
         ],
         "yaxis": "y"
        },
        {
         "alignmentgroup": "True",
         "bingroup": "x",
         "histfunc": "sum",
         "hovertemplate": "Rank=117<br>Country=%{x}<br>sum of Rank=%{y}<extra></extra>",
         "legendgroup": "117",
         "marker": {
          "color": "#FF6692",
          "pattern": {
           "shape": ""
          }
         },
         "name": "117",
         "offsetgroup": "117",
         "orientation": "v",
         "showlegend": true,
         "type": "histogram",
         "x": [
          "Iran"
         ],
         "xaxis": "x",
         "y": [
          117
         ],
         "yaxis": "y"
        },
        {
         "alignmentgroup": "True",
         "bingroup": "x",
         "histfunc": "sum",
         "hovertemplate": "Rank=118<br>Country=%{x}<br>sum of Rank=%{y}<extra></extra>",
         "legendgroup": "118",
         "marker": {
          "color": "#B6E880",
          "pattern": {
           "shape": ""
          }
         },
         "name": "118",
         "offsetgroup": "118",
         "orientation": "v",
         "showlegend": true,
         "type": "histogram",
         "x": [
          "Guinea"
         ],
         "xaxis": "x",
         "y": [
          118
         ],
         "yaxis": "y"
        },
        {
         "alignmentgroup": "True",
         "bingroup": "x",
         "histfunc": "sum",
         "hovertemplate": "Rank=119<br>Country=%{x}<br>sum of Rank=%{y}<extra></extra>",
         "legendgroup": "119",
         "marker": {
          "color": "#FF97FF",
          "pattern": {
           "shape": ""
          }
         },
         "name": "119",
         "offsetgroup": "119",
         "orientation": "v",
         "showlegend": true,
         "type": "histogram",
         "x": [
          "Georgia"
         ],
         "xaxis": "x",
         "y": [
          119
         ],
         "yaxis": "y"
        },
        {
         "alignmentgroup": "True",
         "bingroup": "x",
         "histfunc": "sum",
         "hovertemplate": "Rank=120<br>Country=%{x}<br>sum of Rank=%{y}<extra></extra>",
         "legendgroup": "120",
         "marker": {
          "color": "#FECB52",
          "pattern": {
           "shape": ""
          }
         },
         "name": "120",
         "offsetgroup": "120",
         "orientation": "v",
         "showlegend": true,
         "type": "histogram",
         "x": [
          "Gambia"
         ],
         "xaxis": "x",
         "y": [
          120
         ],
         "yaxis": "y"
        },
        {
         "alignmentgroup": "True",
         "bingroup": "x",
         "histfunc": "sum",
         "hovertemplate": "Rank=121<br>Country=%{x}<br>sum of Rank=%{y}<extra></extra>",
         "legendgroup": "121",
         "marker": {
          "color": "#636efa",
          "pattern": {
           "shape": ""
          }
         },
         "name": "121",
         "offsetgroup": "121",
         "orientation": "v",
         "showlegend": true,
         "type": "histogram",
         "x": [
          "Kenya"
         ],
         "xaxis": "x",
         "y": [
          121
         ],
         "yaxis": "y"
        },
        {
         "alignmentgroup": "True",
         "bingroup": "x",
         "histfunc": "sum",
         "hovertemplate": "Rank=122<br>Country=%{x}<br>sum of Rank=%{y}<extra></extra>",
         "legendgroup": "122",
         "marker": {
          "color": "#EF553B",
          "pattern": {
           "shape": ""
          }
         },
         "name": "122",
         "offsetgroup": "122",
         "orientation": "v",
         "showlegend": true,
         "type": "histogram",
         "x": [
          "Mauritania"
         ],
         "xaxis": "x",
         "y": [
          122
         ],
         "yaxis": "y"
        },
        {
         "alignmentgroup": "True",
         "bingroup": "x",
         "histfunc": "sum",
         "hovertemplate": "Rank=123<br>Country=%{x}<br>sum of Rank=%{y}<extra></extra>",
         "legendgroup": "123",
         "marker": {
          "color": "#00cc96",
          "pattern": {
           "shape": ""
          }
         },
         "name": "123",
         "offsetgroup": "123",
         "orientation": "v",
         "showlegend": true,
         "type": "histogram",
         "x": [
          "Mozambique"
         ],
         "xaxis": "x",
         "y": [
          123
         ],
         "yaxis": "y"
        },
        {
         "alignmentgroup": "True",
         "bingroup": "x",
         "histfunc": "sum",
         "hovertemplate": "Rank=124<br>Country=%{x}<br>sum of Rank=%{y}<extra></extra>",
         "legendgroup": "124",
         "marker": {
          "color": "#ab63fa",
          "pattern": {
           "shape": ""
          }
         },
         "name": "124",
         "offsetgroup": "124",
         "orientation": "v",
         "showlegend": true,
         "type": "histogram",
         "x": [
          "Tunisia"
         ],
         "xaxis": "x",
         "y": [
          124
         ],
         "yaxis": "y"
        },
        {
         "alignmentgroup": "True",
         "bingroup": "x",
         "histfunc": "sum",
         "hovertemplate": "Rank=125<br>Country=%{x}<br>sum of Rank=%{y}<extra></extra>",
         "legendgroup": "125",
         "marker": {
          "color": "#FFA15A",
          "pattern": {
           "shape": ""
          }
         },
         "name": "125",
         "offsetgroup": "125",
         "orientation": "v",
         "showlegend": true,
         "type": "histogram",
         "x": [
          "Bangladesh"
         ],
         "xaxis": "x",
         "y": [
          125
         ],
         "yaxis": "y"
        },
        {
         "alignmentgroup": "True",
         "bingroup": "x",
         "histfunc": "sum",
         "hovertemplate": "Rank=126<br>Country=%{x}<br>sum of Rank=%{y}<extra></extra>",
         "legendgroup": "126",
         "marker": {
          "color": "#19d3f3",
          "pattern": {
           "shape": ""
          }
         },
         "name": "126",
         "offsetgroup": "126",
         "orientation": "v",
         "showlegend": true,
         "type": "histogram",
         "x": [
          "Iraq"
         ],
         "xaxis": "x",
         "y": [
          126
         ],
         "yaxis": "y"
        },
        {
         "alignmentgroup": "True",
         "bingroup": "x",
         "histfunc": "sum",
         "hovertemplate": "Rank=127<br>Country=%{x}<br>sum of Rank=%{y}<extra></extra>",
         "legendgroup": "127",
         "marker": {
          "color": "#FF6692",
          "pattern": {
           "shape": ""
          }
         },
         "name": "127",
         "offsetgroup": "127",
         "orientation": "v",
         "showlegend": true,
         "type": "histogram",
         "x": [
          "Congo (Kinshasa)"
         ],
         "xaxis": "x",
         "y": [
          127
         ],
         "yaxis": "y"
        },
        {
         "alignmentgroup": "True",
         "bingroup": "x",
         "histfunc": "sum",
         "hovertemplate": "Rank=128<br>Country=%{x}<br>sum of Rank=%{y}<extra></extra>",
         "legendgroup": "128",
         "marker": {
          "color": "#B6E880",
          "pattern": {
           "shape": ""
          }
         },
         "name": "128",
         "offsetgroup": "128",
         "orientation": "v",
         "showlegend": true,
         "type": "histogram",
         "x": [
          "Mali"
         ],
         "xaxis": "x",
         "y": [
          128
         ],
         "yaxis": "y"
        },
        {
         "alignmentgroup": "True",
         "bingroup": "x",
         "histfunc": "sum",
         "hovertemplate": "Rank=129<br>Country=%{x}<br>sum of Rank=%{y}<extra></extra>",
         "legendgroup": "129",
         "marker": {
          "color": "#FF97FF",
          "pattern": {
           "shape": ""
          }
         },
         "name": "129",
         "offsetgroup": "129",
         "orientation": "v",
         "showlegend": true,
         "type": "histogram",
         "x": [
          "Sierra Leone"
         ],
         "xaxis": "x",
         "y": [
          129
         ],
         "yaxis": "y"
        },
        {
         "alignmentgroup": "True",
         "bingroup": "x",
         "histfunc": "sum",
         "hovertemplate": "Rank=130<br>Country=%{x}<br>sum of Rank=%{y}<extra></extra>",
         "legendgroup": "130",
         "marker": {
          "color": "#FECB52",
          "pattern": {
           "shape": ""
          }
         },
         "name": "130",
         "offsetgroup": "130",
         "orientation": "v",
         "showlegend": true,
         "type": "histogram",
         "x": [
          "Sri Lanka"
         ],
         "xaxis": "x",
         "y": [
          130
         ],
         "yaxis": "y"
        },
        {
         "alignmentgroup": "True",
         "bingroup": "x",
         "histfunc": "sum",
         "hovertemplate": "Rank=131<br>Country=%{x}<br>sum of Rank=%{y}<extra></extra>",
         "legendgroup": "131",
         "marker": {
          "color": "#636efa",
          "pattern": {
           "shape": ""
          }
         },
         "name": "131",
         "offsetgroup": "131",
         "orientation": "v",
         "showlegend": true,
         "type": "histogram",
         "x": [
          "Myanmar"
         ],
         "xaxis": "x",
         "y": [
          131
         ],
         "yaxis": "y"
        },
        {
         "alignmentgroup": "True",
         "bingroup": "x",
         "histfunc": "sum",
         "hovertemplate": "Rank=132<br>Country=%{x}<br>sum of Rank=%{y}<extra></extra>",
         "legendgroup": "132",
         "marker": {
          "color": "#EF553B",
          "pattern": {
           "shape": ""
          }
         },
         "name": "132",
         "offsetgroup": "132",
         "orientation": "v",
         "showlegend": true,
         "type": "histogram",
         "x": [
          "Chad"
         ],
         "xaxis": "x",
         "y": [
          132
         ],
         "yaxis": "y"
        },
        {
         "alignmentgroup": "True",
         "bingroup": "x",
         "histfunc": "sum",
         "hovertemplate": "Rank=133<br>Country=%{x}<br>sum of Rank=%{y}<extra></extra>",
         "legendgroup": "133",
         "marker": {
          "color": "#00cc96",
          "pattern": {
           "shape": ""
          }
         },
         "name": "133",
         "offsetgroup": "133",
         "orientation": "v",
         "showlegend": true,
         "type": "histogram",
         "x": [
          "Ukraine"
         ],
         "xaxis": "x",
         "y": [
          133
         ],
         "yaxis": "y"
        },
        {
         "alignmentgroup": "True",
         "bingroup": "x",
         "histfunc": "sum",
         "hovertemplate": "Rank=134<br>Country=%{x}<br>sum of Rank=%{y}<extra></extra>",
         "legendgroup": "134",
         "marker": {
          "color": "#ab63fa",
          "pattern": {
           "shape": ""
          }
         },
         "name": "134",
         "offsetgroup": "134",
         "orientation": "v",
         "showlegend": true,
         "type": "histogram",
         "x": [
          "Ethiopia"
         ],
         "xaxis": "x",
         "y": [
          134
         ],
         "yaxis": "y"
        },
        {
         "alignmentgroup": "True",
         "bingroup": "x",
         "histfunc": "sum",
         "hovertemplate": "Rank=135<br>Country=%{x}<br>sum of Rank=%{y}<extra></extra>",
         "legendgroup": "135",
         "marker": {
          "color": "#FFA15A",
          "pattern": {
           "shape": ""
          }
         },
         "name": "135",
         "offsetgroup": "135",
         "orientation": "v",
         "showlegend": true,
         "type": "histogram",
         "x": [
          "Swaziland"
         ],
         "xaxis": "x",
         "y": [
          135
         ],
         "yaxis": "y"
        },
        {
         "alignmentgroup": "True",
         "bingroup": "x",
         "histfunc": "sum",
         "hovertemplate": "Rank=136<br>Country=%{x}<br>sum of Rank=%{y}<extra></extra>",
         "legendgroup": "136",
         "marker": {
          "color": "#19d3f3",
          "pattern": {
           "shape": ""
          }
         },
         "name": "136",
         "offsetgroup": "136",
         "orientation": "v",
         "showlegend": true,
         "type": "histogram",
         "x": [
          "Uganda"
         ],
         "xaxis": "x",
         "y": [
          136
         ],
         "yaxis": "y"
        },
        {
         "alignmentgroup": "True",
         "bingroup": "x",
         "histfunc": "sum",
         "hovertemplate": "Rank=137<br>Country=%{x}<br>sum of Rank=%{y}<extra></extra>",
         "legendgroup": "137",
         "marker": {
          "color": "#FF6692",
          "pattern": {
           "shape": ""
          }
         },
         "name": "137",
         "offsetgroup": "137",
         "orientation": "v",
         "showlegend": true,
         "type": "histogram",
         "x": [
          "Egypt"
         ],
         "xaxis": "x",
         "y": [
          137
         ],
         "yaxis": "y"
        },
        {
         "alignmentgroup": "True",
         "bingroup": "x",
         "histfunc": "sum",
         "hovertemplate": "Rank=138<br>Country=%{x}<br>sum of Rank=%{y}<extra></extra>",
         "legendgroup": "138",
         "marker": {
          "color": "#B6E880",
          "pattern": {
           "shape": ""
          }
         },
         "name": "138",
         "offsetgroup": "138",
         "orientation": "v",
         "showlegend": true,
         "type": "histogram",
         "x": [
          "Zambia"
         ],
         "xaxis": "x",
         "y": [
          138
         ],
         "yaxis": "y"
        },
        {
         "alignmentgroup": "True",
         "bingroup": "x",
         "histfunc": "sum",
         "hovertemplate": "Rank=139<br>Country=%{x}<br>sum of Rank=%{y}<extra></extra>",
         "legendgroup": "139",
         "marker": {
          "color": "#FF97FF",
          "pattern": {
           "shape": ""
          }
         },
         "name": "139",
         "offsetgroup": "139",
         "orientation": "v",
         "showlegend": true,
         "type": "histogram",
         "x": [
          "Togo"
         ],
         "xaxis": "x",
         "y": [
          139
         ],
         "yaxis": "y"
        },
        {
         "alignmentgroup": "True",
         "bingroup": "x",
         "histfunc": "sum",
         "hovertemplate": "Rank=140<br>Country=%{x}<br>sum of Rank=%{y}<extra></extra>",
         "legendgroup": "140",
         "marker": {
          "color": "#FECB52",
          "pattern": {
           "shape": ""
          }
         },
         "name": "140",
         "offsetgroup": "140",
         "orientation": "v",
         "showlegend": true,
         "type": "histogram",
         "x": [
          "India"
         ],
         "xaxis": "x",
         "y": [
          140
         ],
         "yaxis": "y"
        },
        {
         "alignmentgroup": "True",
         "bingroup": "x",
         "histfunc": "sum",
         "hovertemplate": "Rank=141<br>Country=%{x}<br>sum of Rank=%{y}<extra></extra>",
         "legendgroup": "141",
         "marker": {
          "color": "#636efa",
          "pattern": {
           "shape": ""
          }
         },
         "name": "141",
         "offsetgroup": "141",
         "orientation": "v",
         "showlegend": true,
         "type": "histogram",
         "x": [
          "Liberia"
         ],
         "xaxis": "x",
         "y": [
          141
         ],
         "yaxis": "y"
        },
        {
         "alignmentgroup": "True",
         "bingroup": "x",
         "histfunc": "sum",
         "hovertemplate": "Rank=142<br>Country=%{x}<br>sum of Rank=%{y}<extra></extra>",
         "legendgroup": "142",
         "marker": {
          "color": "#EF553B",
          "pattern": {
           "shape": ""
          }
         },
         "name": "142",
         "offsetgroup": "142",
         "orientation": "v",
         "showlegend": true,
         "type": "histogram",
         "x": [
          "Comoros"
         ],
         "xaxis": "x",
         "y": [
          142
         ],
         "yaxis": "y"
        },
        {
         "alignmentgroup": "True",
         "bingroup": "x",
         "histfunc": "sum",
         "hovertemplate": "Rank=143<br>Country=%{x}<br>sum of Rank=%{y}<extra></extra>",
         "legendgroup": "143",
         "marker": {
          "color": "#00cc96",
          "pattern": {
           "shape": ""
          }
         },
         "name": "143",
         "offsetgroup": "143",
         "orientation": "v",
         "showlegend": true,
         "type": "histogram",
         "x": [
          "Madagascar"
         ],
         "xaxis": "x",
         "y": [
          143
         ],
         "yaxis": "y"
        },
        {
         "alignmentgroup": "True",
         "bingroup": "x",
         "histfunc": "sum",
         "hovertemplate": "Rank=144<br>Country=%{x}<br>sum of Rank=%{y}<extra></extra>",
         "legendgroup": "144",
         "marker": {
          "color": "#ab63fa",
          "pattern": {
           "shape": ""
          }
         },
         "name": "144",
         "offsetgroup": "144",
         "orientation": "v",
         "showlegend": true,
         "type": "histogram",
         "x": [
          "Lesotho"
         ],
         "xaxis": "x",
         "y": [
          144
         ],
         "yaxis": "y"
        },
        {
         "alignmentgroup": "True",
         "bingroup": "x",
         "histfunc": "sum",
         "hovertemplate": "Rank=145<br>Country=%{x}<br>sum of Rank=%{y}<extra></extra>",
         "legendgroup": "145",
         "marker": {
          "color": "#FFA15A",
          "pattern": {
           "shape": ""
          }
         },
         "name": "145",
         "offsetgroup": "145",
         "orientation": "v",
         "showlegend": true,
         "type": "histogram",
         "x": [
          "Burundi"
         ],
         "xaxis": "x",
         "y": [
          145
         ],
         "yaxis": "y"
        },
        {
         "alignmentgroup": "True",
         "bingroup": "x",
         "histfunc": "sum",
         "hovertemplate": "Rank=146<br>Country=%{x}<br>sum of Rank=%{y}<extra></extra>",
         "legendgroup": "146",
         "marker": {
          "color": "#19d3f3",
          "pattern": {
           "shape": ""
          }
         },
         "name": "146",
         "offsetgroup": "146",
         "orientation": "v",
         "showlegend": true,
         "type": "histogram",
         "x": [
          "Zimbabwe"
         ],
         "xaxis": "x",
         "y": [
          146
         ],
         "yaxis": "y"
        },
        {
         "alignmentgroup": "True",
         "bingroup": "x",
         "histfunc": "sum",
         "hovertemplate": "Rank=147<br>Country=%{x}<br>sum of Rank=%{y}<extra></extra>",
         "legendgroup": "147",
         "marker": {
          "color": "#FF6692",
          "pattern": {
           "shape": ""
          }
         },
         "name": "147",
         "offsetgroup": "147",
         "orientation": "v",
         "showlegend": true,
         "type": "histogram",
         "x": [
          "Haiti"
         ],
         "xaxis": "x",
         "y": [
          147
         ],
         "yaxis": "y"
        },
        {
         "alignmentgroup": "True",
         "bingroup": "x",
         "histfunc": "sum",
         "hovertemplate": "Rank=148<br>Country=%{x}<br>sum of Rank=%{y}<extra></extra>",
         "legendgroup": "148",
         "marker": {
          "color": "#B6E880",
          "pattern": {
           "shape": ""
          }
         },
         "name": "148",
         "offsetgroup": "148",
         "orientation": "v",
         "showlegend": true,
         "type": "histogram",
         "x": [
          "Botswana"
         ],
         "xaxis": "x",
         "y": [
          148
         ],
         "yaxis": "y"
        },
        {
         "alignmentgroup": "True",
         "bingroup": "x",
         "histfunc": "sum",
         "hovertemplate": "Rank=149<br>Country=%{x}<br>sum of Rank=%{y}<extra></extra>",
         "legendgroup": "149",
         "marker": {
          "color": "#FF97FF",
          "pattern": {
           "shape": ""
          }
         },
         "name": "149",
         "offsetgroup": "149",
         "orientation": "v",
         "showlegend": true,
         "type": "histogram",
         "x": [
          "Syria"
         ],
         "xaxis": "x",
         "y": [
          149
         ],
         "yaxis": "y"
        },
        {
         "alignmentgroup": "True",
         "bingroup": "x",
         "histfunc": "sum",
         "hovertemplate": "Rank=150<br>Country=%{x}<br>sum of Rank=%{y}<extra></extra>",
         "legendgroup": "150",
         "marker": {
          "color": "#FECB52",
          "pattern": {
           "shape": ""
          }
         },
         "name": "150",
         "offsetgroup": "150",
         "orientation": "v",
         "showlegend": true,
         "type": "histogram",
         "x": [
          "Malawi"
         ],
         "xaxis": "x",
         "y": [
          150
         ],
         "yaxis": "y"
        },
        {
         "alignmentgroup": "True",
         "bingroup": "x",
         "histfunc": "sum",
         "hovertemplate": "Rank=151<br>Country=%{x}<br>sum of Rank=%{y}<extra></extra>",
         "legendgroup": "151",
         "marker": {
          "color": "#636efa",
          "pattern": {
           "shape": ""
          }
         },
         "name": "151",
         "offsetgroup": "151",
         "orientation": "v",
         "showlegend": true,
         "type": "histogram",
         "x": [
          "Yemen"
         ],
         "xaxis": "x",
         "y": [
          151
         ],
         "yaxis": "y"
        },
        {
         "alignmentgroup": "True",
         "bingroup": "x",
         "histfunc": "sum",
         "hovertemplate": "Rank=152<br>Country=%{x}<br>sum of Rank=%{y}<extra></extra>",
         "legendgroup": "152",
         "marker": {
          "color": "#EF553B",
          "pattern": {
           "shape": ""
          }
         },
         "name": "152",
         "offsetgroup": "152",
         "orientation": "v",
         "showlegend": true,
         "type": "histogram",
         "x": [
          "Rwanda"
         ],
         "xaxis": "x",
         "y": [
          152
         ],
         "yaxis": "y"
        },
        {
         "alignmentgroup": "True",
         "bingroup": "x",
         "histfunc": "sum",
         "hovertemplate": "Rank=153<br>Country=%{x}<br>sum of Rank=%{y}<extra></extra>",
         "legendgroup": "153",
         "marker": {
          "color": "#00cc96",
          "pattern": {
           "shape": ""
          }
         },
         "name": "153",
         "offsetgroup": "153",
         "orientation": "v",
         "showlegend": true,
         "type": "histogram",
         "x": [
          "Tanzania"
         ],
         "xaxis": "x",
         "y": [
          153
         ],
         "yaxis": "y"
        },
        {
         "alignmentgroup": "True",
         "bingroup": "x",
         "histfunc": "sum",
         "hovertemplate": "Rank=154<br>Country=%{x}<br>sum of Rank=%{y}<extra></extra>",
         "legendgroup": "154",
         "marker": {
          "color": "#ab63fa",
          "pattern": {
           "shape": ""
          }
         },
         "name": "154",
         "offsetgroup": "154",
         "orientation": "v",
         "showlegend": true,
         "type": "histogram",
         "x": [
          "Afghanistan"
         ],
         "xaxis": "x",
         "y": [
          154
         ],
         "yaxis": "y"
        },
        {
         "alignmentgroup": "True",
         "bingroup": "x",
         "histfunc": "sum",
         "hovertemplate": "Rank=155<br>Country=%{x}<br>sum of Rank=%{y}<extra></extra>",
         "legendgroup": "155",
         "marker": {
          "color": "#FFA15A",
          "pattern": {
           "shape": ""
          }
         },
         "name": "155",
         "offsetgroup": "155",
         "orientation": "v",
         "showlegend": true,
         "type": "histogram",
         "x": [
          "Central African Republic"
         ],
         "xaxis": "x",
         "y": [
          155
         ],
         "yaxis": "y"
        },
        {
         "alignmentgroup": "True",
         "bingroup": "x",
         "histfunc": "sum",
         "hovertemplate": "Rank=156<br>Country=%{x}<br>sum of Rank=%{y}<extra></extra>",
         "legendgroup": "156",
         "marker": {
          "color": "#19d3f3",
          "pattern": {
           "shape": ""
          }
         },
         "name": "156",
         "offsetgroup": "156",
         "orientation": "v",
         "showlegend": true,
         "type": "histogram",
         "x": [
          "South Sudan"
         ],
         "xaxis": "x",
         "y": [
          156
         ],
         "yaxis": "y"
        }
       ],
       "layout": {
        "barmode": "relative",
        "legend": {
         "title": {
          "text": "Rank"
         },
         "tracegroupgap": 0
        },
        "template": {
         "data": {
          "bar": [
           {
            "error_x": {
             "color": "#2a3f5f"
            },
            "error_y": {
             "color": "#2a3f5f"
            },
            "marker": {
             "line": {
              "color": "#E5ECF6",
              "width": 0.5
             },
             "pattern": {
              "fillmode": "overlay",
              "size": 10,
              "solidity": 0.2
             }
            },
            "type": "bar"
           }
          ],
          "barpolar": [
           {
            "marker": {
             "line": {
              "color": "#E5ECF6",
              "width": 0.5
             },
             "pattern": {
              "fillmode": "overlay",
              "size": 10,
              "solidity": 0.2
             }
            },
            "type": "barpolar"
           }
          ],
          "carpet": [
           {
            "aaxis": {
             "endlinecolor": "#2a3f5f",
             "gridcolor": "white",
             "linecolor": "white",
             "minorgridcolor": "white",
             "startlinecolor": "#2a3f5f"
            },
            "baxis": {
             "endlinecolor": "#2a3f5f",
             "gridcolor": "white",
             "linecolor": "white",
             "minorgridcolor": "white",
             "startlinecolor": "#2a3f5f"
            },
            "type": "carpet"
           }
          ],
          "choropleth": [
           {
            "colorbar": {
             "outlinewidth": 0,
             "ticks": ""
            },
            "type": "choropleth"
           }
          ],
          "contour": [
           {
            "colorbar": {
             "outlinewidth": 0,
             "ticks": ""
            },
            "colorscale": [
             [
              0,
              "#0d0887"
             ],
             [
              0.1111111111111111,
              "#46039f"
             ],
             [
              0.2222222222222222,
              "#7201a8"
             ],
             [
              0.3333333333333333,
              "#9c179e"
             ],
             [
              0.4444444444444444,
              "#bd3786"
             ],
             [
              0.5555555555555556,
              "#d8576b"
             ],
             [
              0.6666666666666666,
              "#ed7953"
             ],
             [
              0.7777777777777778,
              "#fb9f3a"
             ],
             [
              0.8888888888888888,
              "#fdca26"
             ],
             [
              1,
              "#f0f921"
             ]
            ],
            "type": "contour"
           }
          ],
          "contourcarpet": [
           {
            "colorbar": {
             "outlinewidth": 0,
             "ticks": ""
            },
            "type": "contourcarpet"
           }
          ],
          "heatmap": [
           {
            "colorbar": {
             "outlinewidth": 0,
             "ticks": ""
            },
            "colorscale": [
             [
              0,
              "#0d0887"
             ],
             [
              0.1111111111111111,
              "#46039f"
             ],
             [
              0.2222222222222222,
              "#7201a8"
             ],
             [
              0.3333333333333333,
              "#9c179e"
             ],
             [
              0.4444444444444444,
              "#bd3786"
             ],
             [
              0.5555555555555556,
              "#d8576b"
             ],
             [
              0.6666666666666666,
              "#ed7953"
             ],
             [
              0.7777777777777778,
              "#fb9f3a"
             ],
             [
              0.8888888888888888,
              "#fdca26"
             ],
             [
              1,
              "#f0f921"
             ]
            ],
            "type": "heatmap"
           }
          ],
          "heatmapgl": [
           {
            "colorbar": {
             "outlinewidth": 0,
             "ticks": ""
            },
            "colorscale": [
             [
              0,
              "#0d0887"
             ],
             [
              0.1111111111111111,
              "#46039f"
             ],
             [
              0.2222222222222222,
              "#7201a8"
             ],
             [
              0.3333333333333333,
              "#9c179e"
             ],
             [
              0.4444444444444444,
              "#bd3786"
             ],
             [
              0.5555555555555556,
              "#d8576b"
             ],
             [
              0.6666666666666666,
              "#ed7953"
             ],
             [
              0.7777777777777778,
              "#fb9f3a"
             ],
             [
              0.8888888888888888,
              "#fdca26"
             ],
             [
              1,
              "#f0f921"
             ]
            ],
            "type": "heatmapgl"
           }
          ],
          "histogram": [
           {
            "marker": {
             "pattern": {
              "fillmode": "overlay",
              "size": 10,
              "solidity": 0.2
             }
            },
            "type": "histogram"
           }
          ],
          "histogram2d": [
           {
            "colorbar": {
             "outlinewidth": 0,
             "ticks": ""
            },
            "colorscale": [
             [
              0,
              "#0d0887"
             ],
             [
              0.1111111111111111,
              "#46039f"
             ],
             [
              0.2222222222222222,
              "#7201a8"
             ],
             [
              0.3333333333333333,
              "#9c179e"
             ],
             [
              0.4444444444444444,
              "#bd3786"
             ],
             [
              0.5555555555555556,
              "#d8576b"
             ],
             [
              0.6666666666666666,
              "#ed7953"
             ],
             [
              0.7777777777777778,
              "#fb9f3a"
             ],
             [
              0.8888888888888888,
              "#fdca26"
             ],
             [
              1,
              "#f0f921"
             ]
            ],
            "type": "histogram2d"
           }
          ],
          "histogram2dcontour": [
           {
            "colorbar": {
             "outlinewidth": 0,
             "ticks": ""
            },
            "colorscale": [
             [
              0,
              "#0d0887"
             ],
             [
              0.1111111111111111,
              "#46039f"
             ],
             [
              0.2222222222222222,
              "#7201a8"
             ],
             [
              0.3333333333333333,
              "#9c179e"
             ],
             [
              0.4444444444444444,
              "#bd3786"
             ],
             [
              0.5555555555555556,
              "#d8576b"
             ],
             [
              0.6666666666666666,
              "#ed7953"
             ],
             [
              0.7777777777777778,
              "#fb9f3a"
             ],
             [
              0.8888888888888888,
              "#fdca26"
             ],
             [
              1,
              "#f0f921"
             ]
            ],
            "type": "histogram2dcontour"
           }
          ],
          "mesh3d": [
           {
            "colorbar": {
             "outlinewidth": 0,
             "ticks": ""
            },
            "type": "mesh3d"
           }
          ],
          "parcoords": [
           {
            "line": {
             "colorbar": {
              "outlinewidth": 0,
              "ticks": ""
             }
            },
            "type": "parcoords"
           }
          ],
          "pie": [
           {
            "automargin": true,
            "type": "pie"
           }
          ],
          "scatter": [
           {
            "fillpattern": {
             "fillmode": "overlay",
             "size": 10,
             "solidity": 0.2
            },
            "type": "scatter"
           }
          ],
          "scatter3d": [
           {
            "line": {
             "colorbar": {
              "outlinewidth": 0,
              "ticks": ""
             }
            },
            "marker": {
             "colorbar": {
              "outlinewidth": 0,
              "ticks": ""
             }
            },
            "type": "scatter3d"
           }
          ],
          "scattercarpet": [
           {
            "marker": {
             "colorbar": {
              "outlinewidth": 0,
              "ticks": ""
             }
            },
            "type": "scattercarpet"
           }
          ],
          "scattergeo": [
           {
            "marker": {
             "colorbar": {
              "outlinewidth": 0,
              "ticks": ""
             }
            },
            "type": "scattergeo"
           }
          ],
          "scattergl": [
           {
            "marker": {
             "colorbar": {
              "outlinewidth": 0,
              "ticks": ""
             }
            },
            "type": "scattergl"
           }
          ],
          "scattermapbox": [
           {
            "marker": {
             "colorbar": {
              "outlinewidth": 0,
              "ticks": ""
             }
            },
            "type": "scattermapbox"
           }
          ],
          "scatterpolar": [
           {
            "marker": {
             "colorbar": {
              "outlinewidth": 0,
              "ticks": ""
             }
            },
            "type": "scatterpolar"
           }
          ],
          "scatterpolargl": [
           {
            "marker": {
             "colorbar": {
              "outlinewidth": 0,
              "ticks": ""
             }
            },
            "type": "scatterpolargl"
           }
          ],
          "scatterternary": [
           {
            "marker": {
             "colorbar": {
              "outlinewidth": 0,
              "ticks": ""
             }
            },
            "type": "scatterternary"
           }
          ],
          "surface": [
           {
            "colorbar": {
             "outlinewidth": 0,
             "ticks": ""
            },
            "colorscale": [
             [
              0,
              "#0d0887"
             ],
             [
              0.1111111111111111,
              "#46039f"
             ],
             [
              0.2222222222222222,
              "#7201a8"
             ],
             [
              0.3333333333333333,
              "#9c179e"
             ],
             [
              0.4444444444444444,
              "#bd3786"
             ],
             [
              0.5555555555555556,
              "#d8576b"
             ],
             [
              0.6666666666666666,
              "#ed7953"
             ],
             [
              0.7777777777777778,
              "#fb9f3a"
             ],
             [
              0.8888888888888888,
              "#fdca26"
             ],
             [
              1,
              "#f0f921"
             ]
            ],
            "type": "surface"
           }
          ],
          "table": [
           {
            "cells": {
             "fill": {
              "color": "#EBF0F8"
             },
             "line": {
              "color": "white"
             }
            },
            "header": {
             "fill": {
              "color": "#C8D4E3"
             },
             "line": {
              "color": "white"
             }
            },
            "type": "table"
           }
          ]
         },
         "layout": {
          "annotationdefaults": {
           "arrowcolor": "#2a3f5f",
           "arrowhead": 0,
           "arrowwidth": 1
          },
          "autotypenumbers": "strict",
          "coloraxis": {
           "colorbar": {
            "outlinewidth": 0,
            "ticks": ""
           }
          },
          "colorscale": {
           "diverging": [
            [
             0,
             "#8e0152"
            ],
            [
             0.1,
             "#c51b7d"
            ],
            [
             0.2,
             "#de77ae"
            ],
            [
             0.3,
             "#f1b6da"
            ],
            [
             0.4,
             "#fde0ef"
            ],
            [
             0.5,
             "#f7f7f7"
            ],
            [
             0.6,
             "#e6f5d0"
            ],
            [
             0.7,
             "#b8e186"
            ],
            [
             0.8,
             "#7fbc41"
            ],
            [
             0.9,
             "#4d9221"
            ],
            [
             1,
             "#276419"
            ]
           ],
           "sequential": [
            [
             0,
             "#0d0887"
            ],
            [
             0.1111111111111111,
             "#46039f"
            ],
            [
             0.2222222222222222,
             "#7201a8"
            ],
            [
             0.3333333333333333,
             "#9c179e"
            ],
            [
             0.4444444444444444,
             "#bd3786"
            ],
            [
             0.5555555555555556,
             "#d8576b"
            ],
            [
             0.6666666666666666,
             "#ed7953"
            ],
            [
             0.7777777777777778,
             "#fb9f3a"
            ],
            [
             0.8888888888888888,
             "#fdca26"
            ],
            [
             1,
             "#f0f921"
            ]
           ],
           "sequentialminus": [
            [
             0,
             "#0d0887"
            ],
            [
             0.1111111111111111,
             "#46039f"
            ],
            [
             0.2222222222222222,
             "#7201a8"
            ],
            [
             0.3333333333333333,
             "#9c179e"
            ],
            [
             0.4444444444444444,
             "#bd3786"
            ],
            [
             0.5555555555555556,
             "#d8576b"
            ],
            [
             0.6666666666666666,
             "#ed7953"
            ],
            [
             0.7777777777777778,
             "#fb9f3a"
            ],
            [
             0.8888888888888888,
             "#fdca26"
            ],
            [
             1,
             "#f0f921"
            ]
           ]
          },
          "colorway": [
           "#636efa",
           "#EF553B",
           "#00cc96",
           "#ab63fa",
           "#FFA15A",
           "#19d3f3",
           "#FF6692",
           "#B6E880",
           "#FF97FF",
           "#FECB52"
          ],
          "font": {
           "color": "#2a3f5f"
          },
          "geo": {
           "bgcolor": "white",
           "lakecolor": "white",
           "landcolor": "#E5ECF6",
           "showlakes": true,
           "showland": true,
           "subunitcolor": "white"
          },
          "hoverlabel": {
           "align": "left"
          },
          "hovermode": "closest",
          "mapbox": {
           "style": "light"
          },
          "paper_bgcolor": "white",
          "plot_bgcolor": "#E5ECF6",
          "polar": {
           "angularaxis": {
            "gridcolor": "white",
            "linecolor": "white",
            "ticks": ""
           },
           "bgcolor": "#E5ECF6",
           "radialaxis": {
            "gridcolor": "white",
            "linecolor": "white",
            "ticks": ""
           }
          },
          "scene": {
           "xaxis": {
            "backgroundcolor": "#E5ECF6",
            "gridcolor": "white",
            "gridwidth": 2,
            "linecolor": "white",
            "showbackground": true,
            "ticks": "",
            "zerolinecolor": "white"
           },
           "yaxis": {
            "backgroundcolor": "#E5ECF6",
            "gridcolor": "white",
            "gridwidth": 2,
            "linecolor": "white",
            "showbackground": true,
            "ticks": "",
            "zerolinecolor": "white"
           },
           "zaxis": {
            "backgroundcolor": "#E5ECF6",
            "gridcolor": "white",
            "gridwidth": 2,
            "linecolor": "white",
            "showbackground": true,
            "ticks": "",
            "zerolinecolor": "white"
           }
          },
          "shapedefaults": {
           "line": {
            "color": "#2a3f5f"
           }
          },
          "ternary": {
           "aaxis": {
            "gridcolor": "white",
            "linecolor": "white",
            "ticks": ""
           },
           "baxis": {
            "gridcolor": "white",
            "linecolor": "white",
            "ticks": ""
           },
           "bgcolor": "#E5ECF6",
           "caxis": {
            "gridcolor": "white",
            "linecolor": "white",
            "ticks": ""
           }
          },
          "title": {
           "x": 0.05
          },
          "xaxis": {
           "automargin": true,
           "gridcolor": "white",
           "linecolor": "white",
           "ticks": "",
           "title": {
            "standoff": 15
           },
           "zerolinecolor": "white",
           "zerolinewidth": 2
          },
          "yaxis": {
           "automargin": true,
           "gridcolor": "white",
           "linecolor": "white",
           "ticks": "",
           "title": {
            "standoff": 15
           },
           "zerolinecolor": "white",
           "zerolinewidth": 2
          }
         }
        },
        "title": {
         "text": "Happiness Score"
        },
        "xaxis": {
         "anchor": "y",
         "domain": [
          0,
          1
         ],
         "title": {
          "text": "Country"
         }
        },
        "yaxis": {
         "anchor": "x",
         "categoryarray": [
          156,
          155,
          154,
          153,
          152,
          151,
          150,
          149,
          148,
          147,
          146,
          145,
          144,
          143,
          142,
          141,
          140,
          139,
          138,
          137,
          136,
          135,
          134,
          133,
          132,
          131,
          130,
          129,
          128,
          127,
          126,
          125,
          124,
          123,
          122,
          121,
          120,
          119,
          118,
          117,
          116,
          115,
          114,
          113,
          112,
          111,
          110,
          109,
          108,
          107,
          106,
          105,
          104,
          103,
          102,
          101,
          100,
          99,
          98,
          97,
          96,
          95,
          94,
          93,
          92,
          91,
          90,
          89,
          88,
          87,
          86,
          85,
          84,
          83,
          82,
          81,
          80,
          79,
          78,
          77,
          76,
          75,
          74,
          73,
          72,
          71,
          70,
          69,
          68,
          67,
          66,
          65,
          64,
          63,
          62,
          61,
          60,
          59,
          58,
          57,
          56,
          55,
          54,
          53,
          52,
          51,
          50,
          49,
          48,
          47,
          46,
          45,
          44,
          43,
          42,
          41,
          40,
          39,
          38,
          37,
          36,
          35,
          34,
          33,
          32,
          31,
          30,
          29,
          28,
          27,
          26,
          25,
          24,
          23,
          22,
          21,
          20,
          19,
          18,
          17,
          16,
          15,
          14,
          13,
          12,
          11,
          10,
          9,
          8,
          7,
          6,
          5,
          4,
          3,
          2,
          1
         ],
         "categoryorder": "array",
         "domain": [
          0,
          1
         ],
         "title": {
          "text": "sum of Rank"
         }
        }
       }
      }
     },
     "metadata": {},
     "output_type": "display_data"
    }
   ],
   "source": [
    "fig = px.histogram(filtered_df,x='Country',y='Rank',color='Rank',\n",
    "                   title='Happiness Score',\n",
    "                  hover_data=['GDP per Capita', 'Family', 'Life Expectancy', 'Freedom', 'Generosity', 'Perceptions of Corruption'])\n",
    "fig.show()"
   ]
  },
  {
   "cell_type": "code",
   "execution_count": 16,
   "metadata": {},
   "outputs": [
    {
     "data": {
      "application/vnd.plotly.v1+json": {
       "config": {
        "plotlyServerURL": "https://plot.ly"
       },
       "data": [
        {
         "coloraxis": "coloraxis",
         "customdata": [
          [
           1.34,
           1.587,
           0.986,
           0.596,
           0.153,
           0.393
          ],
          [
           1.383,
           1.573,
           0.996,
           0.592,
           0.252,
           0.41
          ],
          [
           1.488,
           1.582,
           1.028,
           0.603,
           0.271,
           0.341
          ],
          [
           1.38,
           1.624,
           1.026,
           0.591,
           0.354,
           0.118
          ],
          [
           1.396,
           1.522,
           0.999,
           0.557,
           0.322,
           0.298
          ],
          [
           1.452,
           1.526,
           1.052,
           0.572,
           0.263,
           0.343
          ],
          [
           1.387,
           1.487,
           1.009,
           0.574,
           0.267,
           0.373
          ],
          [
           1.303,
           1.557,
           1.026,
           0.585,
           0.33,
           0.38
          ],
          [
           1.365,
           1.505,
           1.039,
           0.584,
           0.285,
           0.308
          ],
          [
           1.376,
           1.475,
           1.016,
           0.532,
           0.244,
           0.226
          ],
          [
           1.372,
           1.548,
           1.036,
           0.557,
           0.332,
           0.29
          ],
          [
           1.034,
           1.441,
           0.963,
           0.558,
           0.144,
           0.093
          ],
          [
           1.276,
           1.455,
           1.029,
           0.371,
           0.261,
           0.082
          ],
          [
           1.609,
           1.479,
           1.012,
           0.526,
           0.194,
           0.316
          ],
          [
           1.333,
           1.538,
           0.996,
           0.45,
           0.348,
           0.278
          ],
          [
           1.499,
           1.553,
           0.999,
           0.516,
           0.298,
           0.31
          ],
          [
           1.373,
           1.454,
           0.987,
           0.495,
           0.261,
           0.265
          ],
          [
           1.356,
           1.504,
           0.986,
           0.473,
           0.16,
           0.21
          ],
          [
           1.433,
           1.457,
           0.874,
           0.454,
           0.28,
           0.128
          ],
          [
           1.269,
           1.487,
           0.92,
           0.457,
           0.046,
           0.036
          ],
          [
           1.503,
           1.31,
           0.825,
           0.598,
           0.262,
           0.182
          ],
          [
           1.3,
           1.52,
           0.999,
           0.564,
           0.375,
           0.151
          ],
          [
           1.07,
           1.323,
           0.861,
           0.433,
           0.074,
           0.073
          ],
          [
           1.324,
           1.472,
           1.045,
           0.436,
           0.111,
           0.183
          ],
          [
           1.368,
           1.43,
           0.914,
           0.351,
           0.242,
           0.097
          ],
          [
           1.159,
           1.369,
           0.92,
           0.357,
           0.187,
           0.056
          ],
          [
           0.8,
           1.269,
           0.746,
           0.535,
           0.175,
           0.078
          ],
          [
           1.403,
           1.357,
           0.795,
           0.439,
           0.08,
           0.132
          ],
          [
           1.684,
           1.313,
           0.871,
           0.555,
           0.22,
           0.167
          ],
          [
           1.286,
           1.484,
           1.062,
           0.362,
           0.153,
           0.079
          ],
          [
           1.149,
           1.442,
           0.91,
           0.516,
           0.109,
           0.054
          ],
          [
           1.004,
           1.439,
           0.802,
           0.39,
           0.099,
           0.086
          ],
          [
           1.124,
           1.465,
           0.891,
           0.523,
           0.127,
           0.15
          ],
          [
           1.572,
           1.463,
           1.141,
           0.556,
           0.271,
           0.453
          ],
          [
           0.794,
           1.242,
           0.789,
           0.43,
           0.093,
           0.074
          ],
          [
           1.294,
           1.488,
           1.039,
           0.231,
           0.158,
           0.03
          ],
          [
           1.362,
           1.368,
           0.871,
           0.536,
           0.255,
           0.11
          ],
          [
           1.246,
           1.504,
           0.881,
           0.334,
           0.121,
           0.014
          ],
          [
           1.231,
           1.477,
           0.713,
           0.489,
           0.185,
           0.016
          ],
          [
           1.206,
           1.438,
           0.884,
           0.483,
           0.117,
           0.05
          ],
          [
           0.745,
           1.529,
           0.756,
           0.631,
           0.322,
           0.24
          ],
          [
           1.238,
           1.515,
           0.818,
           0.291,
           0.043,
           0.042
          ],
          [
           0.985,
           1.41,
           0.841,
           0.47,
           0.099,
           0.034
          ],
          [
           1.258,
           1.523,
           0.953,
           0.564,
           0.144,
           0.057
          ],
          [
           0.694,
           1.325,
           0.835,
           0.435,
           0.2,
           0.127
          ],
          [
           0.882,
           1.232,
           0.758,
           0.489,
           0.262,
           0.006
          ],
          [
           1.092,
           1.432,
           0.881,
           0.471,
           0.066,
           0.05
          ],
          [
           1.162,
           1.232,
           0.825,
           0.462,
           0.083,
           0.005
          ],
          [
           1.263,
           1.223,
           1.042,
           0.406,
           0.19,
           0.041
          ],
          [
           0.912,
           1.312,
           0.868,
           0.498,
           0.126,
           0.087
          ],
          [
           1.5,
           1.319,
           0.808,
           0.493,
           0.142,
           0.097
          ],
          [
           1.05,
           1.409,
           0.828,
           0.557,
           0.359,
           0.028
          ],
          [
           1.187,
           1.465,
           0.812,
           0.264,
           0.075,
           0.064
          ],
          [
           1.301,
           1.219,
           1.036,
           0.159,
           0.175,
           0.056
          ],
          [
           1.237,
           1.528,
           0.874,
           0.495,
           0.103,
           0.161
          ],
          [
           0.831,
           1.478,
           0.831,
           0.49,
           0.107,
           0.028
          ],
          [
           1.12,
           1.402,
           0.798,
           0.498,
           0.215,
           0.06
          ],
          [
           1.327,
           1.419,
           1.088,
           0.445,
           0.069,
           0.14
          ],
          [
           0.642,
           1.236,
           0.828,
           0.507,
           0.246,
           0.078
          ],
          [
           1.173,
           1.508,
           0.729,
           0.41,
           0.146,
           0.096
          ],
          [
           0.776,
           1.209,
           0.706,
           0.511,
           0.137,
           0.064
          ],
          [
           1.201,
           1.41,
           0.828,
           0.199,
           0.081,
           0.02
          ],
          [
           0.855,
           1.475,
           0.777,
           0.514,
           0.184,
           0.08
          ],
          [
           1.263,
           1.252,
           1.042,
           0.417,
           0.191,
           0.162
          ],
          [
           0.96,
           1.274,
           0.854,
           0.455,
           0.083,
           0.027
          ],
          [
           1.221,
           1.431,
           0.999,
           0.508,
           0.047,
           0.025
          ],
          [
           0.677,
           0.886,
           0.535,
           0.313,
           0.22,
           0.098
          ],
          [
           1.183,
           1.452,
           0.726,
           0.334,
           0.082,
           0.031
          ],
          [
           0.807,
           1.293,
           0.657,
           0.558,
           0.117,
           0.107
          ],
          [
           1.004,
           1.383,
           0.854,
           0.282,
           0.137,
           0.039
          ],
          [
           0.685,
           1.328,
           0.739,
           0.245,
           0.181,
           0
          ],
          [
           1.044,
           1.303,
           0.673,
           0.416,
           0.133,
           0.152
          ],
          [
           1.051,
           1.361,
           0.871,
           0.197,
           0.142,
           0.08
          ],
          [
           0.493,
           1.098,
           0.718,
           0.389,
           0.23,
           0.144
          ],
          [
           1.155,
           1.266,
           0.914,
           0.296,
           0.119,
           0.022
          ],
          [
           1.438,
           1.277,
           1.122,
           0.44,
           0.258,
           0.287
          ],
          [
           1.015,
           1.401,
           0.779,
           0.497,
           0.113,
           0.101
          ],
          [
           0.945,
           1.212,
           0.845,
           0.212,
           0.263,
           0.006
          ],
          [
           1.183,
           1.36,
           0.808,
           0.195,
           0.083,
           0.106
          ],
          [
           1.221,
           1.171,
           0.828,
           0.508,
           0.26,
           0.024
          ],
          [
           1.067,
           1.465,
           0.789,
           0.235,
           0.094,
           0.142
          ],
          [
           1.181,
           1.156,
           0.999,
           0.067,
           0,
           0.034
          ],
          [
           0.948,
           1.531,
           0.667,
           0.317,
           0.235,
           0.038
          ],
          [
           0.983,
           1.294,
           0.838,
           0.345,
           0.185,
           0.034
          ],
          [
           0.696,
           1.111,
           0.245,
           0.426,
           0.215,
           0.041
          ],
          [
           0.551,
           1.438,
           0.723,
           0.508,
           0.3,
           0.023
          ],
          [
           1.052,
           1.538,
           0.657,
           0.394,
           0.244,
           0.028
          ],
          [
           1.002,
           1.16,
           0.785,
           0.086,
           0.073,
           0.114
          ],
          [
           0.801,
           0.782,
           0.782,
           0.418,
           0.036,
           0.076
          ],
          [
           1.043,
           1.147,
           0.769,
           0.351,
           0.035,
           0.182
          ],
          [
           0.987,
           1.224,
           0.815,
           0.216,
           0.166,
           0.027
          ],
          [
           0.931,
           1.203,
           0.66,
           0.491,
           0.498,
           0.028
          ],
          [
           1.029,
           1.125,
           0.893,
           0.521,
           0.058,
           0.1
          ],
          [
           0.741,
           1.346,
           0.851,
           0.543,
           0.147,
           0.073
          ],
          [
           0.813,
           1.321,
           0.604,
           0.457,
           0.37,
           0.167
          ],
          [
           0.549,
           0.91,
           0.331,
           0.381,
           0.187,
           0.037
          ],
          [
           1.092,
           1.513,
           0.815,
           0.311,
           0.081,
           0.004
          ],
          [
           0.611,
           0.868,
           0.486,
           0.381,
           0.245,
           0.04
          ],
          [
           0.569,
           0.808,
           0.232,
           0.352,
           0.154,
           0.09
          ],
          [
           0.446,
           1.226,
           0.677,
           0.439,
           0.285,
           0.089
          ],
          [
           0.837,
           1.225,
           0.815,
           0.383,
           0.11,
           0.13
          ],
          [
           0.393,
           0.437,
           0.397,
           0.349,
           0.175,
           0.082
          ],
          [
           0.673,
           0.799,
           0.508,
           0.372,
           0.105,
           0.093
          ],
          [
           1.057,
           1.183,
           0.571,
           0.295,
           0.043,
           0.055
          ],
          [
           0.764,
           1.03,
           0.551,
           0.547,
           0.266,
           0.164
          ],
          [
           0.96,
           1.351,
           0.469,
           0.389,
           0.13,
           0.055
          ],
          [
           0.947,
           0.848,
           0.874,
           0.383,
           0.178,
           0.027
          ],
          [
           0.96,
           1.427,
           0.805,
           0.154,
           0.064,
           0.047
          ],
          [
           0.574,
           1.122,
           0.637,
           0.609,
           0.232,
           0.062
          ],
          [
           0.657,
           1.247,
           0.672,
           0.225,
           0.103,
           0.066
          ],
          [
           0.45,
           1.134,
           0.571,
           0.292,
           0.153,
           0.072
          ],
          [
           0,
           0.698,
           0.268,
           0.559,
           0.243,
           0.27
          ],
          [
           0.879,
           1.313,
           0.477,
           0.401,
           0.07,
           0.056
          ],
          [
           0.138,
           0.774,
           0.366,
           0.318,
           0.188,
           0.102
          ],
          [
           0.331,
           1.056,
           0.38,
           0.255,
           0.177,
           0.113
          ],
          [
           0.85,
           1.055,
           0.815,
           0.283,
           0.095,
           0.064
          ],
          [
           1.1,
           0.842,
           0.785,
           0.305,
           0.27,
           0.125
          ],
          [
           0.38,
           0.829,
           0.375,
           0.332,
           0.207,
           0.086
          ],
          [
           0.886,
           0.666,
           0.752,
           0.346,
           0.043,
           0.164
          ],
          [
           0.308,
           0.939,
           0.428,
           0.382,
           0.269,
           0.167
          ],
          [
           0.512,
           0.983,
           0.581,
           0.431,
           0.372,
           0.053
          ],
          [
           0.57,
           1.167,
           0.489,
           0.066,
           0.106,
           0.088
          ],
          [
           0.204,
           0.986,
           0.39,
           0.494,
           0.197,
           0.138
          ],
          [
           0.921,
           1,
           0.815,
           0.167,
           0.059,
           0.055
          ],
          [
           0.562,
           0.928,
           0.723,
           0.527,
           0.166,
           0.143
          ],
          [
           1.043,
           0.98,
           0.574,
           0.241,
           0.148,
           0.089
          ],
          [
           0.094,
           1.125,
           0.357,
           0.269,
           0.212,
           0.053
          ],
          [
           0.385,
           1.105,
           0.308,
           0.327,
           0.153,
           0.052
          ],
          [
           0.268,
           0.841,
           0.242,
           0.309,
           0.252,
           0.045
          ],
          [
           0.949,
           1.265,
           0.831,
           0.47,
           0.244,
           0.047
          ],
          [
           0.71,
           1.181,
           0.555,
           0.525,
           0.566,
           0.172
          ],
          [
           0.35,
           0.766,
           0.192,
           0.174,
           0.198,
           0.078
          ],
          [
           0.82,
           1.39,
           0.739,
           0.178,
           0.187,
           0.01
          ],
          [
           0.336,
           1.033,
           0.532,
           0.344,
           0.209,
           0.1
          ],
          [
           0.811,
           1.149,
           0,
           0.313,
           0.074,
           0.135
          ],
          [
           0.332,
           1.069,
           0.443,
           0.356,
           0.252,
           0.06
          ],
          [
           0.913,
           1.039,
           0.644,
           0.241,
           0.076,
           0.067
          ],
          [
           0.578,
           1.058,
           0.426,
           0.431,
           0.247,
           0.087
          ],
          [
           0.275,
           0.572,
           0.41,
           0.293,
           0.177,
           0.085
          ],
          [
           0.755,
           0.765,
           0.588,
           0.498,
           0.2,
           0.085
          ],
          [
           0.073,
           0.922,
           0.443,
           0.37,
           0.233,
           0.033
          ],
          [
           0.274,
           0.757,
           0.505,
           0.142,
           0.275,
           0.078
          ],
          [
           0.274,
           0.916,
           0.555,
           0.148,
           0.169,
           0.041
          ],
          [
           0.489,
           1.169,
           0.168,
           0.359,
           0.107,
           0.093
          ],
          [
           0.046,
           0.447,
           0.38,
           0.22,
           0.176,
           0.18
          ],
          [
           0.366,
           1.114,
           0.433,
           0.361,
           0.151,
           0.089
          ],
          [
           0.323,
           0.688,
           0.449,
           0.026,
           0.419,
           0.11
          ],
          [
           1.041,
           1.145,
           0.538,
           0.455,
           0.025,
           0.1
          ],
          [
           0.619,
           0.378,
           0.44,
           0.013,
           0.331,
           0.141
          ],
          [
           0.191,
           0.56,
           0.495,
           0.443,
           0.218,
           0.089
          ],
          [
           0.287,
           1.163,
           0.463,
           0.143,
           0.108,
           0.077
          ],
          [
           0.359,
           0.711,
           0.614,
           0.555,
           0.217,
           0.411
          ],
          [
           0.476,
           0.885,
           0.499,
           0.417,
           0.276,
           0.147
          ],
          [
           0.35,
           0.517,
           0.361,
           0,
           0.158,
           0.025
          ],
          [
           0.026,
           0,
           0.105,
           0.225,
           0.235,
           0.035
          ],
          [
           0.306,
           0.575,
           0.295,
           0.01,
           0.202,
           0.091
          ]
         ],
         "geo": "geo",
         "hovertemplate": "Country=%{location}<br>GDP per Capita=%{customdata[0]}<br>Family=%{customdata[1]}<br>Life Expectancy=%{customdata[2]}<br>Freedom=%{customdata[3]}<br>Generosity=%{customdata[4]}<br>Perceptions of Corruption=%{z}<extra></extra>",
         "locationmode": "country names",
         "locations": [
          "Finland",
          "Denmark",
          "Norway",
          "Iceland",
          "Netherlands",
          "Switzerland",
          "Sweden",
          "New Zealand",
          "Canada",
          "Austria",
          "Australia",
          "Costa Rica",
          "Israel",
          "Luxembourg",
          "United Kingdom",
          "Ireland",
          "Germany",
          "Belgium",
          "United States",
          "Czech Republic",
          "United Arab Emirates",
          "Malta",
          "Mexico",
          "France",
          "Taiwan",
          "Chile",
          "Guatemala",
          "Saudi Arabia",
          "Qatar",
          "Spain",
          "Panama",
          "Brazil",
          "Uruguay",
          "Singapore",
          "El Salvador",
          "Italy",
          "Bahrain",
          "Slovakia",
          "Trinidad & Tobago",
          "Poland",
          "Uzbekistan",
          "Lithuania",
          "Colombia",
          "Slovenia",
          "Nicaragua",
          "Kosovo",
          "Argentina",
          "Romania",
          "Cyprus",
          "Ecuador",
          "Kuwait",
          "Thailand",
          "Latvia",
          "South Korea",
          "Estonia",
          "Jamaica",
          "Mauritius",
          "Japan",
          "Honduras",
          "Kazakhstan",
          "Bolivia",
          "Hungary",
          "Paraguay",
          "Northern Cyprus",
          "Peru",
          "Portugal",
          "Pakistan",
          "Russia",
          "Philippines",
          "Serbia",
          "Moldova",
          "Libya",
          "Montenegro",
          "Tajikistan",
          "Croatia",
          "Hong Kong",
          "Dominican Republic",
          "Bosnia and Herzegovina",
          "Turkey",
          "Malaysia",
          "Belarus",
          "Greece",
          "Mongolia",
          "North Macedonia",
          "Nigeria",
          "Kyrgyzstan",
          "Turkmenistan",
          "Algeria",
          "Morocco",
          "Azerbaijan",
          "Lebanon",
          "Indonesia",
          "China",
          "Vietnam",
          "Bhutan",
          "Cameroon",
          "Bulgaria",
          "Ghana",
          "Ivory Coast",
          "Nepal",
          "Jordan",
          "Benin",
          "Congo (Brazzaville)",
          "Gabon",
          "Laos",
          "South Africa",
          "Albania",
          "Venezuela",
          "Cambodia",
          "Palestinian Territories",
          "Senegal",
          "Somalia",
          "Namibia",
          "Niger",
          "Burkina Faso",
          "Armenia",
          "Iran",
          "Guinea",
          "Georgia",
          "Gambia",
          "Kenya",
          "Mauritania",
          "Mozambique",
          "Tunisia",
          "Bangladesh",
          "Iraq",
          "Congo (Kinshasa)",
          "Mali",
          "Sierra Leone",
          "Sri Lanka",
          "Myanmar",
          "Chad",
          "Ukraine",
          "Ethiopia",
          "Swaziland",
          "Uganda",
          "Egypt",
          "Zambia",
          "Togo",
          "India",
          "Liberia",
          "Comoros",
          "Madagascar",
          "Lesotho",
          "Burundi",
          "Zimbabwe",
          "Haiti",
          "Botswana",
          "Syria",
          "Malawi",
          "Yemen",
          "Rwanda",
          "Tanzania",
          "Afghanistan",
          "Central African Republic",
          "South Sudan"
         ],
         "name": "",
         "type": "choropleth",
         "z": [
          0.393,
          0.41,
          0.341,
          0.118,
          0.298,
          0.343,
          0.373,
          0.38,
          0.308,
          0.226,
          0.29,
          0.093,
          0.082,
          0.316,
          0.278,
          0.31,
          0.265,
          0.21,
          0.128,
          0.036,
          0.182,
          0.151,
          0.073,
          0.183,
          0.097,
          0.056,
          0.078,
          0.132,
          0.167,
          0.079,
          0.054,
          0.086,
          0.15,
          0.453,
          0.074,
          0.03,
          0.11,
          0.014,
          0.016,
          0.05,
          0.24,
          0.042,
          0.034,
          0.057,
          0.127,
          0.006,
          0.05,
          0.005,
          0.041,
          0.087,
          0.097,
          0.028,
          0.064,
          0.056,
          0.161,
          0.028,
          0.06,
          0.14,
          0.078,
          0.096,
          0.064,
          0.02,
          0.08,
          0.162,
          0.027,
          0.025,
          0.098,
          0.031,
          0.107,
          0.039,
          0,
          0.152,
          0.08,
          0.144,
          0.022,
          0.287,
          0.101,
          0.006,
          0.106,
          0.024,
          0.142,
          0.034,
          0.038,
          0.034,
          0.041,
          0.023,
          0.028,
          0.114,
          0.076,
          0.182,
          0.027,
          0.028,
          0.1,
          0.073,
          0.167,
          0.037,
          0.004,
          0.04,
          0.09,
          0.089,
          0.13,
          0.082,
          0.093,
          0.055,
          0.164,
          0.055,
          0.027,
          0.047,
          0.062,
          0.066,
          0.072,
          0.27,
          0.056,
          0.102,
          0.113,
          0.064,
          0.125,
          0.086,
          0.164,
          0.167,
          0.053,
          0.088,
          0.138,
          0.055,
          0.143,
          0.089,
          0.053,
          0.052,
          0.045,
          0.047,
          0.172,
          0.078,
          0.01,
          0.1,
          0.135,
          0.06,
          0.067,
          0.087,
          0.085,
          0.085,
          0.033,
          0.078,
          0.041,
          0.093,
          0.18,
          0.089,
          0.11,
          0.1,
          0.141,
          0.089,
          0.077,
          0.411,
          0.147,
          0.025,
          0.035,
          0.091
         ]
        }
       ],
       "layout": {
        "coloraxis": {
         "colorbar": {
          "title": {
           "text": "Perceptions of Corruption"
          }
         },
         "colorscale": [
          [
           0,
           "#440154"
          ],
          [
           0.1111111111111111,
           "#482878"
          ],
          [
           0.2222222222222222,
           "#3e4989"
          ],
          [
           0.3333333333333333,
           "#31688e"
          ],
          [
           0.4444444444444444,
           "#26828e"
          ],
          [
           0.5555555555555556,
           "#1f9e89"
          ],
          [
           0.6666666666666666,
           "#35b779"
          ],
          [
           0.7777777777777778,
           "#6ece58"
          ],
          [
           0.8888888888888888,
           "#b5de2b"
          ],
          [
           1,
           "#fde725"
          ]
         ]
        },
        "geo": {
         "center": {},
         "domain": {
          "x": [
           0,
           1
          ],
          "y": [
           0,
           1
          ]
         },
         "projection": {
          "type": "natural earth"
         }
        },
        "legend": {
         "tracegroupgap": 0
        },
        "template": {
         "data": {
          "bar": [
           {
            "error_x": {
             "color": "#2a3f5f"
            },
            "error_y": {
             "color": "#2a3f5f"
            },
            "marker": {
             "line": {
              "color": "#E5ECF6",
              "width": 0.5
             },
             "pattern": {
              "fillmode": "overlay",
              "size": 10,
              "solidity": 0.2
             }
            },
            "type": "bar"
           }
          ],
          "barpolar": [
           {
            "marker": {
             "line": {
              "color": "#E5ECF6",
              "width": 0.5
             },
             "pattern": {
              "fillmode": "overlay",
              "size": 10,
              "solidity": 0.2
             }
            },
            "type": "barpolar"
           }
          ],
          "carpet": [
           {
            "aaxis": {
             "endlinecolor": "#2a3f5f",
             "gridcolor": "white",
             "linecolor": "white",
             "minorgridcolor": "white",
             "startlinecolor": "#2a3f5f"
            },
            "baxis": {
             "endlinecolor": "#2a3f5f",
             "gridcolor": "white",
             "linecolor": "white",
             "minorgridcolor": "white",
             "startlinecolor": "#2a3f5f"
            },
            "type": "carpet"
           }
          ],
          "choropleth": [
           {
            "colorbar": {
             "outlinewidth": 0,
             "ticks": ""
            },
            "type": "choropleth"
           }
          ],
          "contour": [
           {
            "colorbar": {
             "outlinewidth": 0,
             "ticks": ""
            },
            "colorscale": [
             [
              0,
              "#0d0887"
             ],
             [
              0.1111111111111111,
              "#46039f"
             ],
             [
              0.2222222222222222,
              "#7201a8"
             ],
             [
              0.3333333333333333,
              "#9c179e"
             ],
             [
              0.4444444444444444,
              "#bd3786"
             ],
             [
              0.5555555555555556,
              "#d8576b"
             ],
             [
              0.6666666666666666,
              "#ed7953"
             ],
             [
              0.7777777777777778,
              "#fb9f3a"
             ],
             [
              0.8888888888888888,
              "#fdca26"
             ],
             [
              1,
              "#f0f921"
             ]
            ],
            "type": "contour"
           }
          ],
          "contourcarpet": [
           {
            "colorbar": {
             "outlinewidth": 0,
             "ticks": ""
            },
            "type": "contourcarpet"
           }
          ],
          "heatmap": [
           {
            "colorbar": {
             "outlinewidth": 0,
             "ticks": ""
            },
            "colorscale": [
             [
              0,
              "#0d0887"
             ],
             [
              0.1111111111111111,
              "#46039f"
             ],
             [
              0.2222222222222222,
              "#7201a8"
             ],
             [
              0.3333333333333333,
              "#9c179e"
             ],
             [
              0.4444444444444444,
              "#bd3786"
             ],
             [
              0.5555555555555556,
              "#d8576b"
             ],
             [
              0.6666666666666666,
              "#ed7953"
             ],
             [
              0.7777777777777778,
              "#fb9f3a"
             ],
             [
              0.8888888888888888,
              "#fdca26"
             ],
             [
              1,
              "#f0f921"
             ]
            ],
            "type": "heatmap"
           }
          ],
          "heatmapgl": [
           {
            "colorbar": {
             "outlinewidth": 0,
             "ticks": ""
            },
            "colorscale": [
             [
              0,
              "#0d0887"
             ],
             [
              0.1111111111111111,
              "#46039f"
             ],
             [
              0.2222222222222222,
              "#7201a8"
             ],
             [
              0.3333333333333333,
              "#9c179e"
             ],
             [
              0.4444444444444444,
              "#bd3786"
             ],
             [
              0.5555555555555556,
              "#d8576b"
             ],
             [
              0.6666666666666666,
              "#ed7953"
             ],
             [
              0.7777777777777778,
              "#fb9f3a"
             ],
             [
              0.8888888888888888,
              "#fdca26"
             ],
             [
              1,
              "#f0f921"
             ]
            ],
            "type": "heatmapgl"
           }
          ],
          "histogram": [
           {
            "marker": {
             "pattern": {
              "fillmode": "overlay",
              "size": 10,
              "solidity": 0.2
             }
            },
            "type": "histogram"
           }
          ],
          "histogram2d": [
           {
            "colorbar": {
             "outlinewidth": 0,
             "ticks": ""
            },
            "colorscale": [
             [
              0,
              "#0d0887"
             ],
             [
              0.1111111111111111,
              "#46039f"
             ],
             [
              0.2222222222222222,
              "#7201a8"
             ],
             [
              0.3333333333333333,
              "#9c179e"
             ],
             [
              0.4444444444444444,
              "#bd3786"
             ],
             [
              0.5555555555555556,
              "#d8576b"
             ],
             [
              0.6666666666666666,
              "#ed7953"
             ],
             [
              0.7777777777777778,
              "#fb9f3a"
             ],
             [
              0.8888888888888888,
              "#fdca26"
             ],
             [
              1,
              "#f0f921"
             ]
            ],
            "type": "histogram2d"
           }
          ],
          "histogram2dcontour": [
           {
            "colorbar": {
             "outlinewidth": 0,
             "ticks": ""
            },
            "colorscale": [
             [
              0,
              "#0d0887"
             ],
             [
              0.1111111111111111,
              "#46039f"
             ],
             [
              0.2222222222222222,
              "#7201a8"
             ],
             [
              0.3333333333333333,
              "#9c179e"
             ],
             [
              0.4444444444444444,
              "#bd3786"
             ],
             [
              0.5555555555555556,
              "#d8576b"
             ],
             [
              0.6666666666666666,
              "#ed7953"
             ],
             [
              0.7777777777777778,
              "#fb9f3a"
             ],
             [
              0.8888888888888888,
              "#fdca26"
             ],
             [
              1,
              "#f0f921"
             ]
            ],
            "type": "histogram2dcontour"
           }
          ],
          "mesh3d": [
           {
            "colorbar": {
             "outlinewidth": 0,
             "ticks": ""
            },
            "type": "mesh3d"
           }
          ],
          "parcoords": [
           {
            "line": {
             "colorbar": {
              "outlinewidth": 0,
              "ticks": ""
             }
            },
            "type": "parcoords"
           }
          ],
          "pie": [
           {
            "automargin": true,
            "type": "pie"
           }
          ],
          "scatter": [
           {
            "fillpattern": {
             "fillmode": "overlay",
             "size": 10,
             "solidity": 0.2
            },
            "type": "scatter"
           }
          ],
          "scatter3d": [
           {
            "line": {
             "colorbar": {
              "outlinewidth": 0,
              "ticks": ""
             }
            },
            "marker": {
             "colorbar": {
              "outlinewidth": 0,
              "ticks": ""
             }
            },
            "type": "scatter3d"
           }
          ],
          "scattercarpet": [
           {
            "marker": {
             "colorbar": {
              "outlinewidth": 0,
              "ticks": ""
             }
            },
            "type": "scattercarpet"
           }
          ],
          "scattergeo": [
           {
            "marker": {
             "colorbar": {
              "outlinewidth": 0,
              "ticks": ""
             }
            },
            "type": "scattergeo"
           }
          ],
          "scattergl": [
           {
            "marker": {
             "colorbar": {
              "outlinewidth": 0,
              "ticks": ""
             }
            },
            "type": "scattergl"
           }
          ],
          "scattermapbox": [
           {
            "marker": {
             "colorbar": {
              "outlinewidth": 0,
              "ticks": ""
             }
            },
            "type": "scattermapbox"
           }
          ],
          "scatterpolar": [
           {
            "marker": {
             "colorbar": {
              "outlinewidth": 0,
              "ticks": ""
             }
            },
            "type": "scatterpolar"
           }
          ],
          "scatterpolargl": [
           {
            "marker": {
             "colorbar": {
              "outlinewidth": 0,
              "ticks": ""
             }
            },
            "type": "scatterpolargl"
           }
          ],
          "scatterternary": [
           {
            "marker": {
             "colorbar": {
              "outlinewidth": 0,
              "ticks": ""
             }
            },
            "type": "scatterternary"
           }
          ],
          "surface": [
           {
            "colorbar": {
             "outlinewidth": 0,
             "ticks": ""
            },
            "colorscale": [
             [
              0,
              "#0d0887"
             ],
             [
              0.1111111111111111,
              "#46039f"
             ],
             [
              0.2222222222222222,
              "#7201a8"
             ],
             [
              0.3333333333333333,
              "#9c179e"
             ],
             [
              0.4444444444444444,
              "#bd3786"
             ],
             [
              0.5555555555555556,
              "#d8576b"
             ],
             [
              0.6666666666666666,
              "#ed7953"
             ],
             [
              0.7777777777777778,
              "#fb9f3a"
             ],
             [
              0.8888888888888888,
              "#fdca26"
             ],
             [
              1,
              "#f0f921"
             ]
            ],
            "type": "surface"
           }
          ],
          "table": [
           {
            "cells": {
             "fill": {
              "color": "#EBF0F8"
             },
             "line": {
              "color": "white"
             }
            },
            "header": {
             "fill": {
              "color": "#C8D4E3"
             },
             "line": {
              "color": "white"
             }
            },
            "type": "table"
           }
          ]
         },
         "layout": {
          "annotationdefaults": {
           "arrowcolor": "#2a3f5f",
           "arrowhead": 0,
           "arrowwidth": 1
          },
          "autotypenumbers": "strict",
          "coloraxis": {
           "colorbar": {
            "outlinewidth": 0,
            "ticks": ""
           }
          },
          "colorscale": {
           "diverging": [
            [
             0,
             "#8e0152"
            ],
            [
             0.1,
             "#c51b7d"
            ],
            [
             0.2,
             "#de77ae"
            ],
            [
             0.3,
             "#f1b6da"
            ],
            [
             0.4,
             "#fde0ef"
            ],
            [
             0.5,
             "#f7f7f7"
            ],
            [
             0.6,
             "#e6f5d0"
            ],
            [
             0.7,
             "#b8e186"
            ],
            [
             0.8,
             "#7fbc41"
            ],
            [
             0.9,
             "#4d9221"
            ],
            [
             1,
             "#276419"
            ]
           ],
           "sequential": [
            [
             0,
             "#0d0887"
            ],
            [
             0.1111111111111111,
             "#46039f"
            ],
            [
             0.2222222222222222,
             "#7201a8"
            ],
            [
             0.3333333333333333,
             "#9c179e"
            ],
            [
             0.4444444444444444,
             "#bd3786"
            ],
            [
             0.5555555555555556,
             "#d8576b"
            ],
            [
             0.6666666666666666,
             "#ed7953"
            ],
            [
             0.7777777777777778,
             "#fb9f3a"
            ],
            [
             0.8888888888888888,
             "#fdca26"
            ],
            [
             1,
             "#f0f921"
            ]
           ],
           "sequentialminus": [
            [
             0,
             "#0d0887"
            ],
            [
             0.1111111111111111,
             "#46039f"
            ],
            [
             0.2222222222222222,
             "#7201a8"
            ],
            [
             0.3333333333333333,
             "#9c179e"
            ],
            [
             0.4444444444444444,
             "#bd3786"
            ],
            [
             0.5555555555555556,
             "#d8576b"
            ],
            [
             0.6666666666666666,
             "#ed7953"
            ],
            [
             0.7777777777777778,
             "#fb9f3a"
            ],
            [
             0.8888888888888888,
             "#fdca26"
            ],
            [
             1,
             "#f0f921"
            ]
           ]
          },
          "colorway": [
           "#636efa",
           "#EF553B",
           "#00cc96",
           "#ab63fa",
           "#FFA15A",
           "#19d3f3",
           "#FF6692",
           "#B6E880",
           "#FF97FF",
           "#FECB52"
          ],
          "font": {
           "color": "#2a3f5f"
          },
          "geo": {
           "bgcolor": "white",
           "lakecolor": "white",
           "landcolor": "#E5ECF6",
           "showlakes": true,
           "showland": true,
           "subunitcolor": "white"
          },
          "hoverlabel": {
           "align": "left"
          },
          "hovermode": "closest",
          "mapbox": {
           "style": "light"
          },
          "paper_bgcolor": "white",
          "plot_bgcolor": "#E5ECF6",
          "polar": {
           "angularaxis": {
            "gridcolor": "white",
            "linecolor": "white",
            "ticks": ""
           },
           "bgcolor": "#E5ECF6",
           "radialaxis": {
            "gridcolor": "white",
            "linecolor": "white",
            "ticks": ""
           }
          },
          "scene": {
           "xaxis": {
            "backgroundcolor": "#E5ECF6",
            "gridcolor": "white",
            "gridwidth": 2,
            "linecolor": "white",
            "showbackground": true,
            "ticks": "",
            "zerolinecolor": "white"
           },
           "yaxis": {
            "backgroundcolor": "#E5ECF6",
            "gridcolor": "white",
            "gridwidth": 2,
            "linecolor": "white",
            "showbackground": true,
            "ticks": "",
            "zerolinecolor": "white"
           },
           "zaxis": {
            "backgroundcolor": "#E5ECF6",
            "gridcolor": "white",
            "gridwidth": 2,
            "linecolor": "white",
            "showbackground": true,
            "ticks": "",
            "zerolinecolor": "white"
           }
          },
          "shapedefaults": {
           "line": {
            "color": "#2a3f5f"
           }
          },
          "ternary": {
           "aaxis": {
            "gridcolor": "white",
            "linecolor": "white",
            "ticks": ""
           },
           "baxis": {
            "gridcolor": "white",
            "linecolor": "white",
            "ticks": ""
           },
           "bgcolor": "#E5ECF6",
           "caxis": {
            "gridcolor": "white",
            "linecolor": "white",
            "ticks": ""
           }
          },
          "title": {
           "x": 0.05
          },
          "xaxis": {
           "automargin": true,
           "gridcolor": "white",
           "linecolor": "white",
           "ticks": "",
           "title": {
            "standoff": 15
           },
           "zerolinecolor": "white",
           "zerolinewidth": 2
          },
          "yaxis": {
           "automargin": true,
           "gridcolor": "white",
           "linecolor": "white",
           "ticks": "",
           "title": {
            "standoff": 15
           },
           "zerolinecolor": "white",
           "zerolinewidth": 2
          }
         }
        },
        "title": {
         "text": "Global Perceptions of corruption"
        }
       }
      }
     },
     "metadata": {},
     "output_type": "display_data"
    }
   ],
   "source": [
    "# 'Perceptions of corruption'\n",
    "\n",
    "# Plot the choropleth map\n",
    "fig = px.choropleth(\n",
    "    data_frame=filtered_df,\n",
    "    locations='Country',\n",
    "    locationmode='country names',\n",
    "    color='Perceptions of Corruption',\n",
    "    color_continuous_scale='Viridis',\n",
    "    title='Global Perceptions of corruption',\n",
    "    labels={'Perceptions of Corruption': 'Perceptions of Corruption'},\n",
    "    projection='natural earth',\n",
    "    hover_data=['GDP per Capita', 'Family', 'Life Expectancy', 'Freedom', 'Generosity', 'Perceptions of Corruption']\n",
    ")\n",
    "\n",
    "# Show the plot\n",
    "fig.show()"
   ]
  },
  {
   "cell_type": "code",
   "execution_count": 17,
   "metadata": {},
   "outputs": [
    {
     "data": {
      "application/vnd.plotly.v1+json": {
       "config": {
        "plotlyServerURL": "https://plot.ly"
       },
       "data": [
        {
         "alignmentgroup": "True",
         "bingroup": "x",
         "histfunc": "sum",
         "hovertemplate": "Freedom=0.596<br>Country=%{x}<br>sum of Freedom=%{y}<extra></extra>",
         "legendgroup": "0.596",
         "marker": {
          "color": "#636efa",
          "pattern": {
           "shape": ""
          }
         },
         "name": "0.596",
         "offsetgroup": "0.596",
         "orientation": "v",
         "showlegend": true,
         "type": "histogram",
         "x": [
          "Finland"
         ],
         "xaxis": "x",
         "y": [
          0.596
         ],
         "yaxis": "y"
        },
        {
         "alignmentgroup": "True",
         "bingroup": "x",
         "histfunc": "sum",
         "hovertemplate": "Freedom=0.592<br>Country=%{x}<br>sum of Freedom=%{y}<extra></extra>",
         "legendgroup": "0.592",
         "marker": {
          "color": "#EF553B",
          "pattern": {
           "shape": ""
          }
         },
         "name": "0.592",
         "offsetgroup": "0.592",
         "orientation": "v",
         "showlegend": true,
         "type": "histogram",
         "x": [
          "Denmark"
         ],
         "xaxis": "x",
         "y": [
          0.592
         ],
         "yaxis": "y"
        },
        {
         "alignmentgroup": "True",
         "bingroup": "x",
         "histfunc": "sum",
         "hovertemplate": "Freedom=0.603<br>Country=%{x}<br>sum of Freedom=%{y}<extra></extra>",
         "legendgroup": "0.603",
         "marker": {
          "color": "#00cc96",
          "pattern": {
           "shape": ""
          }
         },
         "name": "0.603",
         "offsetgroup": "0.603",
         "orientation": "v",
         "showlegend": true,
         "type": "histogram",
         "x": [
          "Norway"
         ],
         "xaxis": "x",
         "y": [
          0.603
         ],
         "yaxis": "y"
        },
        {
         "alignmentgroup": "True",
         "bingroup": "x",
         "histfunc": "sum",
         "hovertemplate": "Freedom=0.591<br>Country=%{x}<br>sum of Freedom=%{y}<extra></extra>",
         "legendgroup": "0.591",
         "marker": {
          "color": "#ab63fa",
          "pattern": {
           "shape": ""
          }
         },
         "name": "0.591",
         "offsetgroup": "0.591",
         "orientation": "v",
         "showlegend": true,
         "type": "histogram",
         "x": [
          "Iceland"
         ],
         "xaxis": "x",
         "y": [
          0.591
         ],
         "yaxis": "y"
        },
        {
         "alignmentgroup": "True",
         "bingroup": "x",
         "histfunc": "sum",
         "hovertemplate": "Freedom=0.557<br>Country=%{x}<br>sum of Freedom=%{y}<extra></extra>",
         "legendgroup": "0.557",
         "marker": {
          "color": "#FFA15A",
          "pattern": {
           "shape": ""
          }
         },
         "name": "0.557",
         "offsetgroup": "0.557",
         "orientation": "v",
         "showlegend": true,
         "type": "histogram",
         "x": [
          "Netherlands",
          "Australia",
          "Thailand"
         ],
         "xaxis": "x",
         "y": [
          0.557,
          0.557,
          0.557
         ],
         "yaxis": "y"
        },
        {
         "alignmentgroup": "True",
         "bingroup": "x",
         "histfunc": "sum",
         "hovertemplate": "Freedom=0.572<br>Country=%{x}<br>sum of Freedom=%{y}<extra></extra>",
         "legendgroup": "0.572",
         "marker": {
          "color": "#19d3f3",
          "pattern": {
           "shape": ""
          }
         },
         "name": "0.572",
         "offsetgroup": "0.572",
         "orientation": "v",
         "showlegend": true,
         "type": "histogram",
         "x": [
          "Switzerland"
         ],
         "xaxis": "x",
         "y": [
          0.572
         ],
         "yaxis": "y"
        },
        {
         "alignmentgroup": "True",
         "bingroup": "x",
         "histfunc": "sum",
         "hovertemplate": "Freedom=0.574<br>Country=%{x}<br>sum of Freedom=%{y}<extra></extra>",
         "legendgroup": "0.574",
         "marker": {
          "color": "#FF6692",
          "pattern": {
           "shape": ""
          }
         },
         "name": "0.574",
         "offsetgroup": "0.574",
         "orientation": "v",
         "showlegend": true,
         "type": "histogram",
         "x": [
          "Sweden"
         ],
         "xaxis": "x",
         "y": [
          0.574
         ],
         "yaxis": "y"
        },
        {
         "alignmentgroup": "True",
         "bingroup": "x",
         "histfunc": "sum",
         "hovertemplate": "Freedom=0.585<br>Country=%{x}<br>sum of Freedom=%{y}<extra></extra>",
         "legendgroup": "0.585",
         "marker": {
          "color": "#B6E880",
          "pattern": {
           "shape": ""
          }
         },
         "name": "0.585",
         "offsetgroup": "0.585",
         "orientation": "v",
         "showlegend": true,
         "type": "histogram",
         "x": [
          "New Zealand"
         ],
         "xaxis": "x",
         "y": [
          0.585
         ],
         "yaxis": "y"
        },
        {
         "alignmentgroup": "True",
         "bingroup": "x",
         "histfunc": "sum",
         "hovertemplate": "Freedom=0.584<br>Country=%{x}<br>sum of Freedom=%{y}<extra></extra>",
         "legendgroup": "0.584",
         "marker": {
          "color": "#FF97FF",
          "pattern": {
           "shape": ""
          }
         },
         "name": "0.584",
         "offsetgroup": "0.584",
         "orientation": "v",
         "showlegend": true,
         "type": "histogram",
         "x": [
          "Canada"
         ],
         "xaxis": "x",
         "y": [
          0.584
         ],
         "yaxis": "y"
        },
        {
         "alignmentgroup": "True",
         "bingroup": "x",
         "histfunc": "sum",
         "hovertemplate": "Freedom=0.532<br>Country=%{x}<br>sum of Freedom=%{y}<extra></extra>",
         "legendgroup": "0.532",
         "marker": {
          "color": "#FECB52",
          "pattern": {
           "shape": ""
          }
         },
         "name": "0.532",
         "offsetgroup": "0.532",
         "orientation": "v",
         "showlegend": true,
         "type": "histogram",
         "x": [
          "Austria"
         ],
         "xaxis": "x",
         "y": [
          0.532
         ],
         "yaxis": "y"
        },
        {
         "alignmentgroup": "True",
         "bingroup": "x",
         "histfunc": "sum",
         "hovertemplate": "Freedom=0.558<br>Country=%{x}<br>sum of Freedom=%{y}<extra></extra>",
         "legendgroup": "0.558",
         "marker": {
          "color": "#636efa",
          "pattern": {
           "shape": ""
          }
         },
         "name": "0.558",
         "offsetgroup": "0.558",
         "orientation": "v",
         "showlegend": true,
         "type": "histogram",
         "x": [
          "Costa Rica",
          "Philippines"
         ],
         "xaxis": "x",
         "y": [
          0.558,
          0.558
         ],
         "yaxis": "y"
        },
        {
         "alignmentgroup": "True",
         "bingroup": "x",
         "histfunc": "sum",
         "hovertemplate": "Freedom=0.371<br>Country=%{x}<br>sum of Freedom=%{y}<extra></extra>",
         "legendgroup": "0.371",
         "marker": {
          "color": "#EF553B",
          "pattern": {
           "shape": ""
          }
         },
         "name": "0.371",
         "offsetgroup": "0.371",
         "orientation": "v",
         "showlegend": true,
         "type": "histogram",
         "x": [
          "Israel"
         ],
         "xaxis": "x",
         "y": [
          0.371
         ],
         "yaxis": "y"
        },
        {
         "alignmentgroup": "True",
         "bingroup": "x",
         "histfunc": "sum",
         "hovertemplate": "Freedom=0.526<br>Country=%{x}<br>sum of Freedom=%{y}<extra></extra>",
         "legendgroup": "0.526",
         "marker": {
          "color": "#00cc96",
          "pattern": {
           "shape": ""
          }
         },
         "name": "0.526",
         "offsetgroup": "0.526",
         "orientation": "v",
         "showlegend": true,
         "type": "histogram",
         "x": [
          "Luxembourg"
         ],
         "xaxis": "x",
         "y": [
          0.526
         ],
         "yaxis": "y"
        },
        {
         "alignmentgroup": "True",
         "bingroup": "x",
         "histfunc": "sum",
         "hovertemplate": "Freedom=0.45<br>Country=%{x}<br>sum of Freedom=%{y}<extra></extra>",
         "legendgroup": "0.45",
         "marker": {
          "color": "#ab63fa",
          "pattern": {
           "shape": ""
          }
         },
         "name": "0.45",
         "offsetgroup": "0.45",
         "orientation": "v",
         "showlegend": true,
         "type": "histogram",
         "x": [
          "United Kingdom"
         ],
         "xaxis": "x",
         "y": [
          0.45
         ],
         "yaxis": "y"
        },
        {
         "alignmentgroup": "True",
         "bingroup": "x",
         "histfunc": "sum",
         "hovertemplate": "Freedom=0.516<br>Country=%{x}<br>sum of Freedom=%{y}<extra></extra>",
         "legendgroup": "0.516",
         "marker": {
          "color": "#FFA15A",
          "pattern": {
           "shape": ""
          }
         },
         "name": "0.516",
         "offsetgroup": "0.516",
         "orientation": "v",
         "showlegend": true,
         "type": "histogram",
         "x": [
          "Ireland",
          "Panama"
         ],
         "xaxis": "x",
         "y": [
          0.516,
          0.516
         ],
         "yaxis": "y"
        },
        {
         "alignmentgroup": "True",
         "bingroup": "x",
         "histfunc": "sum",
         "hovertemplate": "Freedom=0.495<br>Country=%{x}<br>sum of Freedom=%{y}<extra></extra>",
         "legendgroup": "0.495",
         "marker": {
          "color": "#19d3f3",
          "pattern": {
           "shape": ""
          }
         },
         "name": "0.495",
         "offsetgroup": "0.495",
         "orientation": "v",
         "showlegend": true,
         "type": "histogram",
         "x": [
          "Germany",
          "Estonia"
         ],
         "xaxis": "x",
         "y": [
          0.495,
          0.495
         ],
         "yaxis": "y"
        },
        {
         "alignmentgroup": "True",
         "bingroup": "x",
         "histfunc": "sum",
         "hovertemplate": "Freedom=0.473<br>Country=%{x}<br>sum of Freedom=%{y}<extra></extra>",
         "legendgroup": "0.473",
         "marker": {
          "color": "#FF6692",
          "pattern": {
           "shape": ""
          }
         },
         "name": "0.473",
         "offsetgroup": "0.473",
         "orientation": "v",
         "showlegend": true,
         "type": "histogram",
         "x": [
          "Belgium"
         ],
         "xaxis": "x",
         "y": [
          0.473
         ],
         "yaxis": "y"
        },
        {
         "alignmentgroup": "True",
         "bingroup": "x",
         "histfunc": "sum",
         "hovertemplate": "Freedom=0.454<br>Country=%{x}<br>sum of Freedom=%{y}<extra></extra>",
         "legendgroup": "0.454",
         "marker": {
          "color": "#B6E880",
          "pattern": {
           "shape": ""
          }
         },
         "name": "0.454",
         "offsetgroup": "0.454",
         "orientation": "v",
         "showlegend": true,
         "type": "histogram",
         "x": [
          "United States"
         ],
         "xaxis": "x",
         "y": [
          0.454
         ],
         "yaxis": "y"
        },
        {
         "alignmentgroup": "True",
         "bingroup": "x",
         "histfunc": "sum",
         "hovertemplate": "Freedom=0.457<br>Country=%{x}<br>sum of Freedom=%{y}<extra></extra>",
         "legendgroup": "0.457",
         "marker": {
          "color": "#FF97FF",
          "pattern": {
           "shape": ""
          }
         },
         "name": "0.457",
         "offsetgroup": "0.457",
         "orientation": "v",
         "showlegend": true,
         "type": "histogram",
         "x": [
          "Czech Republic",
          "Bhutan"
         ],
         "xaxis": "x",
         "y": [
          0.457,
          0.457
         ],
         "yaxis": "y"
        },
        {
         "alignmentgroup": "True",
         "bingroup": "x",
         "histfunc": "sum",
         "hovertemplate": "Freedom=0.598<br>Country=%{x}<br>sum of Freedom=%{y}<extra></extra>",
         "legendgroup": "0.598",
         "marker": {
          "color": "#FECB52",
          "pattern": {
           "shape": ""
          }
         },
         "name": "0.598",
         "offsetgroup": "0.598",
         "orientation": "v",
         "showlegend": true,
         "type": "histogram",
         "x": [
          "United Arab Emirates"
         ],
         "xaxis": "x",
         "y": [
          0.598
         ],
         "yaxis": "y"
        },
        {
         "alignmentgroup": "True",
         "bingroup": "x",
         "histfunc": "sum",
         "hovertemplate": "Freedom=0.564<br>Country=%{x}<br>sum of Freedom=%{y}<extra></extra>",
         "legendgroup": "0.564",
         "marker": {
          "color": "#636efa",
          "pattern": {
           "shape": ""
          }
         },
         "name": "0.564",
         "offsetgroup": "0.564",
         "orientation": "v",
         "showlegend": true,
         "type": "histogram",
         "x": [
          "Malta",
          "Slovenia"
         ],
         "xaxis": "x",
         "y": [
          0.564,
          0.564
         ],
         "yaxis": "y"
        },
        {
         "alignmentgroup": "True",
         "bingroup": "x",
         "histfunc": "sum",
         "hovertemplate": "Freedom=0.433<br>Country=%{x}<br>sum of Freedom=%{y}<extra></extra>",
         "legendgroup": "0.433",
         "marker": {
          "color": "#EF553B",
          "pattern": {
           "shape": ""
          }
         },
         "name": "0.433",
         "offsetgroup": "0.433",
         "orientation": "v",
         "showlegend": true,
         "type": "histogram",
         "x": [
          "Mexico"
         ],
         "xaxis": "x",
         "y": [
          0.433
         ],
         "yaxis": "y"
        },
        {
         "alignmentgroup": "True",
         "bingroup": "x",
         "histfunc": "sum",
         "hovertemplate": "Freedom=0.436<br>Country=%{x}<br>sum of Freedom=%{y}<extra></extra>",
         "legendgroup": "0.436",
         "marker": {
          "color": "#00cc96",
          "pattern": {
           "shape": ""
          }
         },
         "name": "0.436",
         "offsetgroup": "0.436",
         "orientation": "v",
         "showlegend": true,
         "type": "histogram",
         "x": [
          "France"
         ],
         "xaxis": "x",
         "y": [
          0.436
         ],
         "yaxis": "y"
        },
        {
         "alignmentgroup": "True",
         "bingroup": "x",
         "histfunc": "sum",
         "hovertemplate": "Freedom=0.351<br>Country=%{x}<br>sum of Freedom=%{y}<extra></extra>",
         "legendgroup": "0.351",
         "marker": {
          "color": "#ab63fa",
          "pattern": {
           "shape": ""
          }
         },
         "name": "0.351",
         "offsetgroup": "0.351",
         "orientation": "v",
         "showlegend": true,
         "type": "histogram",
         "x": [
          "Taiwan",
          "Azerbaijan"
         ],
         "xaxis": "x",
         "y": [
          0.351,
          0.351
         ],
         "yaxis": "y"
        },
        {
         "alignmentgroup": "True",
         "bingroup": "x",
         "histfunc": "sum",
         "hovertemplate": "Freedom=0.357<br>Country=%{x}<br>sum of Freedom=%{y}<extra></extra>",
         "legendgroup": "0.357",
         "marker": {
          "color": "#FFA15A",
          "pattern": {
           "shape": ""
          }
         },
         "name": "0.357",
         "offsetgroup": "0.357",
         "orientation": "v",
         "showlegend": true,
         "type": "histogram",
         "x": [
          "Chile"
         ],
         "xaxis": "x",
         "y": [
          0.357
         ],
         "yaxis": "y"
        },
        {
         "alignmentgroup": "True",
         "bingroup": "x",
         "histfunc": "sum",
         "hovertemplate": "Freedom=0.535<br>Country=%{x}<br>sum of Freedom=%{y}<extra></extra>",
         "legendgroup": "0.535",
         "marker": {
          "color": "#19d3f3",
          "pattern": {
           "shape": ""
          }
         },
         "name": "0.535",
         "offsetgroup": "0.535",
         "orientation": "v",
         "showlegend": true,
         "type": "histogram",
         "x": [
          "Guatemala"
         ],
         "xaxis": "x",
         "y": [
          0.535
         ],
         "yaxis": "y"
        },
        {
         "alignmentgroup": "True",
         "bingroup": "x",
         "histfunc": "sum",
         "hovertemplate": "Freedom=0.439<br>Country=%{x}<br>sum of Freedom=%{y}<extra></extra>",
         "legendgroup": "0.439",
         "marker": {
          "color": "#FF6692",
          "pattern": {
           "shape": ""
          }
         },
         "name": "0.439",
         "offsetgroup": "0.439",
         "orientation": "v",
         "showlegend": true,
         "type": "histogram",
         "x": [
          "Saudi Arabia",
          "Nepal"
         ],
         "xaxis": "x",
         "y": [
          0.439,
          0.439
         ],
         "yaxis": "y"
        },
        {
         "alignmentgroup": "True",
         "bingroup": "x",
         "histfunc": "sum",
         "hovertemplate": "Freedom=0.555<br>Country=%{x}<br>sum of Freedom=%{y}<extra></extra>",
         "legendgroup": "0.555",
         "marker": {
          "color": "#B6E880",
          "pattern": {
           "shape": ""
          }
         },
         "name": "0.555",
         "offsetgroup": "0.555",
         "orientation": "v",
         "showlegend": true,
         "type": "histogram",
         "x": [
          "Qatar",
          "Rwanda"
         ],
         "xaxis": "x",
         "y": [
          0.555,
          0.555
         ],
         "yaxis": "y"
        },
        {
         "alignmentgroup": "True",
         "bingroup": "x",
         "histfunc": "sum",
         "hovertemplate": "Freedom=0.362<br>Country=%{x}<br>sum of Freedom=%{y}<extra></extra>",
         "legendgroup": "0.362",
         "marker": {
          "color": "#FF97FF",
          "pattern": {
           "shape": ""
          }
         },
         "name": "0.362",
         "offsetgroup": "0.362",
         "orientation": "v",
         "showlegend": true,
         "type": "histogram",
         "x": [
          "Spain"
         ],
         "xaxis": "x",
         "y": [
          0.362
         ],
         "yaxis": "y"
        },
        {
         "alignmentgroup": "True",
         "bingroup": "x",
         "histfunc": "sum",
         "hovertemplate": "Freedom=0.39<br>Country=%{x}<br>sum of Freedom=%{y}<extra></extra>",
         "legendgroup": "0.39",
         "marker": {
          "color": "#FECB52",
          "pattern": {
           "shape": ""
          }
         },
         "name": "0.39",
         "offsetgroup": "0.39",
         "orientation": "v",
         "showlegend": true,
         "type": "histogram",
         "x": [
          "Brazil"
         ],
         "xaxis": "x",
         "y": [
          0.39
         ],
         "yaxis": "y"
        },
        {
         "alignmentgroup": "True",
         "bingroup": "x",
         "histfunc": "sum",
         "hovertemplate": "Freedom=0.523<br>Country=%{x}<br>sum of Freedom=%{y}<extra></extra>",
         "legendgroup": "0.523",
         "marker": {
          "color": "#636efa",
          "pattern": {
           "shape": ""
          }
         },
         "name": "0.523",
         "offsetgroup": "0.523",
         "orientation": "v",
         "showlegend": true,
         "type": "histogram",
         "x": [
          "Uruguay"
         ],
         "xaxis": "x",
         "y": [
          0.523
         ],
         "yaxis": "y"
        },
        {
         "alignmentgroup": "True",
         "bingroup": "x",
         "histfunc": "sum",
         "hovertemplate": "Freedom=0.556<br>Country=%{x}<br>sum of Freedom=%{y}<extra></extra>",
         "legendgroup": "0.556",
         "marker": {
          "color": "#EF553B",
          "pattern": {
           "shape": ""
          }
         },
         "name": "0.556",
         "offsetgroup": "0.556",
         "orientation": "v",
         "showlegend": true,
         "type": "histogram",
         "x": [
          "Singapore"
         ],
         "xaxis": "x",
         "y": [
          0.556
         ],
         "yaxis": "y"
        },
        {
         "alignmentgroup": "True",
         "bingroup": "x",
         "histfunc": "sum",
         "hovertemplate": "Freedom=0.43<br>Country=%{x}<br>sum of Freedom=%{y}<extra></extra>",
         "legendgroup": "0.43",
         "marker": {
          "color": "#00cc96",
          "pattern": {
           "shape": ""
          }
         },
         "name": "0.43",
         "offsetgroup": "0.43",
         "orientation": "v",
         "showlegend": true,
         "type": "histogram",
         "x": [
          "El Salvador"
         ],
         "xaxis": "x",
         "y": [
          0.43
         ],
         "yaxis": "y"
        },
        {
         "alignmentgroup": "True",
         "bingroup": "x",
         "histfunc": "sum",
         "hovertemplate": "Freedom=0.231<br>Country=%{x}<br>sum of Freedom=%{y}<extra></extra>",
         "legendgroup": "0.231",
         "marker": {
          "color": "#ab63fa",
          "pattern": {
           "shape": ""
          }
         },
         "name": "0.231",
         "offsetgroup": "0.231",
         "orientation": "v",
         "showlegend": true,
         "type": "histogram",
         "x": [
          "Italy"
         ],
         "xaxis": "x",
         "y": [
          0.231
         ],
         "yaxis": "y"
        },
        {
         "alignmentgroup": "True",
         "bingroup": "x",
         "histfunc": "sum",
         "hovertemplate": "Freedom=0.536<br>Country=%{x}<br>sum of Freedom=%{y}<extra></extra>",
         "legendgroup": "0.536",
         "marker": {
          "color": "#FFA15A",
          "pattern": {
           "shape": ""
          }
         },
         "name": "0.536",
         "offsetgroup": "0.536",
         "orientation": "v",
         "showlegend": true,
         "type": "histogram",
         "x": [
          "Bahrain"
         ],
         "xaxis": "x",
         "y": [
          0.536
         ],
         "yaxis": "y"
        },
        {
         "alignmentgroup": "True",
         "bingroup": "x",
         "histfunc": "sum",
         "hovertemplate": "Freedom=0.334<br>Country=%{x}<br>sum of Freedom=%{y}<extra></extra>",
         "legendgroup": "0.334",
         "marker": {
          "color": "#19d3f3",
          "pattern": {
           "shape": ""
          }
         },
         "name": "0.334",
         "offsetgroup": "0.334",
         "orientation": "v",
         "showlegend": true,
         "type": "histogram",
         "x": [
          "Slovakia",
          "Russia"
         ],
         "xaxis": "x",
         "y": [
          0.334,
          0.334
         ],
         "yaxis": "y"
        },
        {
         "alignmentgroup": "True",
         "bingroup": "x",
         "histfunc": "sum",
         "hovertemplate": "Freedom=0.489<br>Country=%{x}<br>sum of Freedom=%{y}<extra></extra>",
         "legendgroup": "0.489",
         "marker": {
          "color": "#FF6692",
          "pattern": {
           "shape": ""
          }
         },
         "name": "0.489",
         "offsetgroup": "0.489",
         "orientation": "v",
         "showlegend": true,
         "type": "histogram",
         "x": [
          "Trinidad & Tobago",
          "Kosovo"
         ],
         "xaxis": "x",
         "y": [
          0.489,
          0.489
         ],
         "yaxis": "y"
        },
        {
         "alignmentgroup": "True",
         "bingroup": "x",
         "histfunc": "sum",
         "hovertemplate": "Freedom=0.483<br>Country=%{x}<br>sum of Freedom=%{y}<extra></extra>",
         "legendgroup": "0.483",
         "marker": {
          "color": "#B6E880",
          "pattern": {
           "shape": ""
          }
         },
         "name": "0.483",
         "offsetgroup": "0.483",
         "orientation": "v",
         "showlegend": true,
         "type": "histogram",
         "x": [
          "Poland"
         ],
         "xaxis": "x",
         "y": [
          0.483
         ],
         "yaxis": "y"
        },
        {
         "alignmentgroup": "True",
         "bingroup": "x",
         "histfunc": "sum",
         "hovertemplate": "Freedom=0.631<br>Country=%{x}<br>sum of Freedom=%{y}<extra></extra>",
         "legendgroup": "0.631",
         "marker": {
          "color": "#FF97FF",
          "pattern": {
           "shape": ""
          }
         },
         "name": "0.631",
         "offsetgroup": "0.631",
         "orientation": "v",
         "showlegend": true,
         "type": "histogram",
         "x": [
          "Uzbekistan"
         ],
         "xaxis": "x",
         "y": [
          0.631
         ],
         "yaxis": "y"
        },
        {
         "alignmentgroup": "True",
         "bingroup": "x",
         "histfunc": "sum",
         "hovertemplate": "Freedom=0.291<br>Country=%{x}<br>sum of Freedom=%{y}<extra></extra>",
         "legendgroup": "0.291",
         "marker": {
          "color": "#FECB52",
          "pattern": {
           "shape": ""
          }
         },
         "name": "0.291",
         "offsetgroup": "0.291",
         "orientation": "v",
         "showlegend": true,
         "type": "histogram",
         "x": [
          "Lithuania"
         ],
         "xaxis": "x",
         "y": [
          0.291
         ],
         "yaxis": "y"
        },
        {
         "alignmentgroup": "True",
         "bingroup": "x",
         "histfunc": "sum",
         "hovertemplate": "Freedom=0.47<br>Country=%{x}<br>sum of Freedom=%{y}<extra></extra>",
         "legendgroup": "0.47",
         "marker": {
          "color": "#636efa",
          "pattern": {
           "shape": ""
          }
         },
         "name": "0.47",
         "offsetgroup": "0.47",
         "orientation": "v",
         "showlegend": true,
         "type": "histogram",
         "x": [
          "Colombia",
          "Sri Lanka"
         ],
         "xaxis": "x",
         "y": [
          0.47,
          0.47
         ],
         "yaxis": "y"
        },
        {
         "alignmentgroup": "True",
         "bingroup": "x",
         "histfunc": "sum",
         "hovertemplate": "Freedom=0.435<br>Country=%{x}<br>sum of Freedom=%{y}<extra></extra>",
         "legendgroup": "0.435",
         "marker": {
          "color": "#EF553B",
          "pattern": {
           "shape": ""
          }
         },
         "name": "0.435",
         "offsetgroup": "0.435",
         "orientation": "v",
         "showlegend": true,
         "type": "histogram",
         "x": [
          "Nicaragua"
         ],
         "xaxis": "x",
         "y": [
          0.435
         ],
         "yaxis": "y"
        },
        {
         "alignmentgroup": "True",
         "bingroup": "x",
         "histfunc": "sum",
         "hovertemplate": "Freedom=0.471<br>Country=%{x}<br>sum of Freedom=%{y}<extra></extra>",
         "legendgroup": "0.471",
         "marker": {
          "color": "#00cc96",
          "pattern": {
           "shape": ""
          }
         },
         "name": "0.471",
         "offsetgroup": "0.471",
         "orientation": "v",
         "showlegend": true,
         "type": "histogram",
         "x": [
          "Argentina"
         ],
         "xaxis": "x",
         "y": [
          0.471
         ],
         "yaxis": "y"
        },
        {
         "alignmentgroup": "True",
         "bingroup": "x",
         "histfunc": "sum",
         "hovertemplate": "Freedom=0.462<br>Country=%{x}<br>sum of Freedom=%{y}<extra></extra>",
         "legendgroup": "0.462",
         "marker": {
          "color": "#ab63fa",
          "pattern": {
           "shape": ""
          }
         },
         "name": "0.462",
         "offsetgroup": "0.462",
         "orientation": "v",
         "showlegend": true,
         "type": "histogram",
         "x": [
          "Romania"
         ],
         "xaxis": "x",
         "y": [
          0.462
         ],
         "yaxis": "y"
        },
        {
         "alignmentgroup": "True",
         "bingroup": "x",
         "histfunc": "sum",
         "hovertemplate": "Freedom=0.406<br>Country=%{x}<br>sum of Freedom=%{y}<extra></extra>",
         "legendgroup": "0.406",
         "marker": {
          "color": "#FFA15A",
          "pattern": {
           "shape": ""
          }
         },
         "name": "0.406",
         "offsetgroup": "0.406",
         "orientation": "v",
         "showlegend": true,
         "type": "histogram",
         "x": [
          "Cyprus"
         ],
         "xaxis": "x",
         "y": [
          0.406
         ],
         "yaxis": "y"
        },
        {
         "alignmentgroup": "True",
         "bingroup": "x",
         "histfunc": "sum",
         "hovertemplate": "Freedom=0.498<br>Country=%{x}<br>sum of Freedom=%{y}<extra></extra>",
         "legendgroup": "0.498",
         "marker": {
          "color": "#19d3f3",
          "pattern": {
           "shape": ""
          }
         },
         "name": "0.498",
         "offsetgroup": "0.498",
         "orientation": "v",
         "showlegend": true,
         "type": "histogram",
         "x": [
          "Ecuador",
          "Mauritius",
          "India"
         ],
         "xaxis": "x",
         "y": [
          0.498,
          0.498,
          0.498
         ],
         "yaxis": "y"
        },
        {
         "alignmentgroup": "True",
         "bingroup": "x",
         "histfunc": "sum",
         "hovertemplate": "Freedom=0.493<br>Country=%{x}<br>sum of Freedom=%{y}<extra></extra>",
         "legendgroup": "0.493",
         "marker": {
          "color": "#FF6692",
          "pattern": {
           "shape": ""
          }
         },
         "name": "0.493",
         "offsetgroup": "0.493",
         "orientation": "v",
         "showlegend": true,
         "type": "histogram",
         "x": [
          "Kuwait"
         ],
         "xaxis": "x",
         "y": [
          0.493
         ],
         "yaxis": "y"
        },
        {
         "alignmentgroup": "True",
         "bingroup": "x",
         "histfunc": "sum",
         "hovertemplate": "Freedom=0.264<br>Country=%{x}<br>sum of Freedom=%{y}<extra></extra>",
         "legendgroup": "0.264",
         "marker": {
          "color": "#B6E880",
          "pattern": {
           "shape": ""
          }
         },
         "name": "0.264",
         "offsetgroup": "0.264",
         "orientation": "v",
         "showlegend": true,
         "type": "histogram",
         "x": [
          "Latvia"
         ],
         "xaxis": "x",
         "y": [
          0.264
         ],
         "yaxis": "y"
        },
        {
         "alignmentgroup": "True",
         "bingroup": "x",
         "histfunc": "sum",
         "hovertemplate": "Freedom=0.159<br>Country=%{x}<br>sum of Freedom=%{y}<extra></extra>",
         "legendgroup": "0.159",
         "marker": {
          "color": "#FF97FF",
          "pattern": {
           "shape": ""
          }
         },
         "name": "0.159",
         "offsetgroup": "0.159",
         "orientation": "v",
         "showlegend": true,
         "type": "histogram",
         "x": [
          "South Korea"
         ],
         "xaxis": "x",
         "y": [
          0.159
         ],
         "yaxis": "y"
        },
        {
         "alignmentgroup": "True",
         "bingroup": "x",
         "histfunc": "sum",
         "hovertemplate": "Freedom=0.49<br>Country=%{x}<br>sum of Freedom=%{y}<extra></extra>",
         "legendgroup": "0.49",
         "marker": {
          "color": "#FECB52",
          "pattern": {
           "shape": ""
          }
         },
         "name": "0.49",
         "offsetgroup": "0.49",
         "orientation": "v",
         "showlegend": true,
         "type": "histogram",
         "x": [
          "Jamaica"
         ],
         "xaxis": "x",
         "y": [
          0.49
         ],
         "yaxis": "y"
        },
        {
         "alignmentgroup": "True",
         "bingroup": "x",
         "histfunc": "sum",
         "hovertemplate": "Freedom=0.445<br>Country=%{x}<br>sum of Freedom=%{y}<extra></extra>",
         "legendgroup": "0.445",
         "marker": {
          "color": "#636efa",
          "pattern": {
           "shape": ""
          }
         },
         "name": "0.445",
         "offsetgroup": "0.445",
         "orientation": "v",
         "showlegend": true,
         "type": "histogram",
         "x": [
          "Japan"
         ],
         "xaxis": "x",
         "y": [
          0.445
         ],
         "yaxis": "y"
        },
        {
         "alignmentgroup": "True",
         "bingroup": "x",
         "histfunc": "sum",
         "hovertemplate": "Freedom=0.507<br>Country=%{x}<br>sum of Freedom=%{y}<extra></extra>",
         "legendgroup": "0.507",
         "marker": {
          "color": "#EF553B",
          "pattern": {
           "shape": ""
          }
         },
         "name": "0.507",
         "offsetgroup": "0.507",
         "orientation": "v",
         "showlegend": true,
         "type": "histogram",
         "x": [
          "Honduras"
         ],
         "xaxis": "x",
         "y": [
          0.507
         ],
         "yaxis": "y"
        },
        {
         "alignmentgroup": "True",
         "bingroup": "x",
         "histfunc": "sum",
         "hovertemplate": "Freedom=0.41<br>Country=%{x}<br>sum of Freedom=%{y}<extra></extra>",
         "legendgroup": "0.41",
         "marker": {
          "color": "#00cc96",
          "pattern": {
           "shape": ""
          }
         },
         "name": "0.41",
         "offsetgroup": "0.41",
         "orientation": "v",
         "showlegend": true,
         "type": "histogram",
         "x": [
          "Kazakhstan"
         ],
         "xaxis": "x",
         "y": [
          0.41
         ],
         "yaxis": "y"
        },
        {
         "alignmentgroup": "True",
         "bingroup": "x",
         "histfunc": "sum",
         "hovertemplate": "Freedom=0.511<br>Country=%{x}<br>sum of Freedom=%{y}<extra></extra>",
         "legendgroup": "0.511",
         "marker": {
          "color": "#ab63fa",
          "pattern": {
           "shape": ""
          }
         },
         "name": "0.511",
         "offsetgroup": "0.511",
         "orientation": "v",
         "showlegend": true,
         "type": "histogram",
         "x": [
          "Bolivia"
         ],
         "xaxis": "x",
         "y": [
          0.511
         ],
         "yaxis": "y"
        },
        {
         "alignmentgroup": "True",
         "bingroup": "x",
         "histfunc": "sum",
         "hovertemplate": "Freedom=0.199<br>Country=%{x}<br>sum of Freedom=%{y}<extra></extra>",
         "legendgroup": "0.199",
         "marker": {
          "color": "#FFA15A",
          "pattern": {
           "shape": ""
          }
         },
         "name": "0.199",
         "offsetgroup": "0.199",
         "orientation": "v",
         "showlegend": true,
         "type": "histogram",
         "x": [
          "Hungary"
         ],
         "xaxis": "x",
         "y": [
          0.199
         ],
         "yaxis": "y"
        },
        {
         "alignmentgroup": "True",
         "bingroup": "x",
         "histfunc": "sum",
         "hovertemplate": "Freedom=0.514<br>Country=%{x}<br>sum of Freedom=%{y}<extra></extra>",
         "legendgroup": "0.514",
         "marker": {
          "color": "#19d3f3",
          "pattern": {
           "shape": ""
          }
         },
         "name": "0.514",
         "offsetgroup": "0.514",
         "orientation": "v",
         "showlegend": true,
         "type": "histogram",
         "x": [
          "Paraguay"
         ],
         "xaxis": "x",
         "y": [
          0.514
         ],
         "yaxis": "y"
        },
        {
         "alignmentgroup": "True",
         "bingroup": "x",
         "histfunc": "sum",
         "hovertemplate": "Freedom=0.417<br>Country=%{x}<br>sum of Freedom=%{y}<extra></extra>",
         "legendgroup": "0.417",
         "marker": {
          "color": "#FF6692",
          "pattern": {
           "shape": ""
          }
         },
         "name": "0.417",
         "offsetgroup": "0.417",
         "orientation": "v",
         "showlegend": true,
         "type": "histogram",
         "x": [
          "Northern Cyprus",
          "Tanzania"
         ],
         "xaxis": "x",
         "y": [
          0.417,
          0.417
         ],
         "yaxis": "y"
        },
        {
         "alignmentgroup": "True",
         "bingroup": "x",
         "histfunc": "sum",
         "hovertemplate": "Freedom=0.455<br>Country=%{x}<br>sum of Freedom=%{y}<extra></extra>",
         "legendgroup": "0.455",
         "marker": {
          "color": "#B6E880",
          "pattern": {
           "shape": ""
          }
         },
         "name": "0.455",
         "offsetgroup": "0.455",
         "orientation": "v",
         "showlegend": true,
         "type": "histogram",
         "x": [
          "Peru",
          "Botswana"
         ],
         "xaxis": "x",
         "y": [
          0.455,
          0.455
         ],
         "yaxis": "y"
        },
        {
         "alignmentgroup": "True",
         "bingroup": "x",
         "histfunc": "sum",
         "hovertemplate": "Freedom=0.508<br>Country=%{x}<br>sum of Freedom=%{y}<extra></extra>",
         "legendgroup": "0.508",
         "marker": {
          "color": "#FF97FF",
          "pattern": {
           "shape": ""
          }
         },
         "name": "0.508",
         "offsetgroup": "0.508",
         "orientation": "v",
         "showlegend": true,
         "type": "histogram",
         "x": [
          "Portugal",
          "Malaysia",
          "Kyrgyzstan"
         ],
         "xaxis": "x",
         "y": [
          0.508,
          0.508,
          0.508
         ],
         "yaxis": "y"
        },
        {
         "alignmentgroup": "True",
         "bingroup": "x",
         "histfunc": "sum",
         "hovertemplate": "Freedom=0.313<br>Country=%{x}<br>sum of Freedom=%{y}<extra></extra>",
         "legendgroup": "0.313",
         "marker": {
          "color": "#FECB52",
          "pattern": {
           "shape": ""
          }
         },
         "name": "0.313",
         "offsetgroup": "0.313",
         "orientation": "v",
         "showlegend": true,
         "type": "histogram",
         "x": [
          "Pakistan",
          "Swaziland"
         ],
         "xaxis": "x",
         "y": [
          0.313,
          0.313
         ],
         "yaxis": "y"
        },
        {
         "alignmentgroup": "True",
         "bingroup": "x",
         "histfunc": "sum",
         "hovertemplate": "Freedom=0.282<br>Country=%{x}<br>sum of Freedom=%{y}<extra></extra>",
         "legendgroup": "0.282",
         "marker": {
          "color": "#636efa",
          "pattern": {
           "shape": ""
          }
         },
         "name": "0.282",
         "offsetgroup": "0.282",
         "orientation": "v",
         "showlegend": true,
         "type": "histogram",
         "x": [
          "Serbia"
         ],
         "xaxis": "x",
         "y": [
          0.282
         ],
         "yaxis": "y"
        },
        {
         "alignmentgroup": "True",
         "bingroup": "x",
         "histfunc": "sum",
         "hovertemplate": "Freedom=0.245<br>Country=%{x}<br>sum of Freedom=%{y}<extra></extra>",
         "legendgroup": "0.245",
         "marker": {
          "color": "#EF553B",
          "pattern": {
           "shape": ""
          }
         },
         "name": "0.245",
         "offsetgroup": "0.245",
         "orientation": "v",
         "showlegend": true,
         "type": "histogram",
         "x": [
          "Moldova"
         ],
         "xaxis": "x",
         "y": [
          0.245
         ],
         "yaxis": "y"
        },
        {
         "alignmentgroup": "True",
         "bingroup": "x",
         "histfunc": "sum",
         "hovertemplate": "Freedom=0.416<br>Country=%{x}<br>sum of Freedom=%{y}<extra></extra>",
         "legendgroup": "0.416",
         "marker": {
          "color": "#00cc96",
          "pattern": {
           "shape": ""
          }
         },
         "name": "0.416",
         "offsetgroup": "0.416",
         "orientation": "v",
         "showlegend": true,
         "type": "histogram",
         "x": [
          "Libya"
         ],
         "xaxis": "x",
         "y": [
          0.416
         ],
         "yaxis": "y"
        },
        {
         "alignmentgroup": "True",
         "bingroup": "x",
         "histfunc": "sum",
         "hovertemplate": "Freedom=0.197<br>Country=%{x}<br>sum of Freedom=%{y}<extra></extra>",
         "legendgroup": "0.197",
         "marker": {
          "color": "#ab63fa",
          "pattern": {
           "shape": ""
          }
         },
         "name": "0.197",
         "offsetgroup": "0.197",
         "orientation": "v",
         "showlegend": true,
         "type": "histogram",
         "x": [
          "Montenegro"
         ],
         "xaxis": "x",
         "y": [
          0.197
         ],
         "yaxis": "y"
        },
        {
         "alignmentgroup": "True",
         "bingroup": "x",
         "histfunc": "sum",
         "hovertemplate": "Freedom=0.389<br>Country=%{x}<br>sum of Freedom=%{y}<extra></extra>",
         "legendgroup": "0.389",
         "marker": {
          "color": "#FFA15A",
          "pattern": {
           "shape": ""
          }
         },
         "name": "0.389",
         "offsetgroup": "0.389",
         "orientation": "v",
         "showlegend": true,
         "type": "histogram",
         "x": [
          "Tajikistan",
          "South Africa"
         ],
         "xaxis": "x",
         "y": [
          0.389,
          0.389
         ],
         "yaxis": "y"
        },
        {
         "alignmentgroup": "True",
         "bingroup": "x",
         "histfunc": "sum",
         "hovertemplate": "Freedom=0.296<br>Country=%{x}<br>sum of Freedom=%{y}<extra></extra>",
         "legendgroup": "0.296",
         "marker": {
          "color": "#19d3f3",
          "pattern": {
           "shape": ""
          }
         },
         "name": "0.296",
         "offsetgroup": "0.296",
         "orientation": "v",
         "showlegend": true,
         "type": "histogram",
         "x": [
          "Croatia"
         ],
         "xaxis": "x",
         "y": [
          0.296
         ],
         "yaxis": "y"
        },
        {
         "alignmentgroup": "True",
         "bingroup": "x",
         "histfunc": "sum",
         "hovertemplate": "Freedom=0.44<br>Country=%{x}<br>sum of Freedom=%{y}<extra></extra>",
         "legendgroup": "0.44",
         "marker": {
          "color": "#FF6692",
          "pattern": {
           "shape": ""
          }
         },
         "name": "0.44",
         "offsetgroup": "0.44",
         "orientation": "v",
         "showlegend": true,
         "type": "histogram",
         "x": [
          "Hong Kong"
         ],
         "xaxis": "x",
         "y": [
          0.44
         ],
         "yaxis": "y"
        },
        {
         "alignmentgroup": "True",
         "bingroup": "x",
         "histfunc": "sum",
         "hovertemplate": "Freedom=0.497<br>Country=%{x}<br>sum of Freedom=%{y}<extra></extra>",
         "legendgroup": "0.497",
         "marker": {
          "color": "#B6E880",
          "pattern": {
           "shape": ""
          }
         },
         "name": "0.497",
         "offsetgroup": "0.497",
         "orientation": "v",
         "showlegend": true,
         "type": "histogram",
         "x": [
          "Dominican Republic"
         ],
         "xaxis": "x",
         "y": [
          0.497
         ],
         "yaxis": "y"
        },
        {
         "alignmentgroup": "True",
         "bingroup": "x",
         "histfunc": "sum",
         "hovertemplate": "Freedom=0.212<br>Country=%{x}<br>sum of Freedom=%{y}<extra></extra>",
         "legendgroup": "0.212",
         "marker": {
          "color": "#FF97FF",
          "pattern": {
           "shape": ""
          }
         },
         "name": "0.212",
         "offsetgroup": "0.212",
         "orientation": "v",
         "showlegend": true,
         "type": "histogram",
         "x": [
          "Bosnia and Herzegovina"
         ],
         "xaxis": "x",
         "y": [
          0.212
         ],
         "yaxis": "y"
        },
        {
         "alignmentgroup": "True",
         "bingroup": "x",
         "histfunc": "sum",
         "hovertemplate": "Freedom=0.195<br>Country=%{x}<br>sum of Freedom=%{y}<extra></extra>",
         "legendgroup": "0.195",
         "marker": {
          "color": "#FECB52",
          "pattern": {
           "shape": ""
          }
         },
         "name": "0.195",
         "offsetgroup": "0.195",
         "orientation": "v",
         "showlegend": true,
         "type": "histogram",
         "x": [
          "Turkey"
         ],
         "xaxis": "x",
         "y": [
          0.195
         ],
         "yaxis": "y"
        },
        {
         "alignmentgroup": "True",
         "bingroup": "x",
         "histfunc": "sum",
         "hovertemplate": "Freedom=0.235<br>Country=%{x}<br>sum of Freedom=%{y}<extra></extra>",
         "legendgroup": "0.235",
         "marker": {
          "color": "#636efa",
          "pattern": {
           "shape": ""
          }
         },
         "name": "0.235",
         "offsetgroup": "0.235",
         "orientation": "v",
         "showlegend": true,
         "type": "histogram",
         "x": [
          "Belarus"
         ],
         "xaxis": "x",
         "y": [
          0.235
         ],
         "yaxis": "y"
        },
        {
         "alignmentgroup": "True",
         "bingroup": "x",
         "histfunc": "sum",
         "hovertemplate": "Freedom=0.067<br>Country=%{x}<br>sum of Freedom=%{y}<extra></extra>",
         "legendgroup": "0.067",
         "marker": {
          "color": "#EF553B",
          "pattern": {
           "shape": ""
          }
         },
         "name": "0.067",
         "offsetgroup": "0.067",
         "orientation": "v",
         "showlegend": true,
         "type": "histogram",
         "x": [
          "Greece"
         ],
         "xaxis": "x",
         "y": [
          0.067
         ],
         "yaxis": "y"
        },
        {
         "alignmentgroup": "True",
         "bingroup": "x",
         "histfunc": "sum",
         "hovertemplate": "Freedom=0.317<br>Country=%{x}<br>sum of Freedom=%{y}<extra></extra>",
         "legendgroup": "0.317",
         "marker": {
          "color": "#00cc96",
          "pattern": {
           "shape": ""
          }
         },
         "name": "0.317",
         "offsetgroup": "0.317",
         "orientation": "v",
         "showlegend": true,
         "type": "histogram",
         "x": [
          "Mongolia"
         ],
         "xaxis": "x",
         "y": [
          0.317
         ],
         "yaxis": "y"
        },
        {
         "alignmentgroup": "True",
         "bingroup": "x",
         "histfunc": "sum",
         "hovertemplate": "Freedom=0.345<br>Country=%{x}<br>sum of Freedom=%{y}<extra></extra>",
         "legendgroup": "0.345",
         "marker": {
          "color": "#ab63fa",
          "pattern": {
           "shape": ""
          }
         },
         "name": "0.345",
         "offsetgroup": "0.345",
         "orientation": "v",
         "showlegend": true,
         "type": "histogram",
         "x": [
          "North Macedonia"
         ],
         "xaxis": "x",
         "y": [
          0.345
         ],
         "yaxis": "y"
        },
        {
         "alignmentgroup": "True",
         "bingroup": "x",
         "histfunc": "sum",
         "hovertemplate": "Freedom=0.426<br>Country=%{x}<br>sum of Freedom=%{y}<extra></extra>",
         "legendgroup": "0.426",
         "marker": {
          "color": "#FFA15A",
          "pattern": {
           "shape": ""
          }
         },
         "name": "0.426",
         "offsetgroup": "0.426",
         "orientation": "v",
         "showlegend": true,
         "type": "histogram",
         "x": [
          "Nigeria"
         ],
         "xaxis": "x",
         "y": [
          0.426
         ],
         "yaxis": "y"
        },
        {
         "alignmentgroup": "True",
         "bingroup": "x",
         "histfunc": "sum",
         "hovertemplate": "Freedom=0.394<br>Country=%{x}<br>sum of Freedom=%{y}<extra></extra>",
         "legendgroup": "0.394",
         "marker": {
          "color": "#19d3f3",
          "pattern": {
           "shape": ""
          }
         },
         "name": "0.394",
         "offsetgroup": "0.394",
         "orientation": "v",
         "showlegend": true,
         "type": "histogram",
         "x": [
          "Turkmenistan"
         ],
         "xaxis": "x",
         "y": [
          0.394
         ],
         "yaxis": "y"
        },
        {
         "alignmentgroup": "True",
         "bingroup": "x",
         "histfunc": "sum",
         "hovertemplate": "Freedom=0.086<br>Country=%{x}<br>sum of Freedom=%{y}<extra></extra>",
         "legendgroup": "0.086",
         "marker": {
          "color": "#FF6692",
          "pattern": {
           "shape": ""
          }
         },
         "name": "0.086",
         "offsetgroup": "0.086",
         "orientation": "v",
         "showlegend": true,
         "type": "histogram",
         "x": [
          "Algeria"
         ],
         "xaxis": "x",
         "y": [
          0.086
         ],
         "yaxis": "y"
        },
        {
         "alignmentgroup": "True",
         "bingroup": "x",
         "histfunc": "sum",
         "hovertemplate": "Freedom=0.418<br>Country=%{x}<br>sum of Freedom=%{y}<extra></extra>",
         "legendgroup": "0.418",
         "marker": {
          "color": "#B6E880",
          "pattern": {
           "shape": ""
          }
         },
         "name": "0.418",
         "offsetgroup": "0.418",
         "orientation": "v",
         "showlegend": true,
         "type": "histogram",
         "x": [
          "Morocco"
         ],
         "xaxis": "x",
         "y": [
          0.418
         ],
         "yaxis": "y"
        },
        {
         "alignmentgroup": "True",
         "bingroup": "x",
         "histfunc": "sum",
         "hovertemplate": "Freedom=0.216<br>Country=%{x}<br>sum of Freedom=%{y}<extra></extra>",
         "legendgroup": "0.216",
         "marker": {
          "color": "#FF97FF",
          "pattern": {
           "shape": ""
          }
         },
         "name": "0.216",
         "offsetgroup": "0.216",
         "orientation": "v",
         "showlegend": true,
         "type": "histogram",
         "x": [
          "Lebanon"
         ],
         "xaxis": "x",
         "y": [
          0.216
         ],
         "yaxis": "y"
        },
        {
         "alignmentgroup": "True",
         "bingroup": "x",
         "histfunc": "sum",
         "hovertemplate": "Freedom=0.491<br>Country=%{x}<br>sum of Freedom=%{y}<extra></extra>",
         "legendgroup": "0.491",
         "marker": {
          "color": "#FECB52",
          "pattern": {
           "shape": ""
          }
         },
         "name": "0.491",
         "offsetgroup": "0.491",
         "orientation": "v",
         "showlegend": true,
         "type": "histogram",
         "x": [
          "Indonesia"
         ],
         "xaxis": "x",
         "y": [
          0.491
         ],
         "yaxis": "y"
        },
        {
         "alignmentgroup": "True",
         "bingroup": "x",
         "histfunc": "sum",
         "hovertemplate": "Freedom=0.521<br>Country=%{x}<br>sum of Freedom=%{y}<extra></extra>",
         "legendgroup": "0.521",
         "marker": {
          "color": "#636efa",
          "pattern": {
           "shape": ""
          }
         },
         "name": "0.521",
         "offsetgroup": "0.521",
         "orientation": "v",
         "showlegend": true,
         "type": "histogram",
         "x": [
          "China"
         ],
         "xaxis": "x",
         "y": [
          0.521
         ],
         "yaxis": "y"
        },
        {
         "alignmentgroup": "True",
         "bingroup": "x",
         "histfunc": "sum",
         "hovertemplate": "Freedom=0.543<br>Country=%{x}<br>sum of Freedom=%{y}<extra></extra>",
         "legendgroup": "0.543",
         "marker": {
          "color": "#EF553B",
          "pattern": {
           "shape": ""
          }
         },
         "name": "0.543",
         "offsetgroup": "0.543",
         "orientation": "v",
         "showlegend": true,
         "type": "histogram",
         "x": [
          "Vietnam"
         ],
         "xaxis": "x",
         "y": [
          0.543
         ],
         "yaxis": "y"
        },
        {
         "alignmentgroup": "True",
         "bingroup": "x",
         "histfunc": "sum",
         "hovertemplate": "Freedom=0.381<br>Country=%{x}<br>sum of Freedom=%{y}<extra></extra>",
         "legendgroup": "0.381",
         "marker": {
          "color": "#00cc96",
          "pattern": {
           "shape": ""
          }
         },
         "name": "0.381",
         "offsetgroup": "0.381",
         "orientation": "v",
         "showlegend": true,
         "type": "histogram",
         "x": [
          "Cameroon",
          "Ghana"
         ],
         "xaxis": "x",
         "y": [
          0.381,
          0.381
         ],
         "yaxis": "y"
        },
        {
         "alignmentgroup": "True",
         "bingroup": "x",
         "histfunc": "sum",
         "hovertemplate": "Freedom=0.311<br>Country=%{x}<br>sum of Freedom=%{y}<extra></extra>",
         "legendgroup": "0.311",
         "marker": {
          "color": "#ab63fa",
          "pattern": {
           "shape": ""
          }
         },
         "name": "0.311",
         "offsetgroup": "0.311",
         "orientation": "v",
         "showlegend": true,
         "type": "histogram",
         "x": [
          "Bulgaria"
         ],
         "xaxis": "x",
         "y": [
          0.311
         ],
         "yaxis": "y"
        },
        {
         "alignmentgroup": "True",
         "bingroup": "x",
         "histfunc": "sum",
         "hovertemplate": "Freedom=0.352<br>Country=%{x}<br>sum of Freedom=%{y}<extra></extra>",
         "legendgroup": "0.352",
         "marker": {
          "color": "#FFA15A",
          "pattern": {
           "shape": ""
          }
         },
         "name": "0.352",
         "offsetgroup": "0.352",
         "orientation": "v",
         "showlegend": true,
         "type": "histogram",
         "x": [
          "Ivory Coast"
         ],
         "xaxis": "x",
         "y": [
          0.352
         ],
         "yaxis": "y"
        },
        {
         "alignmentgroup": "True",
         "bingroup": "x",
         "histfunc": "sum",
         "hovertemplate": "Freedom=0.383<br>Country=%{x}<br>sum of Freedom=%{y}<extra></extra>",
         "legendgroup": "0.383",
         "marker": {
          "color": "#19d3f3",
          "pattern": {
           "shape": ""
          }
         },
         "name": "0.383",
         "offsetgroup": "0.383",
         "orientation": "v",
         "showlegend": true,
         "type": "histogram",
         "x": [
          "Jordan",
          "Albania"
         ],
         "xaxis": "x",
         "y": [
          0.383,
          0.383
         ],
         "yaxis": "y"
        },
        {
         "alignmentgroup": "True",
         "bingroup": "x",
         "histfunc": "sum",
         "hovertemplate": "Freedom=0.349<br>Country=%{x}<br>sum of Freedom=%{y}<extra></extra>",
         "legendgroup": "0.349",
         "marker": {
          "color": "#FF6692",
          "pattern": {
           "shape": ""
          }
         },
         "name": "0.349",
         "offsetgroup": "0.349",
         "orientation": "v",
         "showlegend": true,
         "type": "histogram",
         "x": [
          "Benin"
         ],
         "xaxis": "x",
         "y": [
          0.349
         ],
         "yaxis": "y"
        },
        {
         "alignmentgroup": "True",
         "bingroup": "x",
         "histfunc": "sum",
         "hovertemplate": "Freedom=0.372<br>Country=%{x}<br>sum of Freedom=%{y}<extra></extra>",
         "legendgroup": "0.372",
         "marker": {
          "color": "#B6E880",
          "pattern": {
           "shape": ""
          }
         },
         "name": "0.372",
         "offsetgroup": "0.372",
         "orientation": "v",
         "showlegend": true,
         "type": "histogram",
         "x": [
          "Congo (Brazzaville)"
         ],
         "xaxis": "x",
         "y": [
          0.372
         ],
         "yaxis": "y"
        },
        {
         "alignmentgroup": "True",
         "bingroup": "x",
         "histfunc": "sum",
         "hovertemplate": "Freedom=0.295<br>Country=%{x}<br>sum of Freedom=%{y}<extra></extra>",
         "legendgroup": "0.295",
         "marker": {
          "color": "#FF97FF",
          "pattern": {
           "shape": ""
          }
         },
         "name": "0.295",
         "offsetgroup": "0.295",
         "orientation": "v",
         "showlegend": true,
         "type": "histogram",
         "x": [
          "Gabon"
         ],
         "xaxis": "x",
         "y": [
          0.295
         ],
         "yaxis": "y"
        },
        {
         "alignmentgroup": "True",
         "bingroup": "x",
         "histfunc": "sum",
         "hovertemplate": "Freedom=0.547<br>Country=%{x}<br>sum of Freedom=%{y}<extra></extra>",
         "legendgroup": "0.547",
         "marker": {
          "color": "#FECB52",
          "pattern": {
           "shape": ""
          }
         },
         "name": "0.547",
         "offsetgroup": "0.547",
         "orientation": "v",
         "showlegend": true,
         "type": "histogram",
         "x": [
          "Laos"
         ],
         "xaxis": "x",
         "y": [
          0.547
         ],
         "yaxis": "y"
        },
        {
         "alignmentgroup": "True",
         "bingroup": "x",
         "histfunc": "sum",
         "hovertemplate": "Freedom=0.154<br>Country=%{x}<br>sum of Freedom=%{y}<extra></extra>",
         "legendgroup": "0.154",
         "marker": {
          "color": "#636efa",
          "pattern": {
           "shape": ""
          }
         },
         "name": "0.154",
         "offsetgroup": "0.154",
         "orientation": "v",
         "showlegend": true,
         "type": "histogram",
         "x": [
          "Venezuela"
         ],
         "xaxis": "x",
         "y": [
          0.154
         ],
         "yaxis": "y"
        },
        {
         "alignmentgroup": "True",
         "bingroup": "x",
         "histfunc": "sum",
         "hovertemplate": "Freedom=0.609<br>Country=%{x}<br>sum of Freedom=%{y}<extra></extra>",
         "legendgroup": "0.609",
         "marker": {
          "color": "#EF553B",
          "pattern": {
           "shape": ""
          }
         },
         "name": "0.609",
         "offsetgroup": "0.609",
         "orientation": "v",
         "showlegend": true,
         "type": "histogram",
         "x": [
          "Cambodia"
         ],
         "xaxis": "x",
         "y": [
          0.609
         ],
         "yaxis": "y"
        },
        {
         "alignmentgroup": "True",
         "bingroup": "x",
         "histfunc": "sum",
         "hovertemplate": "Freedom=0.225<br>Country=%{x}<br>sum of Freedom=%{y}<extra></extra>",
         "legendgroup": "0.225",
         "marker": {
          "color": "#00cc96",
          "pattern": {
           "shape": ""
          }
         },
         "name": "0.225",
         "offsetgroup": "0.225",
         "orientation": "v",
         "showlegend": true,
         "type": "histogram",
         "x": [
          "Palestinian Territories",
          "Central African Republic"
         ],
         "xaxis": "x",
         "y": [
          0.225,
          0.225
         ],
         "yaxis": "y"
        },
        {
         "alignmentgroup": "True",
         "bingroup": "x",
         "histfunc": "sum",
         "hovertemplate": "Freedom=0.292<br>Country=%{x}<br>sum of Freedom=%{y}<extra></extra>",
         "legendgroup": "0.292",
         "marker": {
          "color": "#ab63fa",
          "pattern": {
           "shape": ""
          }
         },
         "name": "0.292",
         "offsetgroup": "0.292",
         "orientation": "v",
         "showlegend": true,
         "type": "histogram",
         "x": [
          "Senegal"
         ],
         "xaxis": "x",
         "y": [
          0.292
         ],
         "yaxis": "y"
        },
        {
         "alignmentgroup": "True",
         "bingroup": "x",
         "histfunc": "sum",
         "hovertemplate": "Freedom=0.559<br>Country=%{x}<br>sum of Freedom=%{y}<extra></extra>",
         "legendgroup": "0.559",
         "marker": {
          "color": "#FFA15A",
          "pattern": {
           "shape": ""
          }
         },
         "name": "0.559",
         "offsetgroup": "0.559",
         "orientation": "v",
         "showlegend": true,
         "type": "histogram",
         "x": [
          "Somalia"
         ],
         "xaxis": "x",
         "y": [
          0.559
         ],
         "yaxis": "y"
        },
        {
         "alignmentgroup": "True",
         "bingroup": "x",
         "histfunc": "sum",
         "hovertemplate": "Freedom=0.401<br>Country=%{x}<br>sum of Freedom=%{y}<extra></extra>",
         "legendgroup": "0.401",
         "marker": {
          "color": "#19d3f3",
          "pattern": {
           "shape": ""
          }
         },
         "name": "0.401",
         "offsetgroup": "0.401",
         "orientation": "v",
         "showlegend": true,
         "type": "histogram",
         "x": [
          "Namibia"
         ],
         "xaxis": "x",
         "y": [
          0.401
         ],
         "yaxis": "y"
        },
        {
         "alignmentgroup": "True",
         "bingroup": "x",
         "histfunc": "sum",
         "hovertemplate": "Freedom=0.318<br>Country=%{x}<br>sum of Freedom=%{y}<extra></extra>",
         "legendgroup": "0.318",
         "marker": {
          "color": "#FF6692",
          "pattern": {
           "shape": ""
          }
         },
         "name": "0.318",
         "offsetgroup": "0.318",
         "orientation": "v",
         "showlegend": true,
         "type": "histogram",
         "x": [
          "Niger"
         ],
         "xaxis": "x",
         "y": [
          0.318
         ],
         "yaxis": "y"
        },
        {
         "alignmentgroup": "True",
         "bingroup": "x",
         "histfunc": "sum",
         "hovertemplate": "Freedom=0.255<br>Country=%{x}<br>sum of Freedom=%{y}<extra></extra>",
         "legendgroup": "0.255",
         "marker": {
          "color": "#B6E880",
          "pattern": {
           "shape": ""
          }
         },
         "name": "0.255",
         "offsetgroup": "0.255",
         "orientation": "v",
         "showlegend": true,
         "type": "histogram",
         "x": [
          "Burkina Faso"
         ],
         "xaxis": "x",
         "y": [
          0.255
         ],
         "yaxis": "y"
        },
        {
         "alignmentgroup": "True",
         "bingroup": "x",
         "histfunc": "sum",
         "hovertemplate": "Freedom=0.283<br>Country=%{x}<br>sum of Freedom=%{y}<extra></extra>",
         "legendgroup": "0.283",
         "marker": {
          "color": "#FF97FF",
          "pattern": {
           "shape": ""
          }
         },
         "name": "0.283",
         "offsetgroup": "0.283",
         "orientation": "v",
         "showlegend": true,
         "type": "histogram",
         "x": [
          "Armenia"
         ],
         "xaxis": "x",
         "y": [
          0.283
         ],
         "yaxis": "y"
        },
        {
         "alignmentgroup": "True",
         "bingroup": "x",
         "histfunc": "sum",
         "hovertemplate": "Freedom=0.305<br>Country=%{x}<br>sum of Freedom=%{y}<extra></extra>",
         "legendgroup": "0.305",
         "marker": {
          "color": "#FECB52",
          "pattern": {
           "shape": ""
          }
         },
         "name": "0.305",
         "offsetgroup": "0.305",
         "orientation": "v",
         "showlegend": true,
         "type": "histogram",
         "x": [
          "Iran"
         ],
         "xaxis": "x",
         "y": [
          0.305
         ],
         "yaxis": "y"
        },
        {
         "alignmentgroup": "True",
         "bingroup": "x",
         "histfunc": "sum",
         "hovertemplate": "Freedom=0.332<br>Country=%{x}<br>sum of Freedom=%{y}<extra></extra>",
         "legendgroup": "0.332",
         "marker": {
          "color": "#636efa",
          "pattern": {
           "shape": ""
          }
         },
         "name": "0.332",
         "offsetgroup": "0.332",
         "orientation": "v",
         "showlegend": true,
         "type": "histogram",
         "x": [
          "Guinea"
         ],
         "xaxis": "x",
         "y": [
          0.332
         ],
         "yaxis": "y"
        },
        {
         "alignmentgroup": "True",
         "bingroup": "x",
         "histfunc": "sum",
         "hovertemplate": "Freedom=0.346<br>Country=%{x}<br>sum of Freedom=%{y}<extra></extra>",
         "legendgroup": "0.346",
         "marker": {
          "color": "#EF553B",
          "pattern": {
           "shape": ""
          }
         },
         "name": "0.346",
         "offsetgroup": "0.346",
         "orientation": "v",
         "showlegend": true,
         "type": "histogram",
         "x": [
          "Georgia"
         ],
         "xaxis": "x",
         "y": [
          0.346
         ],
         "yaxis": "y"
        },
        {
         "alignmentgroup": "True",
         "bingroup": "x",
         "histfunc": "sum",
         "hovertemplate": "Freedom=0.382<br>Country=%{x}<br>sum of Freedom=%{y}<extra></extra>",
         "legendgroup": "0.382",
         "marker": {
          "color": "#00cc96",
          "pattern": {
           "shape": ""
          }
         },
         "name": "0.382",
         "offsetgroup": "0.382",
         "orientation": "v",
         "showlegend": true,
         "type": "histogram",
         "x": [
          "Gambia"
         ],
         "xaxis": "x",
         "y": [
          0.382
         ],
         "yaxis": "y"
        },
        {
         "alignmentgroup": "True",
         "bingroup": "x",
         "histfunc": "sum",
         "hovertemplate": "Freedom=0.431<br>Country=%{x}<br>sum of Freedom=%{y}<extra></extra>",
         "legendgroup": "0.431",
         "marker": {
          "color": "#ab63fa",
          "pattern": {
           "shape": ""
          }
         },
         "name": "0.431",
         "offsetgroup": "0.431",
         "orientation": "v",
         "showlegend": true,
         "type": "histogram",
         "x": [
          "Kenya",
          "Zambia"
         ],
         "xaxis": "x",
         "y": [
          0.431,
          0.431
         ],
         "yaxis": "y"
        },
        {
         "alignmentgroup": "True",
         "bingroup": "x",
         "histfunc": "sum",
         "hovertemplate": "Freedom=0.066<br>Country=%{x}<br>sum of Freedom=%{y}<extra></extra>",
         "legendgroup": "0.066",
         "marker": {
          "color": "#FFA15A",
          "pattern": {
           "shape": ""
          }
         },
         "name": "0.066",
         "offsetgroup": "0.066",
         "orientation": "v",
         "showlegend": true,
         "type": "histogram",
         "x": [
          "Mauritania"
         ],
         "xaxis": "x",
         "y": [
          0.066
         ],
         "yaxis": "y"
        },
        {
         "alignmentgroup": "True",
         "bingroup": "x",
         "histfunc": "sum",
         "hovertemplate": "Freedom=0.494<br>Country=%{x}<br>sum of Freedom=%{y}<extra></extra>",
         "legendgroup": "0.494",
         "marker": {
          "color": "#19d3f3",
          "pattern": {
           "shape": ""
          }
         },
         "name": "0.494",
         "offsetgroup": "0.494",
         "orientation": "v",
         "showlegend": true,
         "type": "histogram",
         "x": [
          "Mozambique"
         ],
         "xaxis": "x",
         "y": [
          0.494
         ],
         "yaxis": "y"
        },
        {
         "alignmentgroup": "True",
         "bingroup": "x",
         "histfunc": "sum",
         "hovertemplate": "Freedom=0.167<br>Country=%{x}<br>sum of Freedom=%{y}<extra></extra>",
         "legendgroup": "0.167",
         "marker": {
          "color": "#FF6692",
          "pattern": {
           "shape": ""
          }
         },
         "name": "0.167",
         "offsetgroup": "0.167",
         "orientation": "v",
         "showlegend": true,
         "type": "histogram",
         "x": [
          "Tunisia"
         ],
         "xaxis": "x",
         "y": [
          0.167
         ],
         "yaxis": "y"
        },
        {
         "alignmentgroup": "True",
         "bingroup": "x",
         "histfunc": "sum",
         "hovertemplate": "Freedom=0.527<br>Country=%{x}<br>sum of Freedom=%{y}<extra></extra>",
         "legendgroup": "0.527",
         "marker": {
          "color": "#B6E880",
          "pattern": {
           "shape": ""
          }
         },
         "name": "0.527",
         "offsetgroup": "0.527",
         "orientation": "v",
         "showlegend": true,
         "type": "histogram",
         "x": [
          "Bangladesh"
         ],
         "xaxis": "x",
         "y": [
          0.527
         ],
         "yaxis": "y"
        },
        {
         "alignmentgroup": "True",
         "bingroup": "x",
         "histfunc": "sum",
         "hovertemplate": "Freedom=0.241<br>Country=%{x}<br>sum of Freedom=%{y}<extra></extra>",
         "legendgroup": "0.241",
         "marker": {
          "color": "#FF97FF",
          "pattern": {
           "shape": ""
          }
         },
         "name": "0.241",
         "offsetgroup": "0.241",
         "orientation": "v",
         "showlegend": true,
         "type": "histogram",
         "x": [
          "Iraq",
          "Egypt"
         ],
         "xaxis": "x",
         "y": [
          0.241,
          0.241
         ],
         "yaxis": "y"
        },
        {
         "alignmentgroup": "True",
         "bingroup": "x",
         "histfunc": "sum",
         "hovertemplate": "Freedom=0.269<br>Country=%{x}<br>sum of Freedom=%{y}<extra></extra>",
         "legendgroup": "0.269",
         "marker": {
          "color": "#FECB52",
          "pattern": {
           "shape": ""
          }
         },
         "name": "0.269",
         "offsetgroup": "0.269",
         "orientation": "v",
         "showlegend": true,
         "type": "histogram",
         "x": [
          "Congo (Kinshasa)"
         ],
         "xaxis": "x",
         "y": [
          0.269
         ],
         "yaxis": "y"
        },
        {
         "alignmentgroup": "True",
         "bingroup": "x",
         "histfunc": "sum",
         "hovertemplate": "Freedom=0.327<br>Country=%{x}<br>sum of Freedom=%{y}<extra></extra>",
         "legendgroup": "0.327",
         "marker": {
          "color": "#636efa",
          "pattern": {
           "shape": ""
          }
         },
         "name": "0.327",
         "offsetgroup": "0.327",
         "orientation": "v",
         "showlegend": true,
         "type": "histogram",
         "x": [
          "Mali"
         ],
         "xaxis": "x",
         "y": [
          0.327
         ],
         "yaxis": "y"
        },
        {
         "alignmentgroup": "True",
         "bingroup": "x",
         "histfunc": "sum",
         "hovertemplate": "Freedom=0.309<br>Country=%{x}<br>sum of Freedom=%{y}<extra></extra>",
         "legendgroup": "0.309",
         "marker": {
          "color": "#EF553B",
          "pattern": {
           "shape": ""
          }
         },
         "name": "0.309",
         "offsetgroup": "0.309",
         "orientation": "v",
         "showlegend": true,
         "type": "histogram",
         "x": [
          "Sierra Leone"
         ],
         "xaxis": "x",
         "y": [
          0.309
         ],
         "yaxis": "y"
        },
        {
         "alignmentgroup": "True",
         "bingroup": "x",
         "histfunc": "sum",
         "hovertemplate": "Freedom=0.525<br>Country=%{x}<br>sum of Freedom=%{y}<extra></extra>",
         "legendgroup": "0.525",
         "marker": {
          "color": "#00cc96",
          "pattern": {
           "shape": ""
          }
         },
         "name": "0.525",
         "offsetgroup": "0.525",
         "orientation": "v",
         "showlegend": true,
         "type": "histogram",
         "x": [
          "Myanmar"
         ],
         "xaxis": "x",
         "y": [
          0.525
         ],
         "yaxis": "y"
        },
        {
         "alignmentgroup": "True",
         "bingroup": "x",
         "histfunc": "sum",
         "hovertemplate": "Freedom=0.174<br>Country=%{x}<br>sum of Freedom=%{y}<extra></extra>",
         "legendgroup": "0.174",
         "marker": {
          "color": "#ab63fa",
          "pattern": {
           "shape": ""
          }
         },
         "name": "0.174",
         "offsetgroup": "0.174",
         "orientation": "v",
         "showlegend": true,
         "type": "histogram",
         "x": [
          "Chad"
         ],
         "xaxis": "x",
         "y": [
          0.174
         ],
         "yaxis": "y"
        },
        {
         "alignmentgroup": "True",
         "bingroup": "x",
         "histfunc": "sum",
         "hovertemplate": "Freedom=0.178<br>Country=%{x}<br>sum of Freedom=%{y}<extra></extra>",
         "legendgroup": "0.178",
         "marker": {
          "color": "#FFA15A",
          "pattern": {
           "shape": ""
          }
         },
         "name": "0.178",
         "offsetgroup": "0.178",
         "orientation": "v",
         "showlegend": true,
         "type": "histogram",
         "x": [
          "Ukraine"
         ],
         "xaxis": "x",
         "y": [
          0.178
         ],
         "yaxis": "y"
        },
        {
         "alignmentgroup": "True",
         "bingroup": "x",
         "histfunc": "sum",
         "hovertemplate": "Freedom=0.344<br>Country=%{x}<br>sum of Freedom=%{y}<extra></extra>",
         "legendgroup": "0.344",
         "marker": {
          "color": "#19d3f3",
          "pattern": {
           "shape": ""
          }
         },
         "name": "0.344",
         "offsetgroup": "0.344",
         "orientation": "v",
         "showlegend": true,
         "type": "histogram",
         "x": [
          "Ethiopia"
         ],
         "xaxis": "x",
         "y": [
          0.344
         ],
         "yaxis": "y"
        },
        {
         "alignmentgroup": "True",
         "bingroup": "x",
         "histfunc": "sum",
         "hovertemplate": "Freedom=0.356<br>Country=%{x}<br>sum of Freedom=%{y}<extra></extra>",
         "legendgroup": "0.356",
         "marker": {
          "color": "#FF6692",
          "pattern": {
           "shape": ""
          }
         },
         "name": "0.356",
         "offsetgroup": "0.356",
         "orientation": "v",
         "showlegend": true,
         "type": "histogram",
         "x": [
          "Uganda"
         ],
         "xaxis": "x",
         "y": [
          0.356
         ],
         "yaxis": "y"
        },
        {
         "alignmentgroup": "True",
         "bingroup": "x",
         "histfunc": "sum",
         "hovertemplate": "Freedom=0.293<br>Country=%{x}<br>sum of Freedom=%{y}<extra></extra>",
         "legendgroup": "0.293",
         "marker": {
          "color": "#B6E880",
          "pattern": {
           "shape": ""
          }
         },
         "name": "0.293",
         "offsetgroup": "0.293",
         "orientation": "v",
         "showlegend": true,
         "type": "histogram",
         "x": [
          "Togo"
         ],
         "xaxis": "x",
         "y": [
          0.293
         ],
         "yaxis": "y"
        },
        {
         "alignmentgroup": "True",
         "bingroup": "x",
         "histfunc": "sum",
         "hovertemplate": "Freedom=0.37<br>Country=%{x}<br>sum of Freedom=%{y}<extra></extra>",
         "legendgroup": "0.37",
         "marker": {
          "color": "#FF97FF",
          "pattern": {
           "shape": ""
          }
         },
         "name": "0.37",
         "offsetgroup": "0.37",
         "orientation": "v",
         "showlegend": true,
         "type": "histogram",
         "x": [
          "Liberia"
         ],
         "xaxis": "x",
         "y": [
          0.37
         ],
         "yaxis": "y"
        },
        {
         "alignmentgroup": "True",
         "bingroup": "x",
         "histfunc": "sum",
         "hovertemplate": "Freedom=0.142<br>Country=%{x}<br>sum of Freedom=%{y}<extra></extra>",
         "legendgroup": "0.142",
         "marker": {
          "color": "#FECB52",
          "pattern": {
           "shape": ""
          }
         },
         "name": "0.142",
         "offsetgroup": "0.142",
         "orientation": "v",
         "showlegend": true,
         "type": "histogram",
         "x": [
          "Comoros"
         ],
         "xaxis": "x",
         "y": [
          0.142
         ],
         "yaxis": "y"
        },
        {
         "alignmentgroup": "True",
         "bingroup": "x",
         "histfunc": "sum",
         "hovertemplate": "Freedom=0.148<br>Country=%{x}<br>sum of Freedom=%{y}<extra></extra>",
         "legendgroup": "0.148",
         "marker": {
          "color": "#636efa",
          "pattern": {
           "shape": ""
          }
         },
         "name": "0.148",
         "offsetgroup": "0.148",
         "orientation": "v",
         "showlegend": true,
         "type": "histogram",
         "x": [
          "Madagascar"
         ],
         "xaxis": "x",
         "y": [
          0.148
         ],
         "yaxis": "y"
        },
        {
         "alignmentgroup": "True",
         "bingroup": "x",
         "histfunc": "sum",
         "hovertemplate": "Freedom=0.359<br>Country=%{x}<br>sum of Freedom=%{y}<extra></extra>",
         "legendgroup": "0.359",
         "marker": {
          "color": "#EF553B",
          "pattern": {
           "shape": ""
          }
         },
         "name": "0.359",
         "offsetgroup": "0.359",
         "orientation": "v",
         "showlegend": true,
         "type": "histogram",
         "x": [
          "Lesotho"
         ],
         "xaxis": "x",
         "y": [
          0.359
         ],
         "yaxis": "y"
        },
        {
         "alignmentgroup": "True",
         "bingroup": "x",
         "histfunc": "sum",
         "hovertemplate": "Freedom=0.22<br>Country=%{x}<br>sum of Freedom=%{y}<extra></extra>",
         "legendgroup": "0.22",
         "marker": {
          "color": "#00cc96",
          "pattern": {
           "shape": ""
          }
         },
         "name": "0.22",
         "offsetgroup": "0.22",
         "orientation": "v",
         "showlegend": true,
         "type": "histogram",
         "x": [
          "Burundi"
         ],
         "xaxis": "x",
         "y": [
          0.22
         ],
         "yaxis": "y"
        },
        {
         "alignmentgroup": "True",
         "bingroup": "x",
         "histfunc": "sum",
         "hovertemplate": "Freedom=0.361<br>Country=%{x}<br>sum of Freedom=%{y}<extra></extra>",
         "legendgroup": "0.361",
         "marker": {
          "color": "#ab63fa",
          "pattern": {
           "shape": ""
          }
         },
         "name": "0.361",
         "offsetgroup": "0.361",
         "orientation": "v",
         "showlegend": true,
         "type": "histogram",
         "x": [
          "Zimbabwe"
         ],
         "xaxis": "x",
         "y": [
          0.361
         ],
         "yaxis": "y"
        },
        {
         "alignmentgroup": "True",
         "bingroup": "x",
         "histfunc": "sum",
         "hovertemplate": "Freedom=0.026<br>Country=%{x}<br>sum of Freedom=%{y}<extra></extra>",
         "legendgroup": "0.026",
         "marker": {
          "color": "#FFA15A",
          "pattern": {
           "shape": ""
          }
         },
         "name": "0.026",
         "offsetgroup": "0.026",
         "orientation": "v",
         "showlegend": true,
         "type": "histogram",
         "x": [
          "Haiti"
         ],
         "xaxis": "x",
         "y": [
          0.026
         ],
         "yaxis": "y"
        },
        {
         "alignmentgroup": "True",
         "bingroup": "x",
         "histfunc": "sum",
         "hovertemplate": "Freedom=0.013<br>Country=%{x}<br>sum of Freedom=%{y}<extra></extra>",
         "legendgroup": "0.013",
         "marker": {
          "color": "#19d3f3",
          "pattern": {
           "shape": ""
          }
         },
         "name": "0.013",
         "offsetgroup": "0.013",
         "orientation": "v",
         "showlegend": true,
         "type": "histogram",
         "x": [
          "Syria"
         ],
         "xaxis": "x",
         "y": [
          0.013
         ],
         "yaxis": "y"
        },
        {
         "alignmentgroup": "True",
         "bingroup": "x",
         "histfunc": "sum",
         "hovertemplate": "Freedom=0.443<br>Country=%{x}<br>sum of Freedom=%{y}<extra></extra>",
         "legendgroup": "0.443",
         "marker": {
          "color": "#FF6692",
          "pattern": {
           "shape": ""
          }
         },
         "name": "0.443",
         "offsetgroup": "0.443",
         "orientation": "v",
         "showlegend": true,
         "type": "histogram",
         "x": [
          "Malawi"
         ],
         "xaxis": "x",
         "y": [
          0.443
         ],
         "yaxis": "y"
        },
        {
         "alignmentgroup": "True",
         "bingroup": "x",
         "histfunc": "sum",
         "hovertemplate": "Freedom=0.143<br>Country=%{x}<br>sum of Freedom=%{y}<extra></extra>",
         "legendgroup": "0.143",
         "marker": {
          "color": "#B6E880",
          "pattern": {
           "shape": ""
          }
         },
         "name": "0.143",
         "offsetgroup": "0.143",
         "orientation": "v",
         "showlegend": true,
         "type": "histogram",
         "x": [
          "Yemen"
         ],
         "xaxis": "x",
         "y": [
          0.143
         ],
         "yaxis": "y"
        },
        {
         "alignmentgroup": "True",
         "bingroup": "x",
         "histfunc": "sum",
         "hovertemplate": "Freedom=0.0<br>Country=%{x}<br>sum of Freedom=%{y}<extra></extra>",
         "legendgroup": "0.0",
         "marker": {
          "color": "#FF97FF",
          "pattern": {
           "shape": ""
          }
         },
         "name": "0.0",
         "offsetgroup": "0.0",
         "orientation": "v",
         "showlegend": true,
         "type": "histogram",
         "x": [
          "Afghanistan"
         ],
         "xaxis": "x",
         "y": [
          0
         ],
         "yaxis": "y"
        },
        {
         "alignmentgroup": "True",
         "bingroup": "x",
         "histfunc": "sum",
         "hovertemplate": "Freedom=0.01<br>Country=%{x}<br>sum of Freedom=%{y}<extra></extra>",
         "legendgroup": "0.01",
         "marker": {
          "color": "#FECB52",
          "pattern": {
           "shape": ""
          }
         },
         "name": "0.01",
         "offsetgroup": "0.01",
         "orientation": "v",
         "showlegend": true,
         "type": "histogram",
         "x": [
          "South Sudan"
         ],
         "xaxis": "x",
         "y": [
          0.01
         ],
         "yaxis": "y"
        }
       ],
       "layout": {
        "barmode": "relative",
        "legend": {
         "title": {
          "text": "Freedom"
         },
         "tracegroupgap": 0
        },
        "template": {
         "data": {
          "bar": [
           {
            "error_x": {
             "color": "#2a3f5f"
            },
            "error_y": {
             "color": "#2a3f5f"
            },
            "marker": {
             "line": {
              "color": "#E5ECF6",
              "width": 0.5
             },
             "pattern": {
              "fillmode": "overlay",
              "size": 10,
              "solidity": 0.2
             }
            },
            "type": "bar"
           }
          ],
          "barpolar": [
           {
            "marker": {
             "line": {
              "color": "#E5ECF6",
              "width": 0.5
             },
             "pattern": {
              "fillmode": "overlay",
              "size": 10,
              "solidity": 0.2
             }
            },
            "type": "barpolar"
           }
          ],
          "carpet": [
           {
            "aaxis": {
             "endlinecolor": "#2a3f5f",
             "gridcolor": "white",
             "linecolor": "white",
             "minorgridcolor": "white",
             "startlinecolor": "#2a3f5f"
            },
            "baxis": {
             "endlinecolor": "#2a3f5f",
             "gridcolor": "white",
             "linecolor": "white",
             "minorgridcolor": "white",
             "startlinecolor": "#2a3f5f"
            },
            "type": "carpet"
           }
          ],
          "choropleth": [
           {
            "colorbar": {
             "outlinewidth": 0,
             "ticks": ""
            },
            "type": "choropleth"
           }
          ],
          "contour": [
           {
            "colorbar": {
             "outlinewidth": 0,
             "ticks": ""
            },
            "colorscale": [
             [
              0,
              "#0d0887"
             ],
             [
              0.1111111111111111,
              "#46039f"
             ],
             [
              0.2222222222222222,
              "#7201a8"
             ],
             [
              0.3333333333333333,
              "#9c179e"
             ],
             [
              0.4444444444444444,
              "#bd3786"
             ],
             [
              0.5555555555555556,
              "#d8576b"
             ],
             [
              0.6666666666666666,
              "#ed7953"
             ],
             [
              0.7777777777777778,
              "#fb9f3a"
             ],
             [
              0.8888888888888888,
              "#fdca26"
             ],
             [
              1,
              "#f0f921"
             ]
            ],
            "type": "contour"
           }
          ],
          "contourcarpet": [
           {
            "colorbar": {
             "outlinewidth": 0,
             "ticks": ""
            },
            "type": "contourcarpet"
           }
          ],
          "heatmap": [
           {
            "colorbar": {
             "outlinewidth": 0,
             "ticks": ""
            },
            "colorscale": [
             [
              0,
              "#0d0887"
             ],
             [
              0.1111111111111111,
              "#46039f"
             ],
             [
              0.2222222222222222,
              "#7201a8"
             ],
             [
              0.3333333333333333,
              "#9c179e"
             ],
             [
              0.4444444444444444,
              "#bd3786"
             ],
             [
              0.5555555555555556,
              "#d8576b"
             ],
             [
              0.6666666666666666,
              "#ed7953"
             ],
             [
              0.7777777777777778,
              "#fb9f3a"
             ],
             [
              0.8888888888888888,
              "#fdca26"
             ],
             [
              1,
              "#f0f921"
             ]
            ],
            "type": "heatmap"
           }
          ],
          "heatmapgl": [
           {
            "colorbar": {
             "outlinewidth": 0,
             "ticks": ""
            },
            "colorscale": [
             [
              0,
              "#0d0887"
             ],
             [
              0.1111111111111111,
              "#46039f"
             ],
             [
              0.2222222222222222,
              "#7201a8"
             ],
             [
              0.3333333333333333,
              "#9c179e"
             ],
             [
              0.4444444444444444,
              "#bd3786"
             ],
             [
              0.5555555555555556,
              "#d8576b"
             ],
             [
              0.6666666666666666,
              "#ed7953"
             ],
             [
              0.7777777777777778,
              "#fb9f3a"
             ],
             [
              0.8888888888888888,
              "#fdca26"
             ],
             [
              1,
              "#f0f921"
             ]
            ],
            "type": "heatmapgl"
           }
          ],
          "histogram": [
           {
            "marker": {
             "pattern": {
              "fillmode": "overlay",
              "size": 10,
              "solidity": 0.2
             }
            },
            "type": "histogram"
           }
          ],
          "histogram2d": [
           {
            "colorbar": {
             "outlinewidth": 0,
             "ticks": ""
            },
            "colorscale": [
             [
              0,
              "#0d0887"
             ],
             [
              0.1111111111111111,
              "#46039f"
             ],
             [
              0.2222222222222222,
              "#7201a8"
             ],
             [
              0.3333333333333333,
              "#9c179e"
             ],
             [
              0.4444444444444444,
              "#bd3786"
             ],
             [
              0.5555555555555556,
              "#d8576b"
             ],
             [
              0.6666666666666666,
              "#ed7953"
             ],
             [
              0.7777777777777778,
              "#fb9f3a"
             ],
             [
              0.8888888888888888,
              "#fdca26"
             ],
             [
              1,
              "#f0f921"
             ]
            ],
            "type": "histogram2d"
           }
          ],
          "histogram2dcontour": [
           {
            "colorbar": {
             "outlinewidth": 0,
             "ticks": ""
            },
            "colorscale": [
             [
              0,
              "#0d0887"
             ],
             [
              0.1111111111111111,
              "#46039f"
             ],
             [
              0.2222222222222222,
              "#7201a8"
             ],
             [
              0.3333333333333333,
              "#9c179e"
             ],
             [
              0.4444444444444444,
              "#bd3786"
             ],
             [
              0.5555555555555556,
              "#d8576b"
             ],
             [
              0.6666666666666666,
              "#ed7953"
             ],
             [
              0.7777777777777778,
              "#fb9f3a"
             ],
             [
              0.8888888888888888,
              "#fdca26"
             ],
             [
              1,
              "#f0f921"
             ]
            ],
            "type": "histogram2dcontour"
           }
          ],
          "mesh3d": [
           {
            "colorbar": {
             "outlinewidth": 0,
             "ticks": ""
            },
            "type": "mesh3d"
           }
          ],
          "parcoords": [
           {
            "line": {
             "colorbar": {
              "outlinewidth": 0,
              "ticks": ""
             }
            },
            "type": "parcoords"
           }
          ],
          "pie": [
           {
            "automargin": true,
            "type": "pie"
           }
          ],
          "scatter": [
           {
            "fillpattern": {
             "fillmode": "overlay",
             "size": 10,
             "solidity": 0.2
            },
            "type": "scatter"
           }
          ],
          "scatter3d": [
           {
            "line": {
             "colorbar": {
              "outlinewidth": 0,
              "ticks": ""
             }
            },
            "marker": {
             "colorbar": {
              "outlinewidth": 0,
              "ticks": ""
             }
            },
            "type": "scatter3d"
           }
          ],
          "scattercarpet": [
           {
            "marker": {
             "colorbar": {
              "outlinewidth": 0,
              "ticks": ""
             }
            },
            "type": "scattercarpet"
           }
          ],
          "scattergeo": [
           {
            "marker": {
             "colorbar": {
              "outlinewidth": 0,
              "ticks": ""
             }
            },
            "type": "scattergeo"
           }
          ],
          "scattergl": [
           {
            "marker": {
             "colorbar": {
              "outlinewidth": 0,
              "ticks": ""
             }
            },
            "type": "scattergl"
           }
          ],
          "scattermapbox": [
           {
            "marker": {
             "colorbar": {
              "outlinewidth": 0,
              "ticks": ""
             }
            },
            "type": "scattermapbox"
           }
          ],
          "scatterpolar": [
           {
            "marker": {
             "colorbar": {
              "outlinewidth": 0,
              "ticks": ""
             }
            },
            "type": "scatterpolar"
           }
          ],
          "scatterpolargl": [
           {
            "marker": {
             "colorbar": {
              "outlinewidth": 0,
              "ticks": ""
             }
            },
            "type": "scatterpolargl"
           }
          ],
          "scatterternary": [
           {
            "marker": {
             "colorbar": {
              "outlinewidth": 0,
              "ticks": ""
             }
            },
            "type": "scatterternary"
           }
          ],
          "surface": [
           {
            "colorbar": {
             "outlinewidth": 0,
             "ticks": ""
            },
            "colorscale": [
             [
              0,
              "#0d0887"
             ],
             [
              0.1111111111111111,
              "#46039f"
             ],
             [
              0.2222222222222222,
              "#7201a8"
             ],
             [
              0.3333333333333333,
              "#9c179e"
             ],
             [
              0.4444444444444444,
              "#bd3786"
             ],
             [
              0.5555555555555556,
              "#d8576b"
             ],
             [
              0.6666666666666666,
              "#ed7953"
             ],
             [
              0.7777777777777778,
              "#fb9f3a"
             ],
             [
              0.8888888888888888,
              "#fdca26"
             ],
             [
              1,
              "#f0f921"
             ]
            ],
            "type": "surface"
           }
          ],
          "table": [
           {
            "cells": {
             "fill": {
              "color": "#EBF0F8"
             },
             "line": {
              "color": "white"
             }
            },
            "header": {
             "fill": {
              "color": "#C8D4E3"
             },
             "line": {
              "color": "white"
             }
            },
            "type": "table"
           }
          ]
         },
         "layout": {
          "annotationdefaults": {
           "arrowcolor": "#2a3f5f",
           "arrowhead": 0,
           "arrowwidth": 1
          },
          "autotypenumbers": "strict",
          "coloraxis": {
           "colorbar": {
            "outlinewidth": 0,
            "ticks": ""
           }
          },
          "colorscale": {
           "diverging": [
            [
             0,
             "#8e0152"
            ],
            [
             0.1,
             "#c51b7d"
            ],
            [
             0.2,
             "#de77ae"
            ],
            [
             0.3,
             "#f1b6da"
            ],
            [
             0.4,
             "#fde0ef"
            ],
            [
             0.5,
             "#f7f7f7"
            ],
            [
             0.6,
             "#e6f5d0"
            ],
            [
             0.7,
             "#b8e186"
            ],
            [
             0.8,
             "#7fbc41"
            ],
            [
             0.9,
             "#4d9221"
            ],
            [
             1,
             "#276419"
            ]
           ],
           "sequential": [
            [
             0,
             "#0d0887"
            ],
            [
             0.1111111111111111,
             "#46039f"
            ],
            [
             0.2222222222222222,
             "#7201a8"
            ],
            [
             0.3333333333333333,
             "#9c179e"
            ],
            [
             0.4444444444444444,
             "#bd3786"
            ],
            [
             0.5555555555555556,
             "#d8576b"
            ],
            [
             0.6666666666666666,
             "#ed7953"
            ],
            [
             0.7777777777777778,
             "#fb9f3a"
            ],
            [
             0.8888888888888888,
             "#fdca26"
            ],
            [
             1,
             "#f0f921"
            ]
           ],
           "sequentialminus": [
            [
             0,
             "#0d0887"
            ],
            [
             0.1111111111111111,
             "#46039f"
            ],
            [
             0.2222222222222222,
             "#7201a8"
            ],
            [
             0.3333333333333333,
             "#9c179e"
            ],
            [
             0.4444444444444444,
             "#bd3786"
            ],
            [
             0.5555555555555556,
             "#d8576b"
            ],
            [
             0.6666666666666666,
             "#ed7953"
            ],
            [
             0.7777777777777778,
             "#fb9f3a"
            ],
            [
             0.8888888888888888,
             "#fdca26"
            ],
            [
             1,
             "#f0f921"
            ]
           ]
          },
          "colorway": [
           "#636efa",
           "#EF553B",
           "#00cc96",
           "#ab63fa",
           "#FFA15A",
           "#19d3f3",
           "#FF6692",
           "#B6E880",
           "#FF97FF",
           "#FECB52"
          ],
          "font": {
           "color": "#2a3f5f"
          },
          "geo": {
           "bgcolor": "white",
           "lakecolor": "white",
           "landcolor": "#E5ECF6",
           "showlakes": true,
           "showland": true,
           "subunitcolor": "white"
          },
          "hoverlabel": {
           "align": "left"
          },
          "hovermode": "closest",
          "mapbox": {
           "style": "light"
          },
          "paper_bgcolor": "white",
          "plot_bgcolor": "#E5ECF6",
          "polar": {
           "angularaxis": {
            "gridcolor": "white",
            "linecolor": "white",
            "ticks": ""
           },
           "bgcolor": "#E5ECF6",
           "radialaxis": {
            "gridcolor": "white",
            "linecolor": "white",
            "ticks": ""
           }
          },
          "scene": {
           "xaxis": {
            "backgroundcolor": "#E5ECF6",
            "gridcolor": "white",
            "gridwidth": 2,
            "linecolor": "white",
            "showbackground": true,
            "ticks": "",
            "zerolinecolor": "white"
           },
           "yaxis": {
            "backgroundcolor": "#E5ECF6",
            "gridcolor": "white",
            "gridwidth": 2,
            "linecolor": "white",
            "showbackground": true,
            "ticks": "",
            "zerolinecolor": "white"
           },
           "zaxis": {
            "backgroundcolor": "#E5ECF6",
            "gridcolor": "white",
            "gridwidth": 2,
            "linecolor": "white",
            "showbackground": true,
            "ticks": "",
            "zerolinecolor": "white"
           }
          },
          "shapedefaults": {
           "line": {
            "color": "#2a3f5f"
           }
          },
          "ternary": {
           "aaxis": {
            "gridcolor": "white",
            "linecolor": "white",
            "ticks": ""
           },
           "baxis": {
            "gridcolor": "white",
            "linecolor": "white",
            "ticks": ""
           },
           "bgcolor": "#E5ECF6",
           "caxis": {
            "gridcolor": "white",
            "linecolor": "white",
            "ticks": ""
           }
          },
          "title": {
           "x": 0.05
          },
          "xaxis": {
           "automargin": true,
           "gridcolor": "white",
           "linecolor": "white",
           "ticks": "",
           "title": {
            "standoff": 15
           },
           "zerolinecolor": "white",
           "zerolinewidth": 2
          },
          "yaxis": {
           "automargin": true,
           "gridcolor": "white",
           "linecolor": "white",
           "ticks": "",
           "title": {
            "standoff": 15
           },
           "zerolinecolor": "white",
           "zerolinewidth": 2
          }
         }
        },
        "title": {
         "text": "Freedom to make life choices"
        },
        "xaxis": {
         "anchor": "y",
         "domain": [
          0,
          1
         ],
         "title": {
          "text": "Country"
         }
        },
        "yaxis": {
         "anchor": "x",
         "categoryarray": [
          0.01,
          0,
          0.143,
          0.443,
          0.013,
          0.026,
          0.361,
          0.22,
          0.359,
          0.148,
          0.142,
          0.37,
          0.293,
          0.356,
          0.344,
          0.178,
          0.174,
          0.525,
          0.309,
          0.327,
          0.269,
          0.241,
          0.527,
          0.167,
          0.494,
          0.066,
          0.431,
          0.382,
          0.346,
          0.332,
          0.305,
          0.283,
          0.255,
          0.318,
          0.401,
          0.559,
          0.292,
          0.225,
          0.609,
          0.154,
          0.547,
          0.295,
          0.372,
          0.349,
          0.383,
          0.352,
          0.311,
          0.381,
          0.543,
          0.521,
          0.491,
          0.216,
          0.418,
          0.086,
          0.394,
          0.426,
          0.345,
          0.317,
          0.067,
          0.235,
          0.195,
          0.212,
          0.497,
          0.44,
          0.296,
          0.389,
          0.197,
          0.416,
          0.245,
          0.282,
          0.313,
          0.508,
          0.455,
          0.417,
          0.514,
          0.199,
          0.511,
          0.41,
          0.507,
          0.445,
          0.49,
          0.159,
          0.264,
          0.493,
          0.498,
          0.406,
          0.462,
          0.471,
          0.435,
          0.47,
          0.291,
          0.631,
          0.483,
          0.489,
          0.334,
          0.536,
          0.231,
          0.43,
          0.556,
          0.523,
          0.39,
          0.362,
          0.555,
          0.439,
          0.535,
          0.357,
          0.351,
          0.436,
          0.433,
          0.564,
          0.598,
          0.457,
          0.454,
          0.473,
          0.495,
          0.516,
          0.45,
          0.526,
          0.371,
          0.558,
          0.532,
          0.584,
          0.585,
          0.574,
          0.572,
          0.557,
          0.591,
          0.603,
          0.592,
          0.596
         ],
         "categoryorder": "array",
         "domain": [
          0,
          1
         ],
         "title": {
          "text": "sum of Freedom"
         }
        }
       }
      }
     },
     "metadata": {},
     "output_type": "display_data"
    }
   ],
   "source": [
    "# 'Freedom to make life choices'\n",
    "fig = px.histogram(filtered_df,x='Country',y='Freedom',color='Freedom',\n",
    "                   title='Freedom to make life choices',)\n",
    "fig.show()"
   ]
  },
  {
   "cell_type": "code",
   "execution_count": 18,
   "metadata": {},
   "outputs": [
    {
     "data": {
      "application/vnd.plotly.v1+json": {
       "config": {
        "plotlyServerURL": "https://plot.ly"
       },
       "data": [
        {
         "hovertemplate": "GDP per Capita=%{x}<br>Score=%{marker.color}<extra></extra>",
         "legendgroup": "",
         "marker": {
          "color": [
           7.769,
           7.6,
           7.554,
           7.494,
           7.488,
           7.48,
           7.343,
           7.307,
           7.278,
           7.246,
           7.228,
           7.167,
           7.139,
           7.09,
           7.054,
           7.021,
           6.985,
           6.923,
           6.892,
           6.852,
           6.825,
           6.726,
           6.595,
           6.592,
           6.446,
           6.444,
           6.436,
           6.375,
           6.374,
           6.354,
           6.321,
           6.3,
           6.293,
           6.262,
           6.253,
           6.223,
           6.199,
           6.198,
           6.192,
           6.182,
           6.174,
           6.149,
           6.125,
           6.118,
           6.105,
           6.1,
           6.086,
           6.07,
           6.046,
           6.028,
           6.021,
           6.008,
           5.94,
           5.895,
           5.893,
           5.89,
           5.888,
           5.886,
           5.86,
           5.809,
           5.779,
           5.758,
           5.743,
           5.718,
           5.697,
           5.693,
           5.653,
           5.648,
           5.631,
           5.603,
           5.529,
           5.525,
           5.523,
           5.467,
           5.432,
           5.43,
           5.425,
           5.386,
           5.373,
           5.339,
           5.323,
           5.287,
           5.285,
           5.274,
           5.265,
           5.261,
           5.247,
           5.211,
           5.208,
           5.208,
           5.197,
           5.192,
           5.191,
           5.175,
           5.082,
           5.044,
           5.011,
           4.996,
           4.944,
           4.913,
           4.906,
           4.883,
           4.812,
           4.799,
           4.796,
           4.722,
           4.719,
           4.707,
           4.7,
           4.696,
           4.681,
           4.668,
           4.639,
           4.628,
           4.587,
           4.559,
           4.548,
           4.534,
           4.519,
           4.516,
           4.509,
           4.49,
           4.466,
           4.461,
           4.456,
           4.437,
           4.418,
           4.39,
           4.374,
           4.366,
           4.36,
           4.35,
           4.332,
           4.286,
           4.212,
           4.189,
           4.166,
           4.107,
           4.085,
           4.015,
           3.975,
           3.973,
           3.933,
           3.802,
           3.775,
           3.663,
           3.597,
           3.488,
           3.462,
           3.41,
           3.38,
           3.334,
           3.231,
           3.203,
           3.083,
           2.853
          ],
          "coloraxis": "coloraxis",
          "size": [
           7.769,
           7.6,
           7.554,
           7.494,
           7.488,
           7.48,
           7.343,
           7.307,
           7.278,
           7.246,
           7.228,
           7.167,
           7.139,
           7.09,
           7.054,
           7.021,
           6.985,
           6.923,
           6.892,
           6.852,
           6.825,
           6.726,
           6.595,
           6.592,
           6.446,
           6.444,
           6.436,
           6.375,
           6.374,
           6.354,
           6.321,
           6.3,
           6.293,
           6.262,
           6.253,
           6.223,
           6.199,
           6.198,
           6.192,
           6.182,
           6.174,
           6.149,
           6.125,
           6.118,
           6.105,
           6.1,
           6.086,
           6.07,
           6.046,
           6.028,
           6.021,
           6.008,
           5.94,
           5.895,
           5.893,
           5.89,
           5.888,
           5.886,
           5.86,
           5.809,
           5.779,
           5.758,
           5.743,
           5.718,
           5.697,
           5.693,
           5.653,
           5.648,
           5.631,
           5.603,
           5.529,
           5.525,
           5.523,
           5.467,
           5.432,
           5.43,
           5.425,
           5.386,
           5.373,
           5.339,
           5.323,
           5.287,
           5.285,
           5.274,
           5.265,
           5.261,
           5.247,
           5.211,
           5.208,
           5.208,
           5.197,
           5.192,
           5.191,
           5.175,
           5.082,
           5.044,
           5.011,
           4.996,
           4.944,
           4.913,
           4.906,
           4.883,
           4.812,
           4.799,
           4.796,
           4.722,
           4.719,
           4.707,
           4.7,
           4.696,
           4.681,
           4.668,
           4.639,
           4.628,
           4.587,
           4.559,
           4.548,
           4.534,
           4.519,
           4.516,
           4.509,
           4.49,
           4.466,
           4.461,
           4.456,
           4.437,
           4.418,
           4.39,
           4.374,
           4.366,
           4.36,
           4.35,
           4.332,
           4.286,
           4.212,
           4.189,
           4.166,
           4.107,
           4.085,
           4.015,
           3.975,
           3.973,
           3.933,
           3.802,
           3.775,
           3.663,
           3.597,
           3.488,
           3.462,
           3.41,
           3.38,
           3.334,
           3.231,
           3.203,
           3.083,
           2.853
          ],
          "sizemode": "area",
          "sizeref": 0.0194225,
          "symbol": "circle"
         },
         "mode": "markers",
         "name": "",
         "orientation": "v",
         "showlegend": false,
         "type": "scatter",
         "x": [
          1.34,
          1.383,
          1.488,
          1.38,
          1.396,
          1.452,
          1.387,
          1.303,
          1.365,
          1.376,
          1.372,
          1.034,
          1.276,
          1.609,
          1.333,
          1.499,
          1.373,
          1.356,
          1.433,
          1.269,
          1.503,
          1.3,
          1.07,
          1.324,
          1.368,
          1.159,
          0.8,
          1.403,
          1.684,
          1.286,
          1.149,
          1.004,
          1.124,
          1.572,
          0.794,
          1.294,
          1.362,
          1.246,
          1.231,
          1.206,
          0.745,
          1.238,
          0.985,
          1.258,
          0.694,
          0.882,
          1.092,
          1.162,
          1.263,
          0.912,
          1.5,
          1.05,
          1.187,
          1.301,
          1.237,
          0.831,
          1.12,
          1.327,
          0.642,
          1.173,
          0.776,
          1.201,
          0.855,
          1.263,
          0.96,
          1.221,
          0.677,
          1.183,
          0.807,
          1.004,
          0.685,
          1.044,
          1.051,
          0.493,
          1.155,
          1.438,
          1.015,
          0.945,
          1.183,
          1.221,
          1.067,
          1.181,
          0.948,
          0.983,
          0.696,
          0.551,
          1.052,
          1.002,
          0.801,
          1.043,
          0.987,
          0.931,
          1.029,
          0.741,
          0.813,
          0.549,
          1.092,
          0.611,
          0.569,
          0.446,
          0.837,
          0.393,
          0.673,
          1.057,
          0.764,
          0.96,
          0.947,
          0.96,
          0.574,
          0.657,
          0.45,
          0,
          0.879,
          0.138,
          0.331,
          0.85,
          1.1,
          0.38,
          0.886,
          0.308,
          0.512,
          0.57,
          0.204,
          0.921,
          0.562,
          1.043,
          0.094,
          0.385,
          0.268,
          0.949,
          0.71,
          0.35,
          0.82,
          0.336,
          0.811,
          0.332,
          0.913,
          0.578,
          0.275,
          0.755,
          0.073,
          0.274,
          0.274,
          0.489,
          0.046,
          0.366,
          0.323,
          1.041,
          0.619,
          0.191,
          0.287,
          0.359,
          0.476,
          0.35,
          0.026,
          0.306
         ],
         "xaxis": "x",
         "y": [
          7.769,
          7.6,
          7.554,
          7.494,
          7.488,
          7.48,
          7.343,
          7.307,
          7.278,
          7.246,
          7.228,
          7.167,
          7.139,
          7.09,
          7.054,
          7.021,
          6.985,
          6.923,
          6.892,
          6.852,
          6.825,
          6.726,
          6.595,
          6.592,
          6.446,
          6.444,
          6.436,
          6.375,
          6.374,
          6.354,
          6.321,
          6.3,
          6.293,
          6.262,
          6.253,
          6.223,
          6.199,
          6.198,
          6.192,
          6.182,
          6.174,
          6.149,
          6.125,
          6.118,
          6.105,
          6.1,
          6.086,
          6.07,
          6.046,
          6.028,
          6.021,
          6.008,
          5.94,
          5.895,
          5.893,
          5.89,
          5.888,
          5.886,
          5.86,
          5.809,
          5.779,
          5.758,
          5.743,
          5.718,
          5.697,
          5.693,
          5.653,
          5.648,
          5.631,
          5.603,
          5.529,
          5.525,
          5.523,
          5.467,
          5.432,
          5.43,
          5.425,
          5.386,
          5.373,
          5.339,
          5.323,
          5.287,
          5.285,
          5.274,
          5.265,
          5.261,
          5.247,
          5.211,
          5.208,
          5.208,
          5.197,
          5.192,
          5.191,
          5.175,
          5.082,
          5.044,
          5.011,
          4.996,
          4.944,
          4.913,
          4.906,
          4.883,
          4.812,
          4.799,
          4.796,
          4.722,
          4.719,
          4.707,
          4.7,
          4.696,
          4.681,
          4.668,
          4.639,
          4.628,
          4.587,
          4.559,
          4.548,
          4.534,
          4.519,
          4.516,
          4.509,
          4.49,
          4.466,
          4.461,
          4.456,
          4.437,
          4.418,
          4.39,
          4.374,
          4.366,
          4.36,
          4.35,
          4.332,
          4.286,
          4.212,
          4.189,
          4.166,
          4.107,
          4.085,
          4.015,
          3.975,
          3.973,
          3.933,
          3.802,
          3.775,
          3.663,
          3.597,
          3.488,
          3.462,
          3.41,
          3.38,
          3.334,
          3.231,
          3.203,
          3.083,
          2.853
         ],
         "yaxis": "y"
        },
        {
         "hovertemplate": "<b>OLS trendline</b><br>Score = 2.21815 * GDP per Capita + 3.39935<br>R<sup>2</sup>=0.630250<br><br>GDP per Capita=%{x}<br>Score=%{y} <b>(trend)</b><extra></extra>",
         "legendgroup": "",
         "marker": {
          "symbol": "circle"
         },
         "mode": "lines",
         "name": "",
         "showlegend": false,
         "type": "scatter",
         "x": [
          0,
          0.026,
          0.046,
          0.073,
          0.094,
          0.138,
          0.191,
          0.204,
          0.268,
          0.274,
          0.274,
          0.275,
          0.287,
          0.306,
          0.308,
          0.323,
          0.331,
          0.332,
          0.336,
          0.35,
          0.35,
          0.359,
          0.366,
          0.38,
          0.385,
          0.393,
          0.446,
          0.45,
          0.476,
          0.489,
          0.493,
          0.512,
          0.549,
          0.551,
          0.562,
          0.569,
          0.57,
          0.574,
          0.578,
          0.611,
          0.619,
          0.642,
          0.657,
          0.673,
          0.677,
          0.685,
          0.694,
          0.696,
          0.71,
          0.741,
          0.745,
          0.755,
          0.764,
          0.776,
          0.794,
          0.8,
          0.801,
          0.807,
          0.811,
          0.813,
          0.82,
          0.831,
          0.837,
          0.85,
          0.855,
          0.879,
          0.882,
          0.886,
          0.912,
          0.913,
          0.921,
          0.931,
          0.945,
          0.947,
          0.948,
          0.949,
          0.96,
          0.96,
          0.96,
          0.983,
          0.985,
          0.987,
          1.002,
          1.004,
          1.004,
          1.015,
          1.029,
          1.034,
          1.041,
          1.043,
          1.043,
          1.044,
          1.05,
          1.051,
          1.052,
          1.057,
          1.067,
          1.07,
          1.092,
          1.092,
          1.1,
          1.12,
          1.124,
          1.149,
          1.155,
          1.159,
          1.162,
          1.173,
          1.181,
          1.183,
          1.183,
          1.187,
          1.201,
          1.206,
          1.221,
          1.221,
          1.231,
          1.237,
          1.238,
          1.246,
          1.258,
          1.263,
          1.263,
          1.269,
          1.276,
          1.286,
          1.294,
          1.3,
          1.301,
          1.303,
          1.324,
          1.327,
          1.333,
          1.34,
          1.356,
          1.362,
          1.365,
          1.368,
          1.372,
          1.373,
          1.376,
          1.38,
          1.383,
          1.387,
          1.396,
          1.403,
          1.433,
          1.438,
          1.452,
          1.488,
          1.499,
          1.5,
          1.503,
          1.572,
          1.609,
          1.684
         ],
         "xaxis": "x",
         "y": [
          3.3993451782924167,
          3.457017026318634,
          3.501379986338801,
          3.5612699823660265,
          3.6078510903872023,
          3.70544960243157,
          3.8230114464850127,
          3.8518473704981213,
          3.9938088425626566,
          4.007117730568707,
          4.007117730568707,
          4.009335878569715,
          4.0359536545818155,
          4.078098466600974,
          4.08253476260299,
          4.115806982618116,
          4.133552166626183,
          4.135770314627191,
          4.1446429066312245,
          4.175696978645342,
          4.175696978645342,
          4.195660310654417,
          4.211187346661475,
          4.242241418675593,
          4.253332158680634,
          4.271077342688701,
          4.388639186742144,
          4.3975117787461775,
          4.455183626772395,
          4.484019550785503,
          4.492892142789537,
          4.535036954808696,
          4.617108430846005,
          4.621544726848022,
          4.645944354859114,
          4.661471390866172,
          4.66368953886718,
          4.6725621308712135,
          4.681434722875247,
          4.754633606908523,
          4.77237879091659,
          4.823396194939782,
          4.856668414954907,
          4.892158782971041,
          4.901031374975075,
          4.918776558983142,
          4.938739890992217,
          4.943176186994233,
          4.97423025900835,
          5.042992847039609,
          5.051865439043643,
          5.0740469190537265,
          5.094010251062802,
          5.120628027074902,
          5.160554691093052,
          5.173863579099103,
          5.176081727100111,
          5.189390615106161,
          5.198263207110195,
          5.2026995031122105,
          5.21822653911927,
          5.242626167130362,
          5.255935055136412,
          5.2847709791495205,
          5.295861719154562,
          5.3490972711787625,
          5.355751715181787,
          5.364624307185821,
          5.422296155212038,
          5.424514303213047,
          5.442259487221113,
          5.464440967231197,
          5.495495039245315,
          5.4999313352473305,
          5.502149483248339,
          5.504367631249348,
          5.528767259260439,
          5.528767259260439,
          5.528767259260439,
          5.579784663283632,
          5.584220959285648,
          5.588657255287665,
          5.621929475302791,
          5.626365771304807,
          5.626365771304807,
          5.650765399315899,
          5.681819471330016,
          5.692910211335058,
          5.7084372473421165,
          5.712873543344132,
          5.712873543344132,
          5.715091691345142,
          5.728400579351192,
          5.7306187273522,
          5.732836875353208,
          5.74392761535825,
          5.766109095368334,
          5.772763539371359,
          5.821562795393543,
          5.821562795393543,
          5.83930797940161,
          5.883670939421776,
          5.89254353142581,
          5.947997231451019,
          5.961306119457069,
          5.970178711461102,
          5.976833155464128,
          6.00123278347522,
          6.018977967483286,
          6.023414263485304,
          6.023414263485304,
          6.032286855489337,
          6.063340927503454,
          6.074431667508495,
          6.107703887523622,
          6.107703887523622,
          6.129885367533705,
          6.143194255539754,
          6.145412403540763,
          6.163157587548829,
          6.18977536356093,
          6.200866103565971,
          6.200866103565971,
          6.214174991572022,
          6.22970202757908,
          6.251883507589164,
          6.269628691597231,
          6.282937579603281,
          6.285155727604289,
          6.289592023606306,
          6.336173131627482,
          6.342827575630507,
          6.356136463636557,
          6.371663499643615,
          6.4071538676597495,
          6.420462755665799,
          6.4271171996688246,
          6.43377164367185,
          6.442644235675883,
          6.444862383676892,
          6.4515168276799155,
          6.460389419683949,
          6.467043863686975,
          6.475916455691008,
          6.495879787700083,
          6.511406823707142,
          6.5779512637373925,
          6.589042003742434,
          6.6200960757565515,
          6.699949403792852,
          6.7243490318039445,
          6.7265671798049524,
          6.733221623807977,
          6.886273835877555,
          6.968345311914863,
          7.13470641199049
         ],
         "yaxis": "y"
        }
       ],
       "layout": {
        "coloraxis": {
         "colorbar": {
          "title": {
           "text": "Score"
          }
         },
         "colorscale": [
          [
           0,
           "#0d0887"
          ],
          [
           0.1111111111111111,
           "#46039f"
          ],
          [
           0.2222222222222222,
           "#7201a8"
          ],
          [
           0.3333333333333333,
           "#9c179e"
          ],
          [
           0.4444444444444444,
           "#bd3786"
          ],
          [
           0.5555555555555556,
           "#d8576b"
          ],
          [
           0.6666666666666666,
           "#ed7953"
          ],
          [
           0.7777777777777778,
           "#fb9f3a"
          ],
          [
           0.8888888888888888,
           "#fdca26"
          ],
          [
           1,
           "#f0f921"
          ]
         ]
        },
        "legend": {
         "itemsizing": "constant",
         "tracegroupgap": 0
        },
        "template": {
         "data": {
          "bar": [
           {
            "error_x": {
             "color": "#2a3f5f"
            },
            "error_y": {
             "color": "#2a3f5f"
            },
            "marker": {
             "line": {
              "color": "#E5ECF6",
              "width": 0.5
             },
             "pattern": {
              "fillmode": "overlay",
              "size": 10,
              "solidity": 0.2
             }
            },
            "type": "bar"
           }
          ],
          "barpolar": [
           {
            "marker": {
             "line": {
              "color": "#E5ECF6",
              "width": 0.5
             },
             "pattern": {
              "fillmode": "overlay",
              "size": 10,
              "solidity": 0.2
             }
            },
            "type": "barpolar"
           }
          ],
          "carpet": [
           {
            "aaxis": {
             "endlinecolor": "#2a3f5f",
             "gridcolor": "white",
             "linecolor": "white",
             "minorgridcolor": "white",
             "startlinecolor": "#2a3f5f"
            },
            "baxis": {
             "endlinecolor": "#2a3f5f",
             "gridcolor": "white",
             "linecolor": "white",
             "minorgridcolor": "white",
             "startlinecolor": "#2a3f5f"
            },
            "type": "carpet"
           }
          ],
          "choropleth": [
           {
            "colorbar": {
             "outlinewidth": 0,
             "ticks": ""
            },
            "type": "choropleth"
           }
          ],
          "contour": [
           {
            "colorbar": {
             "outlinewidth": 0,
             "ticks": ""
            },
            "colorscale": [
             [
              0,
              "#0d0887"
             ],
             [
              0.1111111111111111,
              "#46039f"
             ],
             [
              0.2222222222222222,
              "#7201a8"
             ],
             [
              0.3333333333333333,
              "#9c179e"
             ],
             [
              0.4444444444444444,
              "#bd3786"
             ],
             [
              0.5555555555555556,
              "#d8576b"
             ],
             [
              0.6666666666666666,
              "#ed7953"
             ],
             [
              0.7777777777777778,
              "#fb9f3a"
             ],
             [
              0.8888888888888888,
              "#fdca26"
             ],
             [
              1,
              "#f0f921"
             ]
            ],
            "type": "contour"
           }
          ],
          "contourcarpet": [
           {
            "colorbar": {
             "outlinewidth": 0,
             "ticks": ""
            },
            "type": "contourcarpet"
           }
          ],
          "heatmap": [
           {
            "colorbar": {
             "outlinewidth": 0,
             "ticks": ""
            },
            "colorscale": [
             [
              0,
              "#0d0887"
             ],
             [
              0.1111111111111111,
              "#46039f"
             ],
             [
              0.2222222222222222,
              "#7201a8"
             ],
             [
              0.3333333333333333,
              "#9c179e"
             ],
             [
              0.4444444444444444,
              "#bd3786"
             ],
             [
              0.5555555555555556,
              "#d8576b"
             ],
             [
              0.6666666666666666,
              "#ed7953"
             ],
             [
              0.7777777777777778,
              "#fb9f3a"
             ],
             [
              0.8888888888888888,
              "#fdca26"
             ],
             [
              1,
              "#f0f921"
             ]
            ],
            "type": "heatmap"
           }
          ],
          "heatmapgl": [
           {
            "colorbar": {
             "outlinewidth": 0,
             "ticks": ""
            },
            "colorscale": [
             [
              0,
              "#0d0887"
             ],
             [
              0.1111111111111111,
              "#46039f"
             ],
             [
              0.2222222222222222,
              "#7201a8"
             ],
             [
              0.3333333333333333,
              "#9c179e"
             ],
             [
              0.4444444444444444,
              "#bd3786"
             ],
             [
              0.5555555555555556,
              "#d8576b"
             ],
             [
              0.6666666666666666,
              "#ed7953"
             ],
             [
              0.7777777777777778,
              "#fb9f3a"
             ],
             [
              0.8888888888888888,
              "#fdca26"
             ],
             [
              1,
              "#f0f921"
             ]
            ],
            "type": "heatmapgl"
           }
          ],
          "histogram": [
           {
            "marker": {
             "pattern": {
              "fillmode": "overlay",
              "size": 10,
              "solidity": 0.2
             }
            },
            "type": "histogram"
           }
          ],
          "histogram2d": [
           {
            "colorbar": {
             "outlinewidth": 0,
             "ticks": ""
            },
            "colorscale": [
             [
              0,
              "#0d0887"
             ],
             [
              0.1111111111111111,
              "#46039f"
             ],
             [
              0.2222222222222222,
              "#7201a8"
             ],
             [
              0.3333333333333333,
              "#9c179e"
             ],
             [
              0.4444444444444444,
              "#bd3786"
             ],
             [
              0.5555555555555556,
              "#d8576b"
             ],
             [
              0.6666666666666666,
              "#ed7953"
             ],
             [
              0.7777777777777778,
              "#fb9f3a"
             ],
             [
              0.8888888888888888,
              "#fdca26"
             ],
             [
              1,
              "#f0f921"
             ]
            ],
            "type": "histogram2d"
           }
          ],
          "histogram2dcontour": [
           {
            "colorbar": {
             "outlinewidth": 0,
             "ticks": ""
            },
            "colorscale": [
             [
              0,
              "#0d0887"
             ],
             [
              0.1111111111111111,
              "#46039f"
             ],
             [
              0.2222222222222222,
              "#7201a8"
             ],
             [
              0.3333333333333333,
              "#9c179e"
             ],
             [
              0.4444444444444444,
              "#bd3786"
             ],
             [
              0.5555555555555556,
              "#d8576b"
             ],
             [
              0.6666666666666666,
              "#ed7953"
             ],
             [
              0.7777777777777778,
              "#fb9f3a"
             ],
             [
              0.8888888888888888,
              "#fdca26"
             ],
             [
              1,
              "#f0f921"
             ]
            ],
            "type": "histogram2dcontour"
           }
          ],
          "mesh3d": [
           {
            "colorbar": {
             "outlinewidth": 0,
             "ticks": ""
            },
            "type": "mesh3d"
           }
          ],
          "parcoords": [
           {
            "line": {
             "colorbar": {
              "outlinewidth": 0,
              "ticks": ""
             }
            },
            "type": "parcoords"
           }
          ],
          "pie": [
           {
            "automargin": true,
            "type": "pie"
           }
          ],
          "scatter": [
           {
            "fillpattern": {
             "fillmode": "overlay",
             "size": 10,
             "solidity": 0.2
            },
            "type": "scatter"
           }
          ],
          "scatter3d": [
           {
            "line": {
             "colorbar": {
              "outlinewidth": 0,
              "ticks": ""
             }
            },
            "marker": {
             "colorbar": {
              "outlinewidth": 0,
              "ticks": ""
             }
            },
            "type": "scatter3d"
           }
          ],
          "scattercarpet": [
           {
            "marker": {
             "colorbar": {
              "outlinewidth": 0,
              "ticks": ""
             }
            },
            "type": "scattercarpet"
           }
          ],
          "scattergeo": [
           {
            "marker": {
             "colorbar": {
              "outlinewidth": 0,
              "ticks": ""
             }
            },
            "type": "scattergeo"
           }
          ],
          "scattergl": [
           {
            "marker": {
             "colorbar": {
              "outlinewidth": 0,
              "ticks": ""
             }
            },
            "type": "scattergl"
           }
          ],
          "scattermapbox": [
           {
            "marker": {
             "colorbar": {
              "outlinewidth": 0,
              "ticks": ""
             }
            },
            "type": "scattermapbox"
           }
          ],
          "scatterpolar": [
           {
            "marker": {
             "colorbar": {
              "outlinewidth": 0,
              "ticks": ""
             }
            },
            "type": "scatterpolar"
           }
          ],
          "scatterpolargl": [
           {
            "marker": {
             "colorbar": {
              "outlinewidth": 0,
              "ticks": ""
             }
            },
            "type": "scatterpolargl"
           }
          ],
          "scatterternary": [
           {
            "marker": {
             "colorbar": {
              "outlinewidth": 0,
              "ticks": ""
             }
            },
            "type": "scatterternary"
           }
          ],
          "surface": [
           {
            "colorbar": {
             "outlinewidth": 0,
             "ticks": ""
            },
            "colorscale": [
             [
              0,
              "#0d0887"
             ],
             [
              0.1111111111111111,
              "#46039f"
             ],
             [
              0.2222222222222222,
              "#7201a8"
             ],
             [
              0.3333333333333333,
              "#9c179e"
             ],
             [
              0.4444444444444444,
              "#bd3786"
             ],
             [
              0.5555555555555556,
              "#d8576b"
             ],
             [
              0.6666666666666666,
              "#ed7953"
             ],
             [
              0.7777777777777778,
              "#fb9f3a"
             ],
             [
              0.8888888888888888,
              "#fdca26"
             ],
             [
              1,
              "#f0f921"
             ]
            ],
            "type": "surface"
           }
          ],
          "table": [
           {
            "cells": {
             "fill": {
              "color": "#EBF0F8"
             },
             "line": {
              "color": "white"
             }
            },
            "header": {
             "fill": {
              "color": "#C8D4E3"
             },
             "line": {
              "color": "white"
             }
            },
            "type": "table"
           }
          ]
         },
         "layout": {
          "annotationdefaults": {
           "arrowcolor": "#2a3f5f",
           "arrowhead": 0,
           "arrowwidth": 1
          },
          "autotypenumbers": "strict",
          "coloraxis": {
           "colorbar": {
            "outlinewidth": 0,
            "ticks": ""
           }
          },
          "colorscale": {
           "diverging": [
            [
             0,
             "#8e0152"
            ],
            [
             0.1,
             "#c51b7d"
            ],
            [
             0.2,
             "#de77ae"
            ],
            [
             0.3,
             "#f1b6da"
            ],
            [
             0.4,
             "#fde0ef"
            ],
            [
             0.5,
             "#f7f7f7"
            ],
            [
             0.6,
             "#e6f5d0"
            ],
            [
             0.7,
             "#b8e186"
            ],
            [
             0.8,
             "#7fbc41"
            ],
            [
             0.9,
             "#4d9221"
            ],
            [
             1,
             "#276419"
            ]
           ],
           "sequential": [
            [
             0,
             "#0d0887"
            ],
            [
             0.1111111111111111,
             "#46039f"
            ],
            [
             0.2222222222222222,
             "#7201a8"
            ],
            [
             0.3333333333333333,
             "#9c179e"
            ],
            [
             0.4444444444444444,
             "#bd3786"
            ],
            [
             0.5555555555555556,
             "#d8576b"
            ],
            [
             0.6666666666666666,
             "#ed7953"
            ],
            [
             0.7777777777777778,
             "#fb9f3a"
            ],
            [
             0.8888888888888888,
             "#fdca26"
            ],
            [
             1,
             "#f0f921"
            ]
           ],
           "sequentialminus": [
            [
             0,
             "#0d0887"
            ],
            [
             0.1111111111111111,
             "#46039f"
            ],
            [
             0.2222222222222222,
             "#7201a8"
            ],
            [
             0.3333333333333333,
             "#9c179e"
            ],
            [
             0.4444444444444444,
             "#bd3786"
            ],
            [
             0.5555555555555556,
             "#d8576b"
            ],
            [
             0.6666666666666666,
             "#ed7953"
            ],
            [
             0.7777777777777778,
             "#fb9f3a"
            ],
            [
             0.8888888888888888,
             "#fdca26"
            ],
            [
             1,
             "#f0f921"
            ]
           ]
          },
          "colorway": [
           "#636efa",
           "#EF553B",
           "#00cc96",
           "#ab63fa",
           "#FFA15A",
           "#19d3f3",
           "#FF6692",
           "#B6E880",
           "#FF97FF",
           "#FECB52"
          ],
          "font": {
           "color": "#2a3f5f"
          },
          "geo": {
           "bgcolor": "white",
           "lakecolor": "white",
           "landcolor": "#E5ECF6",
           "showlakes": true,
           "showland": true,
           "subunitcolor": "white"
          },
          "hoverlabel": {
           "align": "left"
          },
          "hovermode": "closest",
          "mapbox": {
           "style": "light"
          },
          "paper_bgcolor": "white",
          "plot_bgcolor": "#E5ECF6",
          "polar": {
           "angularaxis": {
            "gridcolor": "white",
            "linecolor": "white",
            "ticks": ""
           },
           "bgcolor": "#E5ECF6",
           "radialaxis": {
            "gridcolor": "white",
            "linecolor": "white",
            "ticks": ""
           }
          },
          "scene": {
           "xaxis": {
            "backgroundcolor": "#E5ECF6",
            "gridcolor": "white",
            "gridwidth": 2,
            "linecolor": "white",
            "showbackground": true,
            "ticks": "",
            "zerolinecolor": "white"
           },
           "yaxis": {
            "backgroundcolor": "#E5ECF6",
            "gridcolor": "white",
            "gridwidth": 2,
            "linecolor": "white",
            "showbackground": true,
            "ticks": "",
            "zerolinecolor": "white"
           },
           "zaxis": {
            "backgroundcolor": "#E5ECF6",
            "gridcolor": "white",
            "gridwidth": 2,
            "linecolor": "white",
            "showbackground": true,
            "ticks": "",
            "zerolinecolor": "white"
           }
          },
          "shapedefaults": {
           "line": {
            "color": "#2a3f5f"
           }
          },
          "ternary": {
           "aaxis": {
            "gridcolor": "white",
            "linecolor": "white",
            "ticks": ""
           },
           "baxis": {
            "gridcolor": "white",
            "linecolor": "white",
            "ticks": ""
           },
           "bgcolor": "#E5ECF6",
           "caxis": {
            "gridcolor": "white",
            "linecolor": "white",
            "ticks": ""
           }
          },
          "title": {
           "x": 0.05
          },
          "xaxis": {
           "automargin": true,
           "gridcolor": "white",
           "linecolor": "white",
           "ticks": "",
           "title": {
            "standoff": 15
           },
           "zerolinecolor": "white",
           "zerolinewidth": 2
          },
          "yaxis": {
           "automargin": true,
           "gridcolor": "white",
           "linecolor": "white",
           "ticks": "",
           "title": {
            "standoff": 15
           },
           "zerolinecolor": "white",
           "zerolinewidth": 2
          }
         }
        },
        "title": {
         "text": "Happiness Score vs GDP per capita"
        },
        "xaxis": {
         "anchor": "y",
         "domain": [
          0,
          1
         ],
         "title": {
          "text": "GDP per Capita"
         }
        },
        "yaxis": {
         "anchor": "x",
         "domain": [
          0,
          1
         ],
         "title": {
          "text": "Score"
         }
        }
       }
      }
     },
     "metadata": {},
     "output_type": "display_data"
    }
   ],
   "source": [
    "# Scatter plot for GDP per capita vs Happiness Score\n",
    "fig = px.scatter(\n",
    "    filtered_df,\n",
    "    x='GDP per Capita',\n",
    "    y='Score',\n",
    "    size='Score',\n",
    "    color='Score',\n",
    "    title='Happiness Score vs GDP per capita',\n",
    "    labels={'Score': 'Score'},\n",
    "    trendline='ols'\n",
    ")\n",
    "\n",
    "fig.show()"
   ]
  },
  {
   "cell_type": "code",
   "execution_count": 19,
   "metadata": {},
   "outputs": [
    {
     "data": {
      "application/vnd.plotly.v1+json": {
       "config": {
        "plotlyServerURL": "https://plot.ly"
       },
       "data": [
        {
         "hovertemplate": "Family=%{x}<br>Happiness Score=%{marker.color}<extra></extra>",
         "legendgroup": "",
         "marker": {
          "color": [
           7.769,
           7.6,
           7.554,
           7.494,
           7.488,
           7.48,
           7.343,
           7.307,
           7.278,
           7.246,
           7.228,
           7.167,
           7.139,
           7.09,
           7.054,
           7.021,
           6.985,
           6.923,
           6.892,
           6.852,
           6.825,
           6.726,
           6.595,
           6.592,
           6.446,
           6.444,
           6.436,
           6.375,
           6.374,
           6.354,
           6.321,
           6.3,
           6.293,
           6.262,
           6.253,
           6.223,
           6.199,
           6.198,
           6.192,
           6.182,
           6.174,
           6.149,
           6.125,
           6.118,
           6.105,
           6.1,
           6.086,
           6.07,
           6.046,
           6.028,
           6.021,
           6.008,
           5.94,
           5.895,
           5.893,
           5.89,
           5.888,
           5.886,
           5.86,
           5.809,
           5.779,
           5.758,
           5.743,
           5.718,
           5.697,
           5.693,
           5.653,
           5.648,
           5.631,
           5.603,
           5.529,
           5.525,
           5.523,
           5.467,
           5.432,
           5.43,
           5.425,
           5.386,
           5.373,
           5.339,
           5.323,
           5.287,
           5.285,
           5.274,
           5.265,
           5.261,
           5.247,
           5.211,
           5.208,
           5.208,
           5.197,
           5.192,
           5.191,
           5.175,
           5.082,
           5.044,
           5.011,
           4.996,
           4.944,
           4.913,
           4.906,
           4.883,
           4.812,
           4.799,
           4.796,
           4.722,
           4.719,
           4.707,
           4.7,
           4.696,
           4.681,
           4.668,
           4.639,
           4.628,
           4.587,
           4.559,
           4.548,
           4.534,
           4.519,
           4.516,
           4.509,
           4.49,
           4.466,
           4.461,
           4.456,
           4.437,
           4.418,
           4.39,
           4.374,
           4.366,
           4.36,
           4.35,
           4.332,
           4.286,
           4.212,
           4.189,
           4.166,
           4.107,
           4.085,
           4.015,
           3.975,
           3.973,
           3.933,
           3.802,
           3.775,
           3.663,
           3.597,
           3.488,
           3.462,
           3.41,
           3.38,
           3.334,
           3.231,
           3.203,
           3.083,
           2.853
          ],
          "coloraxis": "coloraxis",
          "size": [
           7.769,
           7.6,
           7.554,
           7.494,
           7.488,
           7.48,
           7.343,
           7.307,
           7.278,
           7.246,
           7.228,
           7.167,
           7.139,
           7.09,
           7.054,
           7.021,
           6.985,
           6.923,
           6.892,
           6.852,
           6.825,
           6.726,
           6.595,
           6.592,
           6.446,
           6.444,
           6.436,
           6.375,
           6.374,
           6.354,
           6.321,
           6.3,
           6.293,
           6.262,
           6.253,
           6.223,
           6.199,
           6.198,
           6.192,
           6.182,
           6.174,
           6.149,
           6.125,
           6.118,
           6.105,
           6.1,
           6.086,
           6.07,
           6.046,
           6.028,
           6.021,
           6.008,
           5.94,
           5.895,
           5.893,
           5.89,
           5.888,
           5.886,
           5.86,
           5.809,
           5.779,
           5.758,
           5.743,
           5.718,
           5.697,
           5.693,
           5.653,
           5.648,
           5.631,
           5.603,
           5.529,
           5.525,
           5.523,
           5.467,
           5.432,
           5.43,
           5.425,
           5.386,
           5.373,
           5.339,
           5.323,
           5.287,
           5.285,
           5.274,
           5.265,
           5.261,
           5.247,
           5.211,
           5.208,
           5.208,
           5.197,
           5.192,
           5.191,
           5.175,
           5.082,
           5.044,
           5.011,
           4.996,
           4.944,
           4.913,
           4.906,
           4.883,
           4.812,
           4.799,
           4.796,
           4.722,
           4.719,
           4.707,
           4.7,
           4.696,
           4.681,
           4.668,
           4.639,
           4.628,
           4.587,
           4.559,
           4.548,
           4.534,
           4.519,
           4.516,
           4.509,
           4.49,
           4.466,
           4.461,
           4.456,
           4.437,
           4.418,
           4.39,
           4.374,
           4.366,
           4.36,
           4.35,
           4.332,
           4.286,
           4.212,
           4.189,
           4.166,
           4.107,
           4.085,
           4.015,
           3.975,
           3.973,
           3.933,
           3.802,
           3.775,
           3.663,
           3.597,
           3.488,
           3.462,
           3.41,
           3.38,
           3.334,
           3.231,
           3.203,
           3.083,
           2.853
          ],
          "sizemode": "area",
          "sizeref": 0.0194225,
          "symbol": "circle"
         },
         "mode": "markers",
         "name": "",
         "orientation": "v",
         "showlegend": false,
         "type": "scatter",
         "x": [
          1.587,
          1.573,
          1.582,
          1.624,
          1.522,
          1.526,
          1.487,
          1.557,
          1.505,
          1.475,
          1.548,
          1.441,
          1.455,
          1.479,
          1.538,
          1.553,
          1.454,
          1.504,
          1.457,
          1.487,
          1.31,
          1.52,
          1.323,
          1.472,
          1.43,
          1.369,
          1.269,
          1.357,
          1.313,
          1.484,
          1.442,
          1.439,
          1.465,
          1.463,
          1.242,
          1.488,
          1.368,
          1.504,
          1.477,
          1.438,
          1.529,
          1.515,
          1.41,
          1.523,
          1.325,
          1.232,
          1.432,
          1.232,
          1.223,
          1.312,
          1.319,
          1.409,
          1.465,
          1.219,
          1.528,
          1.478,
          1.402,
          1.419,
          1.236,
          1.508,
          1.209,
          1.41,
          1.475,
          1.252,
          1.274,
          1.431,
          0.886,
          1.452,
          1.293,
          1.383,
          1.328,
          1.303,
          1.361,
          1.098,
          1.266,
          1.277,
          1.401,
          1.212,
          1.36,
          1.171,
          1.465,
          1.156,
          1.531,
          1.294,
          1.111,
          1.438,
          1.538,
          1.16,
          0.782,
          1.147,
          1.224,
          1.203,
          1.125,
          1.346,
          1.321,
          0.91,
          1.513,
          0.868,
          0.808,
          1.226,
          1.225,
          0.437,
          0.799,
          1.183,
          1.03,
          1.351,
          0.848,
          1.427,
          1.122,
          1.247,
          1.134,
          0.698,
          1.313,
          0.774,
          1.056,
          1.055,
          0.842,
          0.829,
          0.666,
          0.939,
          0.983,
          1.167,
          0.986,
          1,
          0.928,
          0.98,
          1.125,
          1.105,
          0.841,
          1.265,
          1.181,
          0.766,
          1.39,
          1.033,
          1.149,
          1.069,
          1.039,
          1.058,
          0.572,
          0.765,
          0.922,
          0.757,
          0.916,
          1.169,
          0.447,
          1.114,
          0.688,
          1.145,
          0.378,
          0.56,
          1.163,
          0.711,
          0.885,
          0.517,
          0,
          0.575
         ],
         "xaxis": "x",
         "y": [
          7.769,
          7.6,
          7.554,
          7.494,
          7.488,
          7.48,
          7.343,
          7.307,
          7.278,
          7.246,
          7.228,
          7.167,
          7.139,
          7.09,
          7.054,
          7.021,
          6.985,
          6.923,
          6.892,
          6.852,
          6.825,
          6.726,
          6.595,
          6.592,
          6.446,
          6.444,
          6.436,
          6.375,
          6.374,
          6.354,
          6.321,
          6.3,
          6.293,
          6.262,
          6.253,
          6.223,
          6.199,
          6.198,
          6.192,
          6.182,
          6.174,
          6.149,
          6.125,
          6.118,
          6.105,
          6.1,
          6.086,
          6.07,
          6.046,
          6.028,
          6.021,
          6.008,
          5.94,
          5.895,
          5.893,
          5.89,
          5.888,
          5.886,
          5.86,
          5.809,
          5.779,
          5.758,
          5.743,
          5.718,
          5.697,
          5.693,
          5.653,
          5.648,
          5.631,
          5.603,
          5.529,
          5.525,
          5.523,
          5.467,
          5.432,
          5.43,
          5.425,
          5.386,
          5.373,
          5.339,
          5.323,
          5.287,
          5.285,
          5.274,
          5.265,
          5.261,
          5.247,
          5.211,
          5.208,
          5.208,
          5.197,
          5.192,
          5.191,
          5.175,
          5.082,
          5.044,
          5.011,
          4.996,
          4.944,
          4.913,
          4.906,
          4.883,
          4.812,
          4.799,
          4.796,
          4.722,
          4.719,
          4.707,
          4.7,
          4.696,
          4.681,
          4.668,
          4.639,
          4.628,
          4.587,
          4.559,
          4.548,
          4.534,
          4.519,
          4.516,
          4.509,
          4.49,
          4.466,
          4.461,
          4.456,
          4.437,
          4.418,
          4.39,
          4.374,
          4.366,
          4.36,
          4.35,
          4.332,
          4.286,
          4.212,
          4.189,
          4.166,
          4.107,
          4.085,
          4.015,
          3.975,
          3.973,
          3.933,
          3.802,
          3.775,
          3.663,
          3.597,
          3.488,
          3.462,
          3.41,
          3.38,
          3.334,
          3.231,
          3.203,
          3.083,
          2.853
         ],
         "yaxis": "y"
        },
        {
         "hovertemplate": "<b>OLS trendline</b><br>Score = 2.89099 * Family + 1.91243<br>R<sup>2</sup>=0.603819<br><br>Family=%{x}<br>Happiness Score=%{y} <b>(trend)</b><extra></extra>",
         "legendgroup": "",
         "marker": {
          "symbol": "circle"
         },
         "mode": "lines",
         "name": "",
         "showlegend": false,
         "type": "scatter",
         "x": [
          0,
          0.378,
          0.437,
          0.447,
          0.517,
          0.56,
          0.572,
          0.575,
          0.666,
          0.688,
          0.698,
          0.711,
          0.757,
          0.765,
          0.766,
          0.774,
          0.782,
          0.799,
          0.808,
          0.829,
          0.841,
          0.842,
          0.848,
          0.868,
          0.885,
          0.886,
          0.91,
          0.916,
          0.922,
          0.928,
          0.939,
          0.98,
          0.983,
          0.986,
          1,
          1.03,
          1.033,
          1.039,
          1.055,
          1.056,
          1.058,
          1.069,
          1.098,
          1.105,
          1.111,
          1.114,
          1.122,
          1.125,
          1.125,
          1.134,
          1.145,
          1.147,
          1.149,
          1.156,
          1.16,
          1.163,
          1.167,
          1.169,
          1.171,
          1.181,
          1.183,
          1.203,
          1.209,
          1.212,
          1.219,
          1.223,
          1.224,
          1.225,
          1.226,
          1.232,
          1.232,
          1.236,
          1.242,
          1.247,
          1.252,
          1.265,
          1.266,
          1.269,
          1.274,
          1.277,
          1.293,
          1.294,
          1.303,
          1.31,
          1.312,
          1.313,
          1.313,
          1.319,
          1.321,
          1.323,
          1.325,
          1.328,
          1.346,
          1.351,
          1.357,
          1.36,
          1.361,
          1.368,
          1.369,
          1.383,
          1.39,
          1.401,
          1.402,
          1.409,
          1.41,
          1.41,
          1.419,
          1.427,
          1.43,
          1.431,
          1.432,
          1.438,
          1.438,
          1.439,
          1.441,
          1.442,
          1.452,
          1.454,
          1.455,
          1.457,
          1.463,
          1.465,
          1.465,
          1.465,
          1.472,
          1.475,
          1.475,
          1.477,
          1.478,
          1.479,
          1.484,
          1.487,
          1.487,
          1.488,
          1.504,
          1.504,
          1.505,
          1.508,
          1.513,
          1.515,
          1.52,
          1.522,
          1.523,
          1.526,
          1.528,
          1.529,
          1.531,
          1.538,
          1.538,
          1.548,
          1.553,
          1.557,
          1.573,
          1.582,
          1.587,
          1.624
         ],
         "xaxis": "x",
         "y": [
          1.9124302447164778,
          3.0052233473523455,
          3.175791582948949,
          3.2047014533890517,
          3.4070705464697677,
          3.531382989362208,
          3.5660748338903305,
          3.574747795022361,
          3.837827616027292,
          3.9014293309955175,
          3.9303392014356193,
          3.9679220330077527,
          4.100907437032223,
          4.124035333384305,
          4.126926320428316,
          4.150054216780397,
          4.173182113132479,
          4.222328892880653,
          4.248347776276745,
          4.30905850420096,
          4.343750348729083,
          4.346641335773093,
          4.363987258037154,
          4.42180699891736,
          4.470953778665534,
          4.4738447657095435,
          4.543228454765789,
          4.56057437702985,
          4.577920299293911,
          4.5952662215579725,
          4.627067079042085,
          4.745597547846505,
          4.754270508978536,
          4.762943470110566,
          4.80341728872671,
          4.890146900047016,
          4.898819861179048,
          4.916165783443109,
          4.962421576147272,
          4.965312563191283,
          4.971094537279303,
          5.002895394763415,
          5.086734019039713,
          5.106970928347784,
          5.124316850611845,
          5.132989811743876,
          5.156117708095959,
          5.164790669227989,
          5.164790669227989,
          5.1908095526240805,
          5.222610410108193,
          5.228392384196214,
          5.234174358284234,
          5.254411267592306,
          5.265975215768346,
          5.274648176900378,
          5.2862121250764185,
          5.291994099164439,
          5.297776073252459,
          5.326685943692562,
          5.3324679177805825,
          5.390287658660787,
          5.407633580924848,
          5.416306542056878,
          5.436543451364951,
          5.448107399540992,
          5.450998386585002,
          5.453889373629012,
          5.456780360673022,
          5.474126282937084,
          5.474126282937084,
          5.485690231113125,
          5.503036153377186,
          5.517491088597238,
          5.531946023817288,
          5.569528855389421,
          5.5724198424334315,
          5.581092803565461,
          5.5955477387855135,
          5.604220699917544,
          5.650476492621707,
          5.653367479665718,
          5.67938636306181,
          5.699623272369882,
          5.705405246457902,
          5.708296233501912,
          5.708296233501912,
          5.725642155765973,
          5.731424129853994,
          5.737206103942015,
          5.742988078030034,
          5.751661039162066,
          5.80369880595425,
          5.818153741174301,
          5.8354996634383625,
          5.844172624570394,
          5.847063611614404,
          5.867300520922475,
          5.870191507966485,
          5.910665326582628,
          5.9309022358906995,
          5.962703093374813,
          5.965594080418823,
          5.985830989726894,
          5.988721976770904,
          5.988721976770904,
          6.014740860166997,
          6.037868756519079,
          6.04654171765111,
          6.0494327046951195,
          6.052323691739129,
          6.069669614003191,
          6.069669614003191,
          6.0725606010472015,
          6.078342575135222,
          6.081233562179232,
          6.110143432619334,
          6.115925406707355,
          6.1188163937513655,
          6.124598367839386,
          6.141944290103448,
          6.147726264191467,
          6.147726264191467,
          6.147726264191467,
          6.1679631734995395,
          6.17663613463157,
          6.17663613463157,
          6.182418108719591,
          6.185309095763601,
          6.188200082807611,
          6.202655018027662,
          6.211327979159693,
          6.211327979159693,
          6.214218966203703,
          6.260474758907867,
          6.260474758907867,
          6.263365745951877,
          6.272038707083907,
          6.286493642303959,
          6.292275616391978,
          6.306730551612031,
          6.3125125257000505,
          6.31540351274406,
          6.324076473876092,
          6.329858447964112,
          6.332749435008122,
          6.338531409096142,
          6.3587683184042145,
          6.3587683184042145,
          6.387678188844317,
          6.402133124064368,
          6.413697072240408,
          6.459952864944572,
          6.485971748340665,
          6.500426683560716,
          6.607393204189095
         ],
         "yaxis": "y"
        }
       ],
       "layout": {
        "coloraxis": {
         "colorbar": {
          "title": {
           "text": "Happiness Score"
          }
         },
         "colorscale": [
          [
           0,
           "#0d0887"
          ],
          [
           0.1111111111111111,
           "#46039f"
          ],
          [
           0.2222222222222222,
           "#7201a8"
          ],
          [
           0.3333333333333333,
           "#9c179e"
          ],
          [
           0.4444444444444444,
           "#bd3786"
          ],
          [
           0.5555555555555556,
           "#d8576b"
          ],
          [
           0.6666666666666666,
           "#ed7953"
          ],
          [
           0.7777777777777778,
           "#fb9f3a"
          ],
          [
           0.8888888888888888,
           "#fdca26"
          ],
          [
           1,
           "#f0f921"
          ]
         ]
        },
        "legend": {
         "itemsizing": "constant",
         "tracegroupgap": 0
        },
        "template": {
         "data": {
          "bar": [
           {
            "error_x": {
             "color": "#2a3f5f"
            },
            "error_y": {
             "color": "#2a3f5f"
            },
            "marker": {
             "line": {
              "color": "#E5ECF6",
              "width": 0.5
             },
             "pattern": {
              "fillmode": "overlay",
              "size": 10,
              "solidity": 0.2
             }
            },
            "type": "bar"
           }
          ],
          "barpolar": [
           {
            "marker": {
             "line": {
              "color": "#E5ECF6",
              "width": 0.5
             },
             "pattern": {
              "fillmode": "overlay",
              "size": 10,
              "solidity": 0.2
             }
            },
            "type": "barpolar"
           }
          ],
          "carpet": [
           {
            "aaxis": {
             "endlinecolor": "#2a3f5f",
             "gridcolor": "white",
             "linecolor": "white",
             "minorgridcolor": "white",
             "startlinecolor": "#2a3f5f"
            },
            "baxis": {
             "endlinecolor": "#2a3f5f",
             "gridcolor": "white",
             "linecolor": "white",
             "minorgridcolor": "white",
             "startlinecolor": "#2a3f5f"
            },
            "type": "carpet"
           }
          ],
          "choropleth": [
           {
            "colorbar": {
             "outlinewidth": 0,
             "ticks": ""
            },
            "type": "choropleth"
           }
          ],
          "contour": [
           {
            "colorbar": {
             "outlinewidth": 0,
             "ticks": ""
            },
            "colorscale": [
             [
              0,
              "#0d0887"
             ],
             [
              0.1111111111111111,
              "#46039f"
             ],
             [
              0.2222222222222222,
              "#7201a8"
             ],
             [
              0.3333333333333333,
              "#9c179e"
             ],
             [
              0.4444444444444444,
              "#bd3786"
             ],
             [
              0.5555555555555556,
              "#d8576b"
             ],
             [
              0.6666666666666666,
              "#ed7953"
             ],
             [
              0.7777777777777778,
              "#fb9f3a"
             ],
             [
              0.8888888888888888,
              "#fdca26"
             ],
             [
              1,
              "#f0f921"
             ]
            ],
            "type": "contour"
           }
          ],
          "contourcarpet": [
           {
            "colorbar": {
             "outlinewidth": 0,
             "ticks": ""
            },
            "type": "contourcarpet"
           }
          ],
          "heatmap": [
           {
            "colorbar": {
             "outlinewidth": 0,
             "ticks": ""
            },
            "colorscale": [
             [
              0,
              "#0d0887"
             ],
             [
              0.1111111111111111,
              "#46039f"
             ],
             [
              0.2222222222222222,
              "#7201a8"
             ],
             [
              0.3333333333333333,
              "#9c179e"
             ],
             [
              0.4444444444444444,
              "#bd3786"
             ],
             [
              0.5555555555555556,
              "#d8576b"
             ],
             [
              0.6666666666666666,
              "#ed7953"
             ],
             [
              0.7777777777777778,
              "#fb9f3a"
             ],
             [
              0.8888888888888888,
              "#fdca26"
             ],
             [
              1,
              "#f0f921"
             ]
            ],
            "type": "heatmap"
           }
          ],
          "heatmapgl": [
           {
            "colorbar": {
             "outlinewidth": 0,
             "ticks": ""
            },
            "colorscale": [
             [
              0,
              "#0d0887"
             ],
             [
              0.1111111111111111,
              "#46039f"
             ],
             [
              0.2222222222222222,
              "#7201a8"
             ],
             [
              0.3333333333333333,
              "#9c179e"
             ],
             [
              0.4444444444444444,
              "#bd3786"
             ],
             [
              0.5555555555555556,
              "#d8576b"
             ],
             [
              0.6666666666666666,
              "#ed7953"
             ],
             [
              0.7777777777777778,
              "#fb9f3a"
             ],
             [
              0.8888888888888888,
              "#fdca26"
             ],
             [
              1,
              "#f0f921"
             ]
            ],
            "type": "heatmapgl"
           }
          ],
          "histogram": [
           {
            "marker": {
             "pattern": {
              "fillmode": "overlay",
              "size": 10,
              "solidity": 0.2
             }
            },
            "type": "histogram"
           }
          ],
          "histogram2d": [
           {
            "colorbar": {
             "outlinewidth": 0,
             "ticks": ""
            },
            "colorscale": [
             [
              0,
              "#0d0887"
             ],
             [
              0.1111111111111111,
              "#46039f"
             ],
             [
              0.2222222222222222,
              "#7201a8"
             ],
             [
              0.3333333333333333,
              "#9c179e"
             ],
             [
              0.4444444444444444,
              "#bd3786"
             ],
             [
              0.5555555555555556,
              "#d8576b"
             ],
             [
              0.6666666666666666,
              "#ed7953"
             ],
             [
              0.7777777777777778,
              "#fb9f3a"
             ],
             [
              0.8888888888888888,
              "#fdca26"
             ],
             [
              1,
              "#f0f921"
             ]
            ],
            "type": "histogram2d"
           }
          ],
          "histogram2dcontour": [
           {
            "colorbar": {
             "outlinewidth": 0,
             "ticks": ""
            },
            "colorscale": [
             [
              0,
              "#0d0887"
             ],
             [
              0.1111111111111111,
              "#46039f"
             ],
             [
              0.2222222222222222,
              "#7201a8"
             ],
             [
              0.3333333333333333,
              "#9c179e"
             ],
             [
              0.4444444444444444,
              "#bd3786"
             ],
             [
              0.5555555555555556,
              "#d8576b"
             ],
             [
              0.6666666666666666,
              "#ed7953"
             ],
             [
              0.7777777777777778,
              "#fb9f3a"
             ],
             [
              0.8888888888888888,
              "#fdca26"
             ],
             [
              1,
              "#f0f921"
             ]
            ],
            "type": "histogram2dcontour"
           }
          ],
          "mesh3d": [
           {
            "colorbar": {
             "outlinewidth": 0,
             "ticks": ""
            },
            "type": "mesh3d"
           }
          ],
          "parcoords": [
           {
            "line": {
             "colorbar": {
              "outlinewidth": 0,
              "ticks": ""
             }
            },
            "type": "parcoords"
           }
          ],
          "pie": [
           {
            "automargin": true,
            "type": "pie"
           }
          ],
          "scatter": [
           {
            "fillpattern": {
             "fillmode": "overlay",
             "size": 10,
             "solidity": 0.2
            },
            "type": "scatter"
           }
          ],
          "scatter3d": [
           {
            "line": {
             "colorbar": {
              "outlinewidth": 0,
              "ticks": ""
             }
            },
            "marker": {
             "colorbar": {
              "outlinewidth": 0,
              "ticks": ""
             }
            },
            "type": "scatter3d"
           }
          ],
          "scattercarpet": [
           {
            "marker": {
             "colorbar": {
              "outlinewidth": 0,
              "ticks": ""
             }
            },
            "type": "scattercarpet"
           }
          ],
          "scattergeo": [
           {
            "marker": {
             "colorbar": {
              "outlinewidth": 0,
              "ticks": ""
             }
            },
            "type": "scattergeo"
           }
          ],
          "scattergl": [
           {
            "marker": {
             "colorbar": {
              "outlinewidth": 0,
              "ticks": ""
             }
            },
            "type": "scattergl"
           }
          ],
          "scattermapbox": [
           {
            "marker": {
             "colorbar": {
              "outlinewidth": 0,
              "ticks": ""
             }
            },
            "type": "scattermapbox"
           }
          ],
          "scatterpolar": [
           {
            "marker": {
             "colorbar": {
              "outlinewidth": 0,
              "ticks": ""
             }
            },
            "type": "scatterpolar"
           }
          ],
          "scatterpolargl": [
           {
            "marker": {
             "colorbar": {
              "outlinewidth": 0,
              "ticks": ""
             }
            },
            "type": "scatterpolargl"
           }
          ],
          "scatterternary": [
           {
            "marker": {
             "colorbar": {
              "outlinewidth": 0,
              "ticks": ""
             }
            },
            "type": "scatterternary"
           }
          ],
          "surface": [
           {
            "colorbar": {
             "outlinewidth": 0,
             "ticks": ""
            },
            "colorscale": [
             [
              0,
              "#0d0887"
             ],
             [
              0.1111111111111111,
              "#46039f"
             ],
             [
              0.2222222222222222,
              "#7201a8"
             ],
             [
              0.3333333333333333,
              "#9c179e"
             ],
             [
              0.4444444444444444,
              "#bd3786"
             ],
             [
              0.5555555555555556,
              "#d8576b"
             ],
             [
              0.6666666666666666,
              "#ed7953"
             ],
             [
              0.7777777777777778,
              "#fb9f3a"
             ],
             [
              0.8888888888888888,
              "#fdca26"
             ],
             [
              1,
              "#f0f921"
             ]
            ],
            "type": "surface"
           }
          ],
          "table": [
           {
            "cells": {
             "fill": {
              "color": "#EBF0F8"
             },
             "line": {
              "color": "white"
             }
            },
            "header": {
             "fill": {
              "color": "#C8D4E3"
             },
             "line": {
              "color": "white"
             }
            },
            "type": "table"
           }
          ]
         },
         "layout": {
          "annotationdefaults": {
           "arrowcolor": "#2a3f5f",
           "arrowhead": 0,
           "arrowwidth": 1
          },
          "autotypenumbers": "strict",
          "coloraxis": {
           "colorbar": {
            "outlinewidth": 0,
            "ticks": ""
           }
          },
          "colorscale": {
           "diverging": [
            [
             0,
             "#8e0152"
            ],
            [
             0.1,
             "#c51b7d"
            ],
            [
             0.2,
             "#de77ae"
            ],
            [
             0.3,
             "#f1b6da"
            ],
            [
             0.4,
             "#fde0ef"
            ],
            [
             0.5,
             "#f7f7f7"
            ],
            [
             0.6,
             "#e6f5d0"
            ],
            [
             0.7,
             "#b8e186"
            ],
            [
             0.8,
             "#7fbc41"
            ],
            [
             0.9,
             "#4d9221"
            ],
            [
             1,
             "#276419"
            ]
           ],
           "sequential": [
            [
             0,
             "#0d0887"
            ],
            [
             0.1111111111111111,
             "#46039f"
            ],
            [
             0.2222222222222222,
             "#7201a8"
            ],
            [
             0.3333333333333333,
             "#9c179e"
            ],
            [
             0.4444444444444444,
             "#bd3786"
            ],
            [
             0.5555555555555556,
             "#d8576b"
            ],
            [
             0.6666666666666666,
             "#ed7953"
            ],
            [
             0.7777777777777778,
             "#fb9f3a"
            ],
            [
             0.8888888888888888,
             "#fdca26"
            ],
            [
             1,
             "#f0f921"
            ]
           ],
           "sequentialminus": [
            [
             0,
             "#0d0887"
            ],
            [
             0.1111111111111111,
             "#46039f"
            ],
            [
             0.2222222222222222,
             "#7201a8"
            ],
            [
             0.3333333333333333,
             "#9c179e"
            ],
            [
             0.4444444444444444,
             "#bd3786"
            ],
            [
             0.5555555555555556,
             "#d8576b"
            ],
            [
             0.6666666666666666,
             "#ed7953"
            ],
            [
             0.7777777777777778,
             "#fb9f3a"
            ],
            [
             0.8888888888888888,
             "#fdca26"
            ],
            [
             1,
             "#f0f921"
            ]
           ]
          },
          "colorway": [
           "#636efa",
           "#EF553B",
           "#00cc96",
           "#ab63fa",
           "#FFA15A",
           "#19d3f3",
           "#FF6692",
           "#B6E880",
           "#FF97FF",
           "#FECB52"
          ],
          "font": {
           "color": "#2a3f5f"
          },
          "geo": {
           "bgcolor": "white",
           "lakecolor": "white",
           "landcolor": "#E5ECF6",
           "showlakes": true,
           "showland": true,
           "subunitcolor": "white"
          },
          "hoverlabel": {
           "align": "left"
          },
          "hovermode": "closest",
          "mapbox": {
           "style": "light"
          },
          "paper_bgcolor": "white",
          "plot_bgcolor": "#E5ECF6",
          "polar": {
           "angularaxis": {
            "gridcolor": "white",
            "linecolor": "white",
            "ticks": ""
           },
           "bgcolor": "#E5ECF6",
           "radialaxis": {
            "gridcolor": "white",
            "linecolor": "white",
            "ticks": ""
           }
          },
          "scene": {
           "xaxis": {
            "backgroundcolor": "#E5ECF6",
            "gridcolor": "white",
            "gridwidth": 2,
            "linecolor": "white",
            "showbackground": true,
            "ticks": "",
            "zerolinecolor": "white"
           },
           "yaxis": {
            "backgroundcolor": "#E5ECF6",
            "gridcolor": "white",
            "gridwidth": 2,
            "linecolor": "white",
            "showbackground": true,
            "ticks": "",
            "zerolinecolor": "white"
           },
           "zaxis": {
            "backgroundcolor": "#E5ECF6",
            "gridcolor": "white",
            "gridwidth": 2,
            "linecolor": "white",
            "showbackground": true,
            "ticks": "",
            "zerolinecolor": "white"
           }
          },
          "shapedefaults": {
           "line": {
            "color": "#2a3f5f"
           }
          },
          "ternary": {
           "aaxis": {
            "gridcolor": "white",
            "linecolor": "white",
            "ticks": ""
           },
           "baxis": {
            "gridcolor": "white",
            "linecolor": "white",
            "ticks": ""
           },
           "bgcolor": "#E5ECF6",
           "caxis": {
            "gridcolor": "white",
            "linecolor": "white",
            "ticks": ""
           }
          },
          "title": {
           "x": 0.05
          },
          "xaxis": {
           "automargin": true,
           "gridcolor": "white",
           "linecolor": "white",
           "ticks": "",
           "title": {
            "standoff": 15
           },
           "zerolinecolor": "white",
           "zerolinewidth": 2
          },
          "yaxis": {
           "automargin": true,
           "gridcolor": "white",
           "linecolor": "white",
           "ticks": "",
           "title": {
            "standoff": 15
           },
           "zerolinecolor": "white",
           "zerolinewidth": 2
          }
         }
        },
        "title": {
         "text": "Happiness Score vs Family"
        },
        "xaxis": {
         "anchor": "y",
         "domain": [
          0,
          1
         ],
         "title": {
          "text": "Family"
         }
        },
        "yaxis": {
         "anchor": "x",
         "domain": [
          0,
          1
         ],
         "title": {
          "text": "Happiness Score"
         }
        }
       }
      }
     },
     "metadata": {},
     "output_type": "display_data"
    }
   ],
   "source": [
    "# Scatter plot for Social support vs Happiness Score\n",
    "fig = px.scatter(\n",
    "    filtered_df,\n",
    "    x='Family',\n",
    "    y='Score',\n",
    "    size='Score',\n",
    "    color='Score',\n",
    "    title='Happiness Score vs Family',\n",
    "    labels={'Score': 'Happiness Score'},\n",
    "    trendline='ols'\n",
    ")\n",
    "\n",
    "fig.show()"
   ]
  },
  {
   "cell_type": "code",
   "execution_count": 21,
   "metadata": {},
   "outputs": [
    {
     "data": {
      "application/vnd.plotly.v1+json": {
       "config": {
        "plotlyServerURL": "https://plot.ly"
       },
       "data": [
        {
         "colorbar": {
          "title": {
           "text": "Happiness Score"
          }
         },
         "colorscale": [
          [
           0,
           "#440154"
          ],
          [
           0.1111111111111111,
           "#482878"
          ],
          [
           0.2222222222222222,
           "#3e4989"
          ],
          [
           0.3333333333333333,
           "#31688e"
          ],
          [
           0.4444444444444444,
           "#26828e"
          ],
          [
           0.5555555555555556,
           "#1f9e89"
          ],
          [
           0.6666666666666666,
           "#35b779"
          ],
          [
           0.7777777777777778,
           "#6ece58"
          ],
          [
           0.8888888888888888,
           "#b5de2b"
          ],
          [
           1,
           "#fde725"
          ]
         ],
         "locationmode": "country names",
         "locations": [
          "Switzerland",
          "Iceland",
          "Denmark",
          "Norway",
          "Canada",
          "Finland",
          "Netherlands",
          "Sweden",
          "New Zealand",
          "Australia",
          "Israel",
          "Costa Rica",
          "Austria",
          "Mexico",
          "United States",
          "Brazil",
          "Luxembourg",
          "Ireland",
          "Belgium",
          "United Arab Emirates",
          "United Kingdom",
          "Oman",
          "Venezuela",
          "Singapore",
          "Panama",
          "Germany",
          "Chile",
          "Qatar",
          "France",
          "Argentina",
          "Czech Republic",
          "Uruguay",
          "Colombia",
          "Thailand",
          "Saudi Arabia",
          "Spain",
          "Malta",
          "Taiwan",
          "Kuwait",
          "Suriname",
          "Trinidad and Tobago",
          "El Salvador",
          "Guatemala",
          "Uzbekistan",
          "Slovakia",
          "Japan",
          "South Korea",
          "Ecuador",
          "Bahrain",
          "Italy",
          "Bolivia",
          "Moldova",
          "Paraguay",
          "Kazakhstan",
          "Slovenia",
          "Lithuania",
          "Nicaragua",
          "Peru",
          "Belarus",
          "Poland",
          "Malaysia",
          "Croatia",
          "Libya",
          "Russia",
          "Jamaica",
          "North Cyprus",
          "Cyprus",
          "Algeria",
          "Kosovo",
          "Turkmenistan",
          "Mauritius",
          "Hong Kong",
          "Estonia",
          "Indonesia",
          "Vietnam",
          "Turkey",
          "Kyrgyzstan",
          "Nigeria",
          "Bhutan",
          "Azerbaijan",
          "Pakistan",
          "Jordan",
          "Montenegro",
          "China",
          "Zambia",
          "Romania",
          "Serbia",
          "Portugal",
          "Latvia",
          "Philippines",
          "Somaliland region",
          "Morocco",
          "Macedonia",
          "Mozambique",
          "Albania",
          "Bosnia and Herzegovina",
          "Lesotho",
          "Dominican Republic",
          "Laos",
          "Mongolia",
          "Swaziland",
          "Greece",
          "Lebanon",
          "Hungary",
          "Honduras",
          "Tajikistan",
          "Tunisia",
          "Palestinian Territories",
          "Bangladesh",
          "Iran",
          "Ukraine",
          "Iraq",
          "South Africa",
          "Ghana",
          "Zimbabwe",
          "Liberia",
          "India",
          "Sudan",
          "Haiti",
          "Congo (Kinshasa)",
          "Nepal",
          "Ethiopia",
          "Sierra Leone",
          "Mauritania",
          "Kenya",
          "Djibouti",
          "Armenia",
          "Botswana",
          "Myanmar",
          "Georgia",
          "Malawi",
          "Sri Lanka",
          "Cameroon",
          "Bulgaria",
          "Egypt",
          "Yemen",
          "Angola",
          "Mali",
          "Congo (Brazzaville)",
          "Comoros",
          "Uganda",
          "Senegal",
          "Gabon",
          "Niger",
          "Cambodia",
          "Tanzania",
          "Madagascar",
          "Central African Republic",
          "Chad",
          "Guinea",
          "Ivory Coast",
          "Burkina Faso",
          "Afghanistan",
          "Rwanda",
          "Benin",
          "Syria",
          "Burundi",
          "Togo",
          "Denmark",
          "Switzerland",
          "Iceland",
          "Norway",
          "Finland",
          "Canada",
          "Netherlands",
          "New Zealand",
          "Australia",
          "Sweden",
          "Israel",
          "Austria",
          "United States",
          "Costa Rica",
          "Puerto Rico",
          "Germany",
          "Brazil",
          "Belgium",
          "Ireland",
          "Luxembourg",
          "Mexico",
          "Singapore",
          "United Kingdom",
          "Chile",
          "Panama",
          "Argentina",
          "Czech Republic",
          "United Arab Emirates",
          "Uruguay",
          "Malta",
          "Colombia",
          "France",
          "Thailand",
          "Saudi Arabia",
          "Taiwan",
          "Qatar",
          "Spain",
          "Algeria",
          "Guatemala",
          "Suriname",
          "Kuwait",
          "Bahrain",
          "Trinidad and Tobago",
          "Venezuela",
          "Slovakia",
          "El Salvador",
          "Malaysia",
          "Nicaragua",
          "Uzbekistan",
          "Italy",
          "Ecuador",
          "Belize",
          "Japan",
          "Kazakhstan",
          "Moldova",
          "Russia",
          "Poland",
          "South Korea",
          "Bolivia",
          "Lithuania",
          "Belarus",
          "North Cyprus",
          "Slovenia",
          "Peru",
          "Turkmenistan",
          "Mauritius",
          "Libya",
          "Latvia",
          "Cyprus",
          "Paraguay",
          "Romania",
          "Estonia",
          "Jamaica",
          "Croatia",
          "Hong Kong",
          "Somalia",
          "Kosovo",
          "Turkey",
          "Indonesia",
          "Jordan",
          "Azerbaijan",
          "Philippines",
          "China",
          "Bhutan",
          "Kyrgyzstan",
          "Serbia",
          "Bosnia and Herzegovina",
          "Montenegro",
          "Dominican Republic",
          "Morocco",
          "Hungary",
          "Pakistan",
          "Lebanon",
          "Portugal",
          "Macedonia",
          "Vietnam",
          "Somaliland Region",
          "Tunisia",
          "Greece",
          "Tajikistan",
          "Mongolia",
          "Laos",
          "Nigeria",
          "Honduras",
          "Iran",
          "Zambia",
          "Nepal",
          "Palestinian Territories",
          "Albania",
          "Bangladesh",
          "Sierra Leone",
          "Iraq",
          "Namibia",
          "Cameroon",
          "Ethiopia",
          "South Africa",
          "Sri Lanka",
          "India",
          "Myanmar",
          "Egypt",
          "Armenia",
          "Kenya",
          "Ukraine",
          "Ghana",
          "Congo (Kinshasa)",
          "Georgia",
          "Congo (Brazzaville)",
          "Senegal",
          "Bulgaria",
          "Mauritania",
          "Zimbabwe",
          "Malawi",
          "Sudan",
          "Gabon",
          "Mali",
          "Haiti",
          "Botswana",
          "Comoros",
          "Ivory Coast",
          "Cambodia",
          "Angola",
          "Niger",
          "South Sudan",
          "Chad",
          "Burkina Faso",
          "Uganda",
          "Yemen",
          "Madagascar",
          "Tanzania",
          "Liberia",
          "Guinea",
          "Rwanda",
          "Benin",
          "Afghanistan",
          "Togo",
          "Syria",
          "Burundi",
          "Norway",
          "Denmark",
          "Iceland",
          "Switzerland",
          "Finland",
          "Netherlands",
          "Canada",
          "New Zealand",
          "Sweden",
          "Australia",
          "Israel",
          "Costa Rica",
          "Austria",
          "United States",
          "Ireland",
          "Germany",
          "Belgium",
          "Luxembourg",
          "United Kingdom",
          "Chile",
          "United Arab Emirates",
          "Brazil",
          "Czech Republic",
          "Argentina",
          "Mexico",
          "Singapore",
          "Malta",
          "Uruguay",
          "Guatemala",
          "Panama",
          "France",
          "Thailand",
          "Taiwan Province of China",
          "Spain",
          "Qatar",
          "Colombia",
          "Saudi Arabia",
          "Trinidad and Tobago",
          "Kuwait",
          "Slovakia",
          "Bahrain",
          "Malaysia",
          "Nicaragua",
          "Ecuador",
          "El Salvador",
          "Poland",
          "Uzbekistan",
          "Italy",
          "Russia",
          "Belize",
          "Japan",
          "Lithuania",
          "Algeria",
          "Latvia",
          "South Korea",
          "Moldova",
          "Romania",
          "Bolivia",
          "Turkmenistan",
          "Kazakhstan",
          "North Cyprus",
          "Slovenia",
          "Peru",
          "Mauritius",
          "Cyprus",
          "Estonia",
          "Belarus",
          "Libya",
          "Turkey",
          "Paraguay",
          "Hong Kong S.A.R., China",
          "Philippines",
          "Serbia",
          "Jordan",
          "Hungary",
          "Jamaica",
          "Croatia",
          "Kosovo",
          "China",
          "Pakistan",
          "Indonesia",
          "Venezuela",
          "Montenegro",
          "Morocco",
          "Azerbaijan",
          "Dominican Republic",
          "Greece",
          "Lebanon",
          "Portugal",
          "Bosnia and Herzegovina",
          "Honduras",
          "Macedonia",
          "Somalia",
          "Vietnam",
          "Nigeria",
          "Tajikistan",
          "Bhutan",
          "Kyrgyzstan",
          "Nepal",
          "Mongolia",
          "South Africa",
          "Tunisia",
          "Palestinian Territories",
          "Egypt",
          "Bulgaria",
          "Sierra Leone",
          "Cameroon",
          "Iran",
          "Albania",
          "Bangladesh",
          "Namibia",
          "Kenya",
          "Mozambique",
          "Myanmar",
          "Senegal",
          "Zambia",
          "Iraq",
          "Gabon",
          "Ethiopia",
          "Sri Lanka",
          "Armenia",
          "India",
          "Mauritania",
          "Congo (Brazzaville)",
          "Georgia",
          "Congo (Kinshasa)",
          "Mali",
          "Ivory Coast",
          "Cambodia",
          "Sudan",
          "Ghana",
          "Ukraine",
          "Uganda",
          "Burkina Faso",
          "Niger",
          "Malawi",
          "Chad",
          "Zimbabwe",
          "Lesotho",
          "Angola",
          "Afghanistan",
          "Botswana",
          "Benin",
          "Madagascar",
          "Haiti",
          "Yemen",
          "South Sudan",
          "Liberia",
          "Guinea",
          "Togo",
          "Rwanda",
          "Syria",
          "Tanzania",
          "Burundi",
          "Central African Republic",
          "Finland",
          "Norway",
          "Denmark",
          "Iceland",
          "Switzerland",
          "Netherlands",
          "Canada",
          "New Zealand",
          "Sweden",
          "Australia",
          "United Kingdom",
          "Austria",
          "Costa Rica",
          "Ireland",
          "Germany",
          "Belgium",
          "Luxembourg",
          "United States",
          "Israel",
          "United Arab Emirates",
          "Czech Republic",
          "Malta",
          "France",
          "Mexico",
          "Chile",
          "Taiwan",
          "Panama",
          "Brazil",
          "Argentina",
          "Guatemala",
          "Uruguay",
          "Qatar",
          "Saudi Arabia",
          "Singapore",
          "Malaysia",
          "Spain",
          "Colombia",
          "Trinidad & Tobago",
          "Slovakia",
          "El Salvador",
          "Nicaragua",
          "Poland",
          "Bahrain",
          "Uzbekistan",
          "Kuwait",
          "Thailand",
          "Italy",
          "Ecuador",
          "Belize",
          "Lithuania",
          "Slovenia",
          "Romania",
          "Latvia",
          "Japan",
          "Mauritius",
          "Jamaica",
          "South Korea",
          "Northern Cyprus",
          "Russia",
          "Kazakhstan",
          "Cyprus",
          "Bolivia",
          "Estonia",
          "Paraguay",
          "Peru",
          "Kosovo",
          "Moldova",
          "Turkmenistan",
          "Hungary",
          "Libya",
          "Philippines",
          "Honduras",
          "Belarus",
          "Turkey",
          "Pakistan",
          "Hong Kong",
          "Portugal",
          "Serbia",
          "Greece",
          "Lebanon",
          "Montenegro",
          "Croatia",
          "Dominican Republic",
          "Algeria",
          "Morocco",
          "China",
          "Azerbaijan",
          "Tajikistan",
          "Macedonia",
          "Jordan",
          "Nigeria",
          "Kyrgyzstan",
          "Bosnia and Herzegovina",
          "Mongolia",
          "Vietnam",
          "Indonesia",
          "Bhutan",
          "Somalia",
          "Cameroon",
          "Bulgaria",
          "Nepal",
          "Venezuela",
          "Gabon",
          "Palestinian Territories",
          "South Africa",
          "Iran",
          "Ivory Coast",
          "Ghana",
          "Senegal",
          "Laos",
          "Tunisia",
          "Albania",
          "Sierra Leone",
          "Congo (Brazzaville)",
          "Bangladesh",
          "Sri Lanka",
          "Iraq",
          "Mali",
          "Namibia",
          "Cambodia",
          "Burkina Faso",
          "Egypt",
          "Mozambique",
          "Kenya",
          "Zambia",
          "Mauritania",
          "Ethiopia",
          "Georgia",
          "Armenia",
          "Myanmar",
          "Chad",
          "Congo (Kinshasa)",
          "India",
          "Niger",
          "Uganda",
          "Benin",
          "Sudan",
          "Ukraine",
          "Togo",
          "Guinea",
          "Lesotho",
          "Angola",
          "Madagascar",
          "Zimbabwe",
          "Afghanistan",
          "Botswana",
          "Malawi",
          "Haiti",
          "Liberia",
          "Syria",
          "Rwanda",
          "Yemen",
          "Tanzania",
          "South Sudan",
          "Central African Republic",
          "Burundi",
          "Finland",
          "Denmark",
          "Norway",
          "Iceland",
          "Netherlands",
          "Switzerland",
          "Sweden",
          "New Zealand",
          "Canada",
          "Austria",
          "Australia",
          "Costa Rica",
          "Israel",
          "Luxembourg",
          "United Kingdom",
          "Ireland",
          "Germany",
          "Belgium",
          "United States",
          "Czech Republic",
          "United Arab Emirates",
          "Malta",
          "Mexico",
          "France",
          "Taiwan",
          "Chile",
          "Guatemala",
          "Saudi Arabia",
          "Qatar",
          "Spain",
          "Panama",
          "Brazil",
          "Uruguay",
          "Singapore",
          "El Salvador",
          "Italy",
          "Bahrain",
          "Slovakia",
          "Trinidad & Tobago",
          "Poland",
          "Uzbekistan",
          "Lithuania",
          "Colombia",
          "Slovenia",
          "Nicaragua",
          "Kosovo",
          "Argentina",
          "Romania",
          "Cyprus",
          "Ecuador",
          "Kuwait",
          "Thailand",
          "Latvia",
          "South Korea",
          "Estonia",
          "Jamaica",
          "Mauritius",
          "Japan",
          "Honduras",
          "Kazakhstan",
          "Bolivia",
          "Hungary",
          "Paraguay",
          "Northern Cyprus",
          "Peru",
          "Portugal",
          "Pakistan",
          "Russia",
          "Philippines",
          "Serbia",
          "Moldova",
          "Libya",
          "Montenegro",
          "Tajikistan",
          "Croatia",
          "Hong Kong",
          "Dominican Republic",
          "Bosnia and Herzegovina",
          "Turkey",
          "Malaysia",
          "Belarus",
          "Greece",
          "Mongolia",
          "North Macedonia",
          "Nigeria",
          "Kyrgyzstan",
          "Turkmenistan",
          "Algeria",
          "Morocco",
          "Azerbaijan",
          "Lebanon",
          "Indonesia",
          "China",
          "Vietnam",
          "Bhutan",
          "Cameroon",
          "Bulgaria",
          "Ghana",
          "Ivory Coast",
          "Nepal",
          "Jordan",
          "Benin",
          "Congo (Brazzaville)",
          "Gabon",
          "Laos",
          "South Africa",
          "Albania",
          "Venezuela",
          "Cambodia",
          "Palestinian Territories",
          "Senegal",
          "Somalia",
          "Namibia",
          "Niger",
          "Burkina Faso",
          "Armenia",
          "Iran",
          "Guinea",
          "Georgia",
          "Gambia",
          "Kenya",
          "Mauritania",
          "Mozambique",
          "Tunisia",
          "Bangladesh",
          "Iraq",
          "Congo (Kinshasa)",
          "Mali",
          "Sierra Leone",
          "Sri Lanka",
          "Myanmar",
          "Chad",
          "Ukraine",
          "Ethiopia",
          "Swaziland",
          "Uganda",
          "Egypt",
          "Zambia",
          "Togo",
          "India",
          "Liberia",
          "Comoros",
          "Madagascar",
          "Lesotho",
          "Burundi",
          "Zimbabwe",
          "Haiti",
          "Botswana",
          "Syria",
          "Malawi",
          "Yemen",
          "Rwanda",
          "Tanzania",
          "Afghanistan",
          "Central African Republic",
          "South Sudan"
         ],
         "type": "choropleth",
         "visible": true,
         "z": [
          7.587,
          7.561,
          7.527,
          7.522,
          7.427,
          7.406,
          7.378,
          7.364,
          7.286,
          7.284,
          7.278,
          7.226,
          7.2,
          7.187,
          7.119,
          6.983,
          6.946,
          6.94,
          6.937,
          6.901,
          6.867,
          6.853,
          6.81,
          6.798,
          6.786,
          6.75,
          6.67,
          6.611,
          6.575,
          6.574,
          6.505,
          6.485,
          6.477,
          6.455,
          6.411,
          6.329,
          6.302,
          6.298,
          6.295,
          6.269,
          6.168,
          6.13,
          6.123,
          6.003,
          5.995,
          5.987,
          5.984,
          5.975,
          5.96,
          5.948,
          5.89,
          5.889,
          5.878,
          5.855,
          5.848,
          5.833,
          5.828,
          5.824,
          5.813,
          5.791,
          5.77,
          5.759,
          5.754,
          5.716,
          5.709,
          5.695,
          5.689,
          5.605,
          5.589,
          5.548,
          5.477,
          5.474,
          5.429,
          5.399,
          5.36,
          5.332,
          5.286,
          5.268,
          5.253,
          5.212,
          5.194,
          5.192,
          5.192,
          5.14,
          5.129,
          5.124,
          5.123,
          5.102,
          5.098,
          5.073,
          5.057,
          5.013,
          5.007,
          4.971,
          4.959,
          4.949,
          4.898,
          4.885,
          4.876,
          4.874,
          4.867,
          4.857,
          4.839,
          4.8,
          4.788,
          4.786,
          4.739,
          4.715,
          4.694,
          4.686,
          4.681,
          4.677,
          4.642,
          4.633,
          4.61,
          4.571,
          4.565,
          4.55,
          4.518,
          4.517,
          4.514,
          4.512,
          4.507,
          4.436,
          4.419,
          4.369,
          4.35,
          4.332,
          4.307,
          4.297,
          4.292,
          4.271,
          4.252,
          4.218,
          4.194,
          4.077,
          4.033,
          3.995,
          3.989,
          3.956,
          3.931,
          3.904,
          3.896,
          3.845,
          3.819,
          3.781,
          3.681,
          3.678,
          3.667,
          3.656,
          3.655,
          3.587,
          3.575,
          3.465,
          3.34,
          3.006,
          2.905,
          2.839,
          7.526,
          7.509,
          7.501,
          7.498,
          7.413,
          7.404,
          7.339,
          7.334,
          7.313,
          7.291,
          7.267,
          7.119,
          7.104,
          7.087,
          7.039,
          6.994,
          6.952,
          6.929,
          6.907,
          6.871,
          6.778,
          6.739,
          6.725,
          6.705,
          6.701,
          6.65,
          6.596,
          6.573,
          6.545,
          6.488,
          6.481,
          6.478,
          6.474,
          6.379,
          6.379,
          6.375,
          6.361,
          6.355,
          6.324,
          6.269,
          6.239,
          6.218,
          6.168,
          6.084,
          6.078,
          6.068,
          6.005,
          5.992,
          5.987,
          5.977,
          5.976,
          5.956,
          5.921,
          5.919,
          5.897,
          5.856,
          5.835,
          5.835,
          5.822,
          5.813,
          5.802,
          5.771,
          5.768,
          5.743,
          5.658,
          5.648,
          5.615,
          5.56,
          5.546,
          5.538,
          5.528,
          5.517,
          5.51,
          5.488,
          5.458,
          5.44,
          5.401,
          5.389,
          5.314,
          5.303,
          5.291,
          5.279,
          5.245,
          5.196,
          5.185,
          5.177,
          5.163,
          5.161,
          5.155,
          5.151,
          5.145,
          5.132,
          5.129,
          5.123,
          5.121,
          5.061,
          5.057,
          5.045,
          5.033,
          4.996,
          4.907,
          4.876,
          4.875,
          4.871,
          4.813,
          4.795,
          4.793,
          4.754,
          4.655,
          4.643,
          4.635,
          4.575,
          4.574,
          4.513,
          4.508,
          4.459,
          4.415,
          4.404,
          4.395,
          4.362,
          4.36,
          4.356,
          4.324,
          4.276,
          4.272,
          4.252,
          4.236,
          4.219,
          4.217,
          4.201,
          4.193,
          4.156,
          4.139,
          4.121,
          4.073,
          4.028,
          3.974,
          3.956,
          3.916,
          3.907,
          3.866,
          3.856,
          3.832,
          3.763,
          3.739,
          3.739,
          3.724,
          3.695,
          3.666,
          3.622,
          3.607,
          3.515,
          3.484,
          3.36,
          3.303,
          3.069,
          2.905,
          7.53700017929077,
          7.52199983596802,
          7.50400018692017,
          7.49399995803833,
          7.4689998626709,
          7.3769998550415,
          7.31599998474121,
          7.31400012969971,
          7.28399991989136,
          7.28399991989136,
          7.21299982070923,
          7.0789999961853,
          7.00600004196167,
          6.99300003051758,
          6.97700023651123,
          6.95100021362305,
          6.89099979400635,
          6.86299991607666,
          6.71400022506714,
          6.65199995040894,
          6.64799976348877,
          6.63500022888184,
          6.60900020599365,
          6.59899997711182,
          6.57800006866455,
          6.57200002670288,
          6.52699995040894,
          6.4539999961853,
          6.4539999961853,
          6.4520001411438,
          6.44199991226196,
          6.42399978637695,
          6.42199993133545,
          6.40299987792969,
          6.375,
          6.35699987411499,
          6.3439998626709,
          6.16800022125244,
          6.10500001907349,
          6.09800004959106,
          6.08699989318848,
          6.08400011062622,
          6.07100009918213,
          6.00799989700317,
          6.00299978256226,
          5.97300004959106,
          5.97100019454956,
          5.96400022506714,
          5.96299982070923,
          5.95599985122681,
          5.92000007629395,
          5.90199995040894,
          5.87200021743774,
          5.84999990463257,
          5.83799982070923,
          5.83799982070923,
          5.82499980926514,
          5.82299995422363,
          5.82200002670288,
          5.81899976730347,
          5.80999994277954,
          5.75799989700317,
          5.71500015258789,
          5.62900018692017,
          5.62099981307983,
          5.61100006103516,
          5.56899976730347,
          5.52500009536743,
          5.5,
          5.49300003051758,
          5.47200012207031,
          5.42999982833862,
          5.39499998092651,
          5.33599996566772,
          5.32399988174438,
          5.31099987030029,
          5.29300022125244,
          5.27899980545044,
          5.27299976348877,
          5.26900005340576,
          5.26200008392334,
          5.25,
          5.23699998855591,
          5.2350001335144,
          5.23400020599365,
          5.23000001907349,
          5.22700023651123,
          5.22499990463257,
          5.19500017166138,
          5.18200016021729,
          5.18100023269653,
          5.17500019073486,
          5.15100002288818,
          5.07399988174438,
          5.07399988174438,
          5.04099988937378,
          5.01100015640259,
          5.00400018692017,
          4.96199989318848,
          4.95499992370605,
          4.8289999961853,
          4.80499982833862,
          4.77500009536743,
          4.7350001335144,
          4.71400022506714,
          4.70900011062622,
          4.69500017166138,
          4.69199991226196,
          4.64400005340576,
          4.60799980163574,
          4.57399988174438,
          4.55299997329712,
          4.55000019073486,
          4.54500007629395,
          4.53499984741211,
          4.51399993896484,
          4.49700021743774,
          4.46500015258789,
          4.46000003814697,
          4.44000005722046,
          4.37599992752075,
          4.31500005722046,
          4.29199981689453,
          4.29099988937378,
          4.28599977493286,
          4.28000020980835,
          4.19000005722046,
          4.17999982833862,
          4.16800022125244,
          4.13899993896484,
          4.11999988555908,
          4.09600019454956,
          4.08099985122681,
          4.03200006484985,
          4.02799987792969,
          3.97000002861023,
          3.93600010871887,
          3.875,
          3.80800008773804,
          3.79500007629395,
          3.79399991035461,
          3.76600003242493,
          3.65700006484985,
          3.64400005340576,
          3.6029999256134,
          3.59299993515015,
          3.59100008010864,
          3.53299999237061,
          3.50699996948242,
          3.49499988555908,
          3.47099995613098,
          3.46199989318848,
          3.34899997711182,
          2.90499997138977,
          2.69300007820129,
          7.632,
          7.594,
          7.555,
          7.495,
          7.487,
          7.441,
          7.328,
          7.324,
          7.314,
          7.272,
          7.19,
          7.139,
          7.072,
          6.977,
          6.965,
          6.927,
          6.91,
          6.886,
          6.814,
          6.774,
          6.711,
          6.627,
          6.489,
          6.488,
          6.476,
          6.441,
          6.43,
          6.419,
          6.388,
          6.382,
          6.379,
          6.374,
          6.371,
          6.343,
          6.322,
          6.31,
          6.26,
          6.192,
          6.173,
          6.167,
          6.141,
          6.123,
          6.105,
          6.096,
          6.083,
          6.072,
          6,
          5.973,
          5.956,
          5.952,
          5.948,
          5.945,
          5.933,
          5.915,
          5.891,
          5.89,
          5.875,
          5.835,
          5.81,
          5.79,
          5.762,
          5.752,
          5.739,
          5.681,
          5.663,
          5.662,
          5.64,
          5.636,
          5.62,
          5.566,
          5.524,
          5.504,
          5.483,
          5.483,
          5.472,
          5.43,
          5.41,
          5.398,
          5.358,
          5.358,
          5.347,
          5.321,
          5.302,
          5.295,
          5.254,
          5.246,
          5.201,
          5.199,
          5.185,
          5.161,
          5.155,
          5.131,
          5.129,
          5.125,
          5.103,
          5.093,
          5.082,
          4.982,
          4.975,
          4.933,
          4.88,
          4.806,
          4.758,
          4.743,
          4.724,
          4.707,
          4.671,
          4.657,
          4.631,
          4.623,
          4.592,
          4.586,
          4.571,
          4.559,
          4.5,
          4.471,
          4.456,
          4.447,
          4.441,
          4.433,
          4.424,
          4.419,
          4.417,
          4.41,
          4.377,
          4.356,
          4.35,
          4.34,
          4.321,
          4.308,
          4.301,
          4.245,
          4.19,
          4.166,
          4.161,
          4.141,
          4.139,
          4.103,
          3.999,
          3.964,
          3.808,
          3.795,
          3.774,
          3.692,
          3.632,
          3.59,
          3.587,
          3.582,
          3.495,
          3.462,
          3.408,
          3.355,
          3.303,
          3.254,
          3.083,
          2.905,
          7.769,
          7.6,
          7.554,
          7.494,
          7.488,
          7.48,
          7.343,
          7.307,
          7.278,
          7.246,
          7.228,
          7.167,
          7.139,
          7.09,
          7.054,
          7.021,
          6.985,
          6.923,
          6.892,
          6.852,
          6.825,
          6.726,
          6.595,
          6.592,
          6.446,
          6.444,
          6.436,
          6.375,
          6.374,
          6.354,
          6.321,
          6.3,
          6.293,
          6.262,
          6.253,
          6.223,
          6.199,
          6.198,
          6.192,
          6.182,
          6.174,
          6.149,
          6.125,
          6.118,
          6.105,
          6.1,
          6.086,
          6.07,
          6.046,
          6.028,
          6.021,
          6.008,
          5.94,
          5.895,
          5.893,
          5.89,
          5.888,
          5.886,
          5.86,
          5.809,
          5.779,
          5.758,
          5.743,
          5.718,
          5.697,
          5.693,
          5.653,
          5.648,
          5.631,
          5.603,
          5.529,
          5.525,
          5.523,
          5.467,
          5.432,
          5.43,
          5.425,
          5.386,
          5.373,
          5.339,
          5.323,
          5.287,
          5.285,
          5.274,
          5.265,
          5.261,
          5.247,
          5.211,
          5.208,
          5.208,
          5.197,
          5.192,
          5.191,
          5.175,
          5.082,
          5.044,
          5.011,
          4.996,
          4.944,
          4.913,
          4.906,
          4.883,
          4.812,
          4.799,
          4.796,
          4.722,
          4.719,
          4.707,
          4.7,
          4.696,
          4.681,
          4.668,
          4.639,
          4.628,
          4.587,
          4.559,
          4.548,
          4.534,
          4.519,
          4.516,
          4.509,
          4.49,
          4.466,
          4.461,
          4.456,
          4.437,
          4.418,
          4.39,
          4.374,
          4.366,
          4.36,
          4.35,
          4.332,
          4.286,
          4.212,
          4.189,
          4.166,
          4.107,
          4.085,
          4.015,
          3.975,
          3.973,
          3.933,
          3.802,
          3.775,
          3.663,
          3.597,
          3.488,
          3.462,
          3.41,
          3.38,
          3.334,
          3.231,
          3.203,
          3.083,
          2.853
         ]
        }
       ],
       "layout": {
        "template": {
         "data": {
          "bar": [
           {
            "error_x": {
             "color": "#2a3f5f"
            },
            "error_y": {
             "color": "#2a3f5f"
            },
            "marker": {
             "line": {
              "color": "#E5ECF6",
              "width": 0.5
             },
             "pattern": {
              "fillmode": "overlay",
              "size": 10,
              "solidity": 0.2
             }
            },
            "type": "bar"
           }
          ],
          "barpolar": [
           {
            "marker": {
             "line": {
              "color": "#E5ECF6",
              "width": 0.5
             },
             "pattern": {
              "fillmode": "overlay",
              "size": 10,
              "solidity": 0.2
             }
            },
            "type": "barpolar"
           }
          ],
          "carpet": [
           {
            "aaxis": {
             "endlinecolor": "#2a3f5f",
             "gridcolor": "white",
             "linecolor": "white",
             "minorgridcolor": "white",
             "startlinecolor": "#2a3f5f"
            },
            "baxis": {
             "endlinecolor": "#2a3f5f",
             "gridcolor": "white",
             "linecolor": "white",
             "minorgridcolor": "white",
             "startlinecolor": "#2a3f5f"
            },
            "type": "carpet"
           }
          ],
          "choropleth": [
           {
            "colorbar": {
             "outlinewidth": 0,
             "ticks": ""
            },
            "type": "choropleth"
           }
          ],
          "contour": [
           {
            "colorbar": {
             "outlinewidth": 0,
             "ticks": ""
            },
            "colorscale": [
             [
              0,
              "#0d0887"
             ],
             [
              0.1111111111111111,
              "#46039f"
             ],
             [
              0.2222222222222222,
              "#7201a8"
             ],
             [
              0.3333333333333333,
              "#9c179e"
             ],
             [
              0.4444444444444444,
              "#bd3786"
             ],
             [
              0.5555555555555556,
              "#d8576b"
             ],
             [
              0.6666666666666666,
              "#ed7953"
             ],
             [
              0.7777777777777778,
              "#fb9f3a"
             ],
             [
              0.8888888888888888,
              "#fdca26"
             ],
             [
              1,
              "#f0f921"
             ]
            ],
            "type": "contour"
           }
          ],
          "contourcarpet": [
           {
            "colorbar": {
             "outlinewidth": 0,
             "ticks": ""
            },
            "type": "contourcarpet"
           }
          ],
          "heatmap": [
           {
            "colorbar": {
             "outlinewidth": 0,
             "ticks": ""
            },
            "colorscale": [
             [
              0,
              "#0d0887"
             ],
             [
              0.1111111111111111,
              "#46039f"
             ],
             [
              0.2222222222222222,
              "#7201a8"
             ],
             [
              0.3333333333333333,
              "#9c179e"
             ],
             [
              0.4444444444444444,
              "#bd3786"
             ],
             [
              0.5555555555555556,
              "#d8576b"
             ],
             [
              0.6666666666666666,
              "#ed7953"
             ],
             [
              0.7777777777777778,
              "#fb9f3a"
             ],
             [
              0.8888888888888888,
              "#fdca26"
             ],
             [
              1,
              "#f0f921"
             ]
            ],
            "type": "heatmap"
           }
          ],
          "heatmapgl": [
           {
            "colorbar": {
             "outlinewidth": 0,
             "ticks": ""
            },
            "colorscale": [
             [
              0,
              "#0d0887"
             ],
             [
              0.1111111111111111,
              "#46039f"
             ],
             [
              0.2222222222222222,
              "#7201a8"
             ],
             [
              0.3333333333333333,
              "#9c179e"
             ],
             [
              0.4444444444444444,
              "#bd3786"
             ],
             [
              0.5555555555555556,
              "#d8576b"
             ],
             [
              0.6666666666666666,
              "#ed7953"
             ],
             [
              0.7777777777777778,
              "#fb9f3a"
             ],
             [
              0.8888888888888888,
              "#fdca26"
             ],
             [
              1,
              "#f0f921"
             ]
            ],
            "type": "heatmapgl"
           }
          ],
          "histogram": [
           {
            "marker": {
             "pattern": {
              "fillmode": "overlay",
              "size": 10,
              "solidity": 0.2
             }
            },
            "type": "histogram"
           }
          ],
          "histogram2d": [
           {
            "colorbar": {
             "outlinewidth": 0,
             "ticks": ""
            },
            "colorscale": [
             [
              0,
              "#0d0887"
             ],
             [
              0.1111111111111111,
              "#46039f"
             ],
             [
              0.2222222222222222,
              "#7201a8"
             ],
             [
              0.3333333333333333,
              "#9c179e"
             ],
             [
              0.4444444444444444,
              "#bd3786"
             ],
             [
              0.5555555555555556,
              "#d8576b"
             ],
             [
              0.6666666666666666,
              "#ed7953"
             ],
             [
              0.7777777777777778,
              "#fb9f3a"
             ],
             [
              0.8888888888888888,
              "#fdca26"
             ],
             [
              1,
              "#f0f921"
             ]
            ],
            "type": "histogram2d"
           }
          ],
          "histogram2dcontour": [
           {
            "colorbar": {
             "outlinewidth": 0,
             "ticks": ""
            },
            "colorscale": [
             [
              0,
              "#0d0887"
             ],
             [
              0.1111111111111111,
              "#46039f"
             ],
             [
              0.2222222222222222,
              "#7201a8"
             ],
             [
              0.3333333333333333,
              "#9c179e"
             ],
             [
              0.4444444444444444,
              "#bd3786"
             ],
             [
              0.5555555555555556,
              "#d8576b"
             ],
             [
              0.6666666666666666,
              "#ed7953"
             ],
             [
              0.7777777777777778,
              "#fb9f3a"
             ],
             [
              0.8888888888888888,
              "#fdca26"
             ],
             [
              1,
              "#f0f921"
             ]
            ],
            "type": "histogram2dcontour"
           }
          ],
          "mesh3d": [
           {
            "colorbar": {
             "outlinewidth": 0,
             "ticks": ""
            },
            "type": "mesh3d"
           }
          ],
          "parcoords": [
           {
            "line": {
             "colorbar": {
              "outlinewidth": 0,
              "ticks": ""
             }
            },
            "type": "parcoords"
           }
          ],
          "pie": [
           {
            "automargin": true,
            "type": "pie"
           }
          ],
          "scatter": [
           {
            "fillpattern": {
             "fillmode": "overlay",
             "size": 10,
             "solidity": 0.2
            },
            "type": "scatter"
           }
          ],
          "scatter3d": [
           {
            "line": {
             "colorbar": {
              "outlinewidth": 0,
              "ticks": ""
             }
            },
            "marker": {
             "colorbar": {
              "outlinewidth": 0,
              "ticks": ""
             }
            },
            "type": "scatter3d"
           }
          ],
          "scattercarpet": [
           {
            "marker": {
             "colorbar": {
              "outlinewidth": 0,
              "ticks": ""
             }
            },
            "type": "scattercarpet"
           }
          ],
          "scattergeo": [
           {
            "marker": {
             "colorbar": {
              "outlinewidth": 0,
              "ticks": ""
             }
            },
            "type": "scattergeo"
           }
          ],
          "scattergl": [
           {
            "marker": {
             "colorbar": {
              "outlinewidth": 0,
              "ticks": ""
             }
            },
            "type": "scattergl"
           }
          ],
          "scattermapbox": [
           {
            "marker": {
             "colorbar": {
              "outlinewidth": 0,
              "ticks": ""
             }
            },
            "type": "scattermapbox"
           }
          ],
          "scatterpolar": [
           {
            "marker": {
             "colorbar": {
              "outlinewidth": 0,
              "ticks": ""
             }
            },
            "type": "scatterpolar"
           }
          ],
          "scatterpolargl": [
           {
            "marker": {
             "colorbar": {
              "outlinewidth": 0,
              "ticks": ""
             }
            },
            "type": "scatterpolargl"
           }
          ],
          "scatterternary": [
           {
            "marker": {
             "colorbar": {
              "outlinewidth": 0,
              "ticks": ""
             }
            },
            "type": "scatterternary"
           }
          ],
          "surface": [
           {
            "colorbar": {
             "outlinewidth": 0,
             "ticks": ""
            },
            "colorscale": [
             [
              0,
              "#0d0887"
             ],
             [
              0.1111111111111111,
              "#46039f"
             ],
             [
              0.2222222222222222,
              "#7201a8"
             ],
             [
              0.3333333333333333,
              "#9c179e"
             ],
             [
              0.4444444444444444,
              "#bd3786"
             ],
             [
              0.5555555555555556,
              "#d8576b"
             ],
             [
              0.6666666666666666,
              "#ed7953"
             ],
             [
              0.7777777777777778,
              "#fb9f3a"
             ],
             [
              0.8888888888888888,
              "#fdca26"
             ],
             [
              1,
              "#f0f921"
             ]
            ],
            "type": "surface"
           }
          ],
          "table": [
           {
            "cells": {
             "fill": {
              "color": "#EBF0F8"
             },
             "line": {
              "color": "white"
             }
            },
            "header": {
             "fill": {
              "color": "#C8D4E3"
             },
             "line": {
              "color": "white"
             }
            },
            "type": "table"
           }
          ]
         },
         "layout": {
          "annotationdefaults": {
           "arrowcolor": "#2a3f5f",
           "arrowhead": 0,
           "arrowwidth": 1
          },
          "autotypenumbers": "strict",
          "coloraxis": {
           "colorbar": {
            "outlinewidth": 0,
            "ticks": ""
           }
          },
          "colorscale": {
           "diverging": [
            [
             0,
             "#8e0152"
            ],
            [
             0.1,
             "#c51b7d"
            ],
            [
             0.2,
             "#de77ae"
            ],
            [
             0.3,
             "#f1b6da"
            ],
            [
             0.4,
             "#fde0ef"
            ],
            [
             0.5,
             "#f7f7f7"
            ],
            [
             0.6,
             "#e6f5d0"
            ],
            [
             0.7,
             "#b8e186"
            ],
            [
             0.8,
             "#7fbc41"
            ],
            [
             0.9,
             "#4d9221"
            ],
            [
             1,
             "#276419"
            ]
           ],
           "sequential": [
            [
             0,
             "#0d0887"
            ],
            [
             0.1111111111111111,
             "#46039f"
            ],
            [
             0.2222222222222222,
             "#7201a8"
            ],
            [
             0.3333333333333333,
             "#9c179e"
            ],
            [
             0.4444444444444444,
             "#bd3786"
            ],
            [
             0.5555555555555556,
             "#d8576b"
            ],
            [
             0.6666666666666666,
             "#ed7953"
            ],
            [
             0.7777777777777778,
             "#fb9f3a"
            ],
            [
             0.8888888888888888,
             "#fdca26"
            ],
            [
             1,
             "#f0f921"
            ]
           ],
           "sequentialminus": [
            [
             0,
             "#0d0887"
            ],
            [
             0.1111111111111111,
             "#46039f"
            ],
            [
             0.2222222222222222,
             "#7201a8"
            ],
            [
             0.3333333333333333,
             "#9c179e"
            ],
            [
             0.4444444444444444,
             "#bd3786"
            ],
            [
             0.5555555555555556,
             "#d8576b"
            ],
            [
             0.6666666666666666,
             "#ed7953"
            ],
            [
             0.7777777777777778,
             "#fb9f3a"
            ],
            [
             0.8888888888888888,
             "#fdca26"
            ],
            [
             1,
             "#f0f921"
            ]
           ]
          },
          "colorway": [
           "#636efa",
           "#EF553B",
           "#00cc96",
           "#ab63fa",
           "#FFA15A",
           "#19d3f3",
           "#FF6692",
           "#B6E880",
           "#FF97FF",
           "#FECB52"
          ],
          "font": {
           "color": "#2a3f5f"
          },
          "geo": {
           "bgcolor": "white",
           "lakecolor": "white",
           "landcolor": "#E5ECF6",
           "showlakes": true,
           "showland": true,
           "subunitcolor": "white"
          },
          "hoverlabel": {
           "align": "left"
          },
          "hovermode": "closest",
          "mapbox": {
           "style": "light"
          },
          "paper_bgcolor": "white",
          "plot_bgcolor": "#E5ECF6",
          "polar": {
           "angularaxis": {
            "gridcolor": "white",
            "linecolor": "white",
            "ticks": ""
           },
           "bgcolor": "#E5ECF6",
           "radialaxis": {
            "gridcolor": "white",
            "linecolor": "white",
            "ticks": ""
           }
          },
          "scene": {
           "xaxis": {
            "backgroundcolor": "#E5ECF6",
            "gridcolor": "white",
            "gridwidth": 2,
            "linecolor": "white",
            "showbackground": true,
            "ticks": "",
            "zerolinecolor": "white"
           },
           "yaxis": {
            "backgroundcolor": "#E5ECF6",
            "gridcolor": "white",
            "gridwidth": 2,
            "linecolor": "white",
            "showbackground": true,
            "ticks": "",
            "zerolinecolor": "white"
           },
           "zaxis": {
            "backgroundcolor": "#E5ECF6",
            "gridcolor": "white",
            "gridwidth": 2,
            "linecolor": "white",
            "showbackground": true,
            "ticks": "",
            "zerolinecolor": "white"
           }
          },
          "shapedefaults": {
           "line": {
            "color": "#2a3f5f"
           }
          },
          "ternary": {
           "aaxis": {
            "gridcolor": "white",
            "linecolor": "white",
            "ticks": ""
           },
           "baxis": {
            "gridcolor": "white",
            "linecolor": "white",
            "ticks": ""
           },
           "bgcolor": "#E5ECF6",
           "caxis": {
            "gridcolor": "white",
            "linecolor": "white",
            "ticks": ""
           }
          },
          "title": {
           "x": 0.05
          },
          "xaxis": {
           "automargin": true,
           "gridcolor": "white",
           "linecolor": "white",
           "ticks": "",
           "title": {
            "standoff": 15
           },
           "zerolinecolor": "white",
           "zerolinewidth": 2
          },
          "yaxis": {
           "automargin": true,
           "gridcolor": "white",
           "linecolor": "white",
           "ticks": "",
           "title": {
            "standoff": 15
           },
           "zerolinecolor": "white",
           "zerolinewidth": 2
          }
         }
        },
        "updatemenus": [
         {
          "buttons": [
           {
            "args": [
             {
              "visible": [
               true,
               false,
               false
              ]
             }
            ],
            "label": "Happiness Score",
            "method": "update"
           },
           {
            "args": [
             {
              "visible": [
               false,
               true,
               false
              ]
             }
            ],
            "label": "GDP per Capita",
            "method": "update"
           }
          ],
          "direction": "down",
          "showactive": true
         }
        ]
       }
      }
     },
     "metadata": {},
     "output_type": "display_data"
    }
   ],
   "source": [
    "import plotly.graph_objects as go\n",
    "\n",
    "# Example using a dropdown to select different metrics\n",
    "fig = go.Figure()\n",
    "\n",
    "# Happiness score trace\n",
    "fig.add_trace(go.Choropleth(\n",
    "    locations=df['Country'],\n",
    "    locationmode='country names',\n",
    "    z=df['Score'],\n",
    "    colorscale='Viridis',\n",
    "    colorbar_title='Happiness Score',\n",
    "    visible=True\n",
    "))\n",
    "\n",
    "# Add more traces for other metrics like GDP per capita or Social support\n",
    "# ...\n",
    "\n",
    "# Add dropdown menu\n",
    "fig.update_layout(\n",
    "    updatemenus=[{\n",
    "        'buttons': [\n",
    "            {\n",
    "                'label': 'Happiness Score',\n",
    "                'method': 'update',\n",
    "                'args': [{'visible': [True, False, False]}]  # Show happiness score trace\n",
    "            },\n",
    "            {\n",
    "                'label': 'GDP per Capita',\n",
    "                'method': 'update',\n",
    "                'args': [{'visible': [False, True, False]}]  # Show GDP trace\n",
    "            },\n",
    "            # Add buttons for other metrics\n",
    "        ],\n",
    "        'direction': 'down',\n",
    "        'showactive': True\n",
    "    }]\n",
    ")\n",
    "\n",
    "fig.show()"
   ]
  },
  {
   "cell_type": "code",
   "execution_count": 23,
   "metadata": {},
   "outputs": [
    {
     "data": {
      "application/vnd.plotly.v1+json": {
       "config": {
        "plotlyServerURL": "https://plot.ly"
       },
       "data": [
        {
         "hovertemplate": "PC1=%{x}<br>PC2=%{y}<br>Country=%{text}<extra></extra>",
         "legendgroup": "",
         "marker": {
          "color": "#636efa",
          "symbol": "circle"
         },
         "mode": "markers+text",
         "name": "",
         "orientation": "v",
         "showlegend": false,
         "text": [
          null,
          null,
          null,
          null,
          null,
          null,
          null,
          null,
          null,
          null,
          null,
          null,
          null,
          null,
          null,
          null,
          null,
          null,
          null,
          null,
          null,
          null,
          null,
          null,
          null,
          null,
          null,
          null,
          null,
          null,
          null,
          null,
          null,
          null,
          null,
          null,
          null,
          null,
          null,
          null,
          null,
          null,
          null,
          null,
          null,
          null,
          null,
          null,
          null,
          null,
          null,
          null,
          null,
          null,
          null,
          null,
          null,
          null,
          null,
          null,
          null,
          null,
          null,
          null,
          null,
          null,
          null,
          null,
          null,
          null,
          null,
          null,
          null,
          null,
          null,
          null,
          null,
          null,
          null,
          null,
          null,
          null,
          null,
          null,
          null,
          null,
          null,
          null,
          null,
          null,
          null,
          null,
          null,
          null,
          null,
          null,
          null,
          null,
          null,
          null,
          null,
          null,
          null,
          null,
          null,
          null,
          null,
          null,
          null,
          null,
          null,
          null,
          null,
          null,
          null,
          null,
          null,
          null,
          null,
          null,
          null,
          null,
          null,
          null,
          null,
          null,
          null,
          null,
          null,
          null,
          null,
          null,
          null,
          null,
          null,
          null,
          null,
          null,
          null,
          null,
          null,
          null,
          null,
          null,
          null,
          null,
          null,
          null,
          null,
          null,
          null,
          null,
          null,
          null,
          null,
          null
         ],
         "type": "scatter",
         "x": [
          0.6646543801503546,
          0.693111043613386,
          0.7863121829443254,
          0.7118362346649378,
          0.6668535328062368,
          0.7375515903554362,
          0.6535255134526892,
          0.6348522457747705,
          0.6563095064895743,
          0.6289396206298721,
          0.6770971770267622,
          0.33274897126568015,
          0.5214168724661625,
          0.8069207094882132,
          0.6119744733304169,
          0.7546530881865487,
          0.6012814048162325,
          0.6086837521316941,
          0.58712802789528,
          0.49740315600131413,
          0.5657578788629103,
          0.5868025394728409,
          0.24089958559758196,
          0.5876740929174413,
          0.5275065031967692,
          0.34311013786743416,
          -0.022532307624568038,
          0.4816149359719122,
          0.7149073134113786,
          0.5570417894097177,
          0.3893018445862013,
          0.22095956138366057,
          0.38049400034863123,
          0.835896369252562,
          -0.03543846312395127,
          0.5359750553523781,
          0.4978554443636203,
          0.45504910525726294,
          0.37929754319772013,
          0.41422336107182445,
          0.0920532332628543,
          0.4252359035666784,
          0.21575835484637507,
          0.5350178056902586,
          -0.04594552458438317,
          0.013903571483853128,
          0.32432577658336315,
          0.24793674971633983,
          0.40275457509968793,
          0.12954172481799664,
          0.5441074105917718,
          0.26620082554708646,
          0.35707580993571075,
          0.3960121264926848,
          0.48639463904189806,
          0.1338256449731796,
          0.2977860343063432,
          0.5802240276016903,
          -0.12648781919332586,
          0.35340740007763816,
          -0.09083439217258715,
          0.335566006454769,
          0.13274655512127165,
          0.42553093634161043,
          0.13172554401769476,
          0.4723127453637026,
          -0.42312962685389177,
          0.31862062758556986,
          -0.03725097085632201,
          0.19763679597888828,
          -0.12220670882951779,
          0.13464147513646774,
          0.2199101097404923,
          -0.3639351563292339,
          0.2765838658949653,
          0.610634940727399,
          0.21459726404118884,
          0.05164553445275666,
          0.29282494000088,
          0.2672681162326216,
          0.2588881081470866,
          0.24848267212882957,
          0.15626724879540066,
          0.13762090159052476,
          -0.40508928642971176,
          -0.13916972787300863,
          0.2419452234932471,
          0.03446638397990087,
          -0.2666301772192352,
          0.08947310030726974,
          0.07899149981464038,
          -0.006184977953774151,
          0.1365554668214506,
          0.017482476478651643,
          -0.05278312377796701,
          -0.585567678915871,
          0.31468837491162915,
          -0.4964928970059683,
          -0.6640553279364145,
          -0.3484485306512577,
          -0.0043028983151018885,
          -0.9144049453265217,
          -0.47300283903323415,
          0.02114239113846117,
          -0.24612109970488638,
          0.0026165622574341185,
          -0.095086377827718,
          0.1516787170730376,
          -0.3021271954681135,
          -0.2100188864289967,
          -0.4545794566185768,
          -1.0914388326751543,
          -0.07118767850144114,
          -0.949109115574559,
          -0.6647351205948991,
          -0.09685142905840105,
          -0.027130832004959693,
          -0.7372646556547109,
          -0.27907360817451576,
          -0.7026965313969296,
          -0.46631877825970536,
          -0.4104543593128982,
          -0.7586281433148745,
          -0.086866250335917,
          -0.37849379002994543,
          -0.09666403813243574,
          -0.8172099074476447,
          -0.6239484161220268,
          -0.8754832951361882,
          0.1108286777067129,
          -0.21349195041517044,
          -0.8882282644283009,
          0.0013006057646196556,
          -0.5989197282929741,
          -0.41057296597020465,
          -0.6219671409462539,
          -0.134574066211123,
          -0.4410046697723877,
          -0.9352405898940076,
          -0.3813199028055769,
          -0.8880218615829486,
          -0.823320151519583,
          -0.7222811511011127,
          -0.5660645872220256,
          -1.184892656010374,
          -0.5749080256529608,
          -0.8596292423757849,
          -0.000709108007811432,
          -0.7995634571216321,
          -0.9492694143850421,
          -0.6241726291443439,
          -0.6664266329089475,
          -0.5724296637327091,
          -0.9682456146218724,
          -1.5486008364307478,
          -0.9946205378110938
         ],
         "xaxis": "x",
         "y": [
          0.0883894365832748,
          0.059399592684123315,
          0.015574902500293475,
          0.11453632298050254,
          0.01083338310308768,
          -0.02370040189378353,
          -0.015862305177983482,
          0.08749798763745731,
          0.011641544082929278,
          -0.02913845938178289,
          0.03937285802959578,
          0.12934199004118252,
          -0.034973157089673024,
          -0.15181095747157514,
          0.0287202709858011,
          -0.030158094455200457,
          -0.050613858030306436,
          -0.013415758152686252,
          -0.06744408317460349,
          0.020067943743194427,
          -0.1762443746035634,
          0.06876172994809582,
          -0.007488156001778878,
          -0.04426166595387243,
          -0.09227151349629314,
          -0.03685929808290023,
          0.1384385864645279,
          -0.13936652348555895,
          -0.2867303128899385,
          -0.03187170113433657,
          0.06672863290471254,
          0.11656641432992787,
          0.1004383320450335,
          -0.1554884925479033,
          0.07861399436174032,
          -0.06381965821432084,
          -0.08045667634907494,
          0.02287631419641767,
          0.08111062025021754,
          0.029963057816215,
          0.4042463302612095,
          0.02630574550489373,
          0.12145272734734591,
          0.08574693805513933,
          0.19614097087355697,
          0.0615573343315744,
          0.07633724916780849,
          -0.11044550100400718,
          -0.209540930859334,
          0.08412519291021825,
          -0.2000152631986909,
          0.13282286757741746,
          0.007093540846122792,
          -0.30155006657044586,
          0.08607538021620686,
          0.26160301237475514,
          0.06819594479465496,
          -0.09340256523129592,
          0.17749880183005695,
          0.10531251601112512,
          0.09955212898109655,
          -0.062411415293830985,
          0.2653416931299477,
          -0.18745197242130046,
          0.018497798038862756,
          0.0028164787232171085,
          -0.13378319052230836,
          0.03241916618551055,
          0.16823934503667226,
          0.03854248283717909,
          0.16717947085193285,
          0.013848413466424292,
          -0.030071198220261497,
          0.12242889627526399,
          -0.13695492576618878,
          -0.26089716633545934,
          0.11429392458392851,
          -0.07612314167034961,
          -0.0942857840322569,
          -0.16457576771866045,
          0.06180697939535629,
          -0.32318795361899433,
          0.22921952469474804,
          0.001610078547379823,
          0.11166244663694391,
          0.4063343893797269,
          0.2060360625678791,
          -0.1903773960227037,
          -0.29888537638722834,
          -0.15046257165756488,
          -0.09005882689117167,
          0.044650108875689876,
          -0.12711018140282987,
          0.21493078547134037,
          0.18329435672028416,
          -0.0013688294977917126,
          0.10874600776894494,
          -0.08481843655550986,
          -0.09087037523251562,
          0.27427112401078924,
          0.025642946266278166,
          -0.321131714347512,
          -0.18899889046213736,
          -0.11057375643241146,
          0.0010689670932130246,
          0.12008678644958881,
          -0.33133027953813543,
          0.06190114518800027,
          0.17666802411691274,
          0.11291996076098443,
          0.1642966042440338,
          0.1621112027487489,
          0.12858416736488099,
          0.07336281891363283,
          0.18007905347697506,
          -0.14338962568311597,
          -0.41918802962068447,
          -0.0007819890813947072,
          -0.4528631571776554,
          0.1314283405576958,
          0.06600445029407853,
          0.07487757582085275,
          0.25422022610635064,
          -0.25790138371293825,
          -0.015174308747113452,
          -0.27473426725219385,
          0.367124603499002,
          0.22280561296824997,
          0.08317250805934528,
          0.03532527871600111,
          0.16368847897816796,
          -0.05366302885982188,
          0.12972731080352307,
          0.16460375629890656,
          0.07449918510876463,
          0.21618438557339914,
          -0.17636623913450145,
          0.10484902220975267,
          -0.17097387206632753,
          -0.22710492406403548,
          0.23344169900785505,
          -0.0712904189291757,
          0.04375402834459574,
          0.2457998087736739,
          -0.1741678137047049,
          0.22946130839437906,
          -0.16613214326912412,
          -0.08629480781100879,
          -0.5734521362195488,
          -0.10576296257142559,
          0.24082129566252874,
          -0.0676545663478082,
          0.0038010647843261802,
          -0.3267004874648125,
          -0.4703587681632186,
          -0.2448078911955961
         ],
         "yaxis": "y"
        }
       ],
       "layout": {
        "legend": {
         "tracegroupgap": 0
        },
        "template": {
         "data": {
          "bar": [
           {
            "error_x": {
             "color": "#2a3f5f"
            },
            "error_y": {
             "color": "#2a3f5f"
            },
            "marker": {
             "line": {
              "color": "#E5ECF6",
              "width": 0.5
             },
             "pattern": {
              "fillmode": "overlay",
              "size": 10,
              "solidity": 0.2
             }
            },
            "type": "bar"
           }
          ],
          "barpolar": [
           {
            "marker": {
             "line": {
              "color": "#E5ECF6",
              "width": 0.5
             },
             "pattern": {
              "fillmode": "overlay",
              "size": 10,
              "solidity": 0.2
             }
            },
            "type": "barpolar"
           }
          ],
          "carpet": [
           {
            "aaxis": {
             "endlinecolor": "#2a3f5f",
             "gridcolor": "white",
             "linecolor": "white",
             "minorgridcolor": "white",
             "startlinecolor": "#2a3f5f"
            },
            "baxis": {
             "endlinecolor": "#2a3f5f",
             "gridcolor": "white",
             "linecolor": "white",
             "minorgridcolor": "white",
             "startlinecolor": "#2a3f5f"
            },
            "type": "carpet"
           }
          ],
          "choropleth": [
           {
            "colorbar": {
             "outlinewidth": 0,
             "ticks": ""
            },
            "type": "choropleth"
           }
          ],
          "contour": [
           {
            "colorbar": {
             "outlinewidth": 0,
             "ticks": ""
            },
            "colorscale": [
             [
              0,
              "#0d0887"
             ],
             [
              0.1111111111111111,
              "#46039f"
             ],
             [
              0.2222222222222222,
              "#7201a8"
             ],
             [
              0.3333333333333333,
              "#9c179e"
             ],
             [
              0.4444444444444444,
              "#bd3786"
             ],
             [
              0.5555555555555556,
              "#d8576b"
             ],
             [
              0.6666666666666666,
              "#ed7953"
             ],
             [
              0.7777777777777778,
              "#fb9f3a"
             ],
             [
              0.8888888888888888,
              "#fdca26"
             ],
             [
              1,
              "#f0f921"
             ]
            ],
            "type": "contour"
           }
          ],
          "contourcarpet": [
           {
            "colorbar": {
             "outlinewidth": 0,
             "ticks": ""
            },
            "type": "contourcarpet"
           }
          ],
          "heatmap": [
           {
            "colorbar": {
             "outlinewidth": 0,
             "ticks": ""
            },
            "colorscale": [
             [
              0,
              "#0d0887"
             ],
             [
              0.1111111111111111,
              "#46039f"
             ],
             [
              0.2222222222222222,
              "#7201a8"
             ],
             [
              0.3333333333333333,
              "#9c179e"
             ],
             [
              0.4444444444444444,
              "#bd3786"
             ],
             [
              0.5555555555555556,
              "#d8576b"
             ],
             [
              0.6666666666666666,
              "#ed7953"
             ],
             [
              0.7777777777777778,
              "#fb9f3a"
             ],
             [
              0.8888888888888888,
              "#fdca26"
             ],
             [
              1,
              "#f0f921"
             ]
            ],
            "type": "heatmap"
           }
          ],
          "heatmapgl": [
           {
            "colorbar": {
             "outlinewidth": 0,
             "ticks": ""
            },
            "colorscale": [
             [
              0,
              "#0d0887"
             ],
             [
              0.1111111111111111,
              "#46039f"
             ],
             [
              0.2222222222222222,
              "#7201a8"
             ],
             [
              0.3333333333333333,
              "#9c179e"
             ],
             [
              0.4444444444444444,
              "#bd3786"
             ],
             [
              0.5555555555555556,
              "#d8576b"
             ],
             [
              0.6666666666666666,
              "#ed7953"
             ],
             [
              0.7777777777777778,
              "#fb9f3a"
             ],
             [
              0.8888888888888888,
              "#fdca26"
             ],
             [
              1,
              "#f0f921"
             ]
            ],
            "type": "heatmapgl"
           }
          ],
          "histogram": [
           {
            "marker": {
             "pattern": {
              "fillmode": "overlay",
              "size": 10,
              "solidity": 0.2
             }
            },
            "type": "histogram"
           }
          ],
          "histogram2d": [
           {
            "colorbar": {
             "outlinewidth": 0,
             "ticks": ""
            },
            "colorscale": [
             [
              0,
              "#0d0887"
             ],
             [
              0.1111111111111111,
              "#46039f"
             ],
             [
              0.2222222222222222,
              "#7201a8"
             ],
             [
              0.3333333333333333,
              "#9c179e"
             ],
             [
              0.4444444444444444,
              "#bd3786"
             ],
             [
              0.5555555555555556,
              "#d8576b"
             ],
             [
              0.6666666666666666,
              "#ed7953"
             ],
             [
              0.7777777777777778,
              "#fb9f3a"
             ],
             [
              0.8888888888888888,
              "#fdca26"
             ],
             [
              1,
              "#f0f921"
             ]
            ],
            "type": "histogram2d"
           }
          ],
          "histogram2dcontour": [
           {
            "colorbar": {
             "outlinewidth": 0,
             "ticks": ""
            },
            "colorscale": [
             [
              0,
              "#0d0887"
             ],
             [
              0.1111111111111111,
              "#46039f"
             ],
             [
              0.2222222222222222,
              "#7201a8"
             ],
             [
              0.3333333333333333,
              "#9c179e"
             ],
             [
              0.4444444444444444,
              "#bd3786"
             ],
             [
              0.5555555555555556,
              "#d8576b"
             ],
             [
              0.6666666666666666,
              "#ed7953"
             ],
             [
              0.7777777777777778,
              "#fb9f3a"
             ],
             [
              0.8888888888888888,
              "#fdca26"
             ],
             [
              1,
              "#f0f921"
             ]
            ],
            "type": "histogram2dcontour"
           }
          ],
          "mesh3d": [
           {
            "colorbar": {
             "outlinewidth": 0,
             "ticks": ""
            },
            "type": "mesh3d"
           }
          ],
          "parcoords": [
           {
            "line": {
             "colorbar": {
              "outlinewidth": 0,
              "ticks": ""
             }
            },
            "type": "parcoords"
           }
          ],
          "pie": [
           {
            "automargin": true,
            "type": "pie"
           }
          ],
          "scatter": [
           {
            "fillpattern": {
             "fillmode": "overlay",
             "size": 10,
             "solidity": 0.2
            },
            "type": "scatter"
           }
          ],
          "scatter3d": [
           {
            "line": {
             "colorbar": {
              "outlinewidth": 0,
              "ticks": ""
             }
            },
            "marker": {
             "colorbar": {
              "outlinewidth": 0,
              "ticks": ""
             }
            },
            "type": "scatter3d"
           }
          ],
          "scattercarpet": [
           {
            "marker": {
             "colorbar": {
              "outlinewidth": 0,
              "ticks": ""
             }
            },
            "type": "scattercarpet"
           }
          ],
          "scattergeo": [
           {
            "marker": {
             "colorbar": {
              "outlinewidth": 0,
              "ticks": ""
             }
            },
            "type": "scattergeo"
           }
          ],
          "scattergl": [
           {
            "marker": {
             "colorbar": {
              "outlinewidth": 0,
              "ticks": ""
             }
            },
            "type": "scattergl"
           }
          ],
          "scattermapbox": [
           {
            "marker": {
             "colorbar": {
              "outlinewidth": 0,
              "ticks": ""
             }
            },
            "type": "scattermapbox"
           }
          ],
          "scatterpolar": [
           {
            "marker": {
             "colorbar": {
              "outlinewidth": 0,
              "ticks": ""
             }
            },
            "type": "scatterpolar"
           }
          ],
          "scatterpolargl": [
           {
            "marker": {
             "colorbar": {
              "outlinewidth": 0,
              "ticks": ""
             }
            },
            "type": "scatterpolargl"
           }
          ],
          "scatterternary": [
           {
            "marker": {
             "colorbar": {
              "outlinewidth": 0,
              "ticks": ""
             }
            },
            "type": "scatterternary"
           }
          ],
          "surface": [
           {
            "colorbar": {
             "outlinewidth": 0,
             "ticks": ""
            },
            "colorscale": [
             [
              0,
              "#0d0887"
             ],
             [
              0.1111111111111111,
              "#46039f"
             ],
             [
              0.2222222222222222,
              "#7201a8"
             ],
             [
              0.3333333333333333,
              "#9c179e"
             ],
             [
              0.4444444444444444,
              "#bd3786"
             ],
             [
              0.5555555555555556,
              "#d8576b"
             ],
             [
              0.6666666666666666,
              "#ed7953"
             ],
             [
              0.7777777777777778,
              "#fb9f3a"
             ],
             [
              0.8888888888888888,
              "#fdca26"
             ],
             [
              1,
              "#f0f921"
             ]
            ],
            "type": "surface"
           }
          ],
          "table": [
           {
            "cells": {
             "fill": {
              "color": "#EBF0F8"
             },
             "line": {
              "color": "white"
             }
            },
            "header": {
             "fill": {
              "color": "#C8D4E3"
             },
             "line": {
              "color": "white"
             }
            },
            "type": "table"
           }
          ]
         },
         "layout": {
          "annotationdefaults": {
           "arrowcolor": "#2a3f5f",
           "arrowhead": 0,
           "arrowwidth": 1
          },
          "autotypenumbers": "strict",
          "coloraxis": {
           "colorbar": {
            "outlinewidth": 0,
            "ticks": ""
           }
          },
          "colorscale": {
           "diverging": [
            [
             0,
             "#8e0152"
            ],
            [
             0.1,
             "#c51b7d"
            ],
            [
             0.2,
             "#de77ae"
            ],
            [
             0.3,
             "#f1b6da"
            ],
            [
             0.4,
             "#fde0ef"
            ],
            [
             0.5,
             "#f7f7f7"
            ],
            [
             0.6,
             "#e6f5d0"
            ],
            [
             0.7,
             "#b8e186"
            ],
            [
             0.8,
             "#7fbc41"
            ],
            [
             0.9,
             "#4d9221"
            ],
            [
             1,
             "#276419"
            ]
           ],
           "sequential": [
            [
             0,
             "#0d0887"
            ],
            [
             0.1111111111111111,
             "#46039f"
            ],
            [
             0.2222222222222222,
             "#7201a8"
            ],
            [
             0.3333333333333333,
             "#9c179e"
            ],
            [
             0.4444444444444444,
             "#bd3786"
            ],
            [
             0.5555555555555556,
             "#d8576b"
            ],
            [
             0.6666666666666666,
             "#ed7953"
            ],
            [
             0.7777777777777778,
             "#fb9f3a"
            ],
            [
             0.8888888888888888,
             "#fdca26"
            ],
            [
             1,
             "#f0f921"
            ]
           ],
           "sequentialminus": [
            [
             0,
             "#0d0887"
            ],
            [
             0.1111111111111111,
             "#46039f"
            ],
            [
             0.2222222222222222,
             "#7201a8"
            ],
            [
             0.3333333333333333,
             "#9c179e"
            ],
            [
             0.4444444444444444,
             "#bd3786"
            ],
            [
             0.5555555555555556,
             "#d8576b"
            ],
            [
             0.6666666666666666,
             "#ed7953"
            ],
            [
             0.7777777777777778,
             "#fb9f3a"
            ],
            [
             0.8888888888888888,
             "#fdca26"
            ],
            [
             1,
             "#f0f921"
            ]
           ]
          },
          "colorway": [
           "#636efa",
           "#EF553B",
           "#00cc96",
           "#ab63fa",
           "#FFA15A",
           "#19d3f3",
           "#FF6692",
           "#B6E880",
           "#FF97FF",
           "#FECB52"
          ],
          "font": {
           "color": "#2a3f5f"
          },
          "geo": {
           "bgcolor": "white",
           "lakecolor": "white",
           "landcolor": "#E5ECF6",
           "showlakes": true,
           "showland": true,
           "subunitcolor": "white"
          },
          "hoverlabel": {
           "align": "left"
          },
          "hovermode": "closest",
          "mapbox": {
           "style": "light"
          },
          "paper_bgcolor": "white",
          "plot_bgcolor": "#E5ECF6",
          "polar": {
           "angularaxis": {
            "gridcolor": "white",
            "linecolor": "white",
            "ticks": ""
           },
           "bgcolor": "#E5ECF6",
           "radialaxis": {
            "gridcolor": "white",
            "linecolor": "white",
            "ticks": ""
           }
          },
          "scene": {
           "xaxis": {
            "backgroundcolor": "#E5ECF6",
            "gridcolor": "white",
            "gridwidth": 2,
            "linecolor": "white",
            "showbackground": true,
            "ticks": "",
            "zerolinecolor": "white"
           },
           "yaxis": {
            "backgroundcolor": "#E5ECF6",
            "gridcolor": "white",
            "gridwidth": 2,
            "linecolor": "white",
            "showbackground": true,
            "ticks": "",
            "zerolinecolor": "white"
           },
           "zaxis": {
            "backgroundcolor": "#E5ECF6",
            "gridcolor": "white",
            "gridwidth": 2,
            "linecolor": "white",
            "showbackground": true,
            "ticks": "",
            "zerolinecolor": "white"
           }
          },
          "shapedefaults": {
           "line": {
            "color": "#2a3f5f"
           }
          },
          "ternary": {
           "aaxis": {
            "gridcolor": "white",
            "linecolor": "white",
            "ticks": ""
           },
           "baxis": {
            "gridcolor": "white",
            "linecolor": "white",
            "ticks": ""
           },
           "bgcolor": "#E5ECF6",
           "caxis": {
            "gridcolor": "white",
            "linecolor": "white",
            "ticks": ""
           }
          },
          "title": {
           "x": 0.05
          },
          "xaxis": {
           "automargin": true,
           "gridcolor": "white",
           "linecolor": "white",
           "ticks": "",
           "title": {
            "standoff": 15
           },
           "zerolinecolor": "white",
           "zerolinewidth": 2
          },
          "yaxis": {
           "automargin": true,
           "gridcolor": "white",
           "linecolor": "white",
           "ticks": "",
           "title": {
            "standoff": 15
           },
           "zerolinecolor": "white",
           "zerolinewidth": 2
          }
         }
        },
        "title": {
         "text": "PCA of Happiness Factors"
        },
        "xaxis": {
         "anchor": "y",
         "domain": [
          0,
          1
         ],
         "title": {
          "text": "PC1"
         }
        },
        "yaxis": {
         "anchor": "x",
         "domain": [
          0,
          1
         ],
         "title": {
          "text": "PC2"
         }
        }
       }
      }
     },
     "metadata": {},
     "output_type": "display_data"
    }
   ],
   "source": [
    "from sklearn.decomposition import PCA\n",
    "import numpy as np\n",
    "\n",
    "# Assuming `df` has columns for the factors you're interested in\n",
    "X = filtered_df[['GDP per Capita', 'Family', 'Life Expectancy', 'Freedom', 'Generosity', 'Perceptions of Corruption']]\n",
    "pca = PCA(n_components=2)\n",
    "principal_components = pca.fit_transform(X)\n",
    "\n",
    "# Add PCA results to DataFrame\n",
    "df_pca = pd.DataFrame(data=principal_components, columns=['PC1', 'PC2'])\n",
    "df_pca['Country'] = filtered_df['Country']\n",
    "\n",
    "# Plot PCA results\n",
    "fig = px.scatter(df_pca, x='PC1', y='PC2', text='Country', title='PCA of Happiness Factors')\n",
    "fig.show()"
   ]
  },
  {
   "cell_type": "code",
   "execution_count": 24,
   "metadata": {},
   "outputs": [
    {
     "name": "stdout",
     "output_type": "stream",
     "text": [
      "                            OLS Regression Results                            \n",
      "==============================================================================\n",
      "Dep. Variable:                  Score   R-squared:                       0.779\n",
      "Model:                            OLS   Adj. R-squared:                  0.770\n",
      "Method:                 Least Squares   F-statistic:                     87.62\n",
      "Date:                Sun, 08 Sep 2024   Prob (F-statistic):           2.40e-46\n",
      "Time:                        17:00:05   Log-Likelihood:                -119.76\n",
      "No. Observations:                 156   AIC:                             253.5\n",
      "Df Residuals:                     149   BIC:                             274.9\n",
      "Df Model:                           6                                         \n",
      "Covariance Type:            nonrobust                                         \n",
      "=============================================================================================\n",
      "                                coef    std err          t      P>|t|      [0.025      0.975]\n",
      "---------------------------------------------------------------------------------------------\n",
      "const                         1.7952      0.211      8.505      0.000       1.378       2.212\n",
      "GDP per Capita                0.7754      0.218      3.553      0.001       0.344       1.207\n",
      "Family                        1.1242      0.237      4.745      0.000       0.656       1.592\n",
      "Life Expectancy               1.0781      0.335      3.223      0.002       0.417       1.739\n",
      "Freedom                       1.4548      0.375      3.876      0.000       0.713       2.197\n",
      "Generosity                    0.4898      0.498      0.984      0.327      -0.494       1.473\n",
      "Perceptions of Corruption     0.9723      0.542      1.793      0.075      -0.099       2.044\n",
      "==============================================================================\n",
      "Omnibus:                        8.188   Durbin-Watson:                   1.648\n",
      "Prob(Omnibus):                  0.017   Jarque-Bera (JB):                7.971\n",
      "Skew:                          -0.498   Prob(JB):                       0.0186\n",
      "Kurtosis:                       3.483   Cond. No.                         28.7\n",
      "==============================================================================\n",
      "\n",
      "Notes:\n",
      "[1] Standard Errors assume that the covariance matrix of the errors is correctly specified.\n"
     ]
    }
   ],
   "source": [
    "import statsmodels.api as sm\n",
    "\n",
    "# Prepare data\n",
    "X = filtered_df[['GDP per Capita', 'Family', 'Life Expectancy', 'Freedom', 'Generosity', 'Perceptions of Corruption']]\n",
    "y = filtered_df['Score']\n",
    "\n",
    "# Add constant term\n",
    "X = sm.add_constant(X)\n",
    "\n",
    "# Fit model\n",
    "model = sm.OLS(y, X).fit()\n",
    "\n",
    "# Print summary\n",
    "print(model.summary())"
   ]
  },
  {
   "cell_type": "code",
   "execution_count": 29,
   "metadata": {},
   "outputs": [
    {
     "data": {
      "application/vnd.plotly.v1+json": {
       "config": {
        "plotlyServerURL": "https://plot.ly"
       },
       "data": [
        {
         "hovertemplate": "GDP per Capita=%{x}<br>Score=%{y}<br>Cluster=%{marker.color}<extra></extra>",
         "legendgroup": "",
         "marker": {
          "color": [
           4,
           4,
           4,
           4,
           4,
           4,
           4,
           4,
           4,
           4,
           4,
           1,
           1,
           4,
           4,
           4,
           4,
           4,
           4,
           1,
           4,
           4,
           1,
           4,
           1,
           1,
           2,
           1,
           4,
           1,
           1,
           1,
           1,
           4,
           2,
           1,
           4,
           1,
           1,
           1,
           2,
           1,
           1,
           1,
           2,
           2,
           1,
           1,
           1,
           2,
           4,
           1,
           1,
           1,
           1,
           2,
           1,
           4,
           2,
           1,
           2,
           1,
           2,
           1,
           2,
           1,
           3,
           1,
           2,
           1,
           2,
           2,
           1,
           3,
           1,
           4,
           1,
           2,
           1,
           1,
           1,
           1,
           1,
           2,
           3,
           2,
           1,
           2,
           2,
           2,
           2,
           2,
           2,
           2,
           2,
           3,
           1,
           3,
           3,
           3,
           2,
           0,
           3,
           2,
           3,
           2,
           2,
           1,
           3,
           2,
           3,
           0,
           2,
           0,
           3,
           2,
           2,
           3,
           2,
           3,
           3,
           3,
           3,
           2,
           3,
           2,
           3,
           3,
           0,
           2,
           3,
           0,
           2,
           3,
           3,
           3,
           2,
           3,
           0,
           3,
           0,
           0,
           3,
           3,
           0,
           3,
           0,
           2,
           0,
           0,
           3,
           3,
           3,
           0,
           0,
           0
          ],
          "coloraxis": "coloraxis",
          "symbol": "circle"
         },
         "mode": "markers",
         "name": "",
         "orientation": "v",
         "showlegend": false,
         "type": "scatter",
         "x": [
          1.34,
          1.383,
          1.488,
          1.38,
          1.396,
          1.452,
          1.387,
          1.303,
          1.365,
          1.376,
          1.372,
          1.034,
          1.276,
          1.609,
          1.333,
          1.499,
          1.373,
          1.356,
          1.433,
          1.269,
          1.503,
          1.3,
          1.07,
          1.324,
          1.368,
          1.159,
          0.8,
          1.403,
          1.684,
          1.286,
          1.149,
          1.004,
          1.124,
          1.572,
          0.794,
          1.294,
          1.362,
          1.246,
          1.231,
          1.206,
          0.745,
          1.238,
          0.985,
          1.258,
          0.694,
          0.882,
          1.092,
          1.162,
          1.263,
          0.912,
          1.5,
          1.05,
          1.187,
          1.301,
          1.237,
          0.831,
          1.12,
          1.327,
          0.642,
          1.173,
          0.776,
          1.201,
          0.855,
          1.263,
          0.96,
          1.221,
          0.677,
          1.183,
          0.807,
          1.004,
          0.685,
          1.044,
          1.051,
          0.493,
          1.155,
          1.438,
          1.015,
          0.945,
          1.183,
          1.221,
          1.067,
          1.181,
          0.948,
          0.983,
          0.696,
          0.551,
          1.052,
          1.002,
          0.801,
          1.043,
          0.987,
          0.931,
          1.029,
          0.741,
          0.813,
          0.549,
          1.092,
          0.611,
          0.569,
          0.446,
          0.837,
          0.393,
          0.673,
          1.057,
          0.764,
          0.96,
          0.947,
          0.96,
          0.574,
          0.657,
          0.45,
          0,
          0.879,
          0.138,
          0.331,
          0.85,
          1.1,
          0.38,
          0.886,
          0.308,
          0.512,
          0.57,
          0.204,
          0.921,
          0.562,
          1.043,
          0.094,
          0.385,
          0.268,
          0.949,
          0.71,
          0.35,
          0.82,
          0.336,
          0.811,
          0.332,
          0.913,
          0.578,
          0.275,
          0.755,
          0.073,
          0.274,
          0.274,
          0.489,
          0.046,
          0.366,
          0.323,
          1.041,
          0.619,
          0.191,
          0.287,
          0.359,
          0.476,
          0.35,
          0.026,
          0.306
         ],
         "xaxis": "x",
         "y": [
          7.769,
          7.6,
          7.554,
          7.494,
          7.488,
          7.48,
          7.343,
          7.307,
          7.278,
          7.246,
          7.228,
          7.167,
          7.139,
          7.09,
          7.054,
          7.021,
          6.985,
          6.923,
          6.892,
          6.852,
          6.825,
          6.726,
          6.595,
          6.592,
          6.446,
          6.444,
          6.436,
          6.375,
          6.374,
          6.354,
          6.321,
          6.3,
          6.293,
          6.262,
          6.253,
          6.223,
          6.199,
          6.198,
          6.192,
          6.182,
          6.174,
          6.149,
          6.125,
          6.118,
          6.105,
          6.1,
          6.086,
          6.07,
          6.046,
          6.028,
          6.021,
          6.008,
          5.94,
          5.895,
          5.893,
          5.89,
          5.888,
          5.886,
          5.86,
          5.809,
          5.779,
          5.758,
          5.743,
          5.718,
          5.697,
          5.693,
          5.653,
          5.648,
          5.631,
          5.603,
          5.529,
          5.525,
          5.523,
          5.467,
          5.432,
          5.43,
          5.425,
          5.386,
          5.373,
          5.339,
          5.323,
          5.287,
          5.285,
          5.274,
          5.265,
          5.261,
          5.247,
          5.211,
          5.208,
          5.208,
          5.197,
          5.192,
          5.191,
          5.175,
          5.082,
          5.044,
          5.011,
          4.996,
          4.944,
          4.913,
          4.906,
          4.883,
          4.812,
          4.799,
          4.796,
          4.722,
          4.719,
          4.707,
          4.7,
          4.696,
          4.681,
          4.668,
          4.639,
          4.628,
          4.587,
          4.559,
          4.548,
          4.534,
          4.519,
          4.516,
          4.509,
          4.49,
          4.466,
          4.461,
          4.456,
          4.437,
          4.418,
          4.39,
          4.374,
          4.366,
          4.36,
          4.35,
          4.332,
          4.286,
          4.212,
          4.189,
          4.166,
          4.107,
          4.085,
          4.015,
          3.975,
          3.973,
          3.933,
          3.802,
          3.775,
          3.663,
          3.597,
          3.488,
          3.462,
          3.41,
          3.38,
          3.334,
          3.231,
          3.203,
          3.083,
          2.853
         ],
         "yaxis": "y"
        }
       ],
       "layout": {
        "coloraxis": {
         "colorbar": {
          "title": {
           "text": "Cluster"
          }
         },
         "colorscale": [
          [
           0,
           "#0d0887"
          ],
          [
           0.1111111111111111,
           "#46039f"
          ],
          [
           0.2222222222222222,
           "#7201a8"
          ],
          [
           0.3333333333333333,
           "#9c179e"
          ],
          [
           0.4444444444444444,
           "#bd3786"
          ],
          [
           0.5555555555555556,
           "#d8576b"
          ],
          [
           0.6666666666666666,
           "#ed7953"
          ],
          [
           0.7777777777777778,
           "#fb9f3a"
          ],
          [
           0.8888888888888888,
           "#fdca26"
          ],
          [
           1,
           "#f0f921"
          ]
         ]
        },
        "legend": {
         "tracegroupgap": 0
        },
        "template": {
         "data": {
          "bar": [
           {
            "error_x": {
             "color": "#2a3f5f"
            },
            "error_y": {
             "color": "#2a3f5f"
            },
            "marker": {
             "line": {
              "color": "#E5ECF6",
              "width": 0.5
             },
             "pattern": {
              "fillmode": "overlay",
              "size": 10,
              "solidity": 0.2
             }
            },
            "type": "bar"
           }
          ],
          "barpolar": [
           {
            "marker": {
             "line": {
              "color": "#E5ECF6",
              "width": 0.5
             },
             "pattern": {
              "fillmode": "overlay",
              "size": 10,
              "solidity": 0.2
             }
            },
            "type": "barpolar"
           }
          ],
          "carpet": [
           {
            "aaxis": {
             "endlinecolor": "#2a3f5f",
             "gridcolor": "white",
             "linecolor": "white",
             "minorgridcolor": "white",
             "startlinecolor": "#2a3f5f"
            },
            "baxis": {
             "endlinecolor": "#2a3f5f",
             "gridcolor": "white",
             "linecolor": "white",
             "minorgridcolor": "white",
             "startlinecolor": "#2a3f5f"
            },
            "type": "carpet"
           }
          ],
          "choropleth": [
           {
            "colorbar": {
             "outlinewidth": 0,
             "ticks": ""
            },
            "type": "choropleth"
           }
          ],
          "contour": [
           {
            "colorbar": {
             "outlinewidth": 0,
             "ticks": ""
            },
            "colorscale": [
             [
              0,
              "#0d0887"
             ],
             [
              0.1111111111111111,
              "#46039f"
             ],
             [
              0.2222222222222222,
              "#7201a8"
             ],
             [
              0.3333333333333333,
              "#9c179e"
             ],
             [
              0.4444444444444444,
              "#bd3786"
             ],
             [
              0.5555555555555556,
              "#d8576b"
             ],
             [
              0.6666666666666666,
              "#ed7953"
             ],
             [
              0.7777777777777778,
              "#fb9f3a"
             ],
             [
              0.8888888888888888,
              "#fdca26"
             ],
             [
              1,
              "#f0f921"
             ]
            ],
            "type": "contour"
           }
          ],
          "contourcarpet": [
           {
            "colorbar": {
             "outlinewidth": 0,
             "ticks": ""
            },
            "type": "contourcarpet"
           }
          ],
          "heatmap": [
           {
            "colorbar": {
             "outlinewidth": 0,
             "ticks": ""
            },
            "colorscale": [
             [
              0,
              "#0d0887"
             ],
             [
              0.1111111111111111,
              "#46039f"
             ],
             [
              0.2222222222222222,
              "#7201a8"
             ],
             [
              0.3333333333333333,
              "#9c179e"
             ],
             [
              0.4444444444444444,
              "#bd3786"
             ],
             [
              0.5555555555555556,
              "#d8576b"
             ],
             [
              0.6666666666666666,
              "#ed7953"
             ],
             [
              0.7777777777777778,
              "#fb9f3a"
             ],
             [
              0.8888888888888888,
              "#fdca26"
             ],
             [
              1,
              "#f0f921"
             ]
            ],
            "type": "heatmap"
           }
          ],
          "heatmapgl": [
           {
            "colorbar": {
             "outlinewidth": 0,
             "ticks": ""
            },
            "colorscale": [
             [
              0,
              "#0d0887"
             ],
             [
              0.1111111111111111,
              "#46039f"
             ],
             [
              0.2222222222222222,
              "#7201a8"
             ],
             [
              0.3333333333333333,
              "#9c179e"
             ],
             [
              0.4444444444444444,
              "#bd3786"
             ],
             [
              0.5555555555555556,
              "#d8576b"
             ],
             [
              0.6666666666666666,
              "#ed7953"
             ],
             [
              0.7777777777777778,
              "#fb9f3a"
             ],
             [
              0.8888888888888888,
              "#fdca26"
             ],
             [
              1,
              "#f0f921"
             ]
            ],
            "type": "heatmapgl"
           }
          ],
          "histogram": [
           {
            "marker": {
             "pattern": {
              "fillmode": "overlay",
              "size": 10,
              "solidity": 0.2
             }
            },
            "type": "histogram"
           }
          ],
          "histogram2d": [
           {
            "colorbar": {
             "outlinewidth": 0,
             "ticks": ""
            },
            "colorscale": [
             [
              0,
              "#0d0887"
             ],
             [
              0.1111111111111111,
              "#46039f"
             ],
             [
              0.2222222222222222,
              "#7201a8"
             ],
             [
              0.3333333333333333,
              "#9c179e"
             ],
             [
              0.4444444444444444,
              "#bd3786"
             ],
             [
              0.5555555555555556,
              "#d8576b"
             ],
             [
              0.6666666666666666,
              "#ed7953"
             ],
             [
              0.7777777777777778,
              "#fb9f3a"
             ],
             [
              0.8888888888888888,
              "#fdca26"
             ],
             [
              1,
              "#f0f921"
             ]
            ],
            "type": "histogram2d"
           }
          ],
          "histogram2dcontour": [
           {
            "colorbar": {
             "outlinewidth": 0,
             "ticks": ""
            },
            "colorscale": [
             [
              0,
              "#0d0887"
             ],
             [
              0.1111111111111111,
              "#46039f"
             ],
             [
              0.2222222222222222,
              "#7201a8"
             ],
             [
              0.3333333333333333,
              "#9c179e"
             ],
             [
              0.4444444444444444,
              "#bd3786"
             ],
             [
              0.5555555555555556,
              "#d8576b"
             ],
             [
              0.6666666666666666,
              "#ed7953"
             ],
             [
              0.7777777777777778,
              "#fb9f3a"
             ],
             [
              0.8888888888888888,
              "#fdca26"
             ],
             [
              1,
              "#f0f921"
             ]
            ],
            "type": "histogram2dcontour"
           }
          ],
          "mesh3d": [
           {
            "colorbar": {
             "outlinewidth": 0,
             "ticks": ""
            },
            "type": "mesh3d"
           }
          ],
          "parcoords": [
           {
            "line": {
             "colorbar": {
              "outlinewidth": 0,
              "ticks": ""
             }
            },
            "type": "parcoords"
           }
          ],
          "pie": [
           {
            "automargin": true,
            "type": "pie"
           }
          ],
          "scatter": [
           {
            "fillpattern": {
             "fillmode": "overlay",
             "size": 10,
             "solidity": 0.2
            },
            "type": "scatter"
           }
          ],
          "scatter3d": [
           {
            "line": {
             "colorbar": {
              "outlinewidth": 0,
              "ticks": ""
             }
            },
            "marker": {
             "colorbar": {
              "outlinewidth": 0,
              "ticks": ""
             }
            },
            "type": "scatter3d"
           }
          ],
          "scattercarpet": [
           {
            "marker": {
             "colorbar": {
              "outlinewidth": 0,
              "ticks": ""
             }
            },
            "type": "scattercarpet"
           }
          ],
          "scattergeo": [
           {
            "marker": {
             "colorbar": {
              "outlinewidth": 0,
              "ticks": ""
             }
            },
            "type": "scattergeo"
           }
          ],
          "scattergl": [
           {
            "marker": {
             "colorbar": {
              "outlinewidth": 0,
              "ticks": ""
             }
            },
            "type": "scattergl"
           }
          ],
          "scattermapbox": [
           {
            "marker": {
             "colorbar": {
              "outlinewidth": 0,
              "ticks": ""
             }
            },
            "type": "scattermapbox"
           }
          ],
          "scatterpolar": [
           {
            "marker": {
             "colorbar": {
              "outlinewidth": 0,
              "ticks": ""
             }
            },
            "type": "scatterpolar"
           }
          ],
          "scatterpolargl": [
           {
            "marker": {
             "colorbar": {
              "outlinewidth": 0,
              "ticks": ""
             }
            },
            "type": "scatterpolargl"
           }
          ],
          "scatterternary": [
           {
            "marker": {
             "colorbar": {
              "outlinewidth": 0,
              "ticks": ""
             }
            },
            "type": "scatterternary"
           }
          ],
          "surface": [
           {
            "colorbar": {
             "outlinewidth": 0,
             "ticks": ""
            },
            "colorscale": [
             [
              0,
              "#0d0887"
             ],
             [
              0.1111111111111111,
              "#46039f"
             ],
             [
              0.2222222222222222,
              "#7201a8"
             ],
             [
              0.3333333333333333,
              "#9c179e"
             ],
             [
              0.4444444444444444,
              "#bd3786"
             ],
             [
              0.5555555555555556,
              "#d8576b"
             ],
             [
              0.6666666666666666,
              "#ed7953"
             ],
             [
              0.7777777777777778,
              "#fb9f3a"
             ],
             [
              0.8888888888888888,
              "#fdca26"
             ],
             [
              1,
              "#f0f921"
             ]
            ],
            "type": "surface"
           }
          ],
          "table": [
           {
            "cells": {
             "fill": {
              "color": "#EBF0F8"
             },
             "line": {
              "color": "white"
             }
            },
            "header": {
             "fill": {
              "color": "#C8D4E3"
             },
             "line": {
              "color": "white"
             }
            },
            "type": "table"
           }
          ]
         },
         "layout": {
          "annotationdefaults": {
           "arrowcolor": "#2a3f5f",
           "arrowhead": 0,
           "arrowwidth": 1
          },
          "autotypenumbers": "strict",
          "coloraxis": {
           "colorbar": {
            "outlinewidth": 0,
            "ticks": ""
           }
          },
          "colorscale": {
           "diverging": [
            [
             0,
             "#8e0152"
            ],
            [
             0.1,
             "#c51b7d"
            ],
            [
             0.2,
             "#de77ae"
            ],
            [
             0.3,
             "#f1b6da"
            ],
            [
             0.4,
             "#fde0ef"
            ],
            [
             0.5,
             "#f7f7f7"
            ],
            [
             0.6,
             "#e6f5d0"
            ],
            [
             0.7,
             "#b8e186"
            ],
            [
             0.8,
             "#7fbc41"
            ],
            [
             0.9,
             "#4d9221"
            ],
            [
             1,
             "#276419"
            ]
           ],
           "sequential": [
            [
             0,
             "#0d0887"
            ],
            [
             0.1111111111111111,
             "#46039f"
            ],
            [
             0.2222222222222222,
             "#7201a8"
            ],
            [
             0.3333333333333333,
             "#9c179e"
            ],
            [
             0.4444444444444444,
             "#bd3786"
            ],
            [
             0.5555555555555556,
             "#d8576b"
            ],
            [
             0.6666666666666666,
             "#ed7953"
            ],
            [
             0.7777777777777778,
             "#fb9f3a"
            ],
            [
             0.8888888888888888,
             "#fdca26"
            ],
            [
             1,
             "#f0f921"
            ]
           ],
           "sequentialminus": [
            [
             0,
             "#0d0887"
            ],
            [
             0.1111111111111111,
             "#46039f"
            ],
            [
             0.2222222222222222,
             "#7201a8"
            ],
            [
             0.3333333333333333,
             "#9c179e"
            ],
            [
             0.4444444444444444,
             "#bd3786"
            ],
            [
             0.5555555555555556,
             "#d8576b"
            ],
            [
             0.6666666666666666,
             "#ed7953"
            ],
            [
             0.7777777777777778,
             "#fb9f3a"
            ],
            [
             0.8888888888888888,
             "#fdca26"
            ],
            [
             1,
             "#f0f921"
            ]
           ]
          },
          "colorway": [
           "#636efa",
           "#EF553B",
           "#00cc96",
           "#ab63fa",
           "#FFA15A",
           "#19d3f3",
           "#FF6692",
           "#B6E880",
           "#FF97FF",
           "#FECB52"
          ],
          "font": {
           "color": "#2a3f5f"
          },
          "geo": {
           "bgcolor": "white",
           "lakecolor": "white",
           "landcolor": "#E5ECF6",
           "showlakes": true,
           "showland": true,
           "subunitcolor": "white"
          },
          "hoverlabel": {
           "align": "left"
          },
          "hovermode": "closest",
          "mapbox": {
           "style": "light"
          },
          "paper_bgcolor": "white",
          "plot_bgcolor": "#E5ECF6",
          "polar": {
           "angularaxis": {
            "gridcolor": "white",
            "linecolor": "white",
            "ticks": ""
           },
           "bgcolor": "#E5ECF6",
           "radialaxis": {
            "gridcolor": "white",
            "linecolor": "white",
            "ticks": ""
           }
          },
          "scene": {
           "xaxis": {
            "backgroundcolor": "#E5ECF6",
            "gridcolor": "white",
            "gridwidth": 2,
            "linecolor": "white",
            "showbackground": true,
            "ticks": "",
            "zerolinecolor": "white"
           },
           "yaxis": {
            "backgroundcolor": "#E5ECF6",
            "gridcolor": "white",
            "gridwidth": 2,
            "linecolor": "white",
            "showbackground": true,
            "ticks": "",
            "zerolinecolor": "white"
           },
           "zaxis": {
            "backgroundcolor": "#E5ECF6",
            "gridcolor": "white",
            "gridwidth": 2,
            "linecolor": "white",
            "showbackground": true,
            "ticks": "",
            "zerolinecolor": "white"
           }
          },
          "shapedefaults": {
           "line": {
            "color": "#2a3f5f"
           }
          },
          "ternary": {
           "aaxis": {
            "gridcolor": "white",
            "linecolor": "white",
            "ticks": ""
           },
           "baxis": {
            "gridcolor": "white",
            "linecolor": "white",
            "ticks": ""
           },
           "bgcolor": "#E5ECF6",
           "caxis": {
            "gridcolor": "white",
            "linecolor": "white",
            "ticks": ""
           }
          },
          "title": {
           "x": 0.05
          },
          "xaxis": {
           "automargin": true,
           "gridcolor": "white",
           "linecolor": "white",
           "ticks": "",
           "title": {
            "standoff": 15
           },
           "zerolinecolor": "white",
           "zerolinewidth": 2
          },
          "yaxis": {
           "automargin": true,
           "gridcolor": "white",
           "linecolor": "white",
           "ticks": "",
           "title": {
            "standoff": 15
           },
           "zerolinecolor": "white",
           "zerolinewidth": 2
          }
         }
        },
        "title": {
         "text": "Clustering of Countries by Happiness Factors"
        },
        "xaxis": {
         "anchor": "y",
         "domain": [
          0,
          1
         ],
         "title": {
          "text": "GDP per Capita"
         }
        },
        "yaxis": {
         "anchor": "x",
         "domain": [
          0,
          1
         ],
         "title": {
          "text": "Score"
         }
        }
       }
      }
     },
     "metadata": {},
     "output_type": "display_data"
    }
   ],
   "source": [
    "from sklearn.cluster import KMeans\n",
    "\n",
    "# Prepare data\n",
    "X = filtered_df[['GDP per Capita', 'Family', 'Life Expectancy', 'Freedom', 'Generosity', 'Perceptions of Corruption']]\n",
    "kmeans = KMeans(n_clusters=5)  # Choose the number of clusters\n",
    "clusters = kmeans.fit_predict(X)\n",
    "\n",
    "# Add cluster information to DataFrame\n",
    "filtered_df['Cluster'] = clusters\n",
    "\n",
    "# Plot clustering results\n",
    "fig = px.scatter(filtered_df, x='GDP per Capita', y='Score', color='Cluster', title='Clustering of Countries by Happiness Factors')\n",
    "fig.show()"
   ]
  }
 ],
 "metadata": {
  "kernelspec": {
   "display_name": "Python 3",
   "language": "python",
   "name": "python3"
  },
  "language_info": {
   "codemirror_mode": {
    "name": "ipython",
    "version": 3
   },
   "file_extension": ".py",
   "mimetype": "text/x-python",
   "name": "python",
   "nbconvert_exporter": "python",
   "pygments_lexer": "ipython3",
   "version": "3.12.2"
  }
 },
 "nbformat": 4,
 "nbformat_minor": 2
}
